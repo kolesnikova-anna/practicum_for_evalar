{
 "cells": [
  {
   "cell_type": "markdown",
   "metadata": {},
   "source": [
    "# Определение закономерностей успешности игр"
   ]
  },
  {
   "cell_type": "markdown",
   "metadata": {},
   "source": [
    "Интернет-магазине «Стримчик» продаёт по всему миру компьютерные игры. Из открытых источников доступны исторические данные о продажах игр, оценки пользователей и экспертов, жанры и платформы (например, Xbox или PlayStation). Необходимо выявить определяющие успешность игры закономерности. Это позволит сделать ставку на потенциально популярный продукт и спланировать рекламные кампании."
   ]
  },
  {
   "cell_type": "markdown",
   "metadata": {},
   "source": [
    "## Задачи"
   ]
  },
  {
   "cell_type": "markdown",
   "metadata": {},
   "source": [
    "1. Подготовить данные. Привести все названия к нижнему регистру, преобразовать данные в нужные типы, обработать пропуски, посчитать сумму продаж по всем регионам.\n",
    "2. Исследовательский анализ данных. Посмотреть сколько игр выпускалось в разные годы. Как изменялись продажи по платформам. Определить какие платформы лидируют в продажах и построить графики распределения по годам.\n",
    "3. Определить какие платформы лидируют в продажах, растут и падают.\n",
    "4. Построить \"ящик с усами\" по глобальным продажам в разбивке по платформам.\n",
    "5. Посмотреть, как влияют на продажи внутри одной популярной платформы отзывы пользователей и критиков. Построить диаграмму рассеяния и посчитать корреляцию между отзывами и продажами.\n",
    "6. Посмотреть на общее распределение игр по жанрам.\n",
    "7. Составить портреты пользователей каждого региона продаж.\n",
    "8. Проверить гипотезы. Средние пользовательские рейтинги платформ Xbox One и PC одинаковые. Средние пользовательские рейтинги жанров Action и Sports разные."
   ]
  },
  {
   "cell_type": "markdown",
   "metadata": {},
   "source": [
    "## Данные"
   ]
  },
  {
   "cell_type": "markdown",
   "metadata": {},
   "source": [
    "Интернет-магазин «Стримчик», продаёт по всему миру компьютерные игры. Из открытых источников доступны исторические данные о продажах игр, оценки пользователей и экспертов, жанры и платформы (например, Xbox или PlayStation). Необходимо выявить определяющие успешность игры закономерности. Это позволит сделать ставку на потенциально популярный продукт и спланировать рекламные кампании.\n",
    "Представленны данные до 2016 года. Представим, что сейчас декабрь 2016 г., и необходимо спланироват кампанию на 2017-й. Нужно отработать принцип работы с данными. Неважно, прогнозируете ли вы продажи на 2017 год по данным 201-го или же 2027-й — по данным 2026 года.\n",
    "\n",
    "Name — название игры\n",
    "Platform — платформа\n",
    "Year_of_Release — год выпуска\n",
    "Genre — жанр игры\n",
    "NA_sales — продажи в Северной Америке (миллионы проданных копий)\n",
    "EU_sales — продажи в Европе (миллионы проданных копий)\n",
    "JP_sales — продажи в Японии (миллионы проданных копий)\n",
    "Other_sales — продажи в других странах (миллионы проданных копий)\n",
    "Critic_Score — оценка критиков (максимум 100)\n",
    "User_Score — оценка пользователей (максимум 10)\n",
    "Rating — рейтинг от организации ESRB (англ. Entertainment Software Rating Board). Эта ассоциация определяет рейтинг компьютерных игр и присваивает им подходящую возрастную категорию.\n",
    "Данные за 2016 год могут быть неполными."
   ]
  },
  {
   "cell_type": "markdown",
   "metadata": {},
   "source": [
    "## Подготовка данных"
   ]
  },
  {
   "cell_type": "code",
   "execution_count": 24,
   "metadata": {},
   "outputs": [
    {
     "name": "stdout",
     "output_type": "stream",
     "text": [
      "<class 'pandas.core.frame.DataFrame'>\n",
      "RangeIndex: 16715 entries, 0 to 16714\n",
      "Data columns (total 11 columns):\n",
      " #   Column           Non-Null Count  Dtype  \n",
      "---  ------           --------------  -----  \n",
      " 0   Name             16713 non-null  object \n",
      " 1   Platform         16715 non-null  object \n",
      " 2   Year_of_Release  16446 non-null  float64\n",
      " 3   Genre            16713 non-null  object \n",
      " 4   NA_sales         16715 non-null  float64\n",
      " 5   EU_sales         16715 non-null  float64\n",
      " 6   JP_sales         16715 non-null  float64\n",
      " 7   Other_sales      16715 non-null  float64\n",
      " 8   Critic_Score     8137 non-null   float64\n",
      " 9   User_Score       10014 non-null  object \n",
      " 10  Rating           9949 non-null   object \n",
      "dtypes: float64(6), object(5)\n",
      "memory usage: 1.4+ MB\n"
     ]
    },
    {
     "data": {
      "text/html": [
       "<div>\n",
       "<style scoped>\n",
       "    .dataframe tbody tr th:only-of-type {\n",
       "        vertical-align: middle;\n",
       "    }\n",
       "\n",
       "    .dataframe tbody tr th {\n",
       "        vertical-align: top;\n",
       "    }\n",
       "\n",
       "    .dataframe thead th {\n",
       "        text-align: right;\n",
       "    }\n",
       "</style>\n",
       "<table border=\"1\" class=\"dataframe\">\n",
       "  <thead>\n",
       "    <tr style=\"text-align: right;\">\n",
       "      <th></th>\n",
       "      <th>Name</th>\n",
       "      <th>Platform</th>\n",
       "      <th>Year_of_Release</th>\n",
       "      <th>Genre</th>\n",
       "      <th>NA_sales</th>\n",
       "      <th>EU_sales</th>\n",
       "      <th>JP_sales</th>\n",
       "      <th>Other_sales</th>\n",
       "      <th>Critic_Score</th>\n",
       "      <th>User_Score</th>\n",
       "      <th>Rating</th>\n",
       "    </tr>\n",
       "  </thead>\n",
       "  <tbody>\n",
       "    <tr>\n",
       "      <th>0</th>\n",
       "      <td>Wii Sports</td>\n",
       "      <td>Wii</td>\n",
       "      <td>2006.0</td>\n",
       "      <td>Sports</td>\n",
       "      <td>41.36</td>\n",
       "      <td>28.96</td>\n",
       "      <td>3.77</td>\n",
       "      <td>8.45</td>\n",
       "      <td>76.0</td>\n",
       "      <td>8</td>\n",
       "      <td>E</td>\n",
       "    </tr>\n",
       "    <tr>\n",
       "      <th>1</th>\n",
       "      <td>Super Mario Bros.</td>\n",
       "      <td>NES</td>\n",
       "      <td>1985.0</td>\n",
       "      <td>Platform</td>\n",
       "      <td>29.08</td>\n",
       "      <td>3.58</td>\n",
       "      <td>6.81</td>\n",
       "      <td>0.77</td>\n",
       "      <td>NaN</td>\n",
       "      <td>NaN</td>\n",
       "      <td>NaN</td>\n",
       "    </tr>\n",
       "    <tr>\n",
       "      <th>2</th>\n",
       "      <td>Mario Kart Wii</td>\n",
       "      <td>Wii</td>\n",
       "      <td>2008.0</td>\n",
       "      <td>Racing</td>\n",
       "      <td>15.68</td>\n",
       "      <td>12.76</td>\n",
       "      <td>3.79</td>\n",
       "      <td>3.29</td>\n",
       "      <td>82.0</td>\n",
       "      <td>8.3</td>\n",
       "      <td>E</td>\n",
       "    </tr>\n",
       "    <tr>\n",
       "      <th>3</th>\n",
       "      <td>Wii Sports Resort</td>\n",
       "      <td>Wii</td>\n",
       "      <td>2009.0</td>\n",
       "      <td>Sports</td>\n",
       "      <td>15.61</td>\n",
       "      <td>10.93</td>\n",
       "      <td>3.28</td>\n",
       "      <td>2.95</td>\n",
       "      <td>80.0</td>\n",
       "      <td>8</td>\n",
       "      <td>E</td>\n",
       "    </tr>\n",
       "    <tr>\n",
       "      <th>4</th>\n",
       "      <td>Pokemon Red/Pokemon Blue</td>\n",
       "      <td>GB</td>\n",
       "      <td>1996.0</td>\n",
       "      <td>Role-Playing</td>\n",
       "      <td>11.27</td>\n",
       "      <td>8.89</td>\n",
       "      <td>10.22</td>\n",
       "      <td>1.00</td>\n",
       "      <td>NaN</td>\n",
       "      <td>NaN</td>\n",
       "      <td>NaN</td>\n",
       "    </tr>\n",
       "  </tbody>\n",
       "</table>\n",
       "</div>"
      ],
      "text/plain": [
       "                       Name Platform  Year_of_Release         Genre  NA_sales  \\\n",
       "0                Wii Sports      Wii           2006.0        Sports     41.36   \n",
       "1         Super Mario Bros.      NES           1985.0      Platform     29.08   \n",
       "2            Mario Kart Wii      Wii           2008.0        Racing     15.68   \n",
       "3         Wii Sports Resort      Wii           2009.0        Sports     15.61   \n",
       "4  Pokemon Red/Pokemon Blue       GB           1996.0  Role-Playing     11.27   \n",
       "\n",
       "   EU_sales  JP_sales  Other_sales  Critic_Score User_Score Rating  \n",
       "0     28.96      3.77         8.45          76.0          8      E  \n",
       "1      3.58      6.81         0.77           NaN        NaN    NaN  \n",
       "2     12.76      3.79         3.29          82.0        8.3      E  \n",
       "3     10.93      3.28         2.95          80.0          8      E  \n",
       "4      8.89     10.22         1.00           NaN        NaN    NaN  "
      ]
     },
     "execution_count": 24,
     "metadata": {},
     "output_type": "execute_result"
    }
   ],
   "source": [
    "import pandas as pd\n",
    "import numpy as np\n",
    "import warnings\n",
    "from matplotlib import pyplot as plt\n",
    "import seaborn as sns\n",
    "warnings.filterwarnings('ignore')\n",
    "from scipy import stats\n",
    "\n",
    "data = pd.read_csv('/datasets/games.csv')\n",
    "\n",
    "data.info()\n",
    "data.head()"
   ]
  },
  {
   "cell_type": "markdown",
   "metadata": {},
   "source": [
    "При первичной проверке данных в столбцах Name, Year_of_Release, Genre, Critic_Score, User_Score, Rating обнаруженны пропуски.\n",
    "Year_of_Release\t в формате float64, User_Score в формате object."
   ]
  },
  {
   "cell_type": "markdown",
   "metadata": {},
   "source": [
    "### Пропуски и дубликаты"
   ]
  },
  {
   "cell_type": "code",
   "execution_count": 25,
   "metadata": {},
   "outputs": [
    {
     "data": {
      "text/html": [
       "<style  type=\"text/css\" >\n",
       "#T_41d0e_row0_col0,#T_41d0e_row1_col0,#T_41d0e_row3_col0,#T_41d0e_row4_col0,#T_41d0e_row5_col0,#T_41d0e_row6_col0,#T_41d0e_row7_col0{\n",
       "            background-color:  #3b4cc0;\n",
       "            color:  #f1f1f1;\n",
       "        }#T_41d0e_row2_col0{\n",
       "            background-color:  #445acc;\n",
       "            color:  #f1f1f1;\n",
       "        }#T_41d0e_row8_col0{\n",
       "            background-color:  #b40426;\n",
       "            color:  #f1f1f1;\n",
       "        }#T_41d0e_row9_col0{\n",
       "            background-color:  #f18d6f;\n",
       "            color:  #000000;\n",
       "        }#T_41d0e_row10_col0{\n",
       "            background-color:  #f08a6c;\n",
       "            color:  #000000;\n",
       "        }</style><table id=\"T_41d0e_\" ><thead>    <tr>        <th class=\"blank level0\" ></th>        <th class=\"col_heading level0 col0\" >NaNs, %</th>    </tr></thead><tbody>\n",
       "                <tr>\n",
       "                        <th id=\"T_41d0e_level0_row0\" class=\"row_heading level0 row0\" >Name</th>\n",
       "                        <td id=\"T_41d0e_row0_col0\" class=\"data row0 col0\" >0.01</td>\n",
       "            </tr>\n",
       "            <tr>\n",
       "                        <th id=\"T_41d0e_level0_row1\" class=\"row_heading level0 row1\" >Platform</th>\n",
       "                        <td id=\"T_41d0e_row1_col0\" class=\"data row1 col0\" >0.00</td>\n",
       "            </tr>\n",
       "            <tr>\n",
       "                        <th id=\"T_41d0e_level0_row2\" class=\"row_heading level0 row2\" >Year_of_Release</th>\n",
       "                        <td id=\"T_41d0e_row2_col0\" class=\"data row2 col0\" >1.61</td>\n",
       "            </tr>\n",
       "            <tr>\n",
       "                        <th id=\"T_41d0e_level0_row3\" class=\"row_heading level0 row3\" >Genre</th>\n",
       "                        <td id=\"T_41d0e_row3_col0\" class=\"data row3 col0\" >0.01</td>\n",
       "            </tr>\n",
       "            <tr>\n",
       "                        <th id=\"T_41d0e_level0_row4\" class=\"row_heading level0 row4\" >NA_sales</th>\n",
       "                        <td id=\"T_41d0e_row4_col0\" class=\"data row4 col0\" >0.00</td>\n",
       "            </tr>\n",
       "            <tr>\n",
       "                        <th id=\"T_41d0e_level0_row5\" class=\"row_heading level0 row5\" >EU_sales</th>\n",
       "                        <td id=\"T_41d0e_row5_col0\" class=\"data row5 col0\" >0.00</td>\n",
       "            </tr>\n",
       "            <tr>\n",
       "                        <th id=\"T_41d0e_level0_row6\" class=\"row_heading level0 row6\" >JP_sales</th>\n",
       "                        <td id=\"T_41d0e_row6_col0\" class=\"data row6 col0\" >0.00</td>\n",
       "            </tr>\n",
       "            <tr>\n",
       "                        <th id=\"T_41d0e_level0_row7\" class=\"row_heading level0 row7\" >Other_sales</th>\n",
       "                        <td id=\"T_41d0e_row7_col0\" class=\"data row7 col0\" >0.00</td>\n",
       "            </tr>\n",
       "            <tr>\n",
       "                        <th id=\"T_41d0e_level0_row8\" class=\"row_heading level0 row8\" >Critic_Score</th>\n",
       "                        <td id=\"T_41d0e_row8_col0\" class=\"data row8 col0\" >51.32</td>\n",
       "            </tr>\n",
       "            <tr>\n",
       "                        <th id=\"T_41d0e_level0_row9\" class=\"row_heading level0 row9\" >User_Score</th>\n",
       "                        <td id=\"T_41d0e_row9_col0\" class=\"data row9 col0\" >40.09</td>\n",
       "            </tr>\n",
       "            <tr>\n",
       "                        <th id=\"T_41d0e_level0_row10\" class=\"row_heading level0 row10\" >Rating</th>\n",
       "                        <td id=\"T_41d0e_row10_col0\" class=\"data row10 col0\" >40.48</td>\n",
       "            </tr>\n",
       "    </tbody></table>"
      ],
      "text/plain": [
       "<pandas.io.formats.style.Styler at 0x7fd9a9ea7700>"
      ]
     },
     "metadata": {},
     "output_type": "display_data"
    },
    {
     "name": "stdout",
     "output_type": "stream",
     "text": [
      "Обаружено дубликатов: 0\n"
     ]
    }
   ],
   "source": [
    "display(pd.DataFrame(round((data.isna().mean()*100),2), columns=['NaNs, %']).style.format(\n",
    "    '{:.2f}').background_gradient('coolwarm'))\n",
    "\n",
    "print('Обаружено дубликатов:', data.duplicated().sum())"
   ]
  },
  {
   "cell_type": "markdown",
   "metadata": {},
   "source": [
    "### Замена названий столбцов"
   ]
  },
  {
   "cell_type": "code",
   "execution_count": 26,
   "metadata": {},
   "outputs": [],
   "source": [
    "data = data.rename(\n",
    "    columns = {\n",
    "        'Name' : 'name',\n",
    "        'Platform' : 'platform',\n",
    "        'Year_of_Release' : 'year',\n",
    "        'Genre' : 'genre',\n",
    "        'NA_sales' : 'na_sales',\n",
    "        'EU_sales' : 'eu_sales',\n",
    "        'JP_sales' : 'jp_sales',\n",
    "        'Other_sales' : 'other_sales',\n",
    "        'Critic_Score': 'critic_score',\n",
    "        'User_Score' : 'user_score',\n",
    "        'Rating' : 'rating'\n",
    "    }\n",
    ")"
   ]
  },
  {
   "cell_type": "markdown",
   "metadata": {},
   "source": [
    "Все столбцы приведены к нижнему регистру, Year_of_Release переименован в year для удобства дальнейшей работы."
   ]
  },
  {
   "cell_type": "markdown",
   "metadata": {},
   "source": [
    "### Обработка пропусков. Изменение типов."
   ]
  },
  {
   "cell_type": "code",
   "execution_count": 27,
   "metadata": {
    "scrolled": false
   },
   "outputs": [
    {
     "name": "stdout",
     "output_type": "stream",
     "text": [
      "<class 'pandas.core.frame.DataFrame'>\n",
      "Int64Index: 16444 entries, 0 to 16714\n",
      "Data columns (total 11 columns):\n",
      " #   Column        Non-Null Count  Dtype  \n",
      "---  ------        --------------  -----  \n",
      " 0   name          16444 non-null  object \n",
      " 1   platform      16444 non-null  object \n",
      " 2   year          16444 non-null  int64  \n",
      " 3   genre         16444 non-null  object \n",
      " 4   na_sales      16444 non-null  float64\n",
      " 5   eu_sales      16444 non-null  float64\n",
      " 6   jp_sales      16444 non-null  float64\n",
      " 7   other_sales   16444 non-null  float64\n",
      " 8   critic_score  7983 non-null   float64\n",
      " 9   user_score    7463 non-null   float64\n",
      " 10  rating        9768 non-null   object \n",
      "dtypes: float64(6), int64(1), object(4)\n",
      "memory usage: 1.5+ MB\n"
     ]
    }
   ],
   "source": [
    "data['user_score'] = data['user_score'].replace('tbd', np.NaN)\n",
    "\n",
    "data = data.dropna(subset = ['name', 'genre', 'year'])\n",
    "\n",
    "data['year'] = data['year'].astype('int')\n",
    "data['user_score'] = data['user_score'].astype('float')\n",
    "\n",
    "\n",
    "#data['critic_score'].unique()\n",
    "#data['user_score'].value_counts()\n",
    "#data['rating'].value_counts()\n",
    "\n",
    "#data['user_score'].isna().sum()\n",
    "data.info()"
   ]
  },
  {
   "cell_type": "markdown",
   "metadata": {},
   "source": [
    "В столбце user_score видим, что есть значение tbd, данная обривеатура обозначает, что оценка еще не определена, поэтому заменяем ее на значение NaN.\n",
    "Пропуски в стобцах name, year и genre удаляем, т.к. эти данные не возможно определить даже предположительно, они составляют менее 2% всех данных.\n",
    "Тип year заменяем на int, а user_score меняем на float."
   ]
  },
  {
   "cell_type": "markdown",
   "metadata": {},
   "source": [
    "### Сумма прожаж по всем регионам"
   ]
  },
  {
   "cell_type": "code",
   "execution_count": 28,
   "metadata": {},
   "outputs": [
    {
     "name": "stdout",
     "output_type": "stream",
     "text": [
      "<class 'pandas.core.frame.DataFrame'>\n",
      "Int64Index: 16444 entries, 0 to 16714\n",
      "Data columns (total 12 columns):\n",
      " #   Column        Non-Null Count  Dtype  \n",
      "---  ------        --------------  -----  \n",
      " 0   name          16444 non-null  object \n",
      " 1   platform      16444 non-null  object \n",
      " 2   year          16444 non-null  int64  \n",
      " 3   genre         16444 non-null  object \n",
      " 4   na_sales      16444 non-null  float64\n",
      " 5   eu_sales      16444 non-null  float64\n",
      " 6   jp_sales      16444 non-null  float64\n",
      " 7   other_sales   16444 non-null  float64\n",
      " 8   critic_score  7983 non-null   float64\n",
      " 9   user_score    7463 non-null   float64\n",
      " 10  rating        9768 non-null   object \n",
      " 11  all_sales     16444 non-null  float64\n",
      "dtypes: float64(7), int64(1), object(4)\n",
      "memory usage: 1.6+ MB\n"
     ]
    },
    {
     "data": {
      "text/html": [
       "<div>\n",
       "<style scoped>\n",
       "    .dataframe tbody tr th:only-of-type {\n",
       "        vertical-align: middle;\n",
       "    }\n",
       "\n",
       "    .dataframe tbody tr th {\n",
       "        vertical-align: top;\n",
       "    }\n",
       "\n",
       "    .dataframe thead th {\n",
       "        text-align: right;\n",
       "    }\n",
       "</style>\n",
       "<table border=\"1\" class=\"dataframe\">\n",
       "  <thead>\n",
       "    <tr style=\"text-align: right;\">\n",
       "      <th></th>\n",
       "      <th>name</th>\n",
       "      <th>platform</th>\n",
       "      <th>year</th>\n",
       "      <th>genre</th>\n",
       "      <th>na_sales</th>\n",
       "      <th>eu_sales</th>\n",
       "      <th>jp_sales</th>\n",
       "      <th>other_sales</th>\n",
       "      <th>critic_score</th>\n",
       "      <th>user_score</th>\n",
       "      <th>rating</th>\n",
       "      <th>all_sales</th>\n",
       "    </tr>\n",
       "  </thead>\n",
       "  <tbody>\n",
       "    <tr>\n",
       "      <th>0</th>\n",
       "      <td>Wii Sports</td>\n",
       "      <td>Wii</td>\n",
       "      <td>2006</td>\n",
       "      <td>Sports</td>\n",
       "      <td>41.36</td>\n",
       "      <td>28.96</td>\n",
       "      <td>3.77</td>\n",
       "      <td>8.45</td>\n",
       "      <td>76.0</td>\n",
       "      <td>8.0</td>\n",
       "      <td>E</td>\n",
       "      <td>82.54</td>\n",
       "    </tr>\n",
       "    <tr>\n",
       "      <th>1</th>\n",
       "      <td>Super Mario Bros.</td>\n",
       "      <td>NES</td>\n",
       "      <td>1985</td>\n",
       "      <td>Platform</td>\n",
       "      <td>29.08</td>\n",
       "      <td>3.58</td>\n",
       "      <td>6.81</td>\n",
       "      <td>0.77</td>\n",
       "      <td>NaN</td>\n",
       "      <td>NaN</td>\n",
       "      <td>NaN</td>\n",
       "      <td>40.24</td>\n",
       "    </tr>\n",
       "    <tr>\n",
       "      <th>2</th>\n",
       "      <td>Mario Kart Wii</td>\n",
       "      <td>Wii</td>\n",
       "      <td>2008</td>\n",
       "      <td>Racing</td>\n",
       "      <td>15.68</td>\n",
       "      <td>12.76</td>\n",
       "      <td>3.79</td>\n",
       "      <td>3.29</td>\n",
       "      <td>82.0</td>\n",
       "      <td>8.3</td>\n",
       "      <td>E</td>\n",
       "      <td>35.52</td>\n",
       "    </tr>\n",
       "    <tr>\n",
       "      <th>3</th>\n",
       "      <td>Wii Sports Resort</td>\n",
       "      <td>Wii</td>\n",
       "      <td>2009</td>\n",
       "      <td>Sports</td>\n",
       "      <td>15.61</td>\n",
       "      <td>10.93</td>\n",
       "      <td>3.28</td>\n",
       "      <td>2.95</td>\n",
       "      <td>80.0</td>\n",
       "      <td>8.0</td>\n",
       "      <td>E</td>\n",
       "      <td>32.77</td>\n",
       "    </tr>\n",
       "    <tr>\n",
       "      <th>4</th>\n",
       "      <td>Pokemon Red/Pokemon Blue</td>\n",
       "      <td>GB</td>\n",
       "      <td>1996</td>\n",
       "      <td>Role-Playing</td>\n",
       "      <td>11.27</td>\n",
       "      <td>8.89</td>\n",
       "      <td>10.22</td>\n",
       "      <td>1.00</td>\n",
       "      <td>NaN</td>\n",
       "      <td>NaN</td>\n",
       "      <td>NaN</td>\n",
       "      <td>31.38</td>\n",
       "    </tr>\n",
       "  </tbody>\n",
       "</table>\n",
       "</div>"
      ],
      "text/plain": [
       "                       name platform  year         genre  na_sales  eu_sales  \\\n",
       "0                Wii Sports      Wii  2006        Sports     41.36     28.96   \n",
       "1         Super Mario Bros.      NES  1985      Platform     29.08      3.58   \n",
       "2            Mario Kart Wii      Wii  2008        Racing     15.68     12.76   \n",
       "3         Wii Sports Resort      Wii  2009        Sports     15.61     10.93   \n",
       "4  Pokemon Red/Pokemon Blue       GB  1996  Role-Playing     11.27      8.89   \n",
       "\n",
       "   jp_sales  other_sales  critic_score  user_score rating  all_sales  \n",
       "0      3.77         8.45          76.0         8.0      E      82.54  \n",
       "1      6.81         0.77           NaN         NaN    NaN      40.24  \n",
       "2      3.79         3.29          82.0         8.3      E      35.52  \n",
       "3      3.28         2.95          80.0         8.0      E      32.77  \n",
       "4     10.22         1.00           NaN         NaN    NaN      31.38  "
      ]
     },
     "execution_count": 28,
     "metadata": {},
     "output_type": "execute_result"
    }
   ],
   "source": [
    "data['all_sales'] = data['na_sales'] + data['eu_sales'] + data['jp_sales'] + data['other_sales']\n",
    "data.info()\n",
    "data.head()"
   ]
  },
  {
   "cell_type": "markdown",
   "metadata": {},
   "source": [
    "## Исследовательский анализ данных"
   ]
  },
  {
   "cell_type": "markdown",
   "metadata": {},
   "source": [
    "### Количество выпускаемых игр в разне годы"
   ]
  },
  {
   "cell_type": "code",
   "execution_count": 29,
   "metadata": {},
   "outputs": [
    {
     "data": {
      "image/png": "[encoded data removed]",
      "text/plain": [
       "<Figure size 720x360 with 1 Axes>"
      ]
     },
     "metadata": {
      "needs_background": "light"
     },
     "output_type": "display_data"
    }
   ],
   "source": [
    "(data\n",
    " .pivot_table(index = 'year', values='name', aggfunc = 'count')\n",
    " .plot(grid = True, kind='line', figsize=(10,5),  style = 'o-')\n",
    ")\n",
    "plt.title('Количество выпускаемых игр в разные годы'+ \"\\n\")\n",
    "plt.xlabel('Год')\n",
    "plt.ylabel('Кол-во')\n",
    "plt.show()"
   ]
  },
  {
   "cell_type": "markdown",
   "metadata": {},
   "source": [
    "Важны ли данные за все периоды?\n",
    "На этапе исследовательского анализа считаю, что опираться необходимо на актуальный данные, т.к. данные прошлых лет могут искажены внешней обстановкой, экономической ситуацией и т.д."
   ]
  },
  {
   "cell_type": "markdown",
   "metadata": {},
   "source": [
    "### Продажи по лидирующим платформам"
   ]
  },
  {
   "cell_type": "code",
   "execution_count": 30,
   "metadata": {},
   "outputs": [
    {
     "data": {
      "image/png": "[encoded data removed]",
      "text/plain": [
       "<Figure size 720x360 with 1 Axes>"
      ]
     },
     "metadata": {
      "needs_background": "light"
     },
     "output_type": "display_data"
    }
   ],
   "source": [
    "(data\n",
    " .pivot_table(index = 'platform', values='all_sales', aggfunc = 'sum')\n",
    " .sort_values(by = 'all_sales', ascending = False)\n",
    " .plot(kind='bar', figsize=(10,5))\n",
    ")\n",
    "plt.title('Общие продажи по платформам'+ \"\\n\")\n",
    "plt.xlabel('Платформа')\n",
    "plt.ylabel('Кол-во')\n",
    "plt.show()"
   ]
  },
  {
   "cell_type": "markdown",
   "metadata": {},
   "source": [
    "По графику видно, что за все периоды продаж лидируют платформы PS2, X360, PS3, Wii, DS, PS"
   ]
  },
  {
   "cell_type": "markdown",
   "metadata": {},
   "source": [
    "#### Продажи DS"
   ]
  },
  {
   "cell_type": "code",
   "execution_count": 31,
   "metadata": {
    "scrolled": false
   },
   "outputs": [
    {
     "data": {
      "image/png": "[encoded data removed]",
      "text/plain": [
       "<Figure size 720x360 with 1 Axes>"
      ]
     },
     "metadata": {
      "needs_background": "light"
     },
     "output_type": "display_data"
    }
   ],
   "source": [
    "(data\n",
    " .query('platform == \"DS\"').reset_index()\n",
    " .pivot_table(index = 'year', columns = 'platform', values = 'all_sales', aggfunc = 'sum')\n",
    " .plot(grid = True, kind='line', figsize=(10,5), label = 'DS', style = 'o-')\n",
    ")\n",
    "plt.title('Количество выпускаемых игр платформой DS в разные годы'+ \"\\n\")\n",
    "plt.xlabel('Год')\n",
    "plt.ylabel('Кол-во')\n",
    "plt.show()"
   ]
  },
  {
   "cell_type": "markdown",
   "metadata": {},
   "source": [
    "Как видим на графике в последние 2-3 года продаж у компании нет. Так же в открытых источниках можно увидеть, что первый пуск продукта, данной игровой платформы вышел в 2004 году, в 1985 году DS еще не существовало, это ошибка данных."
   ]
  },
  {
   "cell_type": "markdown",
   "metadata": {},
   "source": [
    "#### Продажи PS"
   ]
  },
  {
   "cell_type": "code",
   "execution_count": 32,
   "metadata": {},
   "outputs": [
    {
     "data": {
      "image/png": "[encoded data removed]",
      "text/plain": [
       "<Figure size 720x360 with 1 Axes>"
      ]
     },
     "metadata": {
      "needs_background": "light"
     },
     "output_type": "display_data"
    }
   ],
   "source": [
    "(data\n",
    " .query('platform == \"PS\"').reset_index()\n",
    " .pivot_table(index = 'year', columns = 'platform', values = 'all_sales', aggfunc = 'sum')\n",
    " .plot(grid = True, kind='line', figsize=(10,5), label = 'PS', style = 'o-')\n",
    ")\n",
    "plt.title('Количество выпускаемых игр платформой PS в разные годы'+ \"\\n\")\n",
    "plt.xlabel('Год')\n",
    "plt.ylabel('Кол-во')\n",
    "plt.show()"
   ]
  },
  {
   "cell_type": "markdown",
   "metadata": {},
   "source": [
    "Отсутствие продаж у платформы PS объясняется выходом в 2000 году PS2. По прошествию 3-4 лет, PS стала просто неактуальна."
   ]
  },
  {
   "cell_type": "markdown",
   "metadata": {},
   "source": [
    "#### Продажи PS2"
   ]
  },
  {
   "cell_type": "code",
   "execution_count": 33,
   "metadata": {},
   "outputs": [
    {
     "data": {
      "image/png": "[encoded data removed]",
      "text/plain": [
       "<Figure size 720x360 with 1 Axes>"
      ]
     },
     "metadata": {
      "needs_background": "light"
     },
     "output_type": "display_data"
    }
   ],
   "source": [
    "(data\n",
    " .query('platform == \"PS2\"').reset_index()\n",
    " .pivot_table(index = 'year', columns = 'platform', values = 'all_sales', aggfunc = 'sum')\n",
    " .plot(grid = True, kind='line', figsize=(10,5), label = 'PS2', style = 'o-')\n",
    ")\n",
    "plt.title('Количество выпускаемых игр платформой PS2 в разные годы'+ \"\\n\")\n",
    "plt.xlabel('Год')\n",
    "plt.ylabel('Кол-во')\n",
    "plt.show()"
   ]
  },
  {
   "cell_type": "markdown",
   "metadata": {},
   "source": [
    "Аналогичная ситуация у платформы PS2,  объясняется выходом в 2006 году PS3. По прошествию 5-6 лет, PS2 стала просто неактуальна."
   ]
  },
  {
   "cell_type": "markdown",
   "metadata": {},
   "source": [
    "#### Продажи PS3"
   ]
  },
  {
   "cell_type": "code",
   "execution_count": 34,
   "metadata": {},
   "outputs": [
    {
     "data": {
      "image/png": "[encoded data removed]",
      "text/plain": [
       "<Figure size 720x360 with 1 Axes>"
      ]
     },
     "metadata": {
      "needs_background": "light"
     },
     "output_type": "display_data"
    }
   ],
   "source": [
    "(data\n",
    " .query('platform == \"PS3\"').reset_index()\n",
    " .pivot_table(index = 'year', columns = 'platform', values = 'all_sales', aggfunc = 'sum')\n",
    " .plot(grid = True, kind='line', figsize=(10,5), label = 'PS3', style = 'o-')\n",
    ")\n",
    "plt.title('Количество выпускаемых игр платформой PS3 в разные годы'+ \"\\n\")\n",
    "plt.xlabel('Год')\n",
    "plt.ylabel('Кол-во')\n",
    "plt.show()"
   ]
  },
  {
   "cell_type": "markdown",
   "metadata": {},
   "source": [
    "У PS3 в течение 5 лет наблюдался рост продаж, но в 2012 вышел анонс PS4, а в 2013 новая платформа вышла в продажу. Как и с предыдущими платформами, по прошествию 3-4 лет, PS3 стала более неактуальна в продажах, но на руках у пользователей осталось довольно много экземпляров."
   ]
  },
  {
   "cell_type": "markdown",
   "metadata": {},
   "source": [
    "#### Продажи PSP"
   ]
  },
  {
   "cell_type": "code",
   "execution_count": 35,
   "metadata": {},
   "outputs": [
    {
     "data": {
      "image/png": "[encoded data removed]",
      "text/plain": [
       "<Figure size 720x360 with 1 Axes>"
      ]
     },
     "metadata": {
      "needs_background": "light"
     },
     "output_type": "display_data"
    }
   ],
   "source": [
    "(data\n",
    " .query('platform == \"PSP\"').reset_index()\n",
    " .pivot_table(index = 'year', columns = 'platform', values = 'all_sales', aggfunc = 'sum')\n",
    " .plot(grid = True, kind='line', figsize=(10,5), label = 'PSP', style = 'o-')\n",
    ")\n",
    "plt.title('Количество выпускаемых игр платформой PSP в разные годы'+ \"\\n\")\n",
    "plt.xlabel('Год')\n",
    "plt.ylabel('Кол-во')\n",
    "plt.show()"
   ]
  },
  {
   "cell_type": "markdown",
   "metadata": {},
   "source": [
    "У PSP не было аналогов, соответственно наблюдался рост продаж, но в 2010 вышел анонс PSV, а в 2011 новая платформа вышла в продажу. Как и с предыдущими платформами, по прошествию 3-4 лет, PSP стала более неактуальна."
   ]
  },
  {
   "cell_type": "markdown",
   "metadata": {},
   "source": [
    "#### Продажи Wii"
   ]
  },
  {
   "cell_type": "code",
   "execution_count": 36,
   "metadata": {},
   "outputs": [
    {
     "data": {
      "image/png": "[encoded data removed]",
      "text/plain": [
       "<Figure size 720x360 with 1 Axes>"
      ]
     },
     "metadata": {
      "needs_background": "light"
     },
     "output_type": "display_data"
    }
   ],
   "source": [
    "(data\n",
    " .query('platform == \"Wii\"').reset_index()\n",
    " .pivot_table(index = 'year', columns = 'platform', values = 'all_sales', aggfunc = 'sum')\n",
    " .plot(grid = True, kind='line', figsize=(10,5), label = 'Wii', style = 'o-')\n",
    ")\n",
    "plt.title('Количество выпускаемых игр платформой Wii в разные годы'+ \"\\n\")\n",
    "plt.xlabel('Год')\n",
    "plt.ylabel('Кол-во')\n",
    "plt.show()"
   ]
  },
  {
   "cell_type": "markdown",
   "metadata": {},
   "source": [
    "Wii была первой игровой консолью поддерживающей HD графику. Как и с предыдущими платформами, спад продаж и прекращение производства произошло на фоне выпуска WiiU"
   ]
  },
  {
   "cell_type": "markdown",
   "metadata": {},
   "source": [
    "#### Продажи X360"
   ]
  },
  {
   "cell_type": "code",
   "execution_count": 37,
   "metadata": {},
   "outputs": [
    {
     "data": {
      "image/png": "[encoded data removed]",
      "text/plain": [
       "<Figure size 720x360 with 1 Axes>"
      ]
     },
     "metadata": {
      "needs_background": "light"
     },
     "output_type": "display_data"
    }
   ],
   "source": [
    "(data\n",
    " .query('platform == \"X360\"').reset_index()\n",
    " .pivot_table(index = 'year', columns = 'platform', values = 'all_sales', aggfunc = 'sum')\n",
    " .plot(grid = True, kind='line', figsize=(10,5), label = 'X360', style = 'o-')\n",
    ")\n",
    "plt.title('Количество выпускаемых игр платформой X360 в разные годы'+ \"\\n\")\n",
    "plt.xlabel('Год')\n",
    "plt.ylabel('Кол-во')\n",
    "plt.show()"
   ]
  },
  {
   "cell_type": "markdown",
   "metadata": {},
   "source": [
    "Аналогичная ситуация с X360 от Microsoft, анонс его приемницы XOne был в 2013 году, а в 2014 уже был первый выпуск. На данный момент неактуальна для пользователей в продажах, но аналогично с PS3, на руках у пользователей осталось много действующих консолей."
   ]
  },
  {
   "cell_type": "markdown",
   "metadata": {},
   "source": [
    "#### Продажи по ТОР - платформам"
   ]
  },
  {
   "cell_type": "code",
   "execution_count": 38,
   "metadata": {},
   "outputs": [
    {
     "data": {
      "image/png": "[encoded data removed]",
      "text/plain": [
       "<Figure size 720x360 with 1 Axes>"
      ]
     },
     "metadata": {
      "needs_background": "light"
     },
     "output_type": "display_data"
    }
   ],
   "source": [
    "top_platform = ['DS', 'PS', 'PS2', 'PS3', 'PSP', 'Wii', 'X360'] \n",
    "(data\n",
    " .query('year > 2000 and platform in @top_platform').reset_index()\n",
    " .pivot_table(index = 'year', columns = 'platform', values = 'all_sales', aggfunc = 'sum')\n",
    " .plot(grid = True, kind='line', figsize=(10,5), label = 'X360', style = 'o-')\n",
    ")\n",
    "plt.title('Продажи по ТОР - платформам'+ \"\\n\")\n",
    "plt.xlabel('Год')\n",
    "plt.ylabel('Кол-во')\n",
    "plt.show()"
   ]
  },
  {
   "cell_type": "markdown",
   "metadata": {},
   "source": [
    "Все вышеперечисленные платформы не являются актуальными для пользователей, т.к. на их место пришли новинки. Поэтому есть смысл рассмотреть данные начиная с 2013 года, т.к. основная часть исследуемых платформ заканчивает свой выпуск ближе к 2013-2014 гг."
   ]
  },
  {
   "cell_type": "markdown",
   "metadata": {},
   "source": [
    "### Количество продаж с 2013 года"
   ]
  },
  {
   "cell_type": "code",
   "execution_count": 39,
   "metadata": {},
   "outputs": [
    {
     "name": "stdout",
     "output_type": "stream",
     "text": [
      "<class 'pandas.core.frame.DataFrame'>\n",
      "Int64Index: 2233 entries, 16 to 16714\n",
      "Data columns (total 12 columns):\n",
      " #   Column        Non-Null Count  Dtype  \n",
      "---  ------        --------------  -----  \n",
      " 0   name          2233 non-null   object \n",
      " 1   platform      2233 non-null   object \n",
      " 2   year          2233 non-null   int64  \n",
      " 3   genre         2233 non-null   object \n",
      " 4   na_sales      2233 non-null   float64\n",
      " 5   eu_sales      2233 non-null   float64\n",
      " 6   jp_sales      2233 non-null   float64\n",
      " 7   other_sales   2233 non-null   float64\n",
      " 8   critic_score  991 non-null    float64\n",
      " 9   user_score    1192 non-null   float64\n",
      " 10  rating        2233 non-null   object \n",
      " 11  all_sales     2233 non-null   float64\n",
      "dtypes: float64(7), int64(1), object(4)\n",
      "memory usage: 226.8+ KB\n"
     ]
    },
    {
     "data": {
      "text/html": [
       "<div>\n",
       "<style scoped>\n",
       "    .dataframe tbody tr th:only-of-type {\n",
       "        vertical-align: middle;\n",
       "    }\n",
       "\n",
       "    .dataframe tbody tr th {\n",
       "        vertical-align: top;\n",
       "    }\n",
       "\n",
       "    .dataframe thead th {\n",
       "        text-align: right;\n",
       "    }\n",
       "</style>\n",
       "<table border=\"1\" class=\"dataframe\">\n",
       "  <thead>\n",
       "    <tr style=\"text-align: right;\">\n",
       "      <th></th>\n",
       "      <th>name</th>\n",
       "      <th>platform</th>\n",
       "      <th>year</th>\n",
       "      <th>genre</th>\n",
       "      <th>na_sales</th>\n",
       "      <th>eu_sales</th>\n",
       "      <th>jp_sales</th>\n",
       "      <th>other_sales</th>\n",
       "      <th>critic_score</th>\n",
       "      <th>user_score</th>\n",
       "      <th>rating</th>\n",
       "      <th>all_sales</th>\n",
       "    </tr>\n",
       "  </thead>\n",
       "  <tbody>\n",
       "    <tr>\n",
       "      <th>16</th>\n",
       "      <td>Grand Theft Auto V</td>\n",
       "      <td>PS3</td>\n",
       "      <td>2013</td>\n",
       "      <td>Action</td>\n",
       "      <td>7.02</td>\n",
       "      <td>9.09</td>\n",
       "      <td>0.98</td>\n",
       "      <td>3.96</td>\n",
       "      <td>97.0</td>\n",
       "      <td>8.2</td>\n",
       "      <td>M</td>\n",
       "      <td>21.05</td>\n",
       "    </tr>\n",
       "    <tr>\n",
       "      <th>23</th>\n",
       "      <td>Grand Theft Auto V</td>\n",
       "      <td>X360</td>\n",
       "      <td>2013</td>\n",
       "      <td>Action</td>\n",
       "      <td>9.66</td>\n",
       "      <td>5.14</td>\n",
       "      <td>0.06</td>\n",
       "      <td>1.41</td>\n",
       "      <td>97.0</td>\n",
       "      <td>8.1</td>\n",
       "      <td>M</td>\n",
       "      <td>16.27</td>\n",
       "    </tr>\n",
       "    <tr>\n",
       "      <th>31</th>\n",
       "      <td>Call of Duty: Black Ops 3</td>\n",
       "      <td>PS4</td>\n",
       "      <td>2015</td>\n",
       "      <td>Shooter</td>\n",
       "      <td>6.03</td>\n",
       "      <td>5.86</td>\n",
       "      <td>0.36</td>\n",
       "      <td>2.38</td>\n",
       "      <td>NaN</td>\n",
       "      <td>NaN</td>\n",
       "      <td>unknown</td>\n",
       "      <td>14.63</td>\n",
       "    </tr>\n",
       "    <tr>\n",
       "      <th>33</th>\n",
       "      <td>Pokemon X/Pokemon Y</td>\n",
       "      <td>3DS</td>\n",
       "      <td>2013</td>\n",
       "      <td>Role-Playing</td>\n",
       "      <td>5.28</td>\n",
       "      <td>4.19</td>\n",
       "      <td>4.35</td>\n",
       "      <td>0.78</td>\n",
       "      <td>NaN</td>\n",
       "      <td>NaN</td>\n",
       "      <td>unknown</td>\n",
       "      <td>14.60</td>\n",
       "    </tr>\n",
       "    <tr>\n",
       "      <th>42</th>\n",
       "      <td>Grand Theft Auto V</td>\n",
       "      <td>PS4</td>\n",
       "      <td>2014</td>\n",
       "      <td>Action</td>\n",
       "      <td>3.96</td>\n",
       "      <td>6.31</td>\n",
       "      <td>0.38</td>\n",
       "      <td>1.97</td>\n",
       "      <td>97.0</td>\n",
       "      <td>8.3</td>\n",
       "      <td>M</td>\n",
       "      <td>12.62</td>\n",
       "    </tr>\n",
       "  </tbody>\n",
       "</table>\n",
       "</div>"
      ],
      "text/plain": [
       "                         name platform  year         genre  na_sales  \\\n",
       "16         Grand Theft Auto V      PS3  2013        Action      7.02   \n",
       "23         Grand Theft Auto V     X360  2013        Action      9.66   \n",
       "31  Call of Duty: Black Ops 3      PS4  2015       Shooter      6.03   \n",
       "33        Pokemon X/Pokemon Y      3DS  2013  Role-Playing      5.28   \n",
       "42         Grand Theft Auto V      PS4  2014        Action      3.96   \n",
       "\n",
       "    eu_sales  jp_sales  other_sales  critic_score  user_score   rating  \\\n",
       "16      9.09      0.98         3.96          97.0         8.2        M   \n",
       "23      5.14      0.06         1.41          97.0         8.1        M   \n",
       "31      5.86      0.36         2.38           NaN         NaN  unknown   \n",
       "33      4.19      4.35         0.78           NaN         NaN  unknown   \n",
       "42      6.31      0.38         1.97          97.0         8.3        M   \n",
       "\n",
       "    all_sales  \n",
       "16      21.05  \n",
       "23      16.27  \n",
       "31      14.63  \n",
       "33      14.60  \n",
       "42      12.62  "
      ]
     },
     "execution_count": 39,
     "metadata": {},
     "output_type": "execute_result"
    }
   ],
   "source": [
    "data_new = data.loc[data.loc[:, 'year'] >= 2013]\n",
    "\n",
    "data_new['rating'] = data_new['rating'].fillna('unknown')\n",
    "\n",
    "data_new.info()\n",
    "data_new.head()"
   ]
  },
  {
   "cell_type": "code",
   "execution_count": 40,
   "metadata": {},
   "outputs": [
    {
     "data": {
      "image/png": "[encoded data removed]",
      "text/plain": [
       "<Figure size 720x360 with 1 Axes>"
      ]
     },
     "metadata": {
      "needs_background": "light"
     },
     "output_type": "display_data"
    }
   ],
   "source": [
    "(data_new\n",
    " .pivot_table(index = 'platform', values='all_sales', aggfunc = 'sum')\n",
    " .sort_values(by = 'all_sales', ascending = False)\n",
    " .plot(kind='bar', figsize=(10,5))\n",
    ")\n",
    "plt.title('Общие продажи по платформам c 2013г.'+ \"\\n\")\n",
    "plt.xlabel('Платформа')\n",
    "plt.ylabel('Кол-во')\n",
    "plt.show()"
   ]
  },
  {
   "cell_type": "markdown",
   "metadata": {},
   "source": [
    "По данным с 2013 года, видно, что лидерами продаж (более 100) являются 3DS, PS4, PS3, X360, XOne."
   ]
  },
  {
   "cell_type": "markdown",
   "metadata": {},
   "source": [
    "#### Продажи по ТОР-платформам с 2013г."
   ]
  },
  {
   "cell_type": "code",
   "execution_count": 41,
   "metadata": {},
   "outputs": [
    {
     "data": {
      "image/png": "[encoded data removed]",
      "text/plain": [
       "<Figure size 720x360 with 1 Axes>"
      ]
     },
     "metadata": {
      "needs_background": "light"
     },
     "output_type": "display_data"
    }
   ],
   "source": [
    "top_platform = ['3DS', 'PS3', 'PS4', 'X360', 'XOne'] \n",
    "(data_new\n",
    " .query('platform in @top_platform').reset_index()\n",
    " .pivot_table(index = 'year', columns = 'platform', values = 'all_sales', aggfunc = 'sum')\n",
    " .plot(grid = True, kind='line', figsize=(10,5), style = 'o-', xlim = (2013, 2016))\n",
    ")\n",
    "plt.xticks([2013,2014,2015,2016])\n",
    "plt.title('Продажи по ТОР - платформам'+ \"\\n\")\n",
    "plt.xlabel('Год')\n",
    "plt.ylabel('Кол-во')\n",
    "plt.show()"
   ]
  },
  {
   "cell_type": "markdown",
   "metadata": {},
   "source": [
    "По графику видно, что по продажам на 2016 год лидируют PS4 и XOne. Они являются основными конкурентами и PS4 лидирует. На графике показан спад по 2016 г., но важно учитывать, что за 2016 год, данные могут быть еще не полными, т.к. год не закрыт."
   ]
  },
  {
   "cell_type": "markdown",
   "metadata": {},
   "source": [
    "#### \"Ящик с усами\" по ТОР-платформам с 2013г."
   ]
  },
  {
   "cell_type": "code",
   "execution_count": 42,
   "metadata": {
    "scrolled": false
   },
   "outputs": [
    {
     "data": {
      "image/png": "[encoded data removed]",
      "text/plain": [
       "<Figure size 1080x720 with 1 Axes>"
      ]
     },
     "metadata": {
      "needs_background": "light"
     },
     "output_type": "display_data"
    }
   ],
   "source": [
    "top_platform = ['3DS', 'PS3', 'PS4', 'X360', 'XOne'] \n",
    "(data_new\n",
    " .query('platform in @top_platform').reset_index()\n",
    " .boxplot(column = 'all_sales', by = 'platform', figsize=(15,10)))\n",
    "plt.ylim(0,2)\n",
    "plt.show()"
   ]
  },
  {
   "cell_type": "markdown",
   "metadata": {},
   "source": [
    "Наибольшее из наблюдаемых значений которое не является выбросом у всех платформ не превышает 2. Медианное значение PS4 и XOne не превышает 0.25, у X360 чуть выше, у 3DS около 0.10, у PS3 0.13. Третий квартиль у PS4, X360 и XOne от 0.65 до 0.80, у 3DS 0.30, у PS3 чуть больше 0.50. Данные PS4, XOne и X360 более ровно распределены."
   ]
  },
  {
   "cell_type": "markdown",
   "metadata": {},
   "source": [
    "### Влияние отзывов на продажи платформ"
   ]
  },
  {
   "cell_type": "markdown",
   "metadata": {},
   "source": [
    "#### Влияние отзывов на продажи платформ PS4"
   ]
  },
  {
   "cell_type": "markdown",
   "metadata": {},
   "source": [
    "Посмотрим, насколько отзывы пользователей и критиков влияют на продажи."
   ]
  },
  {
   "cell_type": "code",
   "execution_count": 43,
   "metadata": {},
   "outputs": [],
   "source": [
    "ps4 = data_new.loc[data_new.loc[:, 'platform'] == 'PS4']"
   ]
  },
  {
   "cell_type": "code",
   "execution_count": 44,
   "metadata": {},
   "outputs": [
    {
     "name": "stdout",
     "output_type": "stream",
     "text": [
      "Корреляция: 0.40656790206178095\n",
      "\n",
      "Влияние отзывов критиков на продажи\n"
     ]
    },
    {
     "data": {
      "image/png": "[encoded data removed]",
      "text/plain": [
       "<Figure size 432x288 with 1 Axes>"
      ]
     },
     "metadata": {
      "needs_background": "light"
     },
     "output_type": "display_data"
    }
   ],
   "source": [
    "ps4.plot(x = 'critic_score', y = 'all_sales', style='o')\n",
    "print('Корреляция:', ps4['critic_score'].corr(ps4['all_sales']))\n",
    "print('')\n",
    "print('Влияние отзывов критиков на продажи')"
   ]
  },
  {
   "cell_type": "code",
   "execution_count": 45,
   "metadata": {},
   "outputs": [
    {
     "name": "stdout",
     "output_type": "stream",
     "text": [
      "Корреляция: -0.031957110204556376\n",
      "\n",
      "Влияние отзывов пользователей на продажи\n"
     ]
    },
    {
     "data": {
      "image/png": "[encoded data removed]",
      "text/plain": [
       "<Figure size 432x288 with 1 Axes>"
      ]
     },
     "metadata": {
      "needs_background": "light"
     },
     "output_type": "display_data"
    }
   ],
   "source": [
    "ps4.plot(x = 'user_score', y = 'all_sales', style='o')\n",
    "print('Корреляция:', ps4['user_score'].corr(ps4['all_sales']))\n",
    "print('')\n",
    "print('Влияние отзывов пользователей на продажи')"
   ]
  },
  {
   "cell_type": "markdown",
   "metadata": {},
   "source": [
    "Отзывы критиков и пользователей не влияют на продажи."
   ]
  },
  {
   "cell_type": "markdown",
   "metadata": {},
   "source": [
    "#### Влияние отзывов на продажи платформ 3DS"
   ]
  },
  {
   "cell_type": "code",
   "execution_count": 46,
   "metadata": {},
   "outputs": [],
   "source": [
    "ds3 = data_new.loc[data_new.loc[:, 'platform'] == '3DS']"
   ]
  },
  {
   "cell_type": "code",
   "execution_count": 47,
   "metadata": {},
   "outputs": [
    {
     "name": "stdout",
     "output_type": "stream",
     "text": [
      "Корреляция: 0.3570566142288103\n",
      "\n",
      "Влияние отзывов критиков на продажи\n"
     ]
    },
    {
     "data": {
      "image/png": "[encoded data removed]",
      "text/plain": [
       "<Figure size 432x288 with 1 Axes>"
      ]
     },
     "metadata": {
      "needs_background": "light"
     },
     "output_type": "display_data"
    }
   ],
   "source": [
    "ds3.plot(x = 'critic_score', y = 'all_sales', style='o')\n",
    "print('Корреляция:', ds3['critic_score'].corr(ds3['all_sales']))\n",
    "print('')\n",
    "print('Влияние отзывов критиков на продажи')"
   ]
  },
  {
   "cell_type": "code",
   "execution_count": 48,
   "metadata": {},
   "outputs": [
    {
     "name": "stdout",
     "output_type": "stream",
     "text": [
      "Корреляция: 0.24150411773563016\n",
      "\n",
      "Влияние отзывов пользователей на продажи\n"
     ]
    },
    {
     "data": {
      "image/png": "[encoded data removed]",
      "text/plain": [
       "<Figure size 432x288 with 1 Axes>"
      ]
     },
     "metadata": {
      "needs_background": "light"
     },
     "output_type": "display_data"
    }
   ],
   "source": [
    "ds3.plot(x = 'user_score', y = 'all_sales', style='o')\n",
    "print('Корреляция:', ds3['user_score'].corr(ds3['all_sales']))\n",
    "print('')\n",
    "print('Влияние отзывов пользователей на продажи')"
   ]
  },
  {
   "cell_type": "markdown",
   "metadata": {},
   "source": [
    "#### Влияние отзывов на продажи платформ PS3"
   ]
  },
  {
   "cell_type": "code",
   "execution_count": 49,
   "metadata": {},
   "outputs": [],
   "source": [
    "ps3 = data_new.loc[data_new.loc[:, 'platform'] == 'PS3']"
   ]
  },
  {
   "cell_type": "code",
   "execution_count": 50,
   "metadata": {
    "scrolled": true
   },
   "outputs": [
    {
     "name": "stdout",
     "output_type": "stream",
     "text": [
      "Корреляция: 0.3342853393371919\n",
      "\n",
      "Влияние отзывов критиков на продажи\n"
     ]
    },
    {
     "data": {
      "image/png": "[encoded data removed]",
      "text/plain": [
       "<Figure size 432x288 with 1 Axes>"
      ]
     },
     "metadata": {
      "needs_background": "light"
     },
     "output_type": "display_data"
    }
   ],
   "source": [
    "ps3.plot(x = 'critic_score', y = 'all_sales', style='o')\n",
    "print('Корреляция:', ps3['critic_score'].corr(ps3['all_sales']))\n",
    "print('')\n",
    "print('Влияние отзывов критиков на продажи')"
   ]
  },
  {
   "cell_type": "code",
   "execution_count": 51,
   "metadata": {},
   "outputs": [
    {
     "name": "stdout",
     "output_type": "stream",
     "text": [
      "Корреляция: 0.0023944027357566925\n",
      "\n",
      "Влияние отзывов пользователей на продажи\n"
     ]
    },
    {
     "data": {
      "image/png": "[encoded data removed]",
      "text/plain": [
       "<Figure size 432x288 with 1 Axes>"
      ]
     },
     "metadata": {
      "needs_background": "light"
     },
     "output_type": "display_data"
    }
   ],
   "source": [
    "ps3.plot(x = 'user_score', y = 'all_sales', style='o')\n",
    "print('Корреляция:', ps3['user_score'].corr(ps3['all_sales']))\n",
    "print('')\n",
    "print('Влияние отзывов пользователей на продажи')"
   ]
  },
  {
   "cell_type": "markdown",
   "metadata": {},
   "source": [
    "#### Влияние отзывов на продажи платформ X360"
   ]
  },
  {
   "cell_type": "code",
   "execution_count": 52,
   "metadata": {},
   "outputs": [],
   "source": [
    "x360 = data_new.loc[data_new.loc[:, 'platform'] == 'X360']"
   ]
  },
  {
   "cell_type": "code",
   "execution_count": 53,
   "metadata": {
    "scrolled": false
   },
   "outputs": [
    {
     "name": "stdout",
     "output_type": "stream",
     "text": [
      "Корреляция: 0.3503445460228664\n",
      "\n",
      "Влияние отзывов критиков на продажи\n"
     ]
    },
    {
     "data": {
      "image/png": "[encoded data removed]",
      "text/plain": [
       "<Figure size 432x288 with 1 Axes>"
      ]
     },
     "metadata": {
      "needs_background": "light"
     },
     "output_type": "display_data"
    }
   ],
   "source": [
    "x360.plot(x = 'critic_score', y = 'all_sales', style='o')\n",
    "print('Корреляция:', x360['critic_score'].corr(x360['all_sales']))\n",
    "print('')\n",
    "print('Влияние отзывов критиков на продажи')"
   ]
  },
  {
   "cell_type": "code",
   "execution_count": 54,
   "metadata": {},
   "outputs": [
    {
     "name": "stdout",
     "output_type": "stream",
     "text": [
      "Корреляция: -0.011742185147181342\n",
      "\n",
      "Влияние отзывов пользователей на продажи\n"
     ]
    },
    {
     "data": {
      "image/png": "[encoded data removed]",
      "text/plain": [
       "<Figure size 432x288 with 1 Axes>"
      ]
     },
     "metadata": {
      "needs_background": "light"
     },
     "output_type": "display_data"
    }
   ],
   "source": [
    "x360.plot(x = 'user_score', y = 'all_sales', style='o')\n",
    "print('Корреляция:', x360['user_score'].corr(x360['all_sales']))\n",
    "print('')\n",
    "print('Влияние отзывов пользователей на продажи')"
   ]
  },
  {
   "cell_type": "markdown",
   "metadata": {},
   "source": [
    "#### Влияние отзывов на продажи платформ XOne"
   ]
  },
  {
   "cell_type": "code",
   "execution_count": 55,
   "metadata": {},
   "outputs": [],
   "source": [
    "xone = data_new.loc[data_new.loc[:, 'platform'] == 'XOne']"
   ]
  },
  {
   "cell_type": "code",
   "execution_count": 56,
   "metadata": {
    "scrolled": false
   },
   "outputs": [
    {
     "name": "stdout",
     "output_type": "stream",
     "text": [
      "Корреляция: 0.4169983280084017\n",
      "\n",
      "Влияние отзывов критиков на продажи\n"
     ]
    },
    {
     "data": {
      "image/png": "[encoded data removed]",
      "text/plain": [
       "<Figure size 432x288 with 1 Axes>"
      ]
     },
     "metadata": {
      "needs_background": "light"
     },
     "output_type": "display_data"
    }
   ],
   "source": [
    "xone.plot(x = 'critic_score', y = 'all_sales', style='o')\n",
    "print('Корреляция:', xone['critic_score'].corr(xone['all_sales']))\n",
    "print('')\n",
    "print('Влияние отзывов критиков на продажи')"
   ]
  },
  {
   "cell_type": "code",
   "execution_count": 57,
   "metadata": {},
   "outputs": [
    {
     "name": "stdout",
     "output_type": "stream",
     "text": [
      "Корреляция: -0.06892505328279414\n",
      "\n",
      "Влияние отзывов пользователей на продажи\n"
     ]
    },
    {
     "data": {
      "image/png": "[encoded data removed]",
      "text/plain": [
       "<Figure size 432x288 with 1 Axes>"
      ]
     },
     "metadata": {
      "needs_background": "light"
     },
     "output_type": "display_data"
    }
   ],
   "source": [
    "xone.plot(x = 'user_score', y = 'all_sales', style='o')\n",
    "print('Корреляция:', xone['user_score'].corr(xone['all_sales']))\n",
    "print('')\n",
    "print('Влияние отзывов пользователей на продажи')"
   ]
  },
  {
   "cell_type": "markdown",
   "metadata": {},
   "source": [
    "По рассчетам корреляции и диаграммам рассеяния видно, что зависимость между отзывами и продажами по топовым платформам очень слабая. Отзывы не влияют на продажи."
   ]
  },
  {
   "cell_type": "markdown",
   "metadata": {},
   "source": [
    "### Общее распределение игр по жанрам"
   ]
  },
  {
   "cell_type": "code",
   "execution_count": 58,
   "metadata": {},
   "outputs": [
    {
     "data": {
      "image/png": "[encoded data removed]",
      "text/plain": [
       "<Figure size 720x360 with 1 Axes>"
      ]
     },
     "metadata": {
      "needs_background": "light"
     },
     "output_type": "display_data"
    }
   ],
   "source": [
    "(data_new\n",
    " .pivot_table(index = 'genre', values='all_sales', aggfunc = 'sum')\n",
    " .sort_values(by = 'all_sales', ascending = False)\n",
    " .plot(kind='bar', figsize=(10,5))\n",
    ")\n",
    "plt.title('Общие продажи по жанрам'+ \"\\n\")\n",
    "plt.xlabel('Жанр')\n",
    "plt.ylabel('Кол-во')\n",
    "plt.show()"
   ]
  },
  {
   "cell_type": "code",
   "execution_count": 59,
   "metadata": {},
   "outputs": [
    {
     "data": {
      "image/png": "[encoded data removed]",
      "text/plain": [
       "<Figure size 720x360 with 1 Axes>"
      ]
     },
     "metadata": {
      "needs_background": "light"
     },
     "output_type": "display_data"
    }
   ],
   "source": [
    "(data_new\n",
    " .pivot_table(index = 'genre', values='all_sales', aggfunc = 'count')\n",
    " .sort_values(by = 'all_sales', ascending = False)\n",
    " .plot(kind='bar', figsize=(10,5))\n",
    ")\n",
    "plt.title('Количество продаж по жанрам'+ \"\\n\")\n",
    "plt.xlabel('Жанр')\n",
    "plt.ylabel('Кол-во')\n",
    "plt.show()"
   ]
  },
  {
   "cell_type": "code",
   "execution_count": 60,
   "metadata": {},
   "outputs": [
    {
     "data": {
      "image/png": "[encoded data removed]",
      "text/plain": [
       "<Figure size 720x360 with 1 Axes>"
      ]
     },
     "metadata": {
      "needs_background": "light"
     },
     "output_type": "display_data"
    }
   ],
   "source": [
    "(data_new\n",
    " .pivot_table(index = 'genre', values='all_sales', aggfunc = 'mean')\n",
    " .sort_values(by = 'all_sales', ascending = False)\n",
    " .plot(kind='bar', figsize=(10,5))\n",
    ")\n",
    "plt.title('Среднее значение продаж по жанрам'+ \"\\n\")\n",
    "plt.xlabel('Жанр')\n",
    "plt.ylabel('Кол-во')\n",
    "plt.show()"
   ]
  },
  {
   "cell_type": "markdown",
   "metadata": {},
   "source": [
    "По соотношению количества выпуска и продаж за последние 3 года лидирующими жанрами являются Shooter и Sports."
   ]
  },
  {
   "cell_type": "markdown",
   "metadata": {},
   "source": [
    "## Портрет пользователя по регионам"
   ]
  },
  {
   "cell_type": "markdown",
   "metadata": {},
   "source": [
    "### Общие покатели по платформам и жанрам"
   ]
  },
  {
   "cell_type": "code",
   "execution_count": 61,
   "metadata": {},
   "outputs": [
    {
     "data": {
      "image/png": "[encoded data removed]",
      "text/plain": [
       "<Figure size 720x360 with 1 Axes>"
      ]
     },
     "metadata": {
      "needs_background": "light"
     },
     "output_type": "display_data"
    }
   ],
   "source": [
    "(data_new\n",
    " .pivot_table(index = 'platform', values=['na_sales','eu_sales','jp_sales'], aggfunc = 'sum')\n",
    " .plot(kind='bar', figsize=(10,5))\n",
    ")\n",
    "plt.title('Общие продажи по платформам '+ \"\\n\")\n",
    "plt.xlabel('Платформа')\n",
    "plt.ylabel('Кол-во')\n",
    "plt.show()"
   ]
  },
  {
   "cell_type": "markdown",
   "metadata": {},
   "source": [
    "В Америке и Европе показатели, по популярности платформ похожи между собой, в основном лидируют игровые приставки PS4 и PS3, а так же X360 и XOne. Япония отличается своими предпочтениями, портативная игровая система 3DS наиболее популярна у пользователей. "
   ]
  },
  {
   "cell_type": "code",
   "execution_count": 62,
   "metadata": {},
   "outputs": [
    {
     "data": {
      "image/png": "[encoded data removed]",
      "text/plain": [
       "<Figure size 720x360 with 1 Axes>"
      ]
     },
     "metadata": {
      "needs_background": "light"
     },
     "output_type": "display_data"
    }
   ],
   "source": [
    "(data_new\n",
    " .pivot_table(index = 'genre', values=['na_sales','eu_sales','jp_sales'], aggfunc = 'sum')\n",
    " .plot(kind='bar', figsize=(10,5))\n",
    ")\n",
    "plt.title('Общие продажи по жанрам '+ \"\\n\")\n",
    "plt.xlabel('Жанр')\n",
    "plt.ylabel('Кол-во')\n",
    "plt.show()"
   ]
  },
  {
   "cell_type": "markdown",
   "metadata": {},
   "source": [
    "По жанрам аналогичная ситуация. В Америке и Европе показатели, по популярности жанров похожи между собой, в основном лидируют экшен и шутер игры. Япония отличается своими предпочтениями, наиболее популярными жанрами у пользователей являются ролевые и экшен игры. "
   ]
  },
  {
   "cell_type": "markdown",
   "metadata": {},
   "source": [
    "### ТОР - продажи по регионам"
   ]
  },
  {
   "cell_type": "code",
   "execution_count": 63,
   "metadata": {},
   "outputs": [
    {
     "name": "stdout",
     "output_type": "stream",
     "text": [
      "Index(['PS4', 'XOne', 'X360', 'PS3', '3DS'], dtype='object', name='platform')\n"
     ]
    },
    {
     "data": {
      "image/png": "[encoded data removed]",
      "text/plain": [
       "<Figure size 1080x720 with 3 Axes>"
      ]
     },
     "metadata": {},
     "output_type": "display_data"
    }
   ],
   "source": [
    "sales_by_platform = data_new.pivot_table(index = 'platform', values=['na_sales','eu_sales','jp_sales'], \n",
    "aggfunc = 'sum').sort_values('na_sales', ascending=False)\n",
    "top_platform_new = sales_by_platform.head().index\n",
    "print(top_platform_new)\n",
    "\n",
    "(data_new\n",
    " .query('platform in @top_platform_new').reset_index()\n",
    " .pivot_table(index = 'platform', values = ['na_sales','eu_sales','jp_sales'], aggfunc = 'sum')\n",
    " .plot.pie(subplots=True, figsize=(15,10))\n",
    ")\n",
    "plt.title('Продажи по ТОР - платформам')\n",
    "plt.show()"
   ]
  },
  {
   "cell_type": "code",
   "execution_count": 64,
   "metadata": {},
   "outputs": [
    {
     "data": {
      "image/png": "[encoded data removed]",
      "text/plain": [
       "<Figure size 1080x720 with 3 Axes>"
      ]
     },
     "metadata": {},
     "output_type": "display_data"
    }
   ],
   "source": [
    "sales_by_genre = data_new.pivot_table(index = 'genre', values=['na_sales','eu_sales','jp_sales'], \n",
    "aggfunc = 'sum').sort_values('na_sales', ascending=False)\n",
    "top_genre_new = sales_by_genre.head().index\n",
    "\n",
    "(data_new\n",
    " .query('genre in @top_genre_new').reset_index()\n",
    " .pivot_table(index = 'genre', values = ['na_sales','eu_sales','jp_sales'], aggfunc = 'sum')\n",
    " .plot.pie(subplots=True, figsize=(15,10))\n",
    ")\n",
    "plt.title('Продажи по ТОР - жанрам')\n",
    "plt.show()"
   ]
  },
  {
   "cell_type": "markdown",
   "metadata": {},
   "source": [
    "### Рейтинг ESRB"
   ]
  },
  {
   "cell_type": "code",
   "execution_count": 65,
   "metadata": {},
   "outputs": [
    {
     "data": {
      "image/png": "[encoded data removed]",
      "text/plain": [
       "<Figure size 1080x504 with 1 Axes>"
      ]
     },
     "metadata": {
      "needs_background": "light"
     },
     "output_type": "display_data"
    }
   ],
   "source": [
    "(data_new\n",
    " .pivot_table(index = 'rating', values=['na_sales','eu_sales','jp_sales'], aggfunc = 'sum')\n",
    " .sort_values(by = 'na_sales', ascending = False)\n",
    " .plot(kind='bar', figsize=(15,7))\n",
    ")\n",
    "plt.title('Рейтинг ESRB по регионам '+ \"\\n\")\n",
    "plt.xlabel('ESRB')\n",
    "plt.ylabel('Кол-во')\n",
    "plt.show()"
   ]
  },
  {
   "cell_type": "markdown",
   "metadata": {},
   "source": [
    "В Америке и Европе рейтинг ESRB влияет на продажи в отличии от Японии. В Японии большая часть игр была продана без указания этого рейтинга."
   ]
  },
  {
   "cell_type": "markdown",
   "metadata": {},
   "source": [
    "## Проверка гипотез"
   ]
  },
  {
   "cell_type": "markdown",
   "metadata": {},
   "source": [
    "### Гипотеза №1\n",
    "###### Средние пользовательские рейтинги платформ Xbox One и PC одинаковые."
   ]
  },
  {
   "cell_type": "markdown",
   "metadata": {},
   "source": [
    "Выборки независимые. Нулевая гипотеза - средние пользовательские рейтинги платформ Xbox One и PC не различаются. Альтернативная гипотеза-средние пользовательские рейтинги платформ различаются."
   ]
  },
  {
   "cell_type": "code",
   "execution_count": 66,
   "metadata": {},
   "outputs": [
    {
     "name": "stdout",
     "output_type": "stream",
     "text": [
      "<class 'pandas.core.frame.DataFrame'>\n",
      "Int64Index: 148 entries, 458 to 16692\n",
      "Data columns (total 12 columns):\n",
      " #   Column        Non-Null Count  Dtype  \n",
      "---  ------        --------------  -----  \n",
      " 0   name          148 non-null    object \n",
      " 1   platform      148 non-null    object \n",
      " 2   year          148 non-null    int64  \n",
      " 3   genre         148 non-null    object \n",
      " 4   na_sales      148 non-null    float64\n",
      " 5   eu_sales      148 non-null    float64\n",
      " 6   jp_sales      148 non-null    float64\n",
      " 7   other_sales   148 non-null    float64\n",
      " 8   critic_score  148 non-null    float64\n",
      " 9   user_score    148 non-null    float64\n",
      " 10  rating        148 non-null    object \n",
      " 11  all_sales     148 non-null    float64\n",
      "dtypes: float64(7), int64(1), object(4)\n",
      "memory usage: 15.0+ KB\n"
     ]
    }
   ],
   "source": [
    "xone = data_new.loc[data_new.loc[:, 'platform'] == 'XOne']\n",
    "pc = data_new.loc[data_new.loc[:, 'platform'] == 'PC']\n",
    "\n",
    "xone = xone.dropna()\n",
    "pc = pc.dropna()\n",
    "\n",
    "xone['user_score'] = xone['user_score'].astype('float64')\n",
    "pc['user_score'] = pc['user_score'].astype('float64')\n",
    "pc.info()"
   ]
  },
  {
   "cell_type": "code",
   "execution_count": 67,
   "metadata": {
    "scrolled": false
   },
   "outputs": [
    {
     "name": "stdout",
     "output_type": "stream",
     "text": [
      "р-значение = 0.17882648263401307\n",
      "Не получилось отвергнуть нулевую гипотезу\n"
     ]
    }
   ],
   "source": [
    "alpha = .05\n",
    "results = stats.ttest_ind(xone['user_score'], pc['user_score'], equal_var = False)\n",
    "print('р-значение =', results.pvalue)\n",
    "if results.pvalue < alpha:\n",
    "    print('Отвергаем нулевую гипотезу')\n",
    "else:\n",
    "    print('Не получилось отвергнуть нулевую гипотезу')"
   ]
  },
  {
   "cell_type": "markdown",
   "metadata": {},
   "source": [
    "### Гипотеза №2\n",
    "###### Средние пользовательские рейтинги жанров Action (англ. «действие», экшен-игры) и Sports (англ. «спортивные соревнования») разные."
   ]
  },
  {
   "cell_type": "markdown",
   "metadata": {},
   "source": [
    "Выборки независимые.\n",
    "Нулевая гипотеза-средние пользовательские рейтинги жанров неразличаются.\n",
    "Альтернативная гипотеза-Средние пользовательские рейтинги жанров различаются."
   ]
  },
  {
   "cell_type": "code",
   "execution_count": 68,
   "metadata": {},
   "outputs": [],
   "source": [
    "action = data_new.loc[data_new.loc[:, 'genre'] == 'Action']\n",
    "sports = data_new.loc[data_new.loc[:, 'genre'] == 'Sports']\n",
    "\n",
    "action = action.dropna()\n",
    "sports = sports.dropna()\n",
    "\n",
    "action['user_score'] = action['user_score'].astype('float64')\n",
    "sports['user_score'] = sports['user_score'].astype('float64')"
   ]
  },
  {
   "cell_type": "code",
   "execution_count": 69,
   "metadata": {},
   "outputs": [
    {
     "name": "stdout",
     "output_type": "stream",
     "text": [
      "р-значение = 1.0496920005008588e-13\n",
      "Отвергаем нулевую гипотезу\n"
     ]
    }
   ],
   "source": [
    "alpha = .05\n",
    "results = stats.ttest_ind(action['user_score'], sports['user_score'], equal_var = False)\n",
    "print('р-значение =', results.pvalue)\n",
    "if results.pvalue < alpha:\n",
    "    print('Отвергаем нулевую гипотезу')\n",
    "else:\n",
    "    print('Не получилось отвергнуть нулевую гипотезу')"
   ]
  },
  {
   "cell_type": "markdown",
   "metadata": {},
   "source": [
    "## Вывод"
   ]
  },
  {
   "cell_type": "markdown",
   "metadata": {},
   "source": [
    "После исследовательского анализа данных по продажам Интернет-магазина «Стримчик» можно сделать выводы:\n",
    "\n",
    "1. Выявленна закономерность по актуальности продукта, т.е. чем новее поколение игровой консоли, тем актуальнее игры для нее. \n",
    "\n",
    "2. В основном пользователи Америки и Европы отдают предпочтение игровым приставкам PS4 и XOne. Пользователи Азии, на примере Японии, отдают предпочтение портотивным игровым системам на 2016 год такой системой является 3DS.\n",
    "\n",
    "3. Общий показатель 3DS падает, т.к. все чаще данные портотивные игровые системы заменяют смартфоны. Популярность их в Японии может объясняться низкими жилищными возможностями (совреиенная игровая приставка подразумевает наличие большого TV и хороших графических характеристик) и стандартами по кв.м. Т.к. по статистике в Японии довольно миниатюрные квартиры и срендняя квадратура на человека,  составляет не более 12 кв.м., тогда как в Европе это около 50 кв.м., а в Северной Америке более 60 кв.\n",
    "\n",
    "4. По анализу данных за последние 3 года, можно сделать вывод об актуальности на данный момент таких игровых приставок как PS4 и XOne.\n",
    "\n",
    "5. Отзывы критиков и пользователей не влияют на продажи.\n",
    "\n",
    "6. По соотношению количества выпуска и продаж за последние 3 года лидирующими игровыми жанрами являются Shooter и Sports.\n",
    "\n",
    "7. В Америке и Европе возрастной рейтинг ESRB влияет на продажи в отличии от Японии. В Японии большая часть игр была продана без указания этого рейтинга.\n",
    "\n",
    "На данный момент для планирования рекламной компании наиболее потнциально популярными продуктами являются PS4 и XOne. "
   ]
  }
 ],
 "metadata": {
  "ExecuteTimeLog": [
   {
    "duration": 460,
    "start_time": "2022-05-06T07:07:09.351Z"
   },
   {
    "duration": 34,
    "start_time": "2022-05-06T07:08:19.598Z"
   },
   {
    "duration": 9,
    "start_time": "2022-05-06T07:08:29.067Z"
   },
   {
    "duration": 19,
    "start_time": "2022-05-06T07:08:33.026Z"
   },
   {
    "duration": 31,
    "start_time": "2022-05-06T07:08:41.367Z"
   },
   {
    "duration": 15,
    "start_time": "2022-05-06T07:19:25.811Z"
   },
   {
    "duration": 26,
    "start_time": "2022-05-06T07:19:46.790Z"
   },
   {
    "duration": 29,
    "start_time": "2022-05-06T07:27:12.358Z"
   },
   {
    "duration": 35,
    "start_time": "2022-05-06T07:27:35.406Z"
   },
   {
    "duration": 30,
    "start_time": "2022-05-06T07:27:38.090Z"
   },
   {
    "duration": 5,
    "start_time": "2022-05-06T07:27:50.474Z"
   },
   {
    "duration": 30,
    "start_time": "2022-05-06T07:27:53.250Z"
   },
   {
    "duration": 15,
    "start_time": "2022-05-06T07:28:08.447Z"
   },
   {
    "duration": 15,
    "start_time": "2022-05-06T07:28:13.266Z"
   },
   {
    "duration": 17,
    "start_time": "2022-05-06T07:28:29.395Z"
   },
   {
    "duration": 36,
    "start_time": "2022-05-06T07:28:38.348Z"
   },
   {
    "duration": 17,
    "start_time": "2022-05-06T07:28:39.092Z"
   },
   {
    "duration": 32,
    "start_time": "2022-05-06T07:28:49.092Z"
   },
   {
    "duration": 516,
    "start_time": "2022-05-11T07:54:35.384Z"
   },
   {
    "duration": 46,
    "start_time": "2022-05-11T07:54:41.008Z"
   },
   {
    "duration": 25,
    "start_time": "2022-05-11T07:55:24.825Z"
   },
   {
    "duration": 65,
    "start_time": "2022-05-11T08:00:28.273Z"
   },
   {
    "duration": 2068,
    "start_time": "2022-05-11T08:03:34.373Z"
   },
   {
    "duration": 65,
    "start_time": "2022-05-11T08:03:45.062Z"
   },
   {
    "duration": 23,
    "start_time": "2022-05-11T08:03:45.797Z"
   },
   {
    "duration": 19,
    "start_time": "2022-05-11T08:03:46.474Z"
   },
   {
    "duration": 14,
    "start_time": "2022-05-11T08:04:28.641Z"
   },
   {
    "duration": 16,
    "start_time": "2022-05-11T08:04:38.841Z"
   },
   {
    "duration": 54,
    "start_time": "2022-05-11T08:05:30.037Z"
   },
   {
    "duration": 57,
    "start_time": "2022-05-11T08:05:35.822Z"
   },
   {
    "duration": 26,
    "start_time": "2022-05-11T08:05:43.606Z"
   },
   {
    "duration": 26,
    "start_time": "2022-05-11T08:05:55.737Z"
   },
   {
    "duration": 29,
    "start_time": "2022-05-11T08:06:06.833Z"
   },
   {
    "duration": 12,
    "start_time": "2022-05-11T08:11:52.682Z"
   },
   {
    "duration": 22,
    "start_time": "2022-05-11T08:13:57.098Z"
   },
   {
    "duration": 14,
    "start_time": "2022-05-11T08:14:35.822Z"
   },
   {
    "duration": 20,
    "start_time": "2022-05-11T08:19:09.157Z"
   },
   {
    "duration": 23,
    "start_time": "2022-05-11T08:19:30.053Z"
   },
   {
    "duration": 12,
    "start_time": "2022-05-11T08:19:52.378Z"
   },
   {
    "duration": 7,
    "start_time": "2022-05-11T08:20:13.962Z"
   },
   {
    "duration": 16,
    "start_time": "2022-05-11T08:20:41.482Z"
   },
   {
    "duration": 16,
    "start_time": "2022-05-11T08:21:21.241Z"
   },
   {
    "duration": 20,
    "start_time": "2022-05-11T08:22:02.658Z"
   },
   {
    "duration": 17,
    "start_time": "2022-05-11T08:22:14.318Z"
   },
   {
    "duration": 23,
    "start_time": "2022-05-11T08:47:11.643Z"
   },
   {
    "duration": 26,
    "start_time": "2022-05-11T08:47:33.176Z"
   },
   {
    "duration": 24,
    "start_time": "2022-05-11T08:48:03.103Z"
   },
   {
    "duration": 27,
    "start_time": "2022-05-11T08:48:36.306Z"
   },
   {
    "duration": 22,
    "start_time": "2022-05-11T08:48:59.546Z"
   },
   {
    "duration": 19,
    "start_time": "2022-05-11T08:49:30.222Z"
   },
   {
    "duration": 17,
    "start_time": "2022-05-11T08:49:42.998Z"
   },
   {
    "duration": 18,
    "start_time": "2022-05-11T08:49:55.734Z"
   },
   {
    "duration": 19,
    "start_time": "2022-05-11T08:50:00.675Z"
   },
   {
    "duration": 14,
    "start_time": "2022-05-11T08:50:53.786Z"
   },
   {
    "duration": 483,
    "start_time": "2022-05-17T07:29:05.167Z"
   },
   {
    "duration": 25,
    "start_time": "2022-05-17T07:29:26.704Z"
   },
   {
    "duration": 26,
    "start_time": "2022-05-17T07:29:39.783Z"
   },
   {
    "duration": 25,
    "start_time": "2022-05-17T07:29:42.643Z"
   },
   {
    "duration": 57,
    "start_time": "2022-05-17T07:29:45.923Z"
   },
   {
    "duration": 26,
    "start_time": "2022-05-17T07:29:47.175Z"
   },
   {
    "duration": 6,
    "start_time": "2022-05-17T07:30:07.243Z"
   },
   {
    "duration": 61,
    "start_time": "2022-05-17T07:38:27.056Z"
   },
   {
    "duration": 6,
    "start_time": "2022-05-17T07:38:37.331Z"
   },
   {
    "duration": 6,
    "start_time": "2022-05-17T07:39:07.824Z"
   },
   {
    "duration": 5,
    "start_time": "2022-05-17T07:39:15.204Z"
   },
   {
    "duration": 14,
    "start_time": "2022-05-17T07:49:36.937Z"
   },
   {
    "duration": 12,
    "start_time": "2022-05-17T07:54:43.410Z"
   },
   {
    "duration": 9,
    "start_time": "2022-05-17T07:55:33.859Z"
   },
   {
    "duration": 10,
    "start_time": "2022-05-17T07:56:31.186Z"
   },
   {
    "duration": 18,
    "start_time": "2022-05-17T07:57:13.842Z"
   },
   {
    "duration": 20,
    "start_time": "2022-05-17T07:58:07.642Z"
   },
   {
    "duration": 21,
    "start_time": "2022-05-17T07:58:40.249Z"
   },
   {
    "duration": 16,
    "start_time": "2022-05-17T07:58:47.553Z"
   },
   {
    "duration": 23,
    "start_time": "2022-05-17T07:59:09.737Z"
   },
   {
    "duration": 34,
    "start_time": "2022-05-17T08:14:44.859Z"
   },
   {
    "duration": 29,
    "start_time": "2022-05-17T08:14:53.926Z"
   },
   {
    "duration": 17,
    "start_time": "2022-05-17T08:15:31.394Z"
   },
   {
    "duration": 52,
    "start_time": "2022-05-17T08:16:06.027Z"
   },
   {
    "duration": 49,
    "start_time": "2022-05-17T08:16:45.342Z"
   },
   {
    "duration": 55,
    "start_time": "2022-05-17T08:20:16.068Z"
   },
   {
    "duration": 62,
    "start_time": "2022-05-17T08:20:44.459Z"
   },
   {
    "duration": 33,
    "start_time": "2022-05-17T08:21:07.106Z"
   },
   {
    "duration": 65,
    "start_time": "2022-05-17T08:21:22.474Z"
   },
   {
    "duration": 69,
    "start_time": "2022-05-17T08:22:45.749Z"
   },
   {
    "duration": 81,
    "start_time": "2022-05-17T08:23:13.523Z"
   },
   {
    "duration": 24,
    "start_time": "2022-05-17T08:23:14.079Z"
   },
   {
    "duration": 61,
    "start_time": "2022-05-17T08:23:14.571Z"
   },
   {
    "duration": 58,
    "start_time": "2022-05-17T08:24:02.475Z"
   },
   {
    "duration": 29,
    "start_time": "2022-05-17T08:24:03.253Z"
   },
   {
    "duration": 88,
    "start_time": "2022-05-17T08:24:04.159Z"
   },
   {
    "duration": 62,
    "start_time": "2022-05-17T08:26:09.759Z"
   },
   {
    "duration": 65,
    "start_time": "2022-05-17T08:26:45.811Z"
   },
   {
    "duration": 22,
    "start_time": "2022-05-17T08:26:46.679Z"
   },
   {
    "duration": 66,
    "start_time": "2022-05-17T08:26:47.453Z"
   },
   {
    "duration": 2112,
    "start_time": "2022-05-17T08:28:00.556Z"
   },
   {
    "duration": 38,
    "start_time": "2022-05-17T08:28:18.157Z"
   },
   {
    "duration": 70,
    "start_time": "2022-05-17T08:29:15.627Z"
   },
   {
    "duration": 69,
    "start_time": "2022-05-17T08:29:37.023Z"
   },
   {
    "duration": 70,
    "start_time": "2022-05-17T08:29:50.583Z"
   },
   {
    "duration": 80,
    "start_time": "2022-05-17T08:30:17.020Z"
   },
   {
    "duration": 70,
    "start_time": "2022-05-17T08:30:23.871Z"
   },
   {
    "duration": 81,
    "start_time": "2022-05-17T08:31:19.992Z"
   },
   {
    "duration": 61,
    "start_time": "2022-05-17T08:31:32.752Z"
   },
   {
    "duration": 105,
    "start_time": "2022-05-17T08:32:12.303Z"
   },
   {
    "duration": 64,
    "start_time": "2022-05-17T08:34:10.257Z"
   },
   {
    "duration": 84,
    "start_time": "2022-05-17T08:34:20.491Z"
   },
   {
    "duration": 69,
    "start_time": "2022-05-17T08:34:53.839Z"
   },
   {
    "duration": 54,
    "start_time": "2022-05-17T08:50:15.680Z"
   },
   {
    "duration": 28,
    "start_time": "2022-05-17T08:50:19.844Z"
   },
   {
    "duration": 33,
    "start_time": "2022-05-17T08:50:49.920Z"
   },
   {
    "duration": 44,
    "start_time": "2022-05-17T08:51:00.120Z"
   },
   {
    "duration": 46,
    "start_time": "2022-05-17T08:51:44.879Z"
   },
   {
    "duration": 46,
    "start_time": "2022-05-17T08:52:05.036Z"
   },
   {
    "duration": 35,
    "start_time": "2022-05-17T08:54:18.143Z"
   },
   {
    "duration": 41,
    "start_time": "2022-05-17T08:54:30.592Z"
   },
   {
    "duration": 42,
    "start_time": "2022-05-17T08:54:38.990Z"
   },
   {
    "duration": 37,
    "start_time": "2022-05-17T08:55:21.211Z"
   },
   {
    "duration": 41,
    "start_time": "2022-05-17T08:55:25.240Z"
   },
   {
    "duration": 23,
    "start_time": "2022-05-17T08:56:06.260Z"
   },
   {
    "duration": 52,
    "start_time": "2022-05-17T08:56:15.680Z"
   },
   {
    "duration": 22,
    "start_time": "2022-05-17T08:56:17.092Z"
   },
   {
    "duration": 40,
    "start_time": "2022-05-17T08:56:20.548Z"
   },
   {
    "duration": 23,
    "start_time": "2022-05-17T08:56:35.504Z"
   },
   {
    "duration": 46,
    "start_time": "2022-05-17T08:56:58.147Z"
   },
   {
    "duration": 48,
    "start_time": "2022-05-17T08:57:13.380Z"
   },
   {
    "duration": 38,
    "start_time": "2022-05-17T08:58:31.080Z"
   },
   {
    "duration": 60,
    "start_time": "2022-05-17T08:58:35.780Z"
   },
   {
    "duration": 62,
    "start_time": "2022-05-17T08:59:41.772Z"
   },
   {
    "duration": 141,
    "start_time": "2022-05-17T08:59:58.804Z"
   },
   {
    "duration": 35,
    "start_time": "2022-05-17T09:00:14.376Z"
   },
   {
    "duration": 34,
    "start_time": "2022-05-17T09:00:56.088Z"
   },
   {
    "duration": 34,
    "start_time": "2022-05-17T09:01:41.832Z"
   },
   {
    "duration": 43,
    "start_time": "2022-05-17T09:01:47.717Z"
   },
   {
    "duration": 41,
    "start_time": "2022-05-17T09:02:35.780Z"
   },
   {
    "duration": 43,
    "start_time": "2022-05-17T09:02:45.412Z"
   },
   {
    "duration": 64,
    "start_time": "2022-05-18T13:37:07.095Z"
   },
   {
    "duration": 27,
    "start_time": "2022-05-18T13:37:08.112Z"
   },
   {
    "duration": 46,
    "start_time": "2022-05-18T13:37:09.091Z"
   },
   {
    "duration": 46,
    "start_time": "2022-05-18T13:37:14.451Z"
   },
   {
    "duration": 43,
    "start_time": "2022-05-18T13:37:27.360Z"
   },
   {
    "duration": 38,
    "start_time": "2022-05-18T13:38:15.216Z"
   },
   {
    "duration": 36,
    "start_time": "2022-05-18T13:38:40.208Z"
   },
   {
    "duration": 45,
    "start_time": "2022-05-18T13:39:00.607Z"
   },
   {
    "duration": 46,
    "start_time": "2022-05-18T13:39:20.980Z"
   },
   {
    "duration": 44,
    "start_time": "2022-05-18T13:40:32.616Z"
   },
   {
    "duration": 41,
    "start_time": "2022-05-18T13:40:41.631Z"
   },
   {
    "duration": 34,
    "start_time": "2022-05-18T13:40:44.504Z"
   },
   {
    "duration": 35,
    "start_time": "2022-05-18T13:40:53.372Z"
   },
   {
    "duration": 43,
    "start_time": "2022-05-18T13:41:47.280Z"
   },
   {
    "duration": 31,
    "start_time": "2022-05-18T13:42:08.233Z"
   },
   {
    "duration": 44,
    "start_time": "2022-05-18T13:42:22.652Z"
   },
   {
    "duration": 48,
    "start_time": "2022-05-18T13:45:40.948Z"
   },
   {
    "duration": 44,
    "start_time": "2022-05-18T13:49:52.804Z"
   },
   {
    "duration": 16,
    "start_time": "2022-05-18T13:50:48.392Z"
   },
   {
    "duration": 11,
    "start_time": "2022-05-18T13:51:48.492Z"
   },
   {
    "duration": 10,
    "start_time": "2022-05-18T13:52:00.096Z"
   },
   {
    "duration": 14,
    "start_time": "2022-05-18T13:52:08.064Z"
   },
   {
    "duration": 14,
    "start_time": "2022-05-18T13:55:19.328Z"
   },
   {
    "duration": 44,
    "start_time": "2022-05-18T13:55:29.544Z"
   },
   {
    "duration": 29,
    "start_time": "2022-05-18T13:56:44.741Z"
   },
   {
    "duration": 34,
    "start_time": "2022-05-18T13:56:52.099Z"
   },
   {
    "duration": 38,
    "start_time": "2022-05-18T13:57:05.013Z"
   },
   {
    "duration": 51,
    "start_time": "2022-05-18T13:57:41.829Z"
   },
   {
    "duration": 40,
    "start_time": "2022-05-18T13:59:50.685Z"
   },
   {
    "duration": 6,
    "start_time": "2022-05-18T14:00:50.137Z"
   },
   {
    "duration": 85,
    "start_time": "2022-05-18T14:01:01.233Z"
   },
   {
    "duration": 614,
    "start_time": "2022-05-18T14:02:12.994Z"
   },
   {
    "duration": 79,
    "start_time": "2022-05-18T14:02:45.553Z"
   },
   {
    "duration": 7,
    "start_time": "2022-05-18T14:02:49.577Z"
   },
   {
    "duration": 14,
    "start_time": "2022-05-18T14:02:52.910Z"
   },
   {
    "duration": 57,
    "start_time": "2022-05-18T14:03:26.162Z"
   },
   {
    "duration": 41,
    "start_time": "2022-05-18T14:04:27.773Z"
   },
   {
    "duration": 42,
    "start_time": "2022-05-18T14:09:28.633Z"
   },
   {
    "duration": 45,
    "start_time": "2022-05-18T14:09:57.133Z"
   },
   {
    "duration": 40,
    "start_time": "2022-05-18T14:10:10.889Z"
   },
   {
    "duration": 47,
    "start_time": "2022-05-18T14:12:30.033Z"
   },
   {
    "duration": 34,
    "start_time": "2022-05-18T14:12:35.650Z"
   },
   {
    "duration": 49,
    "start_time": "2022-05-18T14:13:08.558Z"
   },
   {
    "duration": 35,
    "start_time": "2022-05-18T14:13:44.382Z"
   },
   {
    "duration": 35,
    "start_time": "2022-05-18T14:14:02.486Z"
   },
   {
    "duration": 9,
    "start_time": "2022-05-18T14:14:33.030Z"
   },
   {
    "duration": 84,
    "start_time": "2022-05-18T14:14:39.221Z"
   },
   {
    "duration": 10,
    "start_time": "2022-05-18T14:14:43.113Z"
   },
   {
    "duration": 34,
    "start_time": "2022-05-18T14:15:12.078Z"
   },
   {
    "duration": 44,
    "start_time": "2022-05-18T14:15:29.687Z"
   },
   {
    "duration": 40,
    "start_time": "2022-05-18T14:15:45.748Z"
   },
   {
    "duration": 51,
    "start_time": "2022-05-18T14:15:56.366Z"
   },
   {
    "duration": 37,
    "start_time": "2022-05-18T14:16:25.434Z"
   },
   {
    "duration": 43,
    "start_time": "2022-05-18T14:17:02.354Z"
   },
   {
    "duration": 45,
    "start_time": "2022-05-18T14:17:09.502Z"
   },
   {
    "duration": 40,
    "start_time": "2022-05-18T14:17:16.454Z"
   },
   {
    "duration": 39,
    "start_time": "2022-05-18T14:18:54.786Z"
   },
   {
    "duration": 34,
    "start_time": "2022-05-18T14:22:34.922Z"
   },
   {
    "duration": 35,
    "start_time": "2022-05-18T14:22:52.806Z"
   },
   {
    "duration": 78,
    "start_time": "2022-05-18T14:24:12.698Z"
   },
   {
    "duration": 10,
    "start_time": "2022-05-18T14:24:16.742Z"
   },
   {
    "duration": 38,
    "start_time": "2022-05-18T14:24:18.962Z"
   },
   {
    "duration": 35,
    "start_time": "2022-05-18T14:24:35.318Z"
   },
   {
    "duration": 34,
    "start_time": "2022-05-18T14:24:46.622Z"
   },
   {
    "duration": 40,
    "start_time": "2022-05-18T14:28:45.006Z"
   },
   {
    "duration": 23,
    "start_time": "2022-05-18T14:31:31.551Z"
   },
   {
    "duration": 77,
    "start_time": "2022-05-18T14:32:39.914Z"
   },
   {
    "duration": 10,
    "start_time": "2022-05-18T14:32:43.598Z"
   },
   {
    "duration": 50,
    "start_time": "2022-05-18T14:32:46.214Z"
   },
   {
    "duration": 43,
    "start_time": "2022-05-18T14:33:01.530Z"
   },
   {
    "duration": 36,
    "start_time": "2022-05-18T14:33:08.774Z"
   },
   {
    "duration": 37,
    "start_time": "2022-05-18T14:33:22.118Z"
   },
   {
    "duration": 36,
    "start_time": "2022-05-18T14:34:28.734Z"
   },
   {
    "duration": 42,
    "start_time": "2022-05-18T14:34:38.366Z"
   },
   {
    "duration": 35,
    "start_time": "2022-05-18T14:34:42.502Z"
   },
   {
    "duration": 37,
    "start_time": "2022-05-18T14:34:56.670Z"
   },
   {
    "duration": 36,
    "start_time": "2022-05-18T14:35:00.273Z"
   },
   {
    "duration": 37,
    "start_time": "2022-05-18T14:35:20.798Z"
   },
   {
    "duration": 81,
    "start_time": "2022-05-18T14:35:25.546Z"
   },
   {
    "duration": 13,
    "start_time": "2022-05-18T14:35:26.190Z"
   },
   {
    "duration": 47,
    "start_time": "2022-05-18T14:35:27.270Z"
   },
   {
    "duration": 45,
    "start_time": "2022-05-18T14:35:44.306Z"
   },
   {
    "duration": 39,
    "start_time": "2022-05-18T14:35:48.666Z"
   },
   {
    "duration": 41,
    "start_time": "2022-05-18T14:35:54.326Z"
   },
   {
    "duration": 35,
    "start_time": "2022-05-18T14:36:07.774Z"
   },
   {
    "duration": 36,
    "start_time": "2022-05-18T14:36:17.106Z"
   },
   {
    "duration": 79,
    "start_time": "2022-05-18T14:36:25.038Z"
   },
   {
    "duration": 10,
    "start_time": "2022-05-18T14:36:25.844Z"
   },
   {
    "duration": 35,
    "start_time": "2022-05-18T14:36:26.774Z"
   },
   {
    "duration": 80,
    "start_time": "2022-05-18T14:36:36.962Z"
   },
   {
    "duration": 10,
    "start_time": "2022-05-18T14:36:37.730Z"
   },
   {
    "duration": 34,
    "start_time": "2022-05-18T14:36:39.826Z"
   },
   {
    "duration": 34,
    "start_time": "2022-05-18T14:36:48.570Z"
   },
   {
    "duration": 83,
    "start_time": "2022-05-18T14:36:53.538Z"
   },
   {
    "duration": 9,
    "start_time": "2022-05-18T14:36:54.342Z"
   },
   {
    "duration": 37,
    "start_time": "2022-05-18T14:36:55.870Z"
   },
   {
    "duration": 41,
    "start_time": "2022-05-18T14:37:19.110Z"
   },
   {
    "duration": 34,
    "start_time": "2022-05-18T14:37:45.694Z"
   },
   {
    "duration": 10,
    "start_time": "2022-05-18T14:37:57.706Z"
   },
   {
    "duration": 44,
    "start_time": "2022-05-18T14:38:17.570Z"
   },
   {
    "duration": 30,
    "start_time": "2022-05-18T14:38:27.606Z"
   },
   {
    "duration": 32,
    "start_time": "2022-05-18T14:38:31.626Z"
   },
   {
    "duration": 30,
    "start_time": "2022-05-18T14:38:35.970Z"
   },
   {
    "duration": 30,
    "start_time": "2022-05-18T14:38:47.974Z"
   },
   {
    "duration": 35,
    "start_time": "2022-05-18T14:42:27.346Z"
   },
   {
    "duration": 29,
    "start_time": "2022-05-18T14:42:42.494Z"
   },
   {
    "duration": 32,
    "start_time": "2022-05-18T14:43:02.136Z"
   },
   {
    "duration": 31,
    "start_time": "2022-05-18T14:43:11.238Z"
   },
   {
    "duration": 9,
    "start_time": "2022-05-18T14:43:20.166Z"
   },
   {
    "duration": 79,
    "start_time": "2022-05-18T14:46:50.414Z"
   },
   {
    "duration": 69,
    "start_time": "2022-05-18T14:47:11.874Z"
   },
   {
    "duration": 69,
    "start_time": "2022-05-18T14:47:19.170Z"
   },
   {
    "duration": 84,
    "start_time": "2022-05-18T14:47:25.826Z"
   },
   {
    "duration": 14,
    "start_time": "2022-05-18T14:48:12.871Z"
   },
   {
    "duration": 84,
    "start_time": "2022-05-18T14:48:19.078Z"
   },
   {
    "duration": 11,
    "start_time": "2022-05-18T14:48:19.834Z"
   },
   {
    "duration": 30,
    "start_time": "2022-05-18T14:48:20.538Z"
   },
   {
    "duration": 45,
    "start_time": "2022-05-18T14:48:56.342Z"
   },
   {
    "duration": 41,
    "start_time": "2022-05-18T14:49:00.615Z"
   },
   {
    "duration": 10,
    "start_time": "2022-05-18T14:49:13.786Z"
   },
   {
    "duration": 39,
    "start_time": "2022-05-18T14:49:21.754Z"
   },
   {
    "duration": 34,
    "start_time": "2022-05-18T14:49:38.606Z"
   },
   {
    "duration": 39,
    "start_time": "2022-05-18T14:49:43.847Z"
   },
   {
    "duration": 35,
    "start_time": "2022-05-18T14:49:51.909Z"
   },
   {
    "duration": 47,
    "start_time": "2022-05-18T14:49:57.282Z"
   },
   {
    "duration": 35,
    "start_time": "2022-05-18T14:50:11.174Z"
   },
   {
    "duration": 45,
    "start_time": "2022-05-18T14:50:16.086Z"
   },
   {
    "duration": 42,
    "start_time": "2022-05-18T14:50:23.123Z"
   },
   {
    "duration": 162,
    "start_time": "2022-05-18T14:51:08.170Z"
   },
   {
    "duration": 43,
    "start_time": "2022-05-18T14:51:39.082Z"
   },
   {
    "duration": 44,
    "start_time": "2022-05-18T14:51:49.491Z"
   },
   {
    "duration": 40,
    "start_time": "2022-05-18T14:52:22.582Z"
   },
   {
    "duration": 43,
    "start_time": "2022-05-18T14:52:40.214Z"
   },
   {
    "duration": 39,
    "start_time": "2022-05-18T14:52:51.434Z"
   },
   {
    "duration": 61,
    "start_time": "2022-05-18T14:53:06.335Z"
   },
   {
    "duration": 43,
    "start_time": "2022-05-18T14:53:48.702Z"
   },
   {
    "duration": 98,
    "start_time": "2022-05-18T14:56:00.122Z"
   },
   {
    "duration": 445,
    "start_time": "2022-05-18T14:57:14.546Z"
   },
   {
    "duration": 93,
    "start_time": "2022-05-18T14:57:28.303Z"
   },
   {
    "duration": 9,
    "start_time": "2022-05-18T14:57:29.058Z"
   },
   {
    "duration": 47,
    "start_time": "2022-05-18T14:57:29.840Z"
   },
   {
    "duration": 5,
    "start_time": "2022-05-18T14:57:30.862Z"
   },
   {
    "duration": 15,
    "start_time": "2022-05-18T14:57:42.540Z"
   },
   {
    "duration": 29,
    "start_time": "2022-05-21T06:52:40.978Z"
   },
   {
    "duration": 824,
    "start_time": "2022-05-21T07:10:46.863Z"
   },
   {
    "duration": 5,
    "start_time": "2022-05-21T07:21:58.357Z"
   },
   {
    "duration": 247,
    "start_time": "2022-05-21T08:30:42.299Z"
   },
   {
    "duration": 49,
    "start_time": "2022-05-21T08:31:36.079Z"
   },
   {
    "duration": 51,
    "start_time": "2022-05-21T08:32:00.257Z"
   },
   {
    "duration": 53,
    "start_time": "2022-05-21T08:34:14.469Z"
   },
   {
    "duration": 60,
    "start_time": "2022-05-21T08:40:50.523Z"
   },
   {
    "duration": 6,
    "start_time": "2022-05-21T08:41:44.614Z"
   },
   {
    "duration": 52,
    "start_time": "2022-05-21T08:41:53.475Z"
   },
   {
    "duration": 79,
    "start_time": "2022-05-31T10:24:44.096Z"
   },
   {
    "duration": 4,
    "start_time": "2022-05-31T10:24:45.748Z"
   },
   {
    "duration": 34,
    "start_time": "2022-05-31T10:24:47.296Z"
   },
   {
    "duration": 54,
    "start_time": "2022-05-31T10:24:53.572Z"
   },
   {
    "duration": 20,
    "start_time": "2022-05-31T10:25:01.279Z"
   },
   {
    "duration": 13,
    "start_time": "2022-05-31T10:25:06.307Z"
   },
   {
    "duration": 369,
    "start_time": "2022-05-31T10:25:23.005Z"
   },
   {
    "duration": 12817,
    "start_time": "2022-05-31T10:37:23.506Z"
   },
   {
    "duration": 606,
    "start_time": "2022-05-31T10:37:50.716Z"
   },
   {
    "duration": 4,
    "start_time": "2022-05-31T10:37:56.589Z"
   },
   {
    "duration": 57,
    "start_time": "2022-05-31T10:37:58.262Z"
   },
   {
    "duration": 16,
    "start_time": "2022-05-31T10:37:59.997Z"
   },
   {
    "duration": 12959,
    "start_time": "2022-05-31T10:38:26.972Z"
   },
   {
    "duration": 477,
    "start_time": "2022-05-31T10:40:45.643Z"
   },
   {
    "duration": 165,
    "start_time": "2022-05-31T10:41:38.518Z"
   },
   {
    "duration": 255,
    "start_time": "2022-05-31T10:52:55.576Z"
   },
   {
    "duration": 197,
    "start_time": "2022-05-31T10:54:17.420Z"
   },
   {
    "duration": 168,
    "start_time": "2022-05-31T10:55:15.278Z"
   },
   {
    "duration": 153,
    "start_time": "2022-05-31T10:57:22.903Z"
   },
   {
    "duration": 283,
    "start_time": "2022-05-31T10:59:48.797Z"
   },
   {
    "duration": 270,
    "start_time": "2022-05-31T11:00:13.887Z"
   },
   {
    "duration": 265,
    "start_time": "2022-05-31T11:00:29.047Z"
   },
   {
    "duration": 261,
    "start_time": "2022-05-31T11:01:54.755Z"
   },
   {
    "duration": 58,
    "start_time": "2022-05-31T11:05:41.078Z"
   },
   {
    "duration": 68,
    "start_time": "2022-05-31T11:06:10.529Z"
   },
   {
    "duration": 4,
    "start_time": "2022-05-31T11:06:11.788Z"
   },
   {
    "duration": 51,
    "start_time": "2022-05-31T11:06:13.165Z"
   },
   {
    "duration": 16,
    "start_time": "2022-05-31T11:06:14.557Z"
   },
   {
    "duration": 164,
    "start_time": "2022-05-31T11:06:15.940Z"
   },
   {
    "duration": 262,
    "start_time": "2022-05-31T11:06:17.979Z"
   },
   {
    "duration": 144,
    "start_time": "2022-05-31T11:06:19.237Z"
   },
   {
    "duration": 34,
    "start_time": "2022-05-31T11:08:52.299Z"
   },
   {
    "duration": 33,
    "start_time": "2022-05-31T11:09:08.070Z"
   },
   {
    "duration": 29,
    "start_time": "2022-05-31T11:11:00.958Z"
   },
   {
    "duration": 41,
    "start_time": "2022-05-31T11:12:13.822Z"
   },
   {
    "duration": 26,
    "start_time": "2022-05-31T11:13:29.949Z"
   },
   {
    "duration": 181,
    "start_time": "2022-05-31T11:13:50.341Z"
   },
   {
    "duration": 164,
    "start_time": "2022-05-31T11:15:40.650Z"
   },
   {
    "duration": 423,
    "start_time": "2022-05-31T11:16:13.910Z"
   },
   {
    "duration": 166,
    "start_time": "2022-05-31T11:16:42.486Z"
   },
   {
    "duration": 17,
    "start_time": "2022-05-31T11:17:58.981Z"
   },
   {
    "duration": 22,
    "start_time": "2022-05-31T11:18:40.501Z"
   },
   {
    "duration": 531,
    "start_time": "2022-05-31T11:18:56.445Z"
   },
   {
    "duration": 410,
    "start_time": "2022-05-31T11:19:11.622Z"
   },
   {
    "duration": 602,
    "start_time": "2022-05-31T11:21:00.489Z"
   },
   {
    "duration": 405,
    "start_time": "2022-05-31T11:21:15.276Z"
   },
   {
    "duration": 492,
    "start_time": "2022-05-31T11:21:28.749Z"
   },
   {
    "duration": 16,
    "start_time": "2022-05-31T11:22:22.397Z"
   },
   {
    "duration": 500,
    "start_time": "2022-05-31T11:22:48.462Z"
   },
   {
    "duration": 159,
    "start_time": "2022-05-31T11:24:34.069Z"
   },
   {
    "duration": 174,
    "start_time": "2022-05-31T11:25:10.845Z"
   },
   {
    "duration": 194,
    "start_time": "2022-05-31T11:26:03.151Z"
   },
   {
    "duration": 188,
    "start_time": "2022-05-31T11:26:34.444Z"
   },
   {
    "duration": 172,
    "start_time": "2022-05-31T11:30:36.782Z"
   },
   {
    "duration": 157,
    "start_time": "2022-05-31T11:30:58.713Z"
   },
   {
    "duration": 155,
    "start_time": "2022-05-31T11:31:30.398Z"
   },
   {
    "duration": 161,
    "start_time": "2022-05-31T11:32:39.346Z"
   },
   {
    "duration": 170,
    "start_time": "2022-05-31T11:33:32.431Z"
   },
   {
    "duration": 181,
    "start_time": "2022-05-31T11:34:53.746Z"
   },
   {
    "duration": 310,
    "start_time": "2022-05-31T11:35:47.858Z"
   },
   {
    "duration": 248,
    "start_time": "2022-05-31T11:45:37.067Z"
   },
   {
    "duration": 199,
    "start_time": "2022-05-31T11:45:52.898Z"
   },
   {
    "duration": 415,
    "start_time": "2022-05-31T11:48:23.628Z"
   },
   {
    "duration": 28,
    "start_time": "2022-05-31T11:55:57.706Z"
   },
   {
    "duration": 194,
    "start_time": "2022-05-31T11:56:02.038Z"
   },
   {
    "duration": 503,
    "start_time": "2022-05-31T11:56:23.783Z"
   },
   {
    "duration": 165,
    "start_time": "2022-05-31T11:57:15.473Z"
   },
   {
    "duration": 181,
    "start_time": "2022-05-31T11:57:36.784Z"
   },
   {
    "duration": 32,
    "start_time": "2022-05-31T12:02:31.792Z"
   },
   {
    "duration": 190,
    "start_time": "2022-05-31T12:05:43.941Z"
   },
   {
    "duration": 78,
    "start_time": "2022-05-31T12:06:00.458Z"
   },
   {
    "duration": 7,
    "start_time": "2022-05-31T12:06:01.487Z"
   },
   {
    "duration": 91,
    "start_time": "2022-05-31T12:06:02.367Z"
   },
   {
    "duration": 25,
    "start_time": "2022-05-31T12:06:03.353Z"
   },
   {
    "duration": 194,
    "start_time": "2022-05-31T12:06:04.328Z"
   },
   {
    "duration": 309,
    "start_time": "2022-05-31T12:06:05.471Z"
   },
   {
    "duration": 190,
    "start_time": "2022-05-31T12:06:06.632Z"
   },
   {
    "duration": 195,
    "start_time": "2022-05-31T12:06:07.704Z"
   },
   {
    "duration": 195,
    "start_time": "2022-05-31T12:06:08.729Z"
   },
   {
    "duration": 188,
    "start_time": "2022-05-31T12:06:09.814Z"
   },
   {
    "duration": 190,
    "start_time": "2022-05-31T12:06:10.640Z"
   },
   {
    "duration": 190,
    "start_time": "2022-05-31T12:06:11.472Z"
   },
   {
    "duration": 187,
    "start_time": "2022-05-31T12:06:12.463Z"
   },
   {
    "duration": 195,
    "start_time": "2022-05-31T12:06:14.059Z"
   },
   {
    "duration": 468,
    "start_time": "2022-05-31T12:15:20.626Z"
   },
   {
    "duration": 221,
    "start_time": "2022-05-31T12:16:01.835Z"
   },
   {
    "duration": 650,
    "start_time": "2022-05-31T12:16:23.306Z"
   },
   {
    "duration": 446,
    "start_time": "2022-05-31T12:19:41.934Z"
   },
   {
    "duration": 170,
    "start_time": "2022-05-31T12:23:16.250Z"
   },
   {
    "duration": 132,
    "start_time": "2022-05-31T12:23:52.922Z"
   },
   {
    "duration": 10,
    "start_time": "2022-05-31T12:24:40.403Z"
   },
   {
    "duration": 11,
    "start_time": "2022-05-31T12:25:07.719Z"
   },
   {
    "duration": 14,
    "start_time": "2022-05-31T12:25:12.377Z"
   },
   {
    "duration": 23,
    "start_time": "2022-05-31T12:25:58.138Z"
   },
   {
    "duration": 10,
    "start_time": "2022-05-31T12:26:15.698Z"
   },
   {
    "duration": 17,
    "start_time": "2022-05-31T12:26:30.850Z"
   },
   {
    "duration": 16,
    "start_time": "2022-05-31T12:26:38.737Z"
   },
   {
    "duration": 14,
    "start_time": "2022-05-31T12:27:06.851Z"
   },
   {
    "duration": 15,
    "start_time": "2022-05-31T12:27:10.194Z"
   },
   {
    "duration": 29,
    "start_time": "2022-05-31T12:28:33.151Z"
   },
   {
    "duration": 38,
    "start_time": "2022-05-31T12:28:56.443Z"
   },
   {
    "duration": 96,
    "start_time": "2022-05-31T12:29:12.114Z"
   },
   {
    "duration": 4,
    "start_time": "2022-05-31T12:29:13.905Z"
   },
   {
    "duration": 57,
    "start_time": "2022-05-31T12:29:15.387Z"
   },
   {
    "duration": 24,
    "start_time": "2022-05-31T12:29:16.850Z"
   },
   {
    "duration": 184,
    "start_time": "2022-05-31T12:29:18.122Z"
   },
   {
    "duration": 287,
    "start_time": "2022-05-31T12:29:19.520Z"
   },
   {
    "duration": 183,
    "start_time": "2022-05-31T12:29:20.553Z"
   },
   {
    "duration": 184,
    "start_time": "2022-05-31T12:29:21.512Z"
   },
   {
    "duration": 173,
    "start_time": "2022-05-31T12:29:22.370Z"
   },
   {
    "duration": 188,
    "start_time": "2022-05-31T12:29:23.232Z"
   },
   {
    "duration": 183,
    "start_time": "2022-05-31T12:29:24.145Z"
   },
   {
    "duration": 205,
    "start_time": "2022-05-31T12:29:24.994Z"
   },
   {
    "duration": 192,
    "start_time": "2022-05-31T12:29:25.881Z"
   },
   {
    "duration": 36,
    "start_time": "2022-05-31T12:29:26.509Z"
   },
   {
    "duration": 11,
    "start_time": "2022-05-31T12:31:31.743Z"
   },
   {
    "duration": 17,
    "start_time": "2022-05-31T12:31:57.146Z"
   },
   {
    "duration": 390,
    "start_time": "2022-05-31T12:33:47.871Z"
   },
   {
    "duration": 21,
    "start_time": "2022-05-31T12:34:18.258Z"
   },
   {
    "duration": 466,
    "start_time": "2022-05-31T12:35:46.394Z"
   },
   {
    "duration": 18,
    "start_time": "2022-05-31T12:36:33.339Z"
   },
   {
    "duration": 734,
    "start_time": "2022-05-31T12:37:11.074Z"
   },
   {
    "duration": 28,
    "start_time": "2022-05-31T12:37:32.117Z"
   },
   {
    "duration": 24,
    "start_time": "2022-05-31T12:38:02.115Z"
   },
   {
    "duration": 19,
    "start_time": "2022-05-31T12:38:36.091Z"
   },
   {
    "duration": 381,
    "start_time": "2022-05-31T12:38:48.161Z"
   },
   {
    "duration": 18,
    "start_time": "2022-05-31T12:40:04.802Z"
   },
   {
    "duration": 21,
    "start_time": "2022-05-31T12:40:21.645Z"
   },
   {
    "duration": 18,
    "start_time": "2022-05-31T12:40:42.635Z"
   },
   {
    "duration": 6,
    "start_time": "2022-05-31T12:44:51.383Z"
   },
   {
    "duration": 12,
    "start_time": "2022-05-31T12:45:11.688Z"
   },
   {
    "duration": 435,
    "start_time": "2022-05-31T12:46:17.661Z"
   },
   {
    "duration": 524,
    "start_time": "2022-05-31T12:46:46.114Z"
   },
   {
    "duration": 11,
    "start_time": "2022-05-31T12:46:58.249Z"
   },
   {
    "duration": 14,
    "start_time": "2022-05-31T12:50:51.505Z"
   },
   {
    "duration": 439,
    "start_time": "2022-05-31T12:51:30.161Z"
   },
   {
    "duration": 411,
    "start_time": "2022-05-31T12:51:43.673Z"
   },
   {
    "duration": 33,
    "start_time": "2022-05-31T12:52:26.618Z"
   },
   {
    "duration": 554,
    "start_time": "2022-05-31T12:52:41.913Z"
   },
   {
    "duration": 199,
    "start_time": "2022-05-31T12:53:18.043Z"
   },
   {
    "duration": 9,
    "start_time": "2022-05-31T12:53:41.058Z"
   },
   {
    "duration": 16,
    "start_time": "2022-05-31T12:54:01.015Z"
   },
   {
    "duration": 14,
    "start_time": "2022-05-31T12:54:51.421Z"
   },
   {
    "duration": 155,
    "start_time": "2022-05-31T12:55:52.812Z"
   },
   {
    "duration": 435,
    "start_time": "2022-05-31T12:57:19.897Z"
   },
   {
    "duration": 386,
    "start_time": "2022-05-31T12:58:52.768Z"
   },
   {
    "duration": 177,
    "start_time": "2022-05-31T13:08:41.449Z"
   },
   {
    "duration": 6,
    "start_time": "2022-05-31T13:13:41.057Z"
   },
   {
    "duration": 26,
    "start_time": "2022-05-31T13:14:20.290Z"
   },
   {
    "duration": 13,
    "start_time": "2022-05-31T13:17:28.947Z"
   },
   {
    "duration": 24,
    "start_time": "2022-05-31T13:17:45.818Z"
   },
   {
    "duration": 25,
    "start_time": "2022-05-31T13:18:50.401Z"
   },
   {
    "duration": 14,
    "start_time": "2022-05-31T13:18:59.009Z"
   },
   {
    "duration": 569,
    "start_time": "2022-05-31T13:20:18.048Z"
   },
   {
    "duration": 431,
    "start_time": "2022-05-31T13:20:49.009Z"
   },
   {
    "duration": 165,
    "start_time": "2022-05-31T13:21:10.642Z"
   },
   {
    "duration": 228,
    "start_time": "2022-05-31T13:22:13.779Z"
   },
   {
    "duration": 673,
    "start_time": "2022-05-31T13:22:34.188Z"
   },
   {
    "duration": 33,
    "start_time": "2022-05-31T13:23:10.430Z"
   },
   {
    "duration": 43,
    "start_time": "2022-05-31T13:24:44.200Z"
   },
   {
    "duration": 38,
    "start_time": "2022-05-31T13:24:57.433Z"
   },
   {
    "duration": 177,
    "start_time": "2022-05-31T13:26:00.992Z"
   },
   {
    "duration": 503,
    "start_time": "2022-05-31T13:26:27.196Z"
   },
   {
    "duration": 43,
    "start_time": "2022-05-31T13:29:29.410Z"
   },
   {
    "duration": 924,
    "start_time": "2022-05-31T13:29:54.276Z"
   },
   {
    "duration": 205,
    "start_time": "2022-05-31T13:30:45.347Z"
   },
   {
    "duration": 188,
    "start_time": "2022-05-31T13:32:35.182Z"
   },
   {
    "duration": 56,
    "start_time": "2022-05-31T13:33:43.203Z"
   },
   {
    "duration": 224,
    "start_time": "2022-05-31T13:33:50.522Z"
   },
   {
    "duration": 32,
    "start_time": "2022-05-31T13:34:15.770Z"
   },
   {
    "duration": 200,
    "start_time": "2022-05-31T13:34:25.032Z"
   },
   {
    "duration": 200,
    "start_time": "2022-05-31T13:34:41.742Z"
   },
   {
    "duration": 228,
    "start_time": "2022-05-31T13:35:08.315Z"
   },
   {
    "duration": 256,
    "start_time": "2022-05-31T13:39:25.447Z"
   },
   {
    "duration": 372,
    "start_time": "2022-05-31T13:40:05.210Z"
   },
   {
    "duration": 34,
    "start_time": "2022-05-31T13:44:20.734Z"
   },
   {
    "duration": 18,
    "start_time": "2022-05-31T13:44:39.090Z"
   },
   {
    "duration": 120,
    "start_time": "2022-05-31T13:44:51.948Z"
   },
   {
    "duration": 4,
    "start_time": "2022-05-31T13:44:53.804Z"
   },
   {
    "duration": 74,
    "start_time": "2022-05-31T13:44:55.025Z"
   },
   {
    "duration": 21,
    "start_time": "2022-05-31T13:44:56.338Z"
   },
   {
    "duration": 190,
    "start_time": "2022-05-31T13:44:57.602Z"
   },
   {
    "duration": 295,
    "start_time": "2022-05-31T13:44:58.845Z"
   },
   {
    "duration": 207,
    "start_time": "2022-05-31T13:44:59.744Z"
   },
   {
    "duration": 186,
    "start_time": "2022-05-31T13:45:00.286Z"
   },
   {
    "duration": 235,
    "start_time": "2022-05-31T13:45:00.474Z"
   },
   {
    "duration": 468,
    "start_time": "2022-05-31T13:45:00.712Z"
   },
   {
    "duration": 227,
    "start_time": "2022-05-31T13:45:01.183Z"
   },
   {
    "duration": 213,
    "start_time": "2022-05-31T13:45:01.413Z"
   },
   {
    "duration": 217,
    "start_time": "2022-05-31T13:45:01.632Z"
   },
   {
    "duration": 270,
    "start_time": "2022-05-31T13:45:10.354Z"
   },
   {
    "duration": 18,
    "start_time": "2022-05-31T13:45:15.211Z"
   },
   {
    "duration": 29,
    "start_time": "2022-05-31T13:45:39.346Z"
   },
   {
    "duration": 58,
    "start_time": "2022-05-31T13:46:35.619Z"
   },
   {
    "duration": 26,
    "start_time": "2022-05-31T13:46:49.876Z"
   },
   {
    "duration": 1429,
    "start_time": "2022-06-01T05:32:34.184Z"
   },
   {
    "duration": 5,
    "start_time": "2022-06-01T05:32:37.251Z"
   },
   {
    "duration": 52,
    "start_time": "2022-06-01T05:32:42.932Z"
   },
   {
    "duration": 15,
    "start_time": "2022-06-01T05:32:45.364Z"
   },
   {
    "duration": 175,
    "start_time": "2022-06-01T05:32:48.104Z"
   },
   {
    "duration": 337,
    "start_time": "2022-06-01T05:32:49.964Z"
   },
   {
    "duration": 158,
    "start_time": "2022-06-01T05:32:51.339Z"
   },
   {
    "duration": 155,
    "start_time": "2022-06-01T05:32:52.692Z"
   },
   {
    "duration": 190,
    "start_time": "2022-06-01T05:32:53.956Z"
   },
   {
    "duration": 178,
    "start_time": "2022-06-01T05:32:55.187Z"
   },
   {
    "duration": 173,
    "start_time": "2022-06-01T05:32:56.388Z"
   },
   {
    "duration": 167,
    "start_time": "2022-06-01T05:32:57.651Z"
   },
   {
    "duration": 165,
    "start_time": "2022-06-01T05:32:58.771Z"
   },
   {
    "duration": 265,
    "start_time": "2022-06-01T05:32:59.826Z"
   },
   {
    "duration": 22,
    "start_time": "2022-06-01T05:33:00.668Z"
   },
   {
    "duration": 221,
    "start_time": "2022-06-01T06:15:12.319Z"
   },
   {
    "duration": 26,
    "start_time": "2022-06-01T06:15:17.503Z"
   },
   {
    "duration": 1343,
    "start_time": "2022-06-02T06:54:04.331Z"
   },
   {
    "duration": 11,
    "start_time": "2022-06-02T06:54:05.676Z"
   },
   {
    "duration": 51,
    "start_time": "2022-06-02T06:54:06.496Z"
   },
   {
    "duration": 17,
    "start_time": "2022-06-02T06:54:07.632Z"
   },
   {
    "duration": 218,
    "start_time": "2022-06-02T06:54:08.763Z"
   },
   {
    "duration": 388,
    "start_time": "2022-06-02T06:54:09.911Z"
   },
   {
    "duration": 193,
    "start_time": "2022-06-02T06:54:10.711Z"
   },
   {
    "duration": 178,
    "start_time": "2022-06-02T06:54:11.464Z"
   },
   {
    "duration": 251,
    "start_time": "2022-06-02T06:54:12.231Z"
   },
   {
    "duration": 197,
    "start_time": "2022-06-02T06:54:12.991Z"
   },
   {
    "duration": 212,
    "start_time": "2022-06-02T06:54:13.790Z"
   },
   {
    "duration": 204,
    "start_time": "2022-06-02T06:54:14.591Z"
   },
   {
    "duration": 166,
    "start_time": "2022-06-02T06:54:15.422Z"
   },
   {
    "duration": 252,
    "start_time": "2022-06-02T06:54:16.190Z"
   },
   {
    "duration": 22,
    "start_time": "2022-06-02T06:54:17.056Z"
   },
   {
    "duration": 79,
    "start_time": "2022-06-02T08:17:45.636Z"
   },
   {
    "duration": 5,
    "start_time": "2022-06-02T08:17:49.326Z"
   },
   {
    "duration": 68,
    "start_time": "2022-06-02T08:17:51.431Z"
   },
   {
    "duration": 19,
    "start_time": "2022-06-02T08:17:52.807Z"
   },
   {
    "duration": 181,
    "start_time": "2022-06-02T08:17:54.055Z"
   },
   {
    "duration": 256,
    "start_time": "2022-06-02T08:17:55.302Z"
   },
   {
    "duration": 176,
    "start_time": "2022-06-02T08:17:56.143Z"
   },
   {
    "duration": 162,
    "start_time": "2022-06-02T08:17:59.066Z"
   },
   {
    "duration": 194,
    "start_time": "2022-06-02T08:18:00.127Z"
   },
   {
    "duration": 158,
    "start_time": "2022-06-02T08:18:01.030Z"
   },
   {
    "duration": 212,
    "start_time": "2022-06-02T08:18:02.039Z"
   },
   {
    "duration": 291,
    "start_time": "2022-06-02T08:18:02.993Z"
   },
   {
    "duration": 193,
    "start_time": "2022-06-02T08:18:04.063Z"
   },
   {
    "duration": 232,
    "start_time": "2022-06-02T08:18:05.239Z"
   },
   {
    "duration": 23,
    "start_time": "2022-06-02T08:18:06.000Z"
   },
   {
    "duration": 197,
    "start_time": "2022-06-02T09:30:20.873Z"
   },
   {
    "duration": 222,
    "start_time": "2022-06-02T09:31:08.231Z"
   },
   {
    "duration": 253,
    "start_time": "2022-06-02T09:31:15.747Z"
   },
   {
    "duration": 197,
    "start_time": "2022-06-02T09:31:18.395Z"
   },
   {
    "duration": 188,
    "start_time": "2022-06-02T09:33:09.111Z"
   },
   {
    "duration": 148,
    "start_time": "2022-06-02T09:33:27.747Z"
   },
   {
    "duration": 159,
    "start_time": "2022-06-02T09:33:33.059Z"
   },
   {
    "duration": 192,
    "start_time": "2022-06-02T09:33:39.203Z"
   },
   {
    "duration": 183,
    "start_time": "2022-06-02T09:33:53.165Z"
   },
   {
    "duration": 258,
    "start_time": "2022-06-02T09:34:02.315Z"
   },
   {
    "duration": 210,
    "start_time": "2022-06-02T09:34:21.428Z"
   },
   {
    "duration": 183,
    "start_time": "2022-06-02T09:35:24.991Z"
   },
   {
    "duration": 172,
    "start_time": "2022-06-02T09:35:49.205Z"
   },
   {
    "duration": 202,
    "start_time": "2022-06-02T09:35:58.300Z"
   },
   {
    "duration": 217,
    "start_time": "2022-06-02T09:36:06.307Z"
   },
   {
    "duration": 179,
    "start_time": "2022-06-02T09:36:15.188Z"
   },
   {
    "duration": 335,
    "start_time": "2022-06-02T09:37:33.399Z"
   },
   {
    "duration": 213,
    "start_time": "2022-06-02T09:38:22.319Z"
   },
   {
    "duration": 195,
    "start_time": "2022-06-02T09:39:05.221Z"
   },
   {
    "duration": 193,
    "start_time": "2022-06-02T09:39:28.555Z"
   },
   {
    "duration": 207,
    "start_time": "2022-06-02T09:39:40.192Z"
   },
   {
    "duration": 230,
    "start_time": "2022-06-02T09:40:03.303Z"
   },
   {
    "duration": 186,
    "start_time": "2022-06-02T09:40:48.093Z"
   },
   {
    "duration": 198,
    "start_time": "2022-06-02T09:42:03.552Z"
   },
   {
    "duration": 206,
    "start_time": "2022-06-02T09:42:36.590Z"
   },
   {
    "duration": 195,
    "start_time": "2022-06-02T09:42:52.108Z"
   },
   {
    "duration": 194,
    "start_time": "2022-06-02T09:43:53.104Z"
   },
   {
    "duration": 165,
    "start_time": "2022-06-02T09:52:04.114Z"
   },
   {
    "duration": 222,
    "start_time": "2022-06-02T09:55:25.601Z"
   },
   {
    "duration": 270,
    "start_time": "2022-06-02T09:55:38.590Z"
   },
   {
    "duration": 328,
    "start_time": "2022-06-02T13:29:05.706Z"
   },
   {
    "duration": 785,
    "start_time": "2022-06-02T13:34:01.388Z"
   },
   {
    "duration": 603,
    "start_time": "2022-06-02T13:34:24.385Z"
   },
   {
    "duration": 432,
    "start_time": "2022-06-02T13:35:00.130Z"
   },
   {
    "duration": 424,
    "start_time": "2022-06-02T13:35:05.665Z"
   },
   {
    "duration": 448,
    "start_time": "2022-06-02T13:35:10.338Z"
   },
   {
    "duration": 384,
    "start_time": "2022-06-02T13:35:16.209Z"
   },
   {
    "duration": 433,
    "start_time": "2022-06-02T13:35:23.923Z"
   },
   {
    "duration": 432,
    "start_time": "2022-06-02T13:35:30.945Z"
   },
   {
    "duration": 417,
    "start_time": "2022-06-02T13:35:35.089Z"
   },
   {
    "duration": 479,
    "start_time": "2022-06-02T13:35:47.601Z"
   },
   {
    "duration": 532,
    "start_time": "2022-06-02T13:35:54.945Z"
   },
   {
    "duration": 862,
    "start_time": "2022-06-02T13:36:01.793Z"
   },
   {
    "duration": 553,
    "start_time": "2022-06-02T13:36:22.395Z"
   },
   {
    "duration": 37,
    "start_time": "2022-06-02T13:38:24.062Z"
   },
   {
    "duration": 291,
    "start_time": "2022-06-02T13:38:30.705Z"
   },
   {
    "duration": 11,
    "start_time": "2022-06-02T13:39:05.010Z"
   },
   {
    "duration": 434,
    "start_time": "2022-06-02T13:40:14.922Z"
   },
   {
    "duration": 540,
    "start_time": "2022-06-02T13:40:37.322Z"
   },
   {
    "duration": 5,
    "start_time": "2022-06-02T13:48:02.733Z"
   },
   {
    "duration": 7,
    "start_time": "2022-06-02T13:50:07.759Z"
   },
   {
    "duration": 165,
    "start_time": "2022-06-02T13:53:02.039Z"
   },
   {
    "duration": 1313,
    "start_time": "2022-06-02T13:55:07.341Z"
   },
   {
    "duration": 6,
    "start_time": "2022-06-02T13:55:10.165Z"
   },
   {
    "duration": 68,
    "start_time": "2022-06-02T13:55:11.717Z"
   },
   {
    "duration": 16,
    "start_time": "2022-06-02T13:55:13.125Z"
   },
   {
    "duration": 208,
    "start_time": "2022-06-02T13:55:14.365Z"
   },
   {
    "duration": 365,
    "start_time": "2022-06-02T13:55:15.997Z"
   },
   {
    "duration": 190,
    "start_time": "2022-06-02T13:55:17.365Z"
   },
   {
    "duration": 234,
    "start_time": "2022-06-02T13:55:18.627Z"
   },
   {
    "duration": 192,
    "start_time": "2022-06-02T13:55:19.664Z"
   },
   {
    "duration": 174,
    "start_time": "2022-06-02T13:55:20.493Z"
   },
   {
    "duration": 187,
    "start_time": "2022-06-02T13:55:21.222Z"
   },
   {
    "duration": 205,
    "start_time": "2022-06-02T13:55:22.141Z"
   },
   {
    "duration": 221,
    "start_time": "2022-06-02T13:55:23.079Z"
   },
   {
    "duration": 293,
    "start_time": "2022-06-02T13:55:24.005Z"
   },
   {
    "duration": 27,
    "start_time": "2022-06-02T13:55:24.917Z"
   },
   {
    "duration": 231,
    "start_time": "2022-06-02T13:55:25.503Z"
   },
   {
    "duration": 210,
    "start_time": "2022-06-02T13:55:26.533Z"
   },
   {
    "duration": 314,
    "start_time": "2022-06-02T13:55:27.237Z"
   },
   {
    "duration": 206,
    "start_time": "2022-06-02T13:55:27.741Z"
   },
   {
    "duration": 216,
    "start_time": "2022-06-02T13:55:28.209Z"
   },
   {
    "duration": 198,
    "start_time": "2022-06-02T13:55:29.518Z"
   },
   {
    "duration": 213,
    "start_time": "2022-06-02T13:55:29.925Z"
   },
   {
    "duration": 215,
    "start_time": "2022-06-02T13:55:30.934Z"
   },
   {
    "duration": 235,
    "start_time": "2022-06-02T13:55:32.029Z"
   },
   {
    "duration": 316,
    "start_time": "2022-06-02T13:55:34.106Z"
   },
   {
    "duration": 87,
    "start_time": "2022-06-02T13:55:47.914Z"
   },
   {
    "duration": 7,
    "start_time": "2022-06-02T13:56:33.047Z"
   },
   {
    "duration": 1500,
    "start_time": "2022-06-02T13:56:55.290Z"
   },
   {
    "duration": 5,
    "start_time": "2022-06-02T13:56:57.526Z"
   },
   {
    "duration": 81,
    "start_time": "2022-06-02T13:56:58.665Z"
   },
   {
    "duration": 16,
    "start_time": "2022-06-02T13:56:59.800Z"
   },
   {
    "duration": 219,
    "start_time": "2022-06-02T13:57:00.903Z"
   },
   {
    "duration": 386,
    "start_time": "2022-06-02T13:57:02.160Z"
   },
   {
    "duration": 186,
    "start_time": "2022-06-02T13:57:03.509Z"
   },
   {
    "duration": 201,
    "start_time": "2022-06-02T13:57:04.466Z"
   },
   {
    "duration": 206,
    "start_time": "2022-06-02T13:57:05.117Z"
   },
   {
    "duration": 218,
    "start_time": "2022-06-02T13:57:05.822Z"
   },
   {
    "duration": 201,
    "start_time": "2022-06-02T13:57:06.463Z"
   },
   {
    "duration": 222,
    "start_time": "2022-06-02T13:57:07.080Z"
   },
   {
    "duration": 217,
    "start_time": "2022-06-02T13:57:07.998Z"
   },
   {
    "duration": 309,
    "start_time": "2022-06-02T13:57:08.986Z"
   },
   {
    "duration": 32,
    "start_time": "2022-06-02T13:57:09.966Z"
   },
   {
    "duration": 199,
    "start_time": "2022-06-02T13:57:10.390Z"
   },
   {
    "duration": 180,
    "start_time": "2022-06-02T13:57:11.038Z"
   },
   {
    "duration": 283,
    "start_time": "2022-06-02T13:57:11.660Z"
   },
   {
    "duration": 218,
    "start_time": "2022-06-02T13:57:12.162Z"
   },
   {
    "duration": 179,
    "start_time": "2022-06-02T13:57:12.688Z"
   },
   {
    "duration": 165,
    "start_time": "2022-06-02T13:57:13.496Z"
   },
   {
    "duration": 185,
    "start_time": "2022-06-02T13:57:14.221Z"
   },
   {
    "duration": 188,
    "start_time": "2022-06-02T13:57:14.846Z"
   },
   {
    "duration": 202,
    "start_time": "2022-06-02T13:57:16.045Z"
   },
   {
    "duration": 252,
    "start_time": "2022-06-02T13:57:17.263Z"
   },
   {
    "duration": 8,
    "start_time": "2022-06-02T13:57:18.989Z"
   },
   {
    "duration": 59,
    "start_time": "2022-06-02T13:58:21.543Z"
   },
   {
    "duration": 1653,
    "start_time": "2022-06-02T13:59:21.729Z"
   },
   {
    "duration": 6,
    "start_time": "2022-06-02T13:59:23.965Z"
   },
   {
    "duration": 58,
    "start_time": "2022-06-02T13:59:25.198Z"
   },
   {
    "duration": 19,
    "start_time": "2022-06-02T13:59:26.423Z"
   },
   {
    "duration": 234,
    "start_time": "2022-06-02T13:59:27.575Z"
   },
   {
    "duration": 405,
    "start_time": "2022-06-02T13:59:28.807Z"
   },
   {
    "duration": 192,
    "start_time": "2022-06-02T13:59:29.876Z"
   },
   {
    "duration": 192,
    "start_time": "2022-06-02T13:59:30.542Z"
   },
   {
    "duration": 206,
    "start_time": "2022-06-02T13:59:31.406Z"
   },
   {
    "duration": 199,
    "start_time": "2022-06-02T13:59:32.062Z"
   },
   {
    "duration": 201,
    "start_time": "2022-06-02T13:59:32.700Z"
   },
   {
    "duration": 204,
    "start_time": "2022-06-02T13:59:33.335Z"
   },
   {
    "duration": 212,
    "start_time": "2022-06-02T13:59:33.950Z"
   },
   {
    "duration": 297,
    "start_time": "2022-06-02T13:59:34.577Z"
   },
   {
    "duration": 35,
    "start_time": "2022-06-02T13:59:36.171Z"
   },
   {
    "duration": 223,
    "start_time": "2022-06-02T13:59:37.023Z"
   },
   {
    "duration": 203,
    "start_time": "2022-06-02T13:59:39.070Z"
   },
   {
    "duration": 310,
    "start_time": "2022-06-02T13:59:39.925Z"
   },
   {
    "duration": 183,
    "start_time": "2022-06-02T13:59:40.422Z"
   },
   {
    "duration": 212,
    "start_time": "2022-06-02T13:59:40.846Z"
   },
   {
    "duration": 182,
    "start_time": "2022-06-02T13:59:41.302Z"
   },
   {
    "duration": 234,
    "start_time": "2022-06-02T13:59:42.534Z"
   },
   {
    "duration": 201,
    "start_time": "2022-06-02T13:59:43.299Z"
   },
   {
    "duration": 201,
    "start_time": "2022-06-02T13:59:44.201Z"
   },
   {
    "duration": 271,
    "start_time": "2022-06-02T13:59:45.200Z"
   },
   {
    "duration": 506,
    "start_time": "2022-06-02T13:59:47.202Z"
   },
   {
    "duration": 78,
    "start_time": "2022-06-02T14:00:29.727Z"
   },
   {
    "duration": 601,
    "start_time": "2022-06-02T14:01:01.736Z"
   },
   {
    "duration": 5,
    "start_time": "2022-06-02T14:06:16.123Z"
   },
   {
    "duration": 266,
    "start_time": "2022-06-02T14:07:21.732Z"
   },
   {
    "duration": 13,
    "start_time": "2022-06-02T14:07:52.392Z"
   },
   {
    "duration": 4,
    "start_time": "2022-06-02T14:08:16.337Z"
   },
   {
    "duration": 4,
    "start_time": "2022-06-02T14:09:00.948Z"
   },
   {
    "duration": 531,
    "start_time": "2022-06-02T14:09:12.175Z"
   },
   {
    "duration": 349,
    "start_time": "2022-06-02T14:09:22.137Z"
   },
   {
    "duration": 13,
    "start_time": "2022-06-02T14:10:09.146Z"
   },
   {
    "duration": 23,
    "start_time": "2022-06-02T14:10:38.642Z"
   },
   {
    "duration": 23,
    "start_time": "2022-06-02T14:10:51.065Z"
   },
   {
    "duration": 24,
    "start_time": "2022-06-02T14:11:06.985Z"
   },
   {
    "duration": 41,
    "start_time": "2022-06-02T14:11:12.138Z"
   },
   {
    "duration": 40,
    "start_time": "2022-06-02T14:11:27.067Z"
   },
   {
    "duration": 17,
    "start_time": "2022-06-02T14:12:02.450Z"
   },
   {
    "duration": 16,
    "start_time": "2022-06-02T14:12:09.410Z"
   },
   {
    "duration": 10,
    "start_time": "2022-06-02T14:12:26.281Z"
   },
   {
    "duration": 16,
    "start_time": "2022-06-02T14:12:35.458Z"
   },
   {
    "duration": 19,
    "start_time": "2022-06-02T14:12:37.897Z"
   },
   {
    "duration": 16,
    "start_time": "2022-06-02T14:13:49.194Z"
   },
   {
    "duration": 15,
    "start_time": "2022-06-02T14:13:54.690Z"
   },
   {
    "duration": 79,
    "start_time": "2022-06-02T14:14:15.853Z"
   },
   {
    "duration": 4,
    "start_time": "2022-06-02T14:14:16.978Z"
   },
   {
    "duration": 54,
    "start_time": "2022-06-02T14:14:18.194Z"
   },
   {
    "duration": 15,
    "start_time": "2022-06-02T14:14:19.491Z"
   },
   {
    "duration": 170,
    "start_time": "2022-06-02T14:14:20.810Z"
   },
   {
    "duration": 270,
    "start_time": "2022-06-02T14:14:22.026Z"
   },
   {
    "duration": 163,
    "start_time": "2022-06-02T14:14:23.164Z"
   },
   {
    "duration": 159,
    "start_time": "2022-06-02T14:14:24.001Z"
   },
   {
    "duration": 185,
    "start_time": "2022-06-02T14:14:24.771Z"
   },
   {
    "duration": 163,
    "start_time": "2022-06-02T14:14:25.513Z"
   },
   {
    "duration": 175,
    "start_time": "2022-06-02T14:14:26.364Z"
   },
   {
    "duration": 177,
    "start_time": "2022-06-02T14:14:27.155Z"
   },
   {
    "duration": 178,
    "start_time": "2022-06-02T14:14:27.994Z"
   },
   {
    "duration": 242,
    "start_time": "2022-06-02T14:14:28.825Z"
   },
   {
    "duration": 24,
    "start_time": "2022-06-02T14:14:33.394Z"
   },
   {
    "duration": 204,
    "start_time": "2022-06-02T14:14:34.074Z"
   },
   {
    "duration": 171,
    "start_time": "2022-06-02T14:14:35.555Z"
   },
   {
    "duration": 180,
    "start_time": "2022-06-02T14:14:36.899Z"
   },
   {
    "duration": 185,
    "start_time": "2022-06-02T14:14:37.882Z"
   },
   {
    "duration": 203,
    "start_time": "2022-06-02T14:14:38.874Z"
   },
   {
    "duration": 335,
    "start_time": "2022-06-02T14:14:39.826Z"
   },
   {
    "duration": 210,
    "start_time": "2022-06-02T14:14:40.979Z"
   },
   {
    "duration": 258,
    "start_time": "2022-06-02T14:14:42.299Z"
   },
   {
    "duration": 188,
    "start_time": "2022-06-02T14:14:43.314Z"
   },
   {
    "duration": 257,
    "start_time": "2022-06-02T14:14:44.594Z"
   },
   {
    "duration": 23,
    "start_time": "2022-06-02T14:14:52.316Z"
   },
   {
    "duration": 57,
    "start_time": "2022-06-02T14:15:36.546Z"
   },
   {
    "duration": 17,
    "start_time": "2022-06-02T14:16:00.413Z"
   },
   {
    "duration": 15,
    "start_time": "2022-06-02T14:16:24.435Z"
   },
   {
    "duration": 10,
    "start_time": "2022-06-02T14:16:34.195Z"
   },
   {
    "duration": 16,
    "start_time": "2022-06-02T14:16:50.834Z"
   },
   {
    "duration": 41,
    "start_time": "2022-06-02T14:18:33.495Z"
   },
   {
    "duration": 17,
    "start_time": "2022-06-02T14:18:57.884Z"
   },
   {
    "duration": 18,
    "start_time": "2022-06-02T14:19:05.298Z"
   },
   {
    "duration": 75,
    "start_time": "2022-06-02T14:24:13.807Z"
   },
   {
    "duration": 5,
    "start_time": "2022-06-02T14:24:14.954Z"
   },
   {
    "duration": 64,
    "start_time": "2022-06-02T14:24:15.874Z"
   },
   {
    "duration": 18,
    "start_time": "2022-06-02T14:24:16.858Z"
   },
   {
    "duration": 186,
    "start_time": "2022-06-02T14:24:17.739Z"
   },
   {
    "duration": 281,
    "start_time": "2022-06-02T14:24:18.674Z"
   },
   {
    "duration": 167,
    "start_time": "2022-06-02T14:24:19.355Z"
   },
   {
    "duration": 164,
    "start_time": "2022-06-02T14:24:20.035Z"
   },
   {
    "duration": 167,
    "start_time": "2022-06-02T14:24:20.643Z"
   },
   {
    "duration": 162,
    "start_time": "2022-06-02T14:24:21.570Z"
   },
   {
    "duration": 204,
    "start_time": "2022-06-02T14:24:22.187Z"
   },
   {
    "duration": 173,
    "start_time": "2022-06-02T14:24:22.786Z"
   },
   {
    "duration": 186,
    "start_time": "2022-06-02T14:24:23.427Z"
   },
   {
    "duration": 225,
    "start_time": "2022-06-02T14:24:24.218Z"
   },
   {
    "duration": 24,
    "start_time": "2022-06-02T14:24:29.506Z"
   },
   {
    "duration": 193,
    "start_time": "2022-06-02T14:24:31.370Z"
   },
   {
    "duration": 247,
    "start_time": "2022-06-02T14:24:33.971Z"
   },
   {
    "duration": 270,
    "start_time": "2022-06-02T14:24:54.236Z"
   },
   {
    "duration": 258,
    "start_time": "2022-06-02T14:25:19.532Z"
   },
   {
    "duration": 66,
    "start_time": "2022-06-02T14:28:37.167Z"
   },
   {
    "duration": 372,
    "start_time": "2022-06-02T14:29:11.876Z"
   },
   {
    "duration": 205,
    "start_time": "2022-06-02T14:29:26.476Z"
   },
   {
    "duration": 125,
    "start_time": "2022-06-02T14:31:19.799Z"
   },
   {
    "duration": 116,
    "start_time": "2022-06-02T14:31:32.091Z"
   },
   {
    "duration": 167,
    "start_time": "2022-06-02T14:31:45.988Z"
   },
   {
    "duration": 128,
    "start_time": "2022-06-02T14:32:11.669Z"
   },
   {
    "duration": 122,
    "start_time": "2022-06-02T14:32:19.604Z"
   },
   {
    "duration": 120,
    "start_time": "2022-06-02T14:32:24.101Z"
   },
   {
    "duration": 122,
    "start_time": "2022-06-02T14:32:40.068Z"
   },
   {
    "duration": 14,
    "start_time": "2022-06-02T14:34:00.300Z"
   },
   {
    "duration": 145,
    "start_time": "2022-06-02T14:34:11.205Z"
   },
   {
    "duration": 17,
    "start_time": "2022-06-02T14:35:02.093Z"
   },
   {
    "duration": 13,
    "start_time": "2022-06-02T14:35:16.188Z"
   },
   {
    "duration": 72,
    "start_time": "2022-06-02T14:35:40.042Z"
   },
   {
    "duration": 6,
    "start_time": "2022-06-02T14:35:41.028Z"
   },
   {
    "duration": 56,
    "start_time": "2022-06-02T14:35:42.148Z"
   },
   {
    "duration": 17,
    "start_time": "2022-06-02T14:35:43.196Z"
   },
   {
    "duration": 191,
    "start_time": "2022-06-02T14:35:44.021Z"
   },
   {
    "duration": 284,
    "start_time": "2022-06-02T14:35:45.124Z"
   },
   {
    "duration": 198,
    "start_time": "2022-06-02T14:35:45.692Z"
   },
   {
    "duration": 171,
    "start_time": "2022-06-02T14:35:46.332Z"
   },
   {
    "duration": 176,
    "start_time": "2022-06-02T14:35:47.140Z"
   },
   {
    "duration": 189,
    "start_time": "2022-06-02T14:35:47.836Z"
   },
   {
    "duration": 191,
    "start_time": "2022-06-02T14:35:48.629Z"
   },
   {
    "duration": 195,
    "start_time": "2022-06-02T14:35:50.012Z"
   },
   {
    "duration": 194,
    "start_time": "2022-06-02T14:35:51.372Z"
   },
   {
    "duration": 310,
    "start_time": "2022-06-02T14:35:52.446Z"
   },
   {
    "duration": 26,
    "start_time": "2022-06-02T14:35:53.724Z"
   },
   {
    "duration": 196,
    "start_time": "2022-06-02T14:35:54.188Z"
   },
   {
    "duration": 281,
    "start_time": "2022-06-02T14:35:56.086Z"
   },
   {
    "duration": 199,
    "start_time": "2022-06-02T14:35:58.332Z"
   },
   {
    "duration": 134,
    "start_time": "2022-06-02T14:36:04.148Z"
   },
   {
    "duration": 19,
    "start_time": "2022-06-02T14:36:25.170Z"
   },
   {
    "duration": 13,
    "start_time": "2022-06-02T14:36:36.421Z"
   },
   {
    "duration": 215,
    "start_time": "2022-06-02T14:37:11.887Z"
   },
   {
    "duration": 332,
    "start_time": "2022-06-02T14:38:45.061Z"
   },
   {
    "duration": 12,
    "start_time": "2022-06-02T15:37:33.715Z"
   },
   {
    "duration": 65,
    "start_time": "2022-06-02T15:37:41.388Z"
   },
   {
    "duration": 5,
    "start_time": "2022-06-02T15:37:42.351Z"
   },
   {
    "duration": 51,
    "start_time": "2022-06-02T15:37:43.247Z"
   },
   {
    "duration": 14,
    "start_time": "2022-06-02T15:37:44.087Z"
   },
   {
    "duration": 151,
    "start_time": "2022-06-02T15:37:44.894Z"
   },
   {
    "duration": 250,
    "start_time": "2022-06-02T15:37:45.798Z"
   },
   {
    "duration": 148,
    "start_time": "2022-06-02T15:37:46.256Z"
   },
   {
    "duration": 150,
    "start_time": "2022-06-02T15:37:46.742Z"
   },
   {
    "duration": 152,
    "start_time": "2022-06-02T15:37:47.223Z"
   },
   {
    "duration": 142,
    "start_time": "2022-06-02T15:37:47.698Z"
   },
   {
    "duration": 156,
    "start_time": "2022-06-02T15:37:48.214Z"
   },
   {
    "duration": 154,
    "start_time": "2022-06-02T15:37:48.718Z"
   },
   {
    "duration": 172,
    "start_time": "2022-06-02T15:37:49.296Z"
   },
   {
    "duration": 204,
    "start_time": "2022-06-02T15:37:49.841Z"
   },
   {
    "duration": 22,
    "start_time": "2022-06-02T15:37:50.423Z"
   },
   {
    "duration": 165,
    "start_time": "2022-06-02T15:37:50.726Z"
   },
   {
    "duration": 223,
    "start_time": "2022-06-02T15:37:52.038Z"
   },
   {
    "duration": 170,
    "start_time": "2022-06-02T15:37:53.023Z"
   },
   {
    "duration": 93,
    "start_time": "2022-06-02T15:37:53.614Z"
   },
   {
    "duration": 9,
    "start_time": "2022-06-02T15:38:28.984Z"
   },
   {
    "duration": 4,
    "start_time": "2022-06-02T15:38:30.271Z"
   },
   {
    "duration": 48,
    "start_time": "2022-06-02T15:38:31.087Z"
   },
   {
    "duration": 16,
    "start_time": "2022-06-02T15:38:31.896Z"
   },
   {
    "duration": 159,
    "start_time": "2022-06-02T15:38:32.494Z"
   },
   {
    "duration": 247,
    "start_time": "2022-06-02T15:38:33.110Z"
   },
   {
    "duration": 146,
    "start_time": "2022-06-02T15:38:33.585Z"
   },
   {
    "duration": 146,
    "start_time": "2022-06-02T15:38:34.046Z"
   },
   {
    "duration": 155,
    "start_time": "2022-06-02T15:38:34.472Z"
   },
   {
    "duration": 146,
    "start_time": "2022-06-02T15:38:34.888Z"
   },
   {
    "duration": 157,
    "start_time": "2022-06-02T15:38:35.336Z"
   },
   {
    "duration": 174,
    "start_time": "2022-06-02T15:38:35.767Z"
   },
   {
    "duration": 157,
    "start_time": "2022-06-02T15:38:36.446Z"
   },
   {
    "duration": 206,
    "start_time": "2022-06-02T15:38:37.297Z"
   },
   {
    "duration": 21,
    "start_time": "2022-06-02T15:38:38.991Z"
   },
   {
    "duration": 168,
    "start_time": "2022-06-02T15:38:39.574Z"
   },
   {
    "duration": 222,
    "start_time": "2022-06-02T15:38:41.062Z"
   },
   {
    "duration": 366,
    "start_time": "2022-06-02T15:38:42.495Z"
   },
   {
    "duration": 93,
    "start_time": "2022-06-02T15:38:54.687Z"
   },
   {
    "duration": 66,
    "start_time": "2022-06-02T15:39:38.689Z"
   },
   {
    "duration": 5,
    "start_time": "2022-06-02T15:39:40.056Z"
   },
   {
    "duration": 58,
    "start_time": "2022-06-02T15:39:41.079Z"
   },
   {
    "duration": 18,
    "start_time": "2022-06-02T15:39:42.220Z"
   },
   {
    "duration": 154,
    "start_time": "2022-06-02T15:39:43.295Z"
   },
   {
    "duration": 242,
    "start_time": "2022-06-02T15:39:44.423Z"
   },
   {
    "duration": 147,
    "start_time": "2022-06-02T15:39:45.439Z"
   },
   {
    "duration": 141,
    "start_time": "2022-06-02T15:39:46.327Z"
   },
   {
    "duration": 149,
    "start_time": "2022-06-02T15:39:47.135Z"
   },
   {
    "duration": 151,
    "start_time": "2022-06-02T15:39:47.871Z"
   },
   {
    "duration": 156,
    "start_time": "2022-06-02T15:39:48.679Z"
   },
   {
    "duration": 161,
    "start_time": "2022-06-02T15:39:49.374Z"
   },
   {
    "duration": 159,
    "start_time": "2022-06-02T15:39:50.070Z"
   },
   {
    "duration": 204,
    "start_time": "2022-06-02T15:39:51.367Z"
   },
   {
    "duration": 25,
    "start_time": "2022-06-02T15:39:52.399Z"
   },
   {
    "duration": 163,
    "start_time": "2022-06-02T15:39:52.815Z"
   },
   {
    "duration": 218,
    "start_time": "2022-06-02T15:39:54.591Z"
   },
   {
    "duration": 171,
    "start_time": "2022-06-02T15:39:56.271Z"
   },
   {
    "duration": 90,
    "start_time": "2022-06-02T15:39:57.175Z"
   },
   {
    "duration": 13,
    "start_time": "2022-06-02T15:41:38.065Z"
   },
   {
    "duration": 12,
    "start_time": "2022-06-02T15:41:43.352Z"
   },
   {
    "duration": 12,
    "start_time": "2022-06-02T15:41:46.768Z"
   },
   {
    "duration": 69,
    "start_time": "2022-06-02T15:41:52.433Z"
   },
   {
    "duration": 4,
    "start_time": "2022-06-02T15:41:53.063Z"
   },
   {
    "duration": 51,
    "start_time": "2022-06-02T15:41:53.607Z"
   },
   {
    "duration": 16,
    "start_time": "2022-06-02T15:41:54.359Z"
   },
   {
    "duration": 160,
    "start_time": "2022-06-02T15:41:54.943Z"
   },
   {
    "duration": 237,
    "start_time": "2022-06-02T15:41:55.495Z"
   },
   {
    "duration": 155,
    "start_time": "2022-06-02T15:41:55.855Z"
   },
   {
    "duration": 140,
    "start_time": "2022-06-02T15:41:56.218Z"
   },
   {
    "duration": 149,
    "start_time": "2022-06-02T15:41:56.623Z"
   },
   {
    "duration": 145,
    "start_time": "2022-06-02T15:41:56.966Z"
   },
   {
    "duration": 152,
    "start_time": "2022-06-02T15:41:57.343Z"
   },
   {
    "duration": 151,
    "start_time": "2022-06-02T15:41:57.719Z"
   },
   {
    "duration": 154,
    "start_time": "2022-06-02T15:41:58.119Z"
   },
   {
    "duration": 204,
    "start_time": "2022-06-02T15:41:58.927Z"
   },
   {
    "duration": 21,
    "start_time": "2022-06-02T15:42:00.016Z"
   },
   {
    "duration": 166,
    "start_time": "2022-06-02T15:42:00.599Z"
   },
   {
    "duration": 248,
    "start_time": "2022-06-02T15:42:01.791Z"
   },
   {
    "duration": 198,
    "start_time": "2022-06-02T15:42:07.096Z"
   },
   {
    "duration": 112,
    "start_time": "2022-06-02T15:42:07.688Z"
   },
   {
    "duration": 163,
    "start_time": "2022-06-02T15:43:31.456Z"
   },
   {
    "duration": 466,
    "start_time": "2022-06-02T15:44:19.232Z"
   },
   {
    "duration": 165,
    "start_time": "2022-06-02T15:44:34.649Z"
   },
   {
    "duration": 150,
    "start_time": "2022-06-02T15:44:38.976Z"
   },
   {
    "duration": 114,
    "start_time": "2022-06-02T15:44:44.536Z"
   },
   {
    "duration": 155,
    "start_time": "2022-06-02T15:48:59.044Z"
   },
   {
    "duration": 153,
    "start_time": "2022-06-02T15:49:19.410Z"
   },
   {
    "duration": 104,
    "start_time": "2022-06-02T15:49:27.945Z"
   },
   {
    "duration": 109,
    "start_time": "2022-06-02T15:50:56.997Z"
   },
   {
    "duration": 104,
    "start_time": "2022-06-02T15:51:12.130Z"
   },
   {
    "duration": 119,
    "start_time": "2022-06-02T16:06:45.465Z"
   },
   {
    "duration": 115,
    "start_time": "2022-06-02T16:06:52.999Z"
   },
   {
    "duration": 152,
    "start_time": "2022-06-02T16:09:24.251Z"
   },
   {
    "duration": 147,
    "start_time": "2022-06-02T16:09:49.121Z"
   },
   {
    "duration": 113,
    "start_time": "2022-06-02T16:10:33.563Z"
   },
   {
    "duration": 76,
    "start_time": "2022-06-02T16:11:03.448Z"
   },
   {
    "duration": 4,
    "start_time": "2022-06-02T16:11:04.482Z"
   },
   {
    "duration": 63,
    "start_time": "2022-06-02T16:11:05.336Z"
   },
   {
    "duration": 22,
    "start_time": "2022-06-02T16:11:06.025Z"
   },
   {
    "duration": 185,
    "start_time": "2022-06-02T16:11:06.536Z"
   },
   {
    "duration": 309,
    "start_time": "2022-06-02T16:11:07.032Z"
   },
   {
    "duration": 195,
    "start_time": "2022-06-02T16:11:07.391Z"
   },
   {
    "duration": 196,
    "start_time": "2022-06-02T16:11:07.735Z"
   },
   {
    "duration": 185,
    "start_time": "2022-06-02T16:11:08.080Z"
   },
   {
    "duration": 178,
    "start_time": "2022-06-02T16:11:08.432Z"
   },
   {
    "duration": 164,
    "start_time": "2022-06-02T16:11:08.816Z"
   },
   {
    "duration": 166,
    "start_time": "2022-06-02T16:11:09.222Z"
   },
   {
    "duration": 157,
    "start_time": "2022-06-02T16:11:09.594Z"
   },
   {
    "duration": 210,
    "start_time": "2022-06-02T16:11:09.998Z"
   },
   {
    "duration": 23,
    "start_time": "2022-06-02T16:11:10.421Z"
   },
   {
    "duration": 198,
    "start_time": "2022-06-02T16:11:10.601Z"
   },
   {
    "duration": 238,
    "start_time": "2022-06-02T16:11:11.015Z"
   },
   {
    "duration": 189,
    "start_time": "2022-06-02T16:11:16.864Z"
   },
   {
    "duration": 116,
    "start_time": "2022-06-02T16:11:19.608Z"
   },
   {
    "duration": 134,
    "start_time": "2022-06-02T16:11:25.120Z"
   },
   {
    "duration": 127,
    "start_time": "2022-06-02T16:11:28.192Z"
   },
   {
    "duration": 176,
    "start_time": "2022-06-02T16:11:33.944Z"
   },
   {
    "duration": 147,
    "start_time": "2022-06-02T16:11:35.815Z"
   },
   {
    "duration": 112,
    "start_time": "2022-06-02T16:11:58.263Z"
   },
   {
    "duration": 140,
    "start_time": "2022-06-02T16:13:05.871Z"
   },
   {
    "duration": 117,
    "start_time": "2022-06-02T16:14:36.524Z"
   },
   {
    "duration": 118,
    "start_time": "2022-06-02T16:15:08.544Z"
   },
   {
    "duration": 112,
    "start_time": "2022-06-02T16:15:29.032Z"
   },
   {
    "duration": 14,
    "start_time": "2022-06-02T16:15:34.071Z"
   },
   {
    "duration": 13,
    "start_time": "2022-06-02T16:15:47.392Z"
   },
   {
    "duration": 70,
    "start_time": "2022-06-02T16:15:55.387Z"
   },
   {
    "duration": 4,
    "start_time": "2022-06-02T16:15:55.969Z"
   },
   {
    "duration": 56,
    "start_time": "2022-06-02T16:15:56.544Z"
   },
   {
    "duration": 17,
    "start_time": "2022-06-02T16:15:57.120Z"
   },
   {
    "duration": 166,
    "start_time": "2022-06-02T16:15:57.704Z"
   },
   {
    "duration": 263,
    "start_time": "2022-06-02T16:15:58.319Z"
   },
   {
    "duration": 461,
    "start_time": "2022-06-02T16:15:58.739Z"
   },
   {
    "duration": 168,
    "start_time": "2022-06-02T16:15:59.202Z"
   },
   {
    "duration": 173,
    "start_time": "2022-06-02T16:15:59.528Z"
   },
   {
    "duration": 159,
    "start_time": "2022-06-02T16:15:59.904Z"
   },
   {
    "duration": 172,
    "start_time": "2022-06-02T16:16:00.264Z"
   },
   {
    "duration": 172,
    "start_time": "2022-06-02T16:16:00.632Z"
   },
   {
    "duration": 167,
    "start_time": "2022-06-02T16:16:00.993Z"
   },
   {
    "duration": 225,
    "start_time": "2022-06-02T16:16:01.352Z"
   },
   {
    "duration": 26,
    "start_time": "2022-06-02T16:16:01.753Z"
   },
   {
    "duration": 194,
    "start_time": "2022-06-02T16:16:01.920Z"
   },
   {
    "duration": 279,
    "start_time": "2022-06-02T16:16:02.291Z"
   },
   {
    "duration": 184,
    "start_time": "2022-06-02T16:16:02.874Z"
   },
   {
    "duration": 123,
    "start_time": "2022-06-02T16:16:03.263Z"
   },
   {
    "duration": 104,
    "start_time": "2022-06-02T16:16:03.656Z"
   },
   {
    "duration": 180,
    "start_time": "2022-06-02T16:16:04.231Z"
   },
   {
    "duration": 135,
    "start_time": "2022-06-02T16:16:04.624Z"
   },
   {
    "duration": 111,
    "start_time": "2022-06-02T16:16:05.376Z"
   },
   {
    "duration": 175,
    "start_time": "2022-06-02T16:16:06.703Z"
   },
   {
    "duration": 139,
    "start_time": "2022-06-02T16:16:07.824Z"
   },
   {
    "duration": 113,
    "start_time": "2022-06-02T16:16:10.295Z"
   },
   {
    "duration": 260,
    "start_time": "2022-06-02T16:21:49.263Z"
   },
   {
    "duration": 159,
    "start_time": "2022-06-02T16:22:11.536Z"
   },
   {
    "duration": 114,
    "start_time": "2022-06-02T16:23:08.388Z"
   },
   {
    "duration": 97,
    "start_time": "2022-06-02T16:25:27.453Z"
   },
   {
    "duration": 13,
    "start_time": "2022-06-02T16:25:37.175Z"
   },
   {
    "duration": 98,
    "start_time": "2022-06-02T16:26:17.096Z"
   },
   {
    "duration": 69,
    "start_time": "2022-06-02T16:26:25.354Z"
   },
   {
    "duration": 4,
    "start_time": "2022-06-02T16:26:25.428Z"
   },
   {
    "duration": 52,
    "start_time": "2022-06-02T16:26:25.531Z"
   },
   {
    "duration": 17,
    "start_time": "2022-06-02T16:26:25.649Z"
   },
   {
    "duration": 191,
    "start_time": "2022-06-02T16:26:25.737Z"
   },
   {
    "duration": 265,
    "start_time": "2022-06-02T16:26:25.930Z"
   },
   {
    "duration": 172,
    "start_time": "2022-06-02T16:26:26.197Z"
   },
   {
    "duration": 171,
    "start_time": "2022-06-02T16:26:26.370Z"
   },
   {
    "duration": 186,
    "start_time": "2022-06-02T16:26:26.542Z"
   },
   {
    "duration": 157,
    "start_time": "2022-06-02T16:26:26.729Z"
   },
   {
    "duration": 171,
    "start_time": "2022-06-02T16:26:26.888Z"
   },
   {
    "duration": 162,
    "start_time": "2022-06-02T16:26:27.061Z"
   },
   {
    "duration": 178,
    "start_time": "2022-06-02T16:26:27.225Z"
   },
   {
    "duration": 219,
    "start_time": "2022-06-02T16:26:27.405Z"
   },
   {
    "duration": 23,
    "start_time": "2022-06-02T16:26:27.626Z"
   },
   {
    "duration": 201,
    "start_time": "2022-06-02T16:26:27.651Z"
   },
   {
    "duration": 242,
    "start_time": "2022-06-02T16:26:27.854Z"
   },
   {
    "duration": 172,
    "start_time": "2022-06-02T16:26:28.098Z"
   },
   {
    "duration": 127,
    "start_time": "2022-06-02T16:26:28.272Z"
   },
   {
    "duration": 116,
    "start_time": "2022-06-02T16:26:28.401Z"
   },
   {
    "duration": 172,
    "start_time": "2022-06-02T16:26:28.519Z"
   },
   {
    "duration": 116,
    "start_time": "2022-06-02T16:26:28.692Z"
   },
   {
    "duration": 102,
    "start_time": "2022-06-02T16:26:28.887Z"
   },
   {
    "duration": 163,
    "start_time": "2022-06-02T16:26:31.072Z"
   },
   {
    "duration": 120,
    "start_time": "2022-06-02T16:26:32.615Z"
   },
   {
    "duration": 109,
    "start_time": "2022-06-02T16:26:33.984Z"
   },
   {
    "duration": 169,
    "start_time": "2022-06-02T16:26:38.272Z"
   },
   {
    "duration": 468,
    "start_time": "2022-06-02T16:26:40.900Z"
   },
   {
    "duration": 110,
    "start_time": "2022-06-02T16:26:45.079Z"
   },
   {
    "duration": 57,
    "start_time": "2022-06-03T12:48:46.094Z"
   },
   {
    "duration": 1531,
    "start_time": "2022-06-03T12:48:53.964Z"
   },
   {
    "duration": 5,
    "start_time": "2022-06-03T12:48:56.498Z"
   },
   {
    "duration": 60,
    "start_time": "2022-06-03T12:48:58.161Z"
   },
   {
    "duration": 16,
    "start_time": "2022-06-03T12:48:59.515Z"
   },
   {
    "duration": 210,
    "start_time": "2022-06-03T12:49:00.274Z"
   },
   {
    "duration": 352,
    "start_time": "2022-06-03T12:49:01.314Z"
   },
   {
    "duration": 175,
    "start_time": "2022-06-03T12:49:02.187Z"
   },
   {
    "duration": 170,
    "start_time": "2022-06-03T12:49:03.090Z"
   },
   {
    "duration": 176,
    "start_time": "2022-06-03T12:49:04.138Z"
   },
   {
    "duration": 168,
    "start_time": "2022-06-03T12:49:04.962Z"
   },
   {
    "duration": 187,
    "start_time": "2022-06-03T12:49:05.794Z"
   },
   {
    "duration": 187,
    "start_time": "2022-06-03T12:49:06.634Z"
   },
   {
    "duration": 203,
    "start_time": "2022-06-03T12:49:07.482Z"
   },
   {
    "duration": 296,
    "start_time": "2022-06-03T12:49:08.338Z"
   },
   {
    "duration": 24,
    "start_time": "2022-06-03T12:49:09.466Z"
   },
   {
    "duration": 204,
    "start_time": "2022-06-03T12:49:10.066Z"
   },
   {
    "duration": 268,
    "start_time": "2022-06-03T12:49:11.283Z"
   },
   {
    "duration": 307,
    "start_time": "2022-06-03T12:49:13.057Z"
   },
   {
    "duration": 148,
    "start_time": "2022-06-03T12:49:14.129Z"
   },
   {
    "duration": 118,
    "start_time": "2022-06-03T12:49:15.050Z"
   },
   {
    "duration": 205,
    "start_time": "2022-06-03T12:49:16.498Z"
   },
   {
    "duration": 146,
    "start_time": "2022-06-03T12:49:17.506Z"
   },
   {
    "duration": 130,
    "start_time": "2022-06-03T12:49:18.522Z"
   },
   {
    "duration": 175,
    "start_time": "2022-06-03T12:49:20.961Z"
   },
   {
    "duration": 129,
    "start_time": "2022-06-03T12:49:21.937Z"
   },
   {
    "duration": 123,
    "start_time": "2022-06-03T12:49:23.074Z"
   },
   {
    "duration": 192,
    "start_time": "2022-06-03T12:49:24.602Z"
   },
   {
    "duration": 135,
    "start_time": "2022-06-03T12:49:25.441Z"
   },
   {
    "duration": 121,
    "start_time": "2022-06-03T12:49:26.498Z"
   },
   {
    "duration": 66,
    "start_time": "2022-06-03T12:49:28.653Z"
   },
   {
    "duration": 9,
    "start_time": "2022-06-03T12:49:46.467Z"
   },
   {
    "duration": 9,
    "start_time": "2022-06-03T12:50:26.754Z"
   },
   {
    "duration": 17,
    "start_time": "2022-06-03T12:50:56.938Z"
   },
   {
    "duration": 13,
    "start_time": "2022-06-03T12:54:21.655Z"
   },
   {
    "duration": 15,
    "start_time": "2022-06-03T12:55:51.342Z"
   },
   {
    "duration": 14,
    "start_time": "2022-06-03T12:56:24.363Z"
   },
   {
    "duration": 22,
    "start_time": "2022-06-03T12:56:45.475Z"
   },
   {
    "duration": 28,
    "start_time": "2022-06-03T12:57:32.407Z"
   },
   {
    "duration": 195,
    "start_time": "2022-06-03T12:58:16.750Z"
   },
   {
    "duration": 190,
    "start_time": "2022-06-03T12:58:26.044Z"
   },
   {
    "duration": 189,
    "start_time": "2022-06-03T12:58:57.267Z"
   },
   {
    "duration": 223,
    "start_time": "2022-06-03T12:59:48.684Z"
   },
   {
    "duration": 79,
    "start_time": "2022-06-03T13:01:30.529Z"
   },
   {
    "duration": 6,
    "start_time": "2022-06-03T13:01:31.091Z"
   },
   {
    "duration": 60,
    "start_time": "2022-06-03T13:01:31.644Z"
   },
   {
    "duration": 28,
    "start_time": "2022-06-03T13:01:32.236Z"
   },
   {
    "duration": 194,
    "start_time": "2022-06-03T13:01:32.811Z"
   },
   {
    "duration": 356,
    "start_time": "2022-06-03T13:01:33.412Z"
   },
   {
    "duration": 182,
    "start_time": "2022-06-03T13:01:33.774Z"
   },
   {
    "duration": 178,
    "start_time": "2022-06-03T13:01:34.172Z"
   },
   {
    "duration": 192,
    "start_time": "2022-06-03T13:01:34.581Z"
   },
   {
    "duration": 172,
    "start_time": "2022-06-03T13:01:34.964Z"
   },
   {
    "duration": 180,
    "start_time": "2022-06-03T13:01:35.357Z"
   },
   {
    "duration": 195,
    "start_time": "2022-06-03T13:01:35.734Z"
   },
   {
    "duration": 182,
    "start_time": "2022-06-03T13:01:36.340Z"
   },
   {
    "duration": 264,
    "start_time": "2022-06-03T13:01:37.374Z"
   },
   {
    "duration": 27,
    "start_time": "2022-06-03T13:01:38.196Z"
   },
   {
    "duration": 223,
    "start_time": "2022-06-03T13:01:38.596Z"
   },
   {
    "duration": 284,
    "start_time": "2022-06-03T13:01:39.916Z"
   },
   {
    "duration": 186,
    "start_time": "2022-06-03T13:01:41.803Z"
   },
   {
    "duration": 130,
    "start_time": "2022-06-03T13:01:43.147Z"
   },
   {
    "duration": 243,
    "start_time": "2022-06-03T13:01:45.131Z"
   },
   {
    "duration": 17,
    "start_time": "2022-06-03T13:02:36.085Z"
   },
   {
    "duration": 78,
    "start_time": "2022-06-03T13:02:43.824Z"
   },
   {
    "duration": 6,
    "start_time": "2022-06-03T13:02:44.388Z"
   },
   {
    "duration": 81,
    "start_time": "2022-06-03T13:02:44.499Z"
   },
   {
    "duration": 41,
    "start_time": "2022-06-03T13:02:44.592Z"
   },
   {
    "duration": 249,
    "start_time": "2022-06-03T13:02:44.708Z"
   },
   {
    "duration": 313,
    "start_time": "2022-06-03T13:02:44.959Z"
   },
   {
    "duration": 213,
    "start_time": "2022-06-03T13:02:45.275Z"
   },
   {
    "duration": 198,
    "start_time": "2022-06-03T13:02:45.490Z"
   },
   {
    "duration": 210,
    "start_time": "2022-06-03T13:02:45.690Z"
   },
   {
    "duration": 197,
    "start_time": "2022-06-03T13:02:45.902Z"
   },
   {
    "duration": 218,
    "start_time": "2022-06-03T13:02:46.101Z"
   },
   {
    "duration": 197,
    "start_time": "2022-06-03T13:02:46.322Z"
   },
   {
    "duration": 204,
    "start_time": "2022-06-03T13:02:46.527Z"
   },
   {
    "duration": 248,
    "start_time": "2022-06-03T13:02:46.734Z"
   },
   {
    "duration": 25,
    "start_time": "2022-06-03T13:02:46.996Z"
   },
   {
    "duration": 205,
    "start_time": "2022-06-03T13:02:47.452Z"
   },
   {
    "duration": 282,
    "start_time": "2022-06-03T13:02:48.325Z"
   },
   {
    "duration": 221,
    "start_time": "2022-06-03T13:02:50.251Z"
   },
   {
    "duration": 136,
    "start_time": "2022-06-03T13:02:51.316Z"
   },
   {
    "duration": 149,
    "start_time": "2022-06-03T13:02:52.596Z"
   },
   {
    "duration": 555,
    "start_time": "2022-06-03T13:05:08.119Z"
   },
   {
    "duration": 355,
    "start_time": "2022-06-03T13:05:41.566Z"
   },
   {
    "duration": 389,
    "start_time": "2022-06-03T13:06:04.878Z"
   },
   {
    "duration": 72,
    "start_time": "2022-06-03T13:06:10.585Z"
   },
   {
    "duration": 4,
    "start_time": "2022-06-03T13:06:11.151Z"
   },
   {
    "duration": 59,
    "start_time": "2022-06-03T13:06:11.244Z"
   },
   {
    "duration": 28,
    "start_time": "2022-06-03T13:06:11.339Z"
   },
   {
    "duration": 187,
    "start_time": "2022-06-03T13:06:11.435Z"
   },
   {
    "duration": 318,
    "start_time": "2022-06-03T13:06:11.624Z"
   },
   {
    "duration": 198,
    "start_time": "2022-06-03T13:06:11.943Z"
   },
   {
    "duration": 188,
    "start_time": "2022-06-03T13:06:12.143Z"
   },
   {
    "duration": 204,
    "start_time": "2022-06-03T13:06:12.333Z"
   },
   {
    "duration": 206,
    "start_time": "2022-06-03T13:06:12.538Z"
   },
   {
    "duration": 202,
    "start_time": "2022-06-03T13:06:12.745Z"
   },
   {
    "duration": 210,
    "start_time": "2022-06-03T13:06:12.948Z"
   },
   {
    "duration": 201,
    "start_time": "2022-06-03T13:06:13.160Z"
   },
   {
    "duration": 262,
    "start_time": "2022-06-03T13:06:13.363Z"
   },
   {
    "duration": 28,
    "start_time": "2022-06-03T13:06:13.628Z"
   },
   {
    "duration": 233,
    "start_time": "2022-06-03T13:06:13.658Z"
   },
   {
    "duration": 292,
    "start_time": "2022-06-03T13:06:13.893Z"
   },
   {
    "duration": 370,
    "start_time": "2022-06-03T13:06:15.508Z"
   },
   {
    "duration": 130,
    "start_time": "2022-06-03T13:06:16.741Z"
   },
   {
    "duration": 100,
    "start_time": "2022-06-03T13:06:43.701Z"
   },
   {
    "duration": 203,
    "start_time": "2022-06-03T13:07:21.821Z"
   },
   {
    "duration": 134,
    "start_time": "2022-06-03T13:07:24.797Z"
   },
   {
    "duration": 141,
    "start_time": "2022-06-03T13:07:55.099Z"
   },
   {
    "duration": 13,
    "start_time": "2022-06-03T13:08:21.542Z"
   },
   {
    "duration": 76,
    "start_time": "2022-06-03T13:08:28.838Z"
   },
   {
    "duration": 5,
    "start_time": "2022-06-03T13:08:29.406Z"
   },
   {
    "duration": 61,
    "start_time": "2022-06-03T13:08:30.054Z"
   },
   {
    "duration": 25,
    "start_time": "2022-06-03T13:08:30.937Z"
   },
   {
    "duration": 187,
    "start_time": "2022-06-03T13:08:31.030Z"
   },
   {
    "duration": 340,
    "start_time": "2022-06-03T13:08:31.219Z"
   },
   {
    "duration": 215,
    "start_time": "2022-06-03T13:08:31.561Z"
   },
   {
    "duration": 208,
    "start_time": "2022-06-03T13:08:31.779Z"
   },
   {
    "duration": 206,
    "start_time": "2022-06-03T13:08:31.989Z"
   },
   {
    "duration": 183,
    "start_time": "2022-06-03T13:08:32.196Z"
   },
   {
    "duration": 198,
    "start_time": "2022-06-03T13:08:32.381Z"
   },
   {
    "duration": 207,
    "start_time": "2022-06-03T13:08:32.580Z"
   },
   {
    "duration": 199,
    "start_time": "2022-06-03T13:08:32.789Z"
   },
   {
    "duration": 257,
    "start_time": "2022-06-03T13:08:32.989Z"
   },
   {
    "duration": 28,
    "start_time": "2022-06-03T13:08:33.248Z"
   },
   {
    "duration": 220,
    "start_time": "2022-06-03T13:08:33.278Z"
   },
   {
    "duration": 283,
    "start_time": "2022-06-03T13:08:33.500Z"
   },
   {
    "duration": 200,
    "start_time": "2022-06-03T13:08:34.575Z"
   },
   {
    "duration": 129,
    "start_time": "2022-06-03T13:08:35.469Z"
   },
   {
    "duration": 99,
    "start_time": "2022-06-03T13:08:36.381Z"
   },
   {
    "duration": 182,
    "start_time": "2022-06-03T13:08:38.397Z"
   },
   {
    "duration": 133,
    "start_time": "2022-06-03T13:08:40.054Z"
   },
   {
    "duration": 123,
    "start_time": "2022-06-03T13:08:42.060Z"
   },
   {
    "duration": 12,
    "start_time": "2022-06-03T13:09:52.299Z"
   },
   {
    "duration": 74,
    "start_time": "2022-06-03T13:10:27.311Z"
   },
   {
    "duration": 5,
    "start_time": "2022-06-03T13:10:27.888Z"
   },
   {
    "duration": 253,
    "start_time": "2022-06-03T13:10:27.976Z"
   },
   {
    "duration": 27,
    "start_time": "2022-06-03T13:10:28.231Z"
   },
   {
    "duration": 207,
    "start_time": "2022-06-03T13:10:28.259Z"
   },
   {
    "duration": 321,
    "start_time": "2022-06-03T13:10:28.468Z"
   },
   {
    "duration": 275,
    "start_time": "2022-06-03T13:10:28.790Z"
   },
   {
    "duration": 366,
    "start_time": "2022-06-03T13:10:29.066Z"
   },
   {
    "duration": 213,
    "start_time": "2022-06-03T13:10:29.434Z"
   },
   {
    "duration": 183,
    "start_time": "2022-06-03T13:10:29.648Z"
   },
   {
    "duration": 212,
    "start_time": "2022-06-03T13:10:29.832Z"
   },
   {
    "duration": 210,
    "start_time": "2022-06-03T13:10:30.045Z"
   },
   {
    "duration": 206,
    "start_time": "2022-06-03T13:10:30.257Z"
   },
   {
    "duration": 279,
    "start_time": "2022-06-03T13:10:30.465Z"
   },
   {
    "duration": 25,
    "start_time": "2022-06-03T13:10:30.746Z"
   },
   {
    "duration": 225,
    "start_time": "2022-06-03T13:10:30.773Z"
   },
   {
    "duration": 289,
    "start_time": "2022-06-03T13:10:31.750Z"
   },
   {
    "duration": 194,
    "start_time": "2022-06-03T13:10:33.342Z"
   },
   {
    "duration": 141,
    "start_time": "2022-06-03T13:10:36.168Z"
   },
   {
    "duration": 14,
    "start_time": "2022-06-03T13:10:37.621Z"
   },
   {
    "duration": 201,
    "start_time": "2022-06-03T13:11:07.705Z"
   },
   {
    "duration": 134,
    "start_time": "2022-06-03T13:11:16.653Z"
   },
   {
    "duration": 152,
    "start_time": "2022-06-03T13:12:10.471Z"
   },
   {
    "duration": 212,
    "start_time": "2022-06-03T13:12:34.469Z"
   },
   {
    "duration": 161,
    "start_time": "2022-06-03T13:12:36.430Z"
   },
   {
    "duration": 121,
    "start_time": "2022-06-03T13:12:39.678Z"
   },
   {
    "duration": 92,
    "start_time": "2022-06-03T13:12:54.530Z"
   },
   {
    "duration": 6,
    "start_time": "2022-06-03T13:12:55.660Z"
   },
   {
    "duration": 64,
    "start_time": "2022-06-03T13:12:56.629Z"
   },
   {
    "duration": 29,
    "start_time": "2022-06-03T13:12:57.478Z"
   },
   {
    "duration": 204,
    "start_time": "2022-06-03T13:12:58.324Z"
   },
   {
    "duration": 290,
    "start_time": "2022-06-03T13:12:59.117Z"
   },
   {
    "duration": 214,
    "start_time": "2022-06-03T13:12:59.661Z"
   },
   {
    "duration": 254,
    "start_time": "2022-06-03T13:13:00.214Z"
   },
   {
    "duration": 194,
    "start_time": "2022-06-03T13:13:00.757Z"
   },
   {
    "duration": 182,
    "start_time": "2022-06-03T13:13:01.309Z"
   },
   {
    "duration": 220,
    "start_time": "2022-06-03T13:13:01.816Z"
   },
   {
    "duration": 432,
    "start_time": "2022-06-03T13:13:02.334Z"
   },
   {
    "duration": 199,
    "start_time": "2022-06-03T13:13:02.917Z"
   },
   {
    "duration": 272,
    "start_time": "2022-06-03T13:13:03.693Z"
   },
   {
    "duration": 39,
    "start_time": "2022-06-03T13:13:04.414Z"
   },
   {
    "duration": 198,
    "start_time": "2022-06-03T13:13:04.708Z"
   },
   {
    "duration": 286,
    "start_time": "2022-06-03T13:13:05.733Z"
   },
   {
    "duration": 189,
    "start_time": "2022-06-03T13:13:07.996Z"
   },
   {
    "duration": 131,
    "start_time": "2022-06-03T13:13:08.949Z"
   },
   {
    "duration": 136,
    "start_time": "2022-06-03T13:13:10.741Z"
   },
   {
    "duration": 186,
    "start_time": "2022-06-03T13:13:18.981Z"
   },
   {
    "duration": 131,
    "start_time": "2022-06-03T13:13:19.973Z"
   },
   {
    "duration": 123,
    "start_time": "2022-06-03T13:13:21.309Z"
   },
   {
    "duration": 14,
    "start_time": "2022-06-03T13:13:30.814Z"
   },
   {
    "duration": 73,
    "start_time": "2022-06-03T13:14:05.523Z"
   },
   {
    "duration": 5,
    "start_time": "2022-06-03T13:14:06.649Z"
   },
   {
    "duration": 70,
    "start_time": "2022-06-03T13:14:07.617Z"
   },
   {
    "duration": 27,
    "start_time": "2022-06-03T13:14:08.649Z"
   },
   {
    "duration": 192,
    "start_time": "2022-06-03T13:14:10.240Z"
   },
   {
    "duration": 294,
    "start_time": "2022-06-03T13:14:11.353Z"
   },
   {
    "duration": 189,
    "start_time": "2022-06-03T13:14:12.345Z"
   },
   {
    "duration": 179,
    "start_time": "2022-06-03T13:14:13.272Z"
   },
   {
    "duration": 185,
    "start_time": "2022-06-03T13:14:13.945Z"
   },
   {
    "duration": 179,
    "start_time": "2022-06-03T13:14:14.809Z"
   },
   {
    "duration": 178,
    "start_time": "2022-06-03T13:14:15.656Z"
   },
   {
    "duration": 186,
    "start_time": "2022-06-03T13:14:16.520Z"
   },
   {
    "duration": 182,
    "start_time": "2022-06-03T13:14:17.265Z"
   },
   {
    "duration": 241,
    "start_time": "2022-06-03T13:14:18.088Z"
   },
   {
    "duration": 24,
    "start_time": "2022-06-03T13:14:19.240Z"
   },
   {
    "duration": 196,
    "start_time": "2022-06-03T13:14:19.680Z"
   },
   {
    "duration": 258,
    "start_time": "2022-06-03T13:14:21.441Z"
   },
   {
    "duration": 200,
    "start_time": "2022-06-03T13:14:23.072Z"
   },
   {
    "duration": 127,
    "start_time": "2022-06-03T13:14:24.065Z"
   },
   {
    "duration": 130,
    "start_time": "2022-06-03T13:14:25.288Z"
   },
   {
    "duration": 13,
    "start_time": "2022-06-03T13:14:42.801Z"
   },
   {
    "duration": 414,
    "start_time": "2022-06-03T13:14:56.106Z"
   },
   {
    "duration": 76,
    "start_time": "2022-06-03T13:15:10.141Z"
   },
   {
    "duration": 5,
    "start_time": "2022-06-03T13:15:11.128Z"
   },
   {
    "duration": 57,
    "start_time": "2022-06-03T13:15:11.856Z"
   },
   {
    "duration": 26,
    "start_time": "2022-06-03T13:15:12.432Z"
   },
   {
    "duration": 184,
    "start_time": "2022-06-03T13:15:13.006Z"
   },
   {
    "duration": 298,
    "start_time": "2022-06-03T13:15:13.192Z"
   },
   {
    "duration": 464,
    "start_time": "2022-06-03T13:15:13.491Z"
   },
   {
    "duration": 181,
    "start_time": "2022-06-03T13:15:13.957Z"
   },
   {
    "duration": 177,
    "start_time": "2022-06-03T13:15:14.140Z"
   },
   {
    "duration": 218,
    "start_time": "2022-06-03T13:15:14.319Z"
   },
   {
    "duration": 209,
    "start_time": "2022-06-03T13:15:14.539Z"
   },
   {
    "duration": 210,
    "start_time": "2022-06-03T13:15:14.750Z"
   },
   {
    "duration": 202,
    "start_time": "2022-06-03T13:15:14.964Z"
   },
   {
    "duration": 261,
    "start_time": "2022-06-03T13:15:15.167Z"
   },
   {
    "duration": 27,
    "start_time": "2022-06-03T13:15:15.430Z"
   },
   {
    "duration": 214,
    "start_time": "2022-06-03T13:15:15.458Z"
   },
   {
    "duration": 270,
    "start_time": "2022-06-03T13:15:15.674Z"
   },
   {
    "duration": 188,
    "start_time": "2022-06-03T13:15:17.281Z"
   },
   {
    "duration": 123,
    "start_time": "2022-06-03T13:15:18.624Z"
   },
   {
    "duration": 118,
    "start_time": "2022-06-03T13:15:20.384Z"
   },
   {
    "duration": 182,
    "start_time": "2022-06-03T13:16:22.938Z"
   },
   {
    "duration": 163,
    "start_time": "2022-06-03T13:16:24.344Z"
   },
   {
    "duration": 123,
    "start_time": "2022-06-03T13:16:25.592Z"
   },
   {
    "duration": 180,
    "start_time": "2022-06-03T13:16:45.381Z"
   },
   {
    "duration": 136,
    "start_time": "2022-06-03T13:16:46.536Z"
   },
   {
    "duration": 144,
    "start_time": "2022-06-03T13:17:07.129Z"
   },
   {
    "duration": 193,
    "start_time": "2022-06-03T13:17:16.197Z"
   },
   {
    "duration": 144,
    "start_time": "2022-06-03T13:17:17.193Z"
   },
   {
    "duration": 14,
    "start_time": "2022-06-03T13:17:52.328Z"
   },
   {
    "duration": 203,
    "start_time": "2022-06-03T13:17:54.176Z"
   },
   {
    "duration": 158,
    "start_time": "2022-06-03T13:17:55.056Z"
   },
   {
    "duration": 146,
    "start_time": "2022-06-03T13:17:56.449Z"
   },
   {
    "duration": 32,
    "start_time": "2022-06-03T13:18:04.598Z"
   },
   {
    "duration": 42,
    "start_time": "2022-06-03T13:18:23.289Z"
   },
   {
    "duration": 14,
    "start_time": "2022-06-03T13:21:41.734Z"
   },
   {
    "duration": 13,
    "start_time": "2022-06-03T13:22:05.915Z"
   },
   {
    "duration": 160,
    "start_time": "2022-06-03T13:22:08.256Z"
   },
   {
    "duration": 146,
    "start_time": "2022-06-03T13:22:48.760Z"
   },
   {
    "duration": 141,
    "start_time": "2022-06-03T13:23:58.191Z"
   },
   {
    "duration": 147,
    "start_time": "2022-06-03T13:25:33.177Z"
   },
   {
    "duration": 7,
    "start_time": "2022-06-03T13:25:35.569Z"
   },
   {
    "duration": 154,
    "start_time": "2022-06-03T13:25:36.569Z"
   },
   {
    "duration": 142,
    "start_time": "2022-06-03T13:26:06.305Z"
   },
   {
    "duration": 145,
    "start_time": "2022-06-03T13:26:14.176Z"
   },
   {
    "duration": 147,
    "start_time": "2022-06-03T13:26:29.872Z"
   },
   {
    "duration": 151,
    "start_time": "2022-06-03T13:27:13.371Z"
   },
   {
    "duration": 1569,
    "start_time": "2022-06-08T08:48:53.492Z"
   },
   {
    "duration": 6,
    "start_time": "2022-06-08T08:48:55.807Z"
   },
   {
    "duration": 57,
    "start_time": "2022-06-08T08:48:57.287Z"
   },
   {
    "duration": 26,
    "start_time": "2022-06-08T08:48:58.608Z"
   },
   {
    "duration": 199,
    "start_time": "2022-06-08T08:49:00.016Z"
   },
   {
    "duration": 395,
    "start_time": "2022-06-08T08:49:01.519Z"
   },
   {
    "duration": 187,
    "start_time": "2022-06-08T08:49:02.665Z"
   },
   {
    "duration": 192,
    "start_time": "2022-06-08T08:49:03.583Z"
   },
   {
    "duration": 195,
    "start_time": "2022-06-08T08:49:04.231Z"
   },
   {
    "duration": 177,
    "start_time": "2022-06-08T08:49:04.863Z"
   },
   {
    "duration": 192,
    "start_time": "2022-06-08T08:49:05.527Z"
   },
   {
    "duration": 189,
    "start_time": "2022-06-08T08:49:06.534Z"
   },
   {
    "duration": 181,
    "start_time": "2022-06-08T08:49:07.478Z"
   },
   {
    "duration": 270,
    "start_time": "2022-06-08T08:49:08.399Z"
   },
   {
    "duration": 24,
    "start_time": "2022-06-08T08:49:09.647Z"
   },
   {
    "duration": 200,
    "start_time": "2022-06-08T08:49:10.295Z"
   },
   {
    "duration": 269,
    "start_time": "2022-06-08T08:49:11.663Z"
   },
   {
    "duration": 305,
    "start_time": "2022-06-08T08:49:13.288Z"
   },
   {
    "duration": 151,
    "start_time": "2022-06-08T08:49:14.319Z"
   },
   {
    "duration": 229,
    "start_time": "2022-06-08T08:49:15.206Z"
   },
   {
    "duration": 184,
    "start_time": "2022-06-08T08:49:16.799Z"
   },
   {
    "duration": 126,
    "start_time": "2022-06-08T08:49:17.774Z"
   },
   {
    "duration": 125,
    "start_time": "2022-06-08T08:49:18.719Z"
   },
   {
    "duration": 183,
    "start_time": "2022-06-08T08:49:20.279Z"
   },
   {
    "duration": 132,
    "start_time": "2022-06-08T08:49:21.271Z"
   },
   {
    "duration": 136,
    "start_time": "2022-06-08T08:49:35.440Z"
   },
   {
    "duration": 186,
    "start_time": "2022-06-08T08:49:37.064Z"
   },
   {
    "duration": 134,
    "start_time": "2022-06-08T08:49:38.382Z"
   },
   {
    "duration": 123,
    "start_time": "2022-06-08T08:49:39.456Z"
   },
   {
    "duration": 7,
    "start_time": "2022-06-08T08:49:41.527Z"
   },
   {
    "duration": 147,
    "start_time": "2022-06-08T08:49:41.935Z"
   },
   {
    "duration": 141,
    "start_time": "2022-06-08T08:49:42.439Z"
   },
   {
    "duration": 200,
    "start_time": "2022-06-08T09:00:30.558Z"
   },
   {
    "duration": 353,
    "start_time": "2022-06-08T09:01:00.519Z"
   },
   {
    "duration": 231,
    "start_time": "2022-06-08T09:06:28.599Z"
   },
   {
    "duration": 218,
    "start_time": "2022-06-08T09:50:36.343Z"
   },
   {
    "duration": 264,
    "start_time": "2022-06-08T09:51:32.760Z"
   },
   {
    "duration": 204,
    "start_time": "2022-06-08T09:52:49.100Z"
   },
   {
    "duration": 249,
    "start_time": "2022-06-08T09:56:55.417Z"
   },
   {
    "duration": 182,
    "start_time": "2022-06-08T09:58:20.417Z"
   },
   {
    "duration": 26,
    "start_time": "2022-06-08T09:59:22.210Z"
   },
   {
    "duration": 27,
    "start_time": "2022-06-08T09:59:54.524Z"
   },
   {
    "duration": 14,
    "start_time": "2022-06-08T10:00:09.645Z"
   },
   {
    "duration": 18,
    "start_time": "2022-06-08T10:00:44.882Z"
   },
   {
    "duration": 20,
    "start_time": "2022-06-08T10:00:55.347Z"
   },
   {
    "duration": 228,
    "start_time": "2022-06-08T10:01:01.474Z"
   },
   {
    "duration": 211,
    "start_time": "2022-06-08T10:02:30.809Z"
   },
   {
    "duration": 178,
    "start_time": "2022-06-08T10:03:19.218Z"
   },
   {
    "duration": 181,
    "start_time": "2022-06-08T10:03:41.970Z"
   },
   {
    "duration": 219,
    "start_time": "2022-06-08T10:05:06.931Z"
   },
   {
    "duration": 228,
    "start_time": "2022-06-08T10:05:38.974Z"
   },
   {
    "duration": 65,
    "start_time": "2022-06-08T10:08:14.149Z"
   },
   {
    "duration": 69,
    "start_time": "2022-06-08T10:08:48.380Z"
   },
   {
    "duration": 79,
    "start_time": "2022-06-08T10:08:52.371Z"
   },
   {
    "duration": 5,
    "start_time": "2022-06-08T10:09:22.818Z"
   },
   {
    "duration": 228,
    "start_time": "2022-06-08T10:09:24.544Z"
   },
   {
    "duration": 24,
    "start_time": "2022-06-08T10:09:27.050Z"
   },
   {
    "duration": 219,
    "start_time": "2022-06-08T10:09:29.320Z"
   },
   {
    "duration": 301,
    "start_time": "2022-06-08T10:09:30.928Z"
   },
   {
    "duration": 217,
    "start_time": "2022-06-08T10:09:31.902Z"
   },
   {
    "duration": 202,
    "start_time": "2022-06-08T10:09:32.670Z"
   },
   {
    "duration": 197,
    "start_time": "2022-06-08T10:09:33.231Z"
   },
   {
    "duration": 179,
    "start_time": "2022-06-08T10:09:33.712Z"
   },
   {
    "duration": 187,
    "start_time": "2022-06-08T10:09:34.775Z"
   },
   {
    "duration": 192,
    "start_time": "2022-06-08T10:09:35.839Z"
   },
   {
    "duration": 187,
    "start_time": "2022-06-08T10:09:37.031Z"
   },
   {
    "duration": 246,
    "start_time": "2022-06-08T10:09:38.254Z"
   },
   {
    "duration": 25,
    "start_time": "2022-06-08T10:09:39.767Z"
   },
   {
    "duration": 193,
    "start_time": "2022-06-08T10:09:40.359Z"
   },
   {
    "duration": 258,
    "start_time": "2022-06-08T10:09:43.359Z"
   },
   {
    "duration": 195,
    "start_time": "2022-06-08T10:09:45.902Z"
   },
   {
    "duration": 129,
    "start_time": "2022-06-08T10:09:47.751Z"
   },
   {
    "duration": 131,
    "start_time": "2022-06-08T10:09:48.903Z"
   },
   {
    "duration": 184,
    "start_time": "2022-06-08T10:09:50.047Z"
   },
   {
    "duration": 124,
    "start_time": "2022-06-08T10:09:50.895Z"
   },
   {
    "duration": 121,
    "start_time": "2022-06-08T10:09:51.671Z"
   },
   {
    "duration": 19,
    "start_time": "2022-06-08T10:10:10.923Z"
   },
   {
    "duration": 15,
    "start_time": "2022-06-08T10:10:15.801Z"
   },
   {
    "duration": 15,
    "start_time": "2022-06-08T10:10:18.071Z"
   },
   {
    "duration": 6,
    "start_time": "2022-06-08T10:10:30.831Z"
   },
   {
    "duration": 249,
    "start_time": "2022-06-08T10:10:31.368Z"
   },
   {
    "duration": 34,
    "start_time": "2022-06-08T10:10:31.906Z"
   },
   {
    "duration": 193,
    "start_time": "2022-06-08T10:10:32.496Z"
   },
   {
    "duration": 321,
    "start_time": "2022-06-08T10:10:33.279Z"
   },
   {
    "duration": 192,
    "start_time": "2022-06-08T10:10:33.670Z"
   },
   {
    "duration": 180,
    "start_time": "2022-06-08T10:10:34.054Z"
   },
   {
    "duration": 266,
    "start_time": "2022-06-08T10:10:34.448Z"
   },
   {
    "duration": 196,
    "start_time": "2022-06-08T10:10:35.727Z"
   },
   {
    "duration": 196,
    "start_time": "2022-06-08T10:10:36.112Z"
   },
   {
    "duration": 210,
    "start_time": "2022-06-08T10:10:36.505Z"
   },
   {
    "duration": 182,
    "start_time": "2022-06-08T10:10:36.863Z"
   },
   {
    "duration": 244,
    "start_time": "2022-06-08T10:10:37.255Z"
   },
   {
    "duration": 26,
    "start_time": "2022-06-08T10:10:38.903Z"
   },
   {
    "duration": 205,
    "start_time": "2022-06-08T10:10:39.127Z"
   },
   {
    "duration": 269,
    "start_time": "2022-06-08T10:10:39.983Z"
   },
   {
    "duration": 196,
    "start_time": "2022-06-08T10:10:41.007Z"
   },
   {
    "duration": 129,
    "start_time": "2022-06-08T10:10:41.871Z"
   },
   {
    "duration": 127,
    "start_time": "2022-06-08T10:10:42.671Z"
   },
   {
    "duration": 192,
    "start_time": "2022-06-08T10:10:45.755Z"
   },
   {
    "duration": 151,
    "start_time": "2022-06-08T10:10:46.423Z"
   },
   {
    "duration": 125,
    "start_time": "2022-06-08T10:10:47.759Z"
   },
   {
    "duration": 206,
    "start_time": "2022-06-08T10:10:49.327Z"
   },
   {
    "duration": 133,
    "start_time": "2022-06-08T10:10:49.752Z"
   },
   {
    "duration": 142,
    "start_time": "2022-06-08T10:10:50.127Z"
   },
   {
    "duration": 413,
    "start_time": "2022-06-08T10:10:50.678Z"
   },
   {
    "duration": 151,
    "start_time": "2022-06-08T10:10:51.093Z"
   },
   {
    "duration": 128,
    "start_time": "2022-06-08T10:10:51.423Z"
   },
   {
    "duration": 9,
    "start_time": "2022-06-08T10:10:52.542Z"
   },
   {
    "duration": 157,
    "start_time": "2022-06-08T10:10:52.847Z"
   },
   {
    "duration": 154,
    "start_time": "2022-06-08T10:10:55.191Z"
   },
   {
    "duration": 244,
    "start_time": "2022-06-08T10:10:56.938Z"
   },
   {
    "duration": 232,
    "start_time": "2022-06-08T10:10:59.199Z"
   },
   {
    "duration": 223,
    "start_time": "2022-06-08T10:11:00.159Z"
   },
   {
    "duration": 82,
    "start_time": "2022-06-08T10:11:03.919Z"
   },
   {
    "duration": 209,
    "start_time": "2022-06-08T10:11:17.419Z"
   },
   {
    "duration": 83,
    "start_time": "2022-06-08T10:11:47.983Z"
   },
   {
    "duration": 223,
    "start_time": "2022-06-08T10:11:59.592Z"
   },
   {
    "duration": 221,
    "start_time": "2022-06-08T10:16:18.876Z"
   },
   {
    "duration": 160,
    "start_time": "2022-06-08T10:18:32.838Z"
   },
   {
    "duration": 122,
    "start_time": "2022-06-08T10:18:58.946Z"
   },
   {
    "duration": 125,
    "start_time": "2022-06-08T10:19:10.113Z"
   },
   {
    "duration": 194,
    "start_time": "2022-06-08T10:22:06.973Z"
   },
   {
    "duration": 216,
    "start_time": "2022-06-08T10:22:51.019Z"
   },
   {
    "duration": 182,
    "start_time": "2022-06-08T10:24:26.902Z"
   },
   {
    "duration": 120,
    "start_time": "2022-06-08T10:26:28.471Z"
   },
   {
    "duration": 200,
    "start_time": "2022-06-08T10:28:51.067Z"
   },
   {
    "duration": 200,
    "start_time": "2022-06-08T10:30:01.060Z"
   },
   {
    "duration": 218,
    "start_time": "2022-06-08T10:31:40.556Z"
   },
   {
    "duration": 226,
    "start_time": "2022-06-08T10:34:31.324Z"
   },
   {
    "duration": 191,
    "start_time": "2022-06-08T10:36:10.096Z"
   },
   {
    "duration": 218,
    "start_time": "2022-06-08T10:38:25.102Z"
   },
   {
    "duration": 210,
    "start_time": "2022-06-08T10:39:35.503Z"
   },
   {
    "duration": 444,
    "start_time": "2022-06-08T10:39:50.939Z"
   },
   {
    "duration": 212,
    "start_time": "2022-06-08T10:40:32.889Z"
   },
   {
    "duration": 219,
    "start_time": "2022-06-08T10:41:18.218Z"
   },
   {
    "duration": 195,
    "start_time": "2022-06-08T10:42:06.433Z"
   },
   {
    "duration": 262,
    "start_time": "2022-06-08T10:43:36.370Z"
   },
   {
    "duration": 223,
    "start_time": "2022-06-08T10:43:47.746Z"
   },
   {
    "duration": 206,
    "start_time": "2022-06-08T10:45:14.839Z"
   },
   {
    "duration": 242,
    "start_time": "2022-06-08T10:45:33.914Z"
   },
   {
    "duration": 190,
    "start_time": "2022-06-08T10:45:55.950Z"
   },
   {
    "duration": 220,
    "start_time": "2022-06-08T10:46:04.694Z"
   },
   {
    "duration": 231,
    "start_time": "2022-06-08T10:46:11.958Z"
   },
   {
    "duration": 156,
    "start_time": "2022-06-08T10:51:34.820Z"
   },
   {
    "duration": 183,
    "start_time": "2022-06-08T10:52:24.493Z"
   },
   {
    "duration": 51,
    "start_time": "2022-06-08T15:09:48.374Z"
   },
   {
    "duration": 8,
    "start_time": "2022-06-08T15:10:04.210Z"
   },
   {
    "duration": 7,
    "start_time": "2022-06-08T15:10:39.195Z"
   },
   {
    "duration": 7,
    "start_time": "2022-06-08T15:10:57.256Z"
   },
   {
    "duration": 1162,
    "start_time": "2022-06-08T15:12:17.845Z"
   },
   {
    "duration": 6,
    "start_time": "2022-06-08T15:12:23.570Z"
   },
   {
    "duration": 74,
    "start_time": "2022-06-08T15:12:25.393Z"
   },
   {
    "duration": 29,
    "start_time": "2022-06-08T15:12:26.939Z"
   },
   {
    "duration": 212,
    "start_time": "2022-06-08T15:12:28.354Z"
   },
   {
    "duration": 306,
    "start_time": "2022-06-08T15:12:29.714Z"
   },
   {
    "duration": 215,
    "start_time": "2022-06-08T15:12:30.634Z"
   },
   {
    "duration": 175,
    "start_time": "2022-06-08T15:12:31.514Z"
   },
   {
    "duration": 199,
    "start_time": "2022-06-08T15:12:32.304Z"
   },
   {
    "duration": 180,
    "start_time": "2022-06-08T15:12:33.010Z"
   },
   {
    "duration": 183,
    "start_time": "2022-06-08T15:12:33.731Z"
   },
   {
    "duration": 277,
    "start_time": "2022-06-08T15:12:34.402Z"
   },
   {
    "duration": 196,
    "start_time": "2022-06-08T15:12:35.090Z"
   },
   {
    "duration": 304,
    "start_time": "2022-06-08T15:12:35.849Z"
   },
   {
    "duration": 36,
    "start_time": "2022-06-08T15:12:36.579Z"
   },
   {
    "duration": 212,
    "start_time": "2022-06-08T15:12:37.209Z"
   },
   {
    "duration": 273,
    "start_time": "2022-06-08T15:12:38.346Z"
   },
   {
    "duration": 192,
    "start_time": "2022-06-08T15:12:40.122Z"
   },
   {
    "duration": 137,
    "start_time": "2022-06-08T15:13:24.810Z"
   },
   {
    "duration": 167,
    "start_time": "2022-06-08T15:13:25.601Z"
   },
   {
    "duration": 239,
    "start_time": "2022-06-08T15:13:27.355Z"
   },
   {
    "duration": 127,
    "start_time": "2022-06-08T15:13:28.275Z"
   },
   {
    "duration": 155,
    "start_time": "2022-06-08T15:13:29.057Z"
   },
   {
    "duration": 285,
    "start_time": "2022-06-08T15:13:30.296Z"
   },
   {
    "duration": 150,
    "start_time": "2022-06-08T15:13:30.749Z"
   },
   {
    "duration": 140,
    "start_time": "2022-06-08T15:13:31.164Z"
   },
   {
    "duration": 197,
    "start_time": "2022-06-08T15:13:31.787Z"
   },
   {
    "duration": 136,
    "start_time": "2022-06-08T15:13:32.203Z"
   },
   {
    "duration": 142,
    "start_time": "2022-06-08T15:13:32.641Z"
   },
   {
    "duration": 10,
    "start_time": "2022-06-08T15:13:33.433Z"
   },
   {
    "duration": 185,
    "start_time": "2022-06-08T15:13:33.693Z"
   },
   {
    "duration": 140,
    "start_time": "2022-06-08T15:13:34.914Z"
   },
   {
    "duration": 220,
    "start_time": "2022-06-08T15:13:36.722Z"
   },
   {
    "duration": 212,
    "start_time": "2022-06-08T15:13:38.298Z"
   },
   {
    "duration": 283,
    "start_time": "2022-06-08T15:13:38.908Z"
   },
   {
    "duration": 207,
    "start_time": "2022-06-08T15:13:39.850Z"
   },
   {
    "duration": 223,
    "start_time": "2022-06-08T15:13:40.866Z"
   },
   {
    "duration": 119,
    "start_time": "2022-06-08T15:13:48.418Z"
   },
   {
    "duration": 319,
    "start_time": "2022-06-08T15:13:49.323Z"
   },
   {
    "duration": 222,
    "start_time": "2022-06-08T15:13:50.058Z"
   },
   {
    "duration": 165,
    "start_time": "2022-06-08T15:13:50.922Z"
   },
   {
    "duration": 197,
    "start_time": "2022-06-08T15:13:51.826Z"
   },
   {
    "duration": 139,
    "start_time": "2022-06-08T15:13:52.745Z"
   },
   {
    "duration": 224,
    "start_time": "2022-06-08T15:13:53.650Z"
   },
   {
    "duration": 271,
    "start_time": "2022-06-08T15:13:54.195Z"
   },
   {
    "duration": 190,
    "start_time": "2022-06-08T15:13:55.088Z"
   },
   {
    "duration": 205,
    "start_time": "2022-06-08T15:13:56.169Z"
   },
   {
    "duration": 121,
    "start_time": "2022-06-08T15:13:57.465Z"
   },
   {
    "duration": 319,
    "start_time": "2022-06-08T15:13:58.202Z"
   },
   {
    "duration": 278,
    "start_time": "2022-06-08T15:14:29.698Z"
   },
   {
    "duration": 352,
    "start_time": "2022-06-08T15:14:55.819Z"
   },
   {
    "duration": 421,
    "start_time": "2022-06-08T15:24:05.149Z"
   },
   {
    "duration": 169,
    "start_time": "2022-06-08T15:25:06.980Z"
   },
   {
    "duration": 184,
    "start_time": "2022-06-08T15:25:22.955Z"
   },
   {
    "duration": 271,
    "start_time": "2022-06-08T15:26:06.507Z"
   },
   {
    "duration": 236,
    "start_time": "2022-06-08T15:27:55.573Z"
   },
   {
    "duration": 246,
    "start_time": "2022-06-08T15:28:08.693Z"
   },
   {
    "duration": 31,
    "start_time": "2022-06-08T15:28:21.419Z"
   },
   {
    "duration": 725,
    "start_time": "2022-06-08T15:28:47.579Z"
   },
   {
    "duration": 836,
    "start_time": "2022-06-08T15:29:41.771Z"
   },
   {
    "duration": 602,
    "start_time": "2022-06-08T15:31:00.164Z"
   },
   {
    "duration": 467,
    "start_time": "2022-06-08T15:31:08.505Z"
   },
   {
    "duration": 534,
    "start_time": "2022-06-08T15:31:52.052Z"
   },
   {
    "duration": 513,
    "start_time": "2022-06-08T15:32:06.210Z"
   },
   {
    "duration": 282,
    "start_time": "2022-06-08T15:34:03.157Z"
   },
   {
    "duration": 297,
    "start_time": "2022-06-08T15:34:09.236Z"
   },
   {
    "duration": 267,
    "start_time": "2022-06-08T15:36:14.989Z"
   },
   {
    "duration": 158,
    "start_time": "2022-06-08T15:36:49.468Z"
   },
   {
    "duration": 159,
    "start_time": "2022-06-08T15:37:18.835Z"
   },
   {
    "duration": 263,
    "start_time": "2022-06-08T15:37:32.500Z"
   },
   {
    "duration": 369,
    "start_time": "2022-06-08T15:37:53.349Z"
   },
   {
    "duration": 250,
    "start_time": "2022-06-08T15:39:57.718Z"
   },
   {
    "duration": 263,
    "start_time": "2022-06-08T15:39:59.355Z"
   },
   {
    "duration": 687,
    "start_time": "2022-06-08T15:42:32.205Z"
   },
   {
    "duration": 511,
    "start_time": "2022-06-08T15:43:42.014Z"
   },
   {
    "duration": 973,
    "start_time": "2022-06-08T15:44:52.383Z"
   },
   {
    "duration": 154,
    "start_time": "2022-06-08T15:45:31.056Z"
   },
   {
    "duration": 501,
    "start_time": "2022-06-08T15:47:48.453Z"
   },
   {
    "duration": 20,
    "start_time": "2022-06-08T15:52:05.244Z"
   },
   {
    "duration": 156,
    "start_time": "2022-06-08T15:52:15.005Z"
   },
   {
    "duration": 155,
    "start_time": "2022-06-08T15:53:17.661Z"
   },
   {
    "duration": 133,
    "start_time": "2022-06-08T15:53:35.950Z"
   },
   {
    "duration": 22,
    "start_time": "2022-06-08T15:56:40.243Z"
   },
   {
    "duration": 14,
    "start_time": "2022-06-08T15:57:39.150Z"
   },
   {
    "duration": 145,
    "start_time": "2022-06-08T15:58:54.337Z"
   },
   {
    "duration": 136,
    "start_time": "2022-06-08T15:59:25.879Z"
   },
   {
    "duration": 326,
    "start_time": "2022-06-08T16:01:18.015Z"
   },
   {
    "duration": 172,
    "start_time": "2022-06-08T16:04:23.140Z"
   },
   {
    "duration": 211,
    "start_time": "2022-06-08T16:05:24.748Z"
   },
   {
    "duration": 4518,
    "start_time": "2022-06-08T16:06:02.393Z"
   },
   {
    "duration": 72,
    "start_time": "2022-06-08T16:06:45.596Z"
   },
   {
    "duration": 211,
    "start_time": "2022-06-08T16:07:08.604Z"
   },
   {
    "duration": 271,
    "start_time": "2022-06-08T16:07:22.396Z"
   },
   {
    "duration": 248,
    "start_time": "2022-06-08T16:07:53.604Z"
   },
   {
    "duration": 243,
    "start_time": "2022-06-08T16:10:04.125Z"
   },
   {
    "duration": 194,
    "start_time": "2022-06-08T16:10:55.004Z"
   },
   {
    "duration": 176,
    "start_time": "2022-06-08T16:11:07.853Z"
   },
   {
    "duration": 168,
    "start_time": "2022-06-08T16:11:15.050Z"
   },
   {
    "duration": 198,
    "start_time": "2022-06-08T16:11:26.804Z"
   },
   {
    "duration": 210,
    "start_time": "2022-06-08T16:11:35.051Z"
   },
   {
    "duration": 193,
    "start_time": "2022-06-08T16:11:40.612Z"
   },
   {
    "duration": 198,
    "start_time": "2022-06-08T16:11:49.018Z"
   },
   {
    "duration": 27,
    "start_time": "2022-06-08T16:13:35.530Z"
   },
   {
    "duration": 30,
    "start_time": "2022-06-08T16:13:55.883Z"
   },
   {
    "duration": 180,
    "start_time": "2022-06-08T16:14:25.651Z"
   },
   {
    "duration": 264,
    "start_time": "2022-06-08T16:14:58.587Z"
   },
   {
    "duration": 252,
    "start_time": "2022-06-08T16:17:03.573Z"
   },
   {
    "duration": 302,
    "start_time": "2022-06-08T16:19:02.355Z"
   },
   {
    "duration": 295,
    "start_time": "2022-06-08T16:19:13.667Z"
   },
   {
    "duration": 14,
    "start_time": "2022-06-08T16:22:03.548Z"
   },
   {
    "duration": 15,
    "start_time": "2022-06-08T16:22:26.340Z"
   },
   {
    "duration": 2423,
    "start_time": "2022-06-08T16:22:54.621Z"
   },
   {
    "duration": 18,
    "start_time": "2022-06-08T16:23:12.370Z"
   },
   {
    "duration": 2174,
    "start_time": "2022-06-08T16:23:30.698Z"
   },
   {
    "duration": 2440,
    "start_time": "2022-06-08T16:23:40.924Z"
   },
   {
    "duration": 2493,
    "start_time": "2022-06-08T16:23:48.714Z"
   },
   {
    "duration": 2063,
    "start_time": "2022-06-08T16:24:34.716Z"
   },
   {
    "duration": 11,
    "start_time": "2022-06-08T16:26:07.667Z"
   },
   {
    "duration": 2652,
    "start_time": "2022-06-08T16:30:32.019Z"
   },
   {
    "duration": 56,
    "start_time": "2022-06-08T16:32:19.786Z"
   },
   {
    "duration": 25,
    "start_time": "2022-06-08T16:32:53.898Z"
   },
   {
    "duration": 2121,
    "start_time": "2022-06-08T16:34:48.277Z"
   },
   {
    "duration": 435,
    "start_time": "2022-06-08T16:35:09.995Z"
   },
   {
    "duration": 433,
    "start_time": "2022-06-08T16:35:25.857Z"
   },
   {
    "duration": 23,
    "start_time": "2022-06-08T16:35:51.057Z"
   },
   {
    "duration": 8,
    "start_time": "2022-06-08T16:36:44.457Z"
   },
   {
    "duration": 28,
    "start_time": "2022-06-08T16:39:37.019Z"
   },
   {
    "duration": 409,
    "start_time": "2022-06-08T16:40:33.227Z"
   },
   {
    "duration": 39,
    "start_time": "2022-06-08T16:41:19.321Z"
   },
   {
    "duration": 30,
    "start_time": "2022-06-08T16:41:30.427Z"
   },
   {
    "duration": 29,
    "start_time": "2022-06-08T16:41:43.219Z"
   },
   {
    "duration": 455,
    "start_time": "2022-06-08T16:41:50.346Z"
   },
   {
    "duration": 20,
    "start_time": "2022-06-08T16:47:00.270Z"
   },
   {
    "duration": 13,
    "start_time": "2022-06-08T16:47:19.955Z"
   },
   {
    "duration": 189,
    "start_time": "2022-06-08T16:48:06.956Z"
   },
   {
    "duration": 195,
    "start_time": "2022-06-08T16:49:32.413Z"
   },
   {
    "duration": 166,
    "start_time": "2022-06-08T16:49:42.019Z"
   },
   {
    "duration": 181,
    "start_time": "2022-06-08T16:49:55.489Z"
   },
   {
    "duration": 187,
    "start_time": "2022-06-08T16:50:00.092Z"
   },
   {
    "duration": 190,
    "start_time": "2022-06-08T16:50:07.548Z"
   },
   {
    "duration": 72,
    "start_time": "2022-06-08T16:51:26.859Z"
   },
   {
    "duration": 5,
    "start_time": "2022-06-08T16:51:28.009Z"
   },
   {
    "duration": 57,
    "start_time": "2022-06-08T16:51:31.361Z"
   },
   {
    "duration": 27,
    "start_time": "2022-06-08T16:51:33.049Z"
   },
   {
    "duration": 182,
    "start_time": "2022-06-08T16:51:34.394Z"
   },
   {
    "duration": 276,
    "start_time": "2022-06-08T16:51:36.809Z"
   },
   {
    "duration": 563,
    "start_time": "2022-06-08T16:51:38.417Z"
   },
   {
    "duration": 172,
    "start_time": "2022-06-08T16:51:41.241Z"
   },
   {
    "duration": 161,
    "start_time": "2022-06-08T16:51:42.105Z"
   },
   {
    "duration": 186,
    "start_time": "2022-06-08T16:51:42.961Z"
   },
   {
    "duration": 165,
    "start_time": "2022-06-08T16:51:43.738Z"
   },
   {
    "duration": 166,
    "start_time": "2022-06-08T16:51:44.442Z"
   },
   {
    "duration": 180,
    "start_time": "2022-06-08T16:51:45.161Z"
   },
   {
    "duration": 253,
    "start_time": "2022-06-08T16:51:45.890Z"
   },
   {
    "duration": 27,
    "start_time": "2022-06-08T16:51:47.289Z"
   },
   {
    "duration": 223,
    "start_time": "2022-06-08T16:51:47.953Z"
   },
   {
    "duration": 243,
    "start_time": "2022-06-08T16:54:00.378Z"
   },
   {
    "duration": 512,
    "start_time": "2022-06-08T16:54:13.620Z"
   },
   {
    "duration": 254,
    "start_time": "2022-06-08T16:55:01.619Z"
   },
   {
    "duration": 234,
    "start_time": "2022-06-08T16:55:43.050Z"
   },
   {
    "duration": 28,
    "start_time": "2022-06-08T16:56:03.077Z"
   },
   {
    "duration": 308,
    "start_time": "2022-06-08T16:56:10.323Z"
   },
   {
    "duration": 25,
    "start_time": "2022-06-08T16:56:27.587Z"
   },
   {
    "duration": 25,
    "start_time": "2022-06-08T16:56:34.411Z"
   },
   {
    "duration": 2525,
    "start_time": "2022-06-08T16:56:53.804Z"
   },
   {
    "duration": 489,
    "start_time": "2022-06-08T16:57:12.683Z"
   },
   {
    "duration": 546,
    "start_time": "2022-06-08T16:57:27.337Z"
   },
   {
    "duration": 242,
    "start_time": "2022-06-08T16:58:11.195Z"
   },
   {
    "duration": 281,
    "start_time": "2022-06-08T16:58:43.684Z"
   },
   {
    "duration": 171,
    "start_time": "2022-06-08T16:58:44.723Z"
   },
   {
    "duration": 227,
    "start_time": "2022-06-08T16:58:45.457Z"
   },
   {
    "duration": 175,
    "start_time": "2022-06-08T16:58:45.946Z"
   },
   {
    "duration": 179,
    "start_time": "2022-06-08T16:58:46.346Z"
   },
   {
    "duration": 171,
    "start_time": "2022-06-08T16:58:46.780Z"
   },
   {
    "duration": 159,
    "start_time": "2022-06-08T16:58:47.539Z"
   },
   {
    "duration": 184,
    "start_time": "2022-06-08T16:58:48.393Z"
   },
   {
    "duration": 232,
    "start_time": "2022-06-08T16:58:49.946Z"
   },
   {
    "duration": 27,
    "start_time": "2022-06-08T16:58:53.892Z"
   },
   {
    "duration": 185,
    "start_time": "2022-06-08T16:58:55.114Z"
   },
   {
    "duration": 223,
    "start_time": "2022-06-08T16:59:19.411Z"
   },
   {
    "duration": 188,
    "start_time": "2022-06-08T16:59:40.723Z"
   },
   {
    "duration": 7,
    "start_time": "2022-06-08T16:59:54.638Z"
   },
   {
    "duration": 144,
    "start_time": "2022-06-08T16:59:54.922Z"
   },
   {
    "duration": 137,
    "start_time": "2022-06-08T16:59:55.682Z"
   },
   {
    "duration": 221,
    "start_time": "2022-06-08T17:00:24.147Z"
   },
   {
    "duration": 237,
    "start_time": "2022-06-08T17:00:35.882Z"
   },
   {
    "duration": 243,
    "start_time": "2022-06-08T17:00:44.484Z"
   },
   {
    "duration": 207,
    "start_time": "2022-06-08T17:00:55.701Z"
   },
   {
    "duration": 244,
    "start_time": "2022-06-08T17:00:59.021Z"
   },
   {
    "duration": 299,
    "start_time": "2022-06-08T17:01:02.085Z"
   },
   {
    "duration": 455,
    "start_time": "2022-06-08T17:01:04.211Z"
   },
   {
    "duration": 470,
    "start_time": "2022-06-08T17:01:12.139Z"
   },
   {
    "duration": 1474,
    "start_time": "2022-06-09T08:52:53.683Z"
   },
   {
    "duration": 5,
    "start_time": "2022-06-09T08:52:56.082Z"
   },
   {
    "duration": 56,
    "start_time": "2022-06-09T08:52:57.620Z"
   },
   {
    "duration": 26,
    "start_time": "2022-06-09T08:52:59.529Z"
   },
   {
    "duration": 214,
    "start_time": "2022-06-09T08:53:01.706Z"
   },
   {
    "duration": 349,
    "start_time": "2022-06-09T08:53:03.572Z"
   },
   {
    "duration": 201,
    "start_time": "2022-06-09T08:53:04.918Z"
   },
   {
    "duration": 175,
    "start_time": "2022-06-09T08:53:05.889Z"
   },
   {
    "duration": 188,
    "start_time": "2022-06-09T08:53:06.802Z"
   },
   {
    "duration": 183,
    "start_time": "2022-06-09T08:53:07.668Z"
   },
   {
    "duration": 207,
    "start_time": "2022-06-09T08:53:08.296Z"
   },
   {
    "duration": 283,
    "start_time": "2022-06-09T08:53:08.870Z"
   },
   {
    "duration": 202,
    "start_time": "2022-06-09T08:53:09.562Z"
   },
   {
    "duration": 269,
    "start_time": "2022-06-09T08:53:10.562Z"
   },
   {
    "duration": 29,
    "start_time": "2022-06-09T08:53:12.163Z"
   },
   {
    "duration": 257,
    "start_time": "2022-06-09T08:53:12.818Z"
   },
   {
    "duration": 248,
    "start_time": "2022-06-09T08:53:14.329Z"
   },
   {
    "duration": 184,
    "start_time": "2022-06-09T08:53:15.667Z"
   },
   {
    "duration": 97,
    "start_time": "2022-06-09T08:53:16.862Z"
   },
   {
    "duration": 10,
    "start_time": "2022-06-09T08:53:17.184Z"
   },
   {
    "duration": 9,
    "start_time": "2022-06-09T08:53:17.802Z"
   },
   {
    "duration": 322,
    "start_time": "2022-06-09T08:56:04.731Z"
   },
   {
    "duration": 253,
    "start_time": "2022-06-09T08:56:43.126Z"
   },
   {
    "duration": 9,
    "start_time": "2022-06-09T08:57:15.572Z"
   },
   {
    "duration": 182,
    "start_time": "2022-06-09T08:57:18.841Z"
   },
   {
    "duration": 150,
    "start_time": "2022-06-09T08:57:23.474Z"
   },
   {
    "duration": 202,
    "start_time": "2022-06-09T08:57:28.069Z"
   },
   {
    "duration": 239,
    "start_time": "2022-06-09T08:57:30.081Z"
   },
   {
    "duration": 253,
    "start_time": "2022-06-09T08:57:31.114Z"
   },
   {
    "duration": 613,
    "start_time": "2022-06-09T08:57:32.290Z"
   },
   {
    "duration": 459,
    "start_time": "2022-06-09T08:57:33.586Z"
   },
   {
    "duration": 349,
    "start_time": "2022-06-09T08:57:35.354Z"
   },
   {
    "duration": 23,
    "start_time": "2022-06-09T09:05:03.962Z"
   },
   {
    "duration": 31,
    "start_time": "2022-06-09T09:06:17.203Z"
   },
   {
    "duration": 23,
    "start_time": "2022-06-09T09:07:04.960Z"
   },
   {
    "duration": 29,
    "start_time": "2022-06-09T09:07:26.657Z"
   },
   {
    "duration": 31,
    "start_time": "2022-06-09T09:07:44.930Z"
   },
   {
    "duration": 8,
    "start_time": "2022-06-09T09:08:09.825Z"
   },
   {
    "duration": 15,
    "start_time": "2022-06-09T09:08:25.923Z"
   },
   {
    "duration": 95,
    "start_time": "2022-06-09T09:09:37.402Z"
   },
   {
    "duration": 10,
    "start_time": "2022-06-09T09:10:57.802Z"
   },
   {
    "duration": 11,
    "start_time": "2022-06-09T09:11:33.535Z"
   },
   {
    "duration": 8,
    "start_time": "2022-06-09T09:11:49.504Z"
   },
   {
    "duration": 9,
    "start_time": "2022-06-09T09:15:31.864Z"
   },
   {
    "duration": 7,
    "start_time": "2022-06-09T09:15:53.632Z"
   },
   {
    "duration": 8,
    "start_time": "2022-06-09T09:19:53.105Z"
   },
   {
    "duration": 40,
    "start_time": "2022-06-10T09:20:22.549Z"
   },
   {
    "duration": 46,
    "start_time": "2022-06-11T07:18:27.818Z"
   },
   {
    "duration": 1567,
    "start_time": "2022-06-11T07:18:31.548Z"
   },
   {
    "duration": 5,
    "start_time": "2022-06-11T07:18:33.117Z"
   },
   {
    "duration": 68,
    "start_time": "2022-06-11T07:18:33.123Z"
   },
   {
    "duration": 23,
    "start_time": "2022-06-11T07:18:33.193Z"
   },
   {
    "duration": 212,
    "start_time": "2022-06-11T07:18:33.217Z"
   },
   {
    "duration": 338,
    "start_time": "2022-06-11T07:18:33.431Z"
   },
   {
    "duration": 201,
    "start_time": "2022-06-11T07:18:33.771Z"
   },
   {
    "duration": 190,
    "start_time": "2022-06-11T07:18:33.975Z"
   },
   {
    "duration": 222,
    "start_time": "2022-06-11T07:18:34.167Z"
   },
   {
    "duration": 222,
    "start_time": "2022-06-11T07:18:34.392Z"
   },
   {
    "duration": 195,
    "start_time": "2022-06-11T07:18:34.615Z"
   },
   {
    "duration": 253,
    "start_time": "2022-06-11T07:18:34.812Z"
   },
   {
    "duration": 186,
    "start_time": "2022-06-11T07:18:35.066Z"
   },
   {
    "duration": 277,
    "start_time": "2022-06-11T07:18:35.254Z"
   },
   {
    "duration": 30,
    "start_time": "2022-06-11T07:18:35.533Z"
   },
   {
    "duration": 203,
    "start_time": "2022-06-11T07:18:35.565Z"
   },
   {
    "duration": 230,
    "start_time": "2022-06-11T07:18:35.769Z"
   },
   {
    "duration": 204,
    "start_time": "2022-06-11T07:18:36.001Z"
   },
   {
    "duration": 8,
    "start_time": "2022-06-11T07:18:36.207Z"
   },
   {
    "duration": 26,
    "start_time": "2022-06-11T07:18:36.217Z"
   },
   {
    "duration": 829,
    "start_time": "2022-06-11T07:39:33.508Z"
   },
   {
    "duration": 45,
    "start_time": "2022-06-11T07:41:21.849Z"
   },
   {
    "duration": 45,
    "start_time": "2022-06-11T07:41:32.759Z"
   },
   {
    "duration": 65,
    "start_time": "2022-06-14T07:29:39.249Z"
   },
   {
    "duration": 59,
    "start_time": "2022-06-14T07:30:16.500Z"
   },
   {
    "duration": 9,
    "start_time": "2022-06-14T07:31:41.702Z"
   },
   {
    "duration": 8,
    "start_time": "2022-06-14T07:32:22.370Z"
   },
   {
    "duration": 31,
    "start_time": "2022-06-14T07:32:31.372Z"
   },
   {
    "duration": 9,
    "start_time": "2022-06-14T07:32:44.765Z"
   },
   {
    "duration": 49,
    "start_time": "2022-06-14T07:33:18.949Z"
   },
   {
    "duration": 13,
    "start_time": "2022-06-14T07:34:59.720Z"
   },
   {
    "duration": 24,
    "start_time": "2022-06-14T07:37:04.118Z"
   },
   {
    "duration": 28,
    "start_time": "2022-06-14T07:37:21.494Z"
   },
   {
    "duration": 24,
    "start_time": "2022-06-14T07:37:58.845Z"
   },
   {
    "duration": 26,
    "start_time": "2022-06-14T07:38:09.693Z"
   },
   {
    "duration": 25,
    "start_time": "2022-06-14T07:38:17.285Z"
   },
   {
    "duration": 27,
    "start_time": "2022-06-14T07:38:54.517Z"
   },
   {
    "duration": 13,
    "start_time": "2022-06-14T07:43:09.042Z"
   },
   {
    "duration": 7,
    "start_time": "2022-06-14T07:43:36.711Z"
   },
   {
    "duration": 8,
    "start_time": "2022-06-14T07:43:46.013Z"
   },
   {
    "duration": 9,
    "start_time": "2022-06-14T07:44:05.061Z"
   },
   {
    "duration": 9,
    "start_time": "2022-06-14T07:44:12.453Z"
   },
   {
    "duration": 483,
    "start_time": "2022-06-14T07:45:14.365Z"
   },
   {
    "duration": 6,
    "start_time": "2022-06-14T07:46:12.710Z"
   },
   {
    "duration": 42,
    "start_time": "2022-06-14T07:47:36.559Z"
   },
   {
    "duration": 35,
    "start_time": "2022-06-14T07:49:49.265Z"
   },
   {
    "duration": 30,
    "start_time": "2022-06-14T07:52:48.362Z"
   },
   {
    "duration": 32,
    "start_time": "2022-06-14T07:53:23.641Z"
   },
   {
    "duration": 69,
    "start_time": "2022-06-14T07:56:39.796Z"
   },
   {
    "duration": 23,
    "start_time": "2022-06-14T07:56:41.183Z"
   },
   {
    "duration": 4,
    "start_time": "2022-06-14T07:56:43.415Z"
   },
   {
    "duration": 40,
    "start_time": "2022-06-14T07:56:45.399Z"
   },
   {
    "duration": 25,
    "start_time": "2022-06-14T07:56:48.664Z"
   },
   {
    "duration": 160,
    "start_time": "2022-06-14T07:56:53.008Z"
   },
   {
    "duration": 166,
    "start_time": "2022-06-14T07:57:19.282Z"
   },
   {
    "duration": 158,
    "start_time": "2022-06-14T07:57:31.554Z"
   },
   {
    "duration": 263,
    "start_time": "2022-06-14T07:57:53.367Z"
   },
   {
    "duration": 243,
    "start_time": "2022-06-14T07:58:34.688Z"
   },
   {
    "duration": 305,
    "start_time": "2022-06-14T07:58:45.063Z"
   },
   {
    "duration": 10,
    "start_time": "2022-06-14T07:59:15.632Z"
   },
   {
    "duration": 9,
    "start_time": "2022-06-14T07:59:31.440Z"
   },
   {
    "duration": 9,
    "start_time": "2022-06-14T07:59:48.914Z"
   },
   {
    "duration": 8,
    "start_time": "2022-06-14T08:00:08.565Z"
   },
   {
    "duration": 332,
    "start_time": "2022-06-14T08:00:36.280Z"
   },
   {
    "duration": 254,
    "start_time": "2022-06-14T08:01:00.688Z"
   },
   {
    "duration": 287,
    "start_time": "2022-06-14T08:04:02.512Z"
   },
   {
    "duration": 254,
    "start_time": "2022-06-14T08:04:21.392Z"
   },
   {
    "duration": 28,
    "start_time": "2022-06-14T08:04:35.892Z"
   },
   {
    "duration": 296,
    "start_time": "2022-06-14T08:04:40.153Z"
   },
   {
    "duration": 367,
    "start_time": "2022-06-14T08:05:10.953Z"
   },
   {
    "duration": 264,
    "start_time": "2022-06-14T08:05:40.425Z"
   },
   {
    "duration": 41,
    "start_time": "2022-06-14T08:10:09.712Z"
   },
   {
    "duration": 266,
    "start_time": "2022-06-14T08:10:14.192Z"
   },
   {
    "duration": 249,
    "start_time": "2022-06-14T08:10:39.408Z"
   },
   {
    "duration": 256,
    "start_time": "2022-06-14T08:13:33.666Z"
   },
   {
    "duration": 259,
    "start_time": "2022-06-14T08:13:45.874Z"
   },
   {
    "duration": 327,
    "start_time": "2022-06-14T08:14:24.586Z"
   },
   {
    "duration": 8,
    "start_time": "2022-06-14T08:27:20.841Z"
   },
   {
    "duration": 22,
    "start_time": "2022-06-14T08:27:26.091Z"
   },
   {
    "duration": 233,
    "start_time": "2022-06-14T08:27:28.633Z"
   },
   {
    "duration": 206,
    "start_time": "2022-06-14T08:27:33.562Z"
   },
   {
    "duration": 163,
    "start_time": "2022-06-14T08:28:33.459Z"
   },
   {
    "duration": 161,
    "start_time": "2022-06-14T08:29:27.377Z"
   },
   {
    "duration": 155,
    "start_time": "2022-06-14T08:29:36.569Z"
   },
   {
    "duration": 150,
    "start_time": "2022-06-14T08:29:42.713Z"
   },
   {
    "duration": 158,
    "start_time": "2022-06-14T08:29:49.865Z"
   },
   {
    "duration": 160,
    "start_time": "2022-06-14T08:29:57.354Z"
   },
   {
    "duration": 151,
    "start_time": "2022-06-14T08:30:04.346Z"
   },
   {
    "duration": 156,
    "start_time": "2022-06-14T08:30:12.088Z"
   },
   {
    "duration": 339,
    "start_time": "2022-06-14T08:30:20.770Z"
   },
   {
    "duration": 26,
    "start_time": "2022-06-14T08:30:31.850Z"
   },
   {
    "duration": 186,
    "start_time": "2022-06-14T08:30:39.273Z"
   },
   {
    "duration": 197,
    "start_time": "2022-06-14T08:31:26.098Z"
   },
   {
    "duration": 72,
    "start_time": "2022-06-14T08:34:27.290Z"
   },
   {
    "duration": 25,
    "start_time": "2022-06-14T08:34:29.060Z"
   },
   {
    "duration": 4,
    "start_time": "2022-06-14T08:34:31.065Z"
   },
   {
    "duration": 44,
    "start_time": "2022-06-14T08:34:32.273Z"
   },
   {
    "duration": 25,
    "start_time": "2022-06-14T08:34:33.993Z"
   },
   {
    "duration": 155,
    "start_time": "2022-06-14T08:34:34.872Z"
   },
   {
    "duration": 272,
    "start_time": "2022-06-14T08:34:38.290Z"
   },
   {
    "duration": 154,
    "start_time": "2022-06-14T08:34:41.337Z"
   },
   {
    "duration": 150,
    "start_time": "2022-06-14T08:34:44.449Z"
   },
   {
    "duration": 144,
    "start_time": "2022-06-14T08:34:49.161Z"
   },
   {
    "duration": 159,
    "start_time": "2022-06-14T08:34:50.121Z"
   },
   {
    "duration": 146,
    "start_time": "2022-06-14T08:34:51.529Z"
   },
   {
    "duration": 142,
    "start_time": "2022-06-14T08:34:53.313Z"
   },
   {
    "duration": 234,
    "start_time": "2022-06-14T08:34:56.009Z"
   },
   {
    "duration": 200,
    "start_time": "2022-06-14T08:34:57.355Z"
   },
   {
    "duration": 24,
    "start_time": "2022-06-14T08:35:04.529Z"
   },
   {
    "duration": 175,
    "start_time": "2022-06-14T08:35:04.952Z"
   },
   {
    "duration": 200,
    "start_time": "2022-06-14T08:35:37.890Z"
   },
   {
    "duration": 195,
    "start_time": "2022-06-14T08:35:52.794Z"
   },
   {
    "duration": 221,
    "start_time": "2022-06-14T08:36:00.833Z"
   },
   {
    "duration": 225,
    "start_time": "2022-06-14T08:36:47.483Z"
   },
   {
    "duration": 252,
    "start_time": "2022-06-14T08:36:55.162Z"
   },
   {
    "duration": 195,
    "start_time": "2022-06-14T08:36:58.809Z"
   },
   {
    "duration": 199,
    "start_time": "2022-06-14T08:37:02.570Z"
   },
   {
    "duration": 192,
    "start_time": "2022-06-14T08:37:19.425Z"
   },
   {
    "duration": 295,
    "start_time": "2022-06-14T08:37:25.425Z"
   },
   {
    "duration": 231,
    "start_time": "2022-06-14T08:37:30.786Z"
   },
   {
    "duration": 206,
    "start_time": "2022-06-14T08:38:49.345Z"
   },
   {
    "duration": 207,
    "start_time": "2022-06-14T08:38:57.378Z"
   },
   {
    "duration": 199,
    "start_time": "2022-06-14T08:39:06.162Z"
   },
   {
    "duration": 227,
    "start_time": "2022-06-14T08:39:22.241Z"
   },
   {
    "duration": 198,
    "start_time": "2022-06-14T08:39:37.129Z"
   },
   {
    "duration": 185,
    "start_time": "2022-06-14T08:40:04.186Z"
   },
   {
    "duration": 225,
    "start_time": "2022-06-14T08:40:23.570Z"
   },
   {
    "duration": 202,
    "start_time": "2022-06-14T08:41:36.819Z"
   },
   {
    "duration": 195,
    "start_time": "2022-06-14T08:41:52.555Z"
   },
   {
    "duration": 296,
    "start_time": "2022-06-14T08:42:07.210Z"
   },
   {
    "duration": 29,
    "start_time": "2022-06-14T08:42:19.369Z"
   },
   {
    "duration": 195,
    "start_time": "2022-06-14T08:42:28.834Z"
   },
   {
    "duration": 169,
    "start_time": "2022-06-14T08:44:46.817Z"
   },
   {
    "duration": 210,
    "start_time": "2022-06-14T08:44:55.709Z"
   },
   {
    "duration": 197,
    "start_time": "2022-06-14T08:45:08.403Z"
   },
   {
    "duration": 207,
    "start_time": "2022-06-14T08:45:23.978Z"
   },
   {
    "duration": 206,
    "start_time": "2022-06-14T08:46:01.849Z"
   },
   {
    "duration": 461,
    "start_time": "2022-06-14T08:47:48.890Z"
   },
   {
    "duration": 204,
    "start_time": "2022-06-14T08:48:01.650Z"
   },
   {
    "duration": 167,
    "start_time": "2022-06-14T08:51:27.787Z"
   },
   {
    "duration": 207,
    "start_time": "2022-06-14T08:51:42.003Z"
   },
   {
    "duration": 227,
    "start_time": "2022-06-14T08:56:07.218Z"
   },
   {
    "duration": 329,
    "start_time": "2022-06-14T08:56:26.698Z"
   },
   {
    "duration": 218,
    "start_time": "2022-06-14T08:56:41.857Z"
   },
   {
    "duration": 196,
    "start_time": "2022-06-14T08:56:49.026Z"
   },
   {
    "duration": 188,
    "start_time": "2022-06-14T08:57:04.202Z"
   },
   {
    "duration": 181,
    "start_time": "2022-06-14T08:57:11.771Z"
   },
   {
    "duration": 229,
    "start_time": "2022-06-14T08:57:21.234Z"
   },
   {
    "duration": 166,
    "start_time": "2022-06-14T09:01:34.482Z"
   },
   {
    "duration": 117,
    "start_time": "2022-06-14T09:02:13.211Z"
   },
   {
    "duration": 41,
    "start_time": "2022-06-14T09:02:29.507Z"
   },
   {
    "duration": 166,
    "start_time": "2022-06-14T09:02:32.394Z"
   },
   {
    "duration": 206,
    "start_time": "2022-06-14T09:03:18.691Z"
   },
   {
    "duration": 36,
    "start_time": "2022-06-14T09:05:18.108Z"
   },
   {
    "duration": 244,
    "start_time": "2022-06-14T09:05:30.059Z"
   },
   {
    "duration": 117,
    "start_time": "2022-06-14T09:05:55.652Z"
   },
   {
    "duration": 114,
    "start_time": "2022-06-14T09:07:36.172Z"
   },
   {
    "duration": 111,
    "start_time": "2022-06-14T09:07:46.444Z"
   },
   {
    "duration": 113,
    "start_time": "2022-06-14T09:07:53.028Z"
   },
   {
    "duration": 113,
    "start_time": "2022-06-14T09:08:21.549Z"
   },
   {
    "duration": 173,
    "start_time": "2022-06-14T09:13:27.389Z"
   },
   {
    "duration": 17,
    "start_time": "2022-06-14T09:15:10.012Z"
   },
   {
    "duration": 9,
    "start_time": "2022-06-14T09:16:04.845Z"
   },
   {
    "duration": 12,
    "start_time": "2022-06-14T09:16:10.709Z"
   },
   {
    "duration": 1922,
    "start_time": "2022-06-14T09:16:38.676Z"
   },
   {
    "duration": 11,
    "start_time": "2022-06-14T09:17:32.621Z"
   },
   {
    "duration": 437,
    "start_time": "2022-06-14T09:18:19.532Z"
   },
   {
    "duration": 456,
    "start_time": "2022-06-14T09:18:30.613Z"
   },
   {
    "duration": 16,
    "start_time": "2022-06-14T09:19:33.621Z"
   },
   {
    "duration": 34,
    "start_time": "2022-06-14T09:19:57.693Z"
   },
   {
    "duration": 11,
    "start_time": "2022-06-14T09:20:19.453Z"
   },
   {
    "duration": 58,
    "start_time": "2022-06-14T09:24:21.045Z"
   },
   {
    "duration": 34,
    "start_time": "2022-06-14T09:24:45.621Z"
   },
   {
    "duration": 27,
    "start_time": "2022-06-14T09:24:51.373Z"
   },
   {
    "duration": 29,
    "start_time": "2022-06-14T09:24:56.813Z"
   },
   {
    "duration": 135,
    "start_time": "2022-06-14T09:25:02.573Z"
   },
   {
    "duration": 27,
    "start_time": "2022-06-14T09:25:09.037Z"
   },
   {
    "duration": 132,
    "start_time": "2022-06-14T09:25:12.717Z"
   },
   {
    "duration": 148,
    "start_time": "2022-06-14T09:25:21.990Z"
   },
   {
    "duration": 135,
    "start_time": "2022-06-14T09:25:30.909Z"
   },
   {
    "duration": 152,
    "start_time": "2022-06-14T09:25:40.877Z"
   },
   {
    "duration": 152,
    "start_time": "2022-06-14T09:25:47.086Z"
   },
   {
    "duration": 136,
    "start_time": "2022-06-14T09:25:50.422Z"
   },
   {
    "duration": 148,
    "start_time": "2022-06-14T09:25:54.406Z"
   },
   {
    "duration": 261,
    "start_time": "2022-06-14T09:25:59.387Z"
   },
   {
    "duration": 157,
    "start_time": "2022-06-14T09:26:07.269Z"
   },
   {
    "duration": 152,
    "start_time": "2022-06-14T09:26:51.533Z"
   },
   {
    "duration": 138,
    "start_time": "2022-06-14T09:26:59.845Z"
   },
   {
    "duration": 151,
    "start_time": "2022-06-14T09:28:30.181Z"
   },
   {
    "duration": 141,
    "start_time": "2022-06-14T09:28:40.325Z"
   },
   {
    "duration": 4,
    "start_time": "2022-06-14T09:30:41.766Z"
   },
   {
    "duration": 121,
    "start_time": "2022-06-14T09:30:44.733Z"
   },
   {
    "duration": 231,
    "start_time": "2022-06-14T09:30:51.953Z"
   },
   {
    "duration": 119,
    "start_time": "2022-06-14T09:31:59.542Z"
   },
   {
    "duration": 122,
    "start_time": "2022-06-14T09:33:51.878Z"
   },
   {
    "duration": 123,
    "start_time": "2022-06-14T09:33:59.773Z"
   },
   {
    "duration": 291,
    "start_time": "2022-06-14T09:35:23.877Z"
   },
   {
    "duration": 171,
    "start_time": "2022-06-14T09:35:51.814Z"
   },
   {
    "duration": 189,
    "start_time": "2022-06-14T10:57:26.301Z"
   },
   {
    "duration": 187,
    "start_time": "2022-06-14T10:58:39.772Z"
   },
   {
    "duration": 173,
    "start_time": "2022-06-14T10:59:24.347Z"
   },
   {
    "duration": 207,
    "start_time": "2022-06-14T11:16:35.467Z"
   },
   {
    "duration": 415,
    "start_time": "2022-06-14T11:16:42.094Z"
   },
   {
    "duration": 214,
    "start_time": "2022-06-14T11:16:57.094Z"
   },
   {
    "duration": 211,
    "start_time": "2022-06-14T11:17:02.953Z"
   },
   {
    "duration": 558,
    "start_time": "2022-06-14T11:17:10.045Z"
   },
   {
    "duration": 463,
    "start_time": "2022-06-14T11:18:29.622Z"
   },
   {
    "duration": 481,
    "start_time": "2022-06-14T11:22:27.917Z"
   },
   {
    "duration": 185,
    "start_time": "2022-06-14T11:22:58.437Z"
   },
   {
    "duration": 13,
    "start_time": "2022-06-14T11:24:30.342Z"
   },
   {
    "duration": 10,
    "start_time": "2022-06-14T11:25:05.750Z"
   },
   {
    "duration": 3528,
    "start_time": "2022-06-14T11:25:24.598Z"
   },
   {
    "duration": 12,
    "start_time": "2022-06-14T11:26:04.272Z"
   },
   {
    "duration": 3751,
    "start_time": "2022-06-14T11:27:20.486Z"
   },
   {
    "duration": 5,
    "start_time": "2022-06-14T11:28:31.784Z"
   },
   {
    "duration": 518,
    "start_time": "2022-06-14T11:28:37.126Z"
   },
   {
    "duration": 554,
    "start_time": "2022-06-14T11:29:09.966Z"
   },
   {
    "duration": 173,
    "start_time": "2022-06-14T11:29:24.031Z"
   },
   {
    "duration": 380,
    "start_time": "2022-06-14T11:33:05.383Z"
   },
   {
    "duration": 545,
    "start_time": "2022-06-14T11:33:29.768Z"
   },
   {
    "duration": 511,
    "start_time": "2022-06-14T11:34:01.552Z"
   },
   {
    "duration": 537,
    "start_time": "2022-06-14T11:34:27.559Z"
   },
   {
    "duration": 220,
    "start_time": "2022-06-14T11:34:59.353Z"
   },
   {
    "duration": 18,
    "start_time": "2022-06-14T11:36:32.487Z"
   },
   {
    "duration": 505,
    "start_time": "2022-06-14T11:36:52.976Z"
   },
   {
    "duration": 3670,
    "start_time": "2022-06-14T11:37:59.563Z"
   },
   {
    "duration": 12,
    "start_time": "2022-06-14T11:38:45.024Z"
   },
   {
    "duration": 33,
    "start_time": "2022-06-14T11:39:00.384Z"
   },
   {
    "duration": 42,
    "start_time": "2022-06-14T11:39:13.200Z"
   },
   {
    "duration": 10,
    "start_time": "2022-06-14T11:53:12.057Z"
   },
   {
    "duration": 33,
    "start_time": "2022-06-14T11:58:05.809Z"
   },
   {
    "duration": 26,
    "start_time": "2022-06-14T11:58:13.208Z"
   },
   {
    "duration": 34,
    "start_time": "2022-06-14T11:58:21.593Z"
   },
   {
    "duration": 27,
    "start_time": "2022-06-14T11:58:25.953Z"
   },
   {
    "duration": 26,
    "start_time": "2022-06-14T11:58:40.161Z"
   },
   {
    "duration": 26,
    "start_time": "2022-06-14T11:58:57.464Z"
   },
   {
    "duration": 15,
    "start_time": "2022-06-14T11:59:11.643Z"
   },
   {
    "duration": 16,
    "start_time": "2022-06-14T11:59:50.224Z"
   },
   {
    "duration": 34,
    "start_time": "2022-06-14T12:01:42.897Z"
   },
   {
    "duration": 16,
    "start_time": "2022-06-14T12:02:27.929Z"
   },
   {
    "duration": 16,
    "start_time": "2022-06-14T12:02:35.448Z"
   },
   {
    "duration": 233,
    "start_time": "2022-06-14T12:05:19.913Z"
   },
   {
    "duration": 15,
    "start_time": "2022-06-14T12:10:01.313Z"
   },
   {
    "duration": 24,
    "start_time": "2022-06-14T12:23:19.494Z"
   },
   {
    "duration": 69,
    "start_time": "2022-06-14T12:23:49.235Z"
   },
   {
    "duration": 32,
    "start_time": "2022-06-14T12:23:50.186Z"
   },
   {
    "duration": 5,
    "start_time": "2022-06-14T12:23:51.352Z"
   },
   {
    "duration": 40,
    "start_time": "2022-06-14T12:23:52.086Z"
   },
   {
    "duration": 37,
    "start_time": "2022-06-14T12:23:53.070Z"
   },
   {
    "duration": 209,
    "start_time": "2022-06-14T12:23:53.649Z"
   },
   {
    "duration": 312,
    "start_time": "2022-06-14T12:23:55.121Z"
   },
   {
    "duration": 253,
    "start_time": "2022-06-14T12:23:56.745Z"
   },
   {
    "duration": 238,
    "start_time": "2022-06-14T12:23:57.779Z"
   },
   {
    "duration": 177,
    "start_time": "2022-06-14T12:23:58.433Z"
   },
   {
    "duration": 224,
    "start_time": "2022-06-14T12:23:59.121Z"
   },
   {
    "duration": 199,
    "start_time": "2022-06-14T12:23:59.769Z"
   },
   {
    "duration": 228,
    "start_time": "2022-06-14T12:24:00.408Z"
   },
   {
    "duration": 268,
    "start_time": "2022-06-14T12:24:01.641Z"
   },
   {
    "duration": 422,
    "start_time": "2022-06-14T12:24:04.201Z"
   },
   {
    "duration": 44,
    "start_time": "2022-06-14T12:24:08.049Z"
   },
   {
    "duration": 176,
    "start_time": "2022-06-14T12:24:08.657Z"
   },
   {
    "duration": 212,
    "start_time": "2022-06-14T12:24:13.616Z"
   },
   {
    "duration": 163,
    "start_time": "2022-06-14T12:24:16.734Z"
   },
   {
    "duration": 4,
    "start_time": "2022-06-14T12:24:19.842Z"
   },
   {
    "duration": 160,
    "start_time": "2022-06-14T12:24:22.754Z"
   },
   {
    "duration": 293,
    "start_time": "2022-06-14T12:24:23.978Z"
   },
   {
    "duration": 181,
    "start_time": "2022-06-14T12:24:38.385Z"
   },
   {
    "duration": 264,
    "start_time": "2022-06-14T12:24:39.314Z"
   },
   {
    "duration": 267,
    "start_time": "2022-06-14T12:24:39.955Z"
   },
   {
    "duration": 281,
    "start_time": "2022-06-14T12:24:43.714Z"
   },
   {
    "duration": 282,
    "start_time": "2022-06-14T12:24:45.377Z"
   },
   {
    "duration": 759,
    "start_time": "2022-06-14T12:24:47.121Z"
   },
   {
    "duration": 462,
    "start_time": "2022-06-14T12:24:49.369Z"
   },
   {
    "duration": 28,
    "start_time": "2022-06-14T12:24:51.122Z"
   },
   {
    "duration": 83,
    "start_time": "2022-06-14T12:25:27.978Z"
   },
   {
    "duration": 27,
    "start_time": "2022-06-14T12:25:30.537Z"
   },
   {
    "duration": 5,
    "start_time": "2022-06-14T12:25:31.846Z"
   },
   {
    "duration": 49,
    "start_time": "2022-06-14T12:25:31.974Z"
   },
   {
    "duration": 29,
    "start_time": "2022-06-14T12:25:32.138Z"
   },
   {
    "duration": 194,
    "start_time": "2022-06-14T12:25:32.243Z"
   },
   {
    "duration": 287,
    "start_time": "2022-06-14T12:25:32.440Z"
   },
   {
    "duration": 174,
    "start_time": "2022-06-14T12:25:32.728Z"
   },
   {
    "duration": 176,
    "start_time": "2022-06-14T12:25:32.903Z"
   },
   {
    "duration": 161,
    "start_time": "2022-06-14T12:25:33.081Z"
   },
   {
    "duration": 195,
    "start_time": "2022-06-14T12:25:33.244Z"
   },
   {
    "duration": 161,
    "start_time": "2022-06-14T12:25:33.441Z"
   },
   {
    "duration": 170,
    "start_time": "2022-06-14T12:25:33.604Z"
   },
   {
    "duration": 186,
    "start_time": "2022-06-14T12:25:33.776Z"
   },
   {
    "duration": 234,
    "start_time": "2022-06-14T12:25:33.964Z"
   },
   {
    "duration": 25,
    "start_time": "2022-06-14T12:25:34.199Z"
   },
   {
    "duration": 209,
    "start_time": "2022-06-14T12:25:34.226Z"
   },
   {
    "duration": 226,
    "start_time": "2022-06-14T12:25:35.152Z"
   },
   {
    "duration": 148,
    "start_time": "2022-06-14T12:25:36.744Z"
   },
   {
    "duration": 6,
    "start_time": "2022-06-14T12:25:40.984Z"
   },
   {
    "duration": 263,
    "start_time": "2022-06-14T12:25:45.050Z"
   },
   {
    "duration": 126,
    "start_time": "2022-06-14T12:25:50.498Z"
   },
   {
    "duration": 191,
    "start_time": "2022-06-14T12:25:57.930Z"
   },
   {
    "duration": 190,
    "start_time": "2022-06-14T12:25:58.906Z"
   },
   {
    "duration": 180,
    "start_time": "2022-06-14T12:25:59.248Z"
   },
   {
    "duration": 226,
    "start_time": "2022-06-14T12:26:02.777Z"
   },
   {
    "duration": 245,
    "start_time": "2022-06-14T12:26:05.201Z"
   },
   {
    "duration": 448,
    "start_time": "2022-06-14T12:26:07.161Z"
   },
   {
    "duration": 495,
    "start_time": "2022-06-14T12:26:09.561Z"
   },
   {
    "duration": 20,
    "start_time": "2022-06-14T12:26:24.498Z"
   },
   {
    "duration": 59,
    "start_time": "2022-06-14T12:27:23.579Z"
   },
   {
    "duration": 26,
    "start_time": "2022-06-14T12:27:27.730Z"
   },
   {
    "duration": 22,
    "start_time": "2022-06-14T12:27:32.827Z"
   },
   {
    "duration": 24,
    "start_time": "2022-06-14T12:27:36.003Z"
   },
   {
    "duration": 25,
    "start_time": "2022-06-14T12:27:46.897Z"
   },
   {
    "duration": 37,
    "start_time": "2022-06-14T12:28:08.258Z"
   },
   {
    "duration": 16,
    "start_time": "2022-06-14T12:28:18.051Z"
   },
   {
    "duration": 19,
    "start_time": "2022-06-14T12:28:47.745Z"
   },
   {
    "duration": 73,
    "start_time": "2022-06-14T12:30:12.662Z"
   },
   {
    "duration": 35,
    "start_time": "2022-06-14T12:30:13.857Z"
   },
   {
    "duration": 6,
    "start_time": "2022-06-14T12:30:15.778Z"
   },
   {
    "duration": 45,
    "start_time": "2022-06-14T12:30:17.342Z"
   },
   {
    "duration": 41,
    "start_time": "2022-06-14T12:30:19.362Z"
   },
   {
    "duration": 163,
    "start_time": "2022-06-14T12:30:20.601Z"
   },
   {
    "duration": 320,
    "start_time": "2022-06-14T12:30:22.617Z"
   },
   {
    "duration": 319,
    "start_time": "2022-06-14T12:30:25.714Z"
   },
   {
    "duration": 167,
    "start_time": "2022-06-14T12:30:27.474Z"
   },
   {
    "duration": 158,
    "start_time": "2022-06-14T12:30:28.299Z"
   },
   {
    "duration": 170,
    "start_time": "2022-06-14T12:30:29.044Z"
   },
   {
    "duration": 152,
    "start_time": "2022-06-14T12:30:29.793Z"
   },
   {
    "duration": 148,
    "start_time": "2022-06-14T12:30:31.016Z"
   },
   {
    "duration": 200,
    "start_time": "2022-06-14T12:30:32.225Z"
   },
   {
    "duration": 219,
    "start_time": "2022-06-14T12:30:33.341Z"
   },
   {
    "duration": 38,
    "start_time": "2022-06-14T12:30:35.410Z"
   },
   {
    "duration": 220,
    "start_time": "2022-06-14T12:30:35.785Z"
   },
   {
    "duration": 225,
    "start_time": "2022-06-14T12:30:37.425Z"
   },
   {
    "duration": 141,
    "start_time": "2022-06-14T12:30:39.168Z"
   },
   {
    "duration": 4,
    "start_time": "2022-06-14T12:30:42.161Z"
   },
   {
    "duration": 179,
    "start_time": "2022-06-14T12:30:43.665Z"
   },
   {
    "duration": 126,
    "start_time": "2022-06-14T12:30:44.433Z"
   },
   {
    "duration": 188,
    "start_time": "2022-06-14T12:30:47.321Z"
   },
   {
    "duration": 197,
    "start_time": "2022-06-14T12:30:49.330Z"
   },
   {
    "duration": 180,
    "start_time": "2022-06-14T12:30:50.953Z"
   },
   {
    "duration": 355,
    "start_time": "2022-06-14T12:31:06.842Z"
   },
   {
    "duration": 241,
    "start_time": "2022-06-14T12:31:23.993Z"
   },
   {
    "duration": 474,
    "start_time": "2022-06-14T12:31:37.947Z"
   },
   {
    "duration": 425,
    "start_time": "2022-06-14T12:31:54.129Z"
   },
   {
    "duration": 19,
    "start_time": "2022-06-14T12:31:57.010Z"
   },
   {
    "duration": 190,
    "start_time": "2022-06-14T12:33:21.591Z"
   },
   {
    "duration": 222,
    "start_time": "2022-06-14T12:34:34.940Z"
   },
   {
    "duration": 179,
    "start_time": "2022-06-14T12:37:25.386Z"
   },
   {
    "duration": 4,
    "start_time": "2022-06-14T12:44:49.979Z"
   },
   {
    "duration": 32,
    "start_time": "2022-06-14T12:47:03.717Z"
   },
   {
    "duration": 4,
    "start_time": "2022-06-14T12:47:32.288Z"
   },
   {
    "duration": 5,
    "start_time": "2022-06-14T12:48:28.172Z"
   },
   {
    "duration": 88,
    "start_time": "2022-06-14T12:53:35.143Z"
   },
   {
    "duration": 5,
    "start_time": "2022-06-14T12:54:06.852Z"
   },
   {
    "duration": 12,
    "start_time": "2022-06-14T12:54:21.020Z"
   },
   {
    "duration": 22,
    "start_time": "2022-06-14T12:54:54.190Z"
   },
   {
    "duration": 45,
    "start_time": "2022-06-14T12:56:29.652Z"
   },
   {
    "duration": 247,
    "start_time": "2022-06-14T12:56:35.141Z"
   },
   {
    "duration": 19,
    "start_time": "2022-06-14T12:57:06.420Z"
   },
   {
    "duration": 8,
    "start_time": "2022-06-14T12:58:00.005Z"
   },
   {
    "duration": 10,
    "start_time": "2022-06-14T12:58:16.076Z"
   },
   {
    "duration": 73,
    "start_time": "2022-06-14T12:59:11.660Z"
   },
   {
    "duration": 31,
    "start_time": "2022-06-14T12:59:12.460Z"
   },
   {
    "duration": 5,
    "start_time": "2022-06-14T12:59:14.323Z"
   },
   {
    "duration": 46,
    "start_time": "2022-06-14T12:59:16.171Z"
   },
   {
    "duration": 26,
    "start_time": "2022-06-14T12:59:18.992Z"
   },
   {
    "duration": 164,
    "start_time": "2022-06-14T12:59:25.843Z"
   },
   {
    "duration": 291,
    "start_time": "2022-06-14T12:59:27.808Z"
   },
   {
    "duration": 175,
    "start_time": "2022-06-14T12:59:30.116Z"
   },
   {
    "duration": 286,
    "start_time": "2022-06-14T12:59:31.508Z"
   },
   {
    "duration": 151,
    "start_time": "2022-06-14T12:59:32.107Z"
   },
   {
    "duration": 164,
    "start_time": "2022-06-14T12:59:32.689Z"
   },
   {
    "duration": 179,
    "start_time": "2022-06-14T12:59:33.253Z"
   },
   {
    "duration": 161,
    "start_time": "2022-06-14T12:59:34.139Z"
   },
   {
    "duration": 158,
    "start_time": "2022-06-14T12:59:35.500Z"
   },
   {
    "duration": 208,
    "start_time": "2022-06-14T12:59:36.530Z"
   },
   {
    "duration": 24,
    "start_time": "2022-06-14T12:59:39.515Z"
   },
   {
    "duration": 182,
    "start_time": "2022-06-14T12:59:43.784Z"
   },
   {
    "duration": 200,
    "start_time": "2022-06-14T12:59:46.915Z"
   },
   {
    "duration": 142,
    "start_time": "2022-06-14T12:59:49.132Z"
   },
   {
    "duration": 4,
    "start_time": "2022-06-14T12:59:52.592Z"
   },
   {
    "duration": 140,
    "start_time": "2022-06-14T12:59:54.687Z"
   },
   {
    "duration": 300,
    "start_time": "2022-06-14T13:00:03.596Z"
   },
   {
    "duration": 135,
    "start_time": "2022-06-14T13:01:13.598Z"
   },
   {
    "duration": 185,
    "start_time": "2022-06-14T13:01:22.644Z"
   },
   {
    "duration": 213,
    "start_time": "2022-06-14T13:01:23.636Z"
   },
   {
    "duration": 175,
    "start_time": "2022-06-14T13:01:25.372Z"
   },
   {
    "duration": 347,
    "start_time": "2022-06-14T13:01:29.805Z"
   },
   {
    "duration": 218,
    "start_time": "2022-06-14T13:01:32.052Z"
   },
   {
    "duration": 441,
    "start_time": "2022-06-14T13:01:33.556Z"
   },
   {
    "duration": 457,
    "start_time": "2022-06-14T13:01:35.508Z"
   },
   {
    "duration": 188,
    "start_time": "2022-06-14T13:01:36.789Z"
   },
   {
    "duration": 10,
    "start_time": "2022-06-14T13:01:52.180Z"
   },
   {
    "duration": 14,
    "start_time": "2022-06-14T13:02:51.093Z"
   },
   {
    "duration": 44,
    "start_time": "2022-06-14T13:04:03.709Z"
   },
   {
    "duration": 47,
    "start_time": "2022-06-14T13:04:07.684Z"
   },
   {
    "duration": 18,
    "start_time": "2022-06-14T13:06:43.853Z"
   },
   {
    "duration": 19,
    "start_time": "2022-06-14T13:07:55.165Z"
   },
   {
    "duration": 16,
    "start_time": "2022-06-14T13:08:05.245Z"
   },
   {
    "duration": 20,
    "start_time": "2022-06-14T13:08:22.476Z"
   },
   {
    "duration": 17,
    "start_time": "2022-06-14T13:08:55.037Z"
   },
   {
    "duration": 51,
    "start_time": "2022-06-14T13:08:56.021Z"
   },
   {
    "duration": 52,
    "start_time": "2022-06-14T13:10:45.453Z"
   },
   {
    "duration": 122,
    "start_time": "2022-06-14T13:11:06.565Z"
   },
   {
    "duration": 19,
    "start_time": "2022-06-14T13:11:29.829Z"
   },
   {
    "duration": 21,
    "start_time": "2022-06-14T13:12:14.726Z"
   },
   {
    "duration": 68,
    "start_time": "2022-06-14T13:12:17.557Z"
   },
   {
    "duration": 17,
    "start_time": "2022-06-14T13:12:53.229Z"
   },
   {
    "duration": 54,
    "start_time": "2022-06-14T13:12:54.751Z"
   },
   {
    "duration": 52,
    "start_time": "2022-06-14T13:16:06.110Z"
   },
   {
    "duration": 20,
    "start_time": "2022-06-14T13:16:41.358Z"
   },
   {
    "duration": 5,
    "start_time": "2022-06-14T13:16:47.253Z"
   },
   {
    "duration": 62,
    "start_time": "2022-06-14T13:17:28.838Z"
   },
   {
    "duration": 5,
    "start_time": "2022-06-14T13:17:37.589Z"
   },
   {
    "duration": 17,
    "start_time": "2022-06-14T13:18:53.798Z"
   },
   {
    "duration": 5,
    "start_time": "2022-06-14T13:18:56.214Z"
   },
   {
    "duration": 6,
    "start_time": "2022-06-14T13:19:34.374Z"
   },
   {
    "duration": 6,
    "start_time": "2022-06-14T13:19:35.638Z"
   },
   {
    "duration": 11,
    "start_time": "2022-06-14T13:20:21.709Z"
   },
   {
    "duration": 6,
    "start_time": "2022-06-14T13:20:22.260Z"
   },
   {
    "duration": 1443,
    "start_time": "2022-06-14T15:45:07.565Z"
   },
   {
    "duration": 72,
    "start_time": "2022-06-14T15:45:09.009Z"
   },
   {
    "duration": 5,
    "start_time": "2022-06-14T15:45:09.083Z"
   },
   {
    "duration": 53,
    "start_time": "2022-06-14T15:45:09.090Z"
   },
   {
    "duration": 27,
    "start_time": "2022-06-14T15:45:09.145Z"
   },
   {
    "duration": 205,
    "start_time": "2022-06-14T15:45:09.174Z"
   },
   {
    "duration": 288,
    "start_time": "2022-06-14T15:45:09.381Z"
   },
   {
    "duration": 175,
    "start_time": "2022-06-14T15:45:09.671Z"
   },
   {
    "duration": 179,
    "start_time": "2022-06-14T15:45:09.848Z"
   },
   {
    "duration": 163,
    "start_time": "2022-06-14T15:45:10.030Z"
   },
   {
    "duration": 256,
    "start_time": "2022-06-14T15:45:10.195Z"
   },
   {
    "duration": 166,
    "start_time": "2022-06-14T15:45:10.453Z"
   },
   {
    "duration": 178,
    "start_time": "2022-06-14T15:45:10.621Z"
   },
   {
    "duration": 167,
    "start_time": "2022-06-14T15:45:10.801Z"
   },
   {
    "duration": 231,
    "start_time": "2022-06-14T15:45:10.970Z"
   },
   {
    "duration": 32,
    "start_time": "2022-06-14T15:45:11.202Z"
   },
   {
    "duration": 169,
    "start_time": "2022-06-14T15:45:11.235Z"
   },
   {
    "duration": 210,
    "start_time": "2022-06-14T15:45:11.405Z"
   },
   {
    "duration": 140,
    "start_time": "2022-06-14T15:45:11.616Z"
   },
   {
    "duration": 3,
    "start_time": "2022-06-14T15:45:11.758Z"
   },
   {
    "duration": 133,
    "start_time": "2022-06-14T15:45:11.763Z"
   },
   {
    "duration": 234,
    "start_time": "2022-06-14T15:45:11.898Z"
   },
   {
    "duration": 0,
    "start_time": "2022-06-14T15:45:12.135Z"
   },
   {
    "duration": 0,
    "start_time": "2022-06-14T15:45:12.136Z"
   },
   {
    "duration": 0,
    "start_time": "2022-06-14T15:45:12.137Z"
   },
   {
    "duration": 0,
    "start_time": "2022-06-14T15:45:12.138Z"
   },
   {
    "duration": 0,
    "start_time": "2022-06-14T15:45:12.139Z"
   },
   {
    "duration": 0,
    "start_time": "2022-06-14T15:45:12.140Z"
   },
   {
    "duration": 0,
    "start_time": "2022-06-14T15:45:12.141Z"
   },
   {
    "duration": 0,
    "start_time": "2022-06-14T15:45:12.142Z"
   },
   {
    "duration": 0,
    "start_time": "2022-06-14T15:45:12.143Z"
   },
   {
    "duration": 0,
    "start_time": "2022-06-14T15:45:12.143Z"
   },
   {
    "duration": 0,
    "start_time": "2022-06-14T15:45:12.145Z"
   },
   {
    "duration": 0,
    "start_time": "2022-06-14T15:45:12.146Z"
   },
   {
    "duration": 181,
    "start_time": "2022-06-14T15:55:35.339Z"
   },
   {
    "duration": 275,
    "start_time": "2022-06-14T15:55:43.946Z"
   },
   {
    "duration": 68,
    "start_time": "2022-06-14T16:00:12.610Z"
   },
   {
    "duration": 26,
    "start_time": "2022-06-14T16:00:12.680Z"
   },
   {
    "duration": 28,
    "start_time": "2022-06-14T16:00:12.707Z"
   },
   {
    "duration": 64,
    "start_time": "2022-06-14T16:00:12.737Z"
   },
   {
    "duration": 25,
    "start_time": "2022-06-14T16:00:12.802Z"
   },
   {
    "duration": 187,
    "start_time": "2022-06-14T16:00:12.829Z"
   },
   {
    "duration": 287,
    "start_time": "2022-06-14T16:00:13.018Z"
   },
   {
    "duration": 170,
    "start_time": "2022-06-14T16:00:13.307Z"
   },
   {
    "duration": 184,
    "start_time": "2022-06-14T16:00:13.478Z"
   },
   {
    "duration": 164,
    "start_time": "2022-06-14T16:00:13.665Z"
   },
   {
    "duration": 169,
    "start_time": "2022-06-14T16:00:13.831Z"
   },
   {
    "duration": 161,
    "start_time": "2022-06-14T16:00:14.001Z"
   },
   {
    "duration": 151,
    "start_time": "2022-06-14T16:00:14.164Z"
   },
   {
    "duration": 162,
    "start_time": "2022-06-14T16:00:14.316Z"
   },
   {
    "duration": 277,
    "start_time": "2022-06-14T16:00:14.480Z"
   },
   {
    "duration": 28,
    "start_time": "2022-06-14T16:00:14.758Z"
   },
   {
    "duration": 173,
    "start_time": "2022-06-14T16:00:14.787Z"
   },
   {
    "duration": 214,
    "start_time": "2022-06-14T16:00:14.962Z"
   },
   {
    "duration": 142,
    "start_time": "2022-06-14T16:00:15.177Z"
   },
   {
    "duration": 6,
    "start_time": "2022-06-14T16:00:15.320Z"
   },
   {
    "duration": 149,
    "start_time": "2022-06-14T16:00:15.327Z"
   },
   {
    "duration": 261,
    "start_time": "2022-06-14T16:00:15.477Z"
   },
   {
    "duration": 0,
    "start_time": "2022-06-14T16:00:15.740Z"
   },
   {
    "duration": 0,
    "start_time": "2022-06-14T16:00:15.741Z"
   },
   {
    "duration": 0,
    "start_time": "2022-06-14T16:00:15.742Z"
   },
   {
    "duration": 0,
    "start_time": "2022-06-14T16:00:15.743Z"
   },
   {
    "duration": 0,
    "start_time": "2022-06-14T16:00:15.744Z"
   },
   {
    "duration": 0,
    "start_time": "2022-06-14T16:00:15.745Z"
   },
   {
    "duration": 0,
    "start_time": "2022-06-14T16:00:15.746Z"
   },
   {
    "duration": 0,
    "start_time": "2022-06-14T16:00:15.746Z"
   },
   {
    "duration": 0,
    "start_time": "2022-06-14T16:00:15.747Z"
   },
   {
    "duration": 0,
    "start_time": "2022-06-14T16:00:15.748Z"
   },
   {
    "duration": 0,
    "start_time": "2022-06-14T16:00:15.749Z"
   },
   {
    "duration": 0,
    "start_time": "2022-06-14T16:00:15.750Z"
   },
   {
    "duration": 206,
    "start_time": "2022-06-14T16:40:28.729Z"
   },
   {
    "duration": 191,
    "start_time": "2022-06-14T16:40:28.936Z"
   },
   {
    "duration": 196,
    "start_time": "2022-06-14T16:40:29.129Z"
   },
   {
    "duration": 230,
    "start_time": "2022-06-14T16:40:29.327Z"
   },
   {
    "duration": 245,
    "start_time": "2022-06-14T16:40:29.559Z"
   },
   {
    "duration": 563,
    "start_time": "2022-06-14T16:40:29.806Z"
   },
   {
    "duration": 495,
    "start_time": "2022-06-14T16:40:30.370Z"
   },
   {
    "duration": 216,
    "start_time": "2022-06-14T16:40:30.867Z"
   },
   {
    "duration": 18,
    "start_time": "2022-06-14T16:40:31.085Z"
   },
   {
    "duration": 11,
    "start_time": "2022-06-14T16:40:31.105Z"
   },
   {
    "duration": 25,
    "start_time": "2022-06-14T16:40:31.125Z"
   },
   {
    "duration": 7,
    "start_time": "2022-06-14T16:40:31.151Z"
   },
   {
    "duration": 12,
    "start_time": "2022-06-14T16:47:45.062Z"
   },
   {
    "duration": 8,
    "start_time": "2022-06-14T16:47:51.286Z"
   },
   {
    "duration": 10,
    "start_time": "2022-06-14T16:48:22.861Z"
   },
   {
    "duration": 7,
    "start_time": "2022-06-14T16:48:25.244Z"
   },
   {
    "duration": 10,
    "start_time": "2022-06-14T16:48:59.145Z"
   },
   {
    "duration": 8,
    "start_time": "2022-06-14T16:49:01.454Z"
   },
   {
    "duration": 10,
    "start_time": "2022-06-14T16:49:27.565Z"
   },
   {
    "duration": 8,
    "start_time": "2022-06-14T16:49:29.702Z"
   },
   {
    "duration": 9,
    "start_time": "2022-06-14T16:49:39.440Z"
   },
   {
    "duration": 42,
    "start_time": "2022-06-14T16:50:39.642Z"
   },
   {
    "duration": 10,
    "start_time": "2022-06-14T16:50:46.089Z"
   },
   {
    "duration": 7,
    "start_time": "2022-06-14T16:50:51.568Z"
   },
   {
    "duration": 4,
    "start_time": "2022-06-14T16:50:57.512Z"
   },
   {
    "duration": 10,
    "start_time": "2022-06-14T16:51:14.251Z"
   },
   {
    "duration": 3,
    "start_time": "2022-06-14T16:51:17.609Z"
   },
   {
    "duration": 173,
    "start_time": "2022-06-16T15:19:01.042Z"
   },
   {
    "duration": 30,
    "start_time": "2022-06-16T15:19:03.279Z"
   },
   {
    "duration": 4,
    "start_time": "2022-06-16T15:19:07.036Z"
   },
   {
    "duration": 44,
    "start_time": "2022-06-16T15:19:09.141Z"
   },
   {
    "duration": 51,
    "start_time": "2022-06-16T15:22:53.456Z"
   },
   {
    "duration": 90,
    "start_time": "2022-06-16T15:28:11.424Z"
   },
   {
    "duration": 38,
    "start_time": "2022-06-16T15:28:12.756Z"
   },
   {
    "duration": 5,
    "start_time": "2022-06-16T15:28:14.670Z"
   },
   {
    "duration": 49,
    "start_time": "2022-06-16T15:28:16.555Z"
   },
   {
    "duration": 50,
    "start_time": "2022-06-16T15:28:18.404Z"
   },
   {
    "duration": 209,
    "start_time": "2022-06-16T15:28:19.589Z"
   },
   {
    "duration": 382,
    "start_time": "2022-06-16T15:28:22.139Z"
   },
   {
    "duration": 230,
    "start_time": "2022-06-16T15:28:28.429Z"
   },
   {
    "duration": 271,
    "start_time": "2022-06-16T15:28:44.377Z"
   },
   {
    "duration": 211,
    "start_time": "2022-06-16T15:28:45.479Z"
   },
   {
    "duration": 233,
    "start_time": "2022-06-16T15:28:46.388Z"
   },
   {
    "duration": 226,
    "start_time": "2022-06-16T15:28:47.284Z"
   },
   {
    "duration": 238,
    "start_time": "2022-06-16T15:28:48.279Z"
   },
   {
    "duration": 215,
    "start_time": "2022-06-16T15:28:49.524Z"
   },
   {
    "duration": 286,
    "start_time": "2022-06-16T15:28:50.988Z"
   },
   {
    "duration": 34,
    "start_time": "2022-06-16T15:28:59.989Z"
   },
   {
    "duration": 209,
    "start_time": "2022-06-16T15:29:00.614Z"
   },
   {
    "duration": 249,
    "start_time": "2022-06-16T15:29:03.996Z"
   },
   {
    "duration": 249,
    "start_time": "2022-06-16T15:29:25.055Z"
   },
   {
    "duration": 184,
    "start_time": "2022-06-16T15:29:35.107Z"
   },
   {
    "duration": 263,
    "start_time": "2022-06-16T15:30:15.036Z"
   },
   {
    "duration": 208,
    "start_time": "2022-06-16T15:30:19.070Z"
   },
   {
    "duration": 181,
    "start_time": "2022-06-16T15:30:23.168Z"
   },
   {
    "duration": 180,
    "start_time": "2022-06-16T15:32:06.509Z"
   },
   {
    "duration": 248,
    "start_time": "2022-06-16T15:32:19.806Z"
   },
   {
    "duration": 6,
    "start_time": "2022-06-16T15:32:50.179Z"
   },
   {
    "duration": 171,
    "start_time": "2022-06-16T15:32:53.619Z"
   },
   {
    "duration": 20,
    "start_time": "2022-06-16T15:33:48.477Z"
   },
   {
    "duration": 14,
    "start_time": "2022-06-16T15:35:41.357Z"
   },
   {
    "duration": 18,
    "start_time": "2022-06-16T15:36:00.357Z"
   },
   {
    "duration": 16,
    "start_time": "2022-06-16T15:36:08.430Z"
   },
   {
    "duration": 16,
    "start_time": "2022-06-16T15:36:34.974Z"
   },
   {
    "duration": 15,
    "start_time": "2022-06-16T15:37:03.873Z"
   },
   {
    "duration": 12,
    "start_time": "2022-06-16T15:38:02.654Z"
   },
   {
    "duration": 34,
    "start_time": "2022-06-16T15:40:13.093Z"
   },
   {
    "duration": 161,
    "start_time": "2022-06-16T15:40:17.604Z"
   },
   {
    "duration": 212,
    "start_time": "2022-06-16T15:42:55.284Z"
   },
   {
    "duration": 283,
    "start_time": "2022-06-16T15:42:56.111Z"
   },
   {
    "duration": 256,
    "start_time": "2022-06-16T15:42:56.676Z"
   },
   {
    "duration": 249,
    "start_time": "2022-06-16T15:42:59.716Z"
   },
   {
    "duration": 387,
    "start_time": "2022-06-16T15:43:03.115Z"
   },
   {
    "duration": 523,
    "start_time": "2022-06-16T15:43:04.923Z"
   },
   {
    "duration": 823,
    "start_time": "2022-06-16T15:44:32.350Z"
   },
   {
    "duration": 18,
    "start_time": "2022-06-16T15:45:04.094Z"
   },
   {
    "duration": 16,
    "start_time": "2022-06-16T15:45:13.357Z"
   },
   {
    "duration": 19,
    "start_time": "2022-06-16T15:45:38.198Z"
   },
   {
    "duration": 724,
    "start_time": "2022-06-16T15:46:18.317Z"
   },
   {
    "duration": 218,
    "start_time": "2022-06-16T15:47:44.033Z"
   },
   {
    "duration": 931,
    "start_time": "2022-06-16T15:48:11.877Z"
   },
   {
    "duration": 411,
    "start_time": "2022-06-16T15:48:33.023Z"
   },
   {
    "duration": 33,
    "start_time": "2022-06-16T15:48:51.652Z"
   },
   {
    "duration": 7,
    "start_time": "2022-06-16T15:48:52.397Z"
   },
   {
    "duration": 15,
    "start_time": "2022-06-16T15:48:58.379Z"
   },
   {
    "duration": 9,
    "start_time": "2022-06-16T15:48:59.318Z"
   },
   {
    "duration": 32,
    "start_time": "2022-06-16T16:23:42.717Z"
   },
   {
    "duration": 5,
    "start_time": "2022-06-16T16:23:47.909Z"
   },
   {
    "duration": 4,
    "start_time": "2022-06-16T16:23:59.605Z"
   },
   {
    "duration": 710,
    "start_time": "2022-06-16T16:24:47.349Z"
   },
   {
    "duration": 235,
    "start_time": "2022-06-16T16:26:12.710Z"
   },
   {
    "duration": 161,
    "start_time": "2022-06-16T16:27:04.534Z"
   },
   {
    "duration": 5,
    "start_time": "2022-06-16T16:27:59.590Z"
   },
   {
    "duration": 131,
    "start_time": "2022-06-16T16:28:21.407Z"
   },
   {
    "duration": 6,
    "start_time": "2022-06-16T16:28:45.966Z"
   },
   {
    "duration": 161,
    "start_time": "2022-06-16T16:28:47.046Z"
   },
   {
    "duration": 138,
    "start_time": "2022-06-16T16:29:21.190Z"
   },
   {
    "duration": 154,
    "start_time": "2022-06-16T16:29:44.997Z"
   },
   {
    "duration": 5,
    "start_time": "2022-06-16T16:30:46.863Z"
   },
   {
    "duration": 176,
    "start_time": "2022-06-16T16:31:27.119Z"
   },
   {
    "duration": 180,
    "start_time": "2022-06-16T16:32:19.128Z"
   },
   {
    "duration": 5,
    "start_time": "2022-06-16T16:33:01.390Z"
   },
   {
    "duration": 154,
    "start_time": "2022-06-16T16:33:32.126Z"
   },
   {
    "duration": 166,
    "start_time": "2022-06-16T16:34:12.679Z"
   },
   {
    "duration": 48,
    "start_time": "2022-06-17T05:42:10.090Z"
   },
   {
    "duration": 1611,
    "start_time": "2022-06-17T05:42:18.448Z"
   },
   {
    "duration": 62,
    "start_time": "2022-06-17T05:42:21.828Z"
   },
   {
    "duration": 4,
    "start_time": "2022-06-17T05:42:23.843Z"
   },
   {
    "duration": 30,
    "start_time": "2022-06-17T05:42:25.852Z"
   },
   {
    "duration": 106,
    "start_time": "2022-06-17T05:53:02.010Z"
   },
   {
    "duration": 30,
    "start_time": "2022-06-17T05:53:04.146Z"
   },
   {
    "duration": 5,
    "start_time": "2022-06-17T05:53:06.314Z"
   },
   {
    "duration": 24,
    "start_time": "2022-06-17T05:53:08.962Z"
   },
   {
    "duration": 22,
    "start_time": "2022-06-17T05:53:30.258Z"
   },
   {
    "duration": 150,
    "start_time": "2022-06-17T05:53:32.241Z"
   },
   {
    "duration": 284,
    "start_time": "2022-06-17T05:53:33.872Z"
   },
   {
    "duration": 179,
    "start_time": "2022-06-17T05:53:35.074Z"
   },
   {
    "duration": 230,
    "start_time": "2022-06-17T05:53:37.945Z"
   },
   {
    "duration": 162,
    "start_time": "2022-06-17T05:53:38.801Z"
   },
   {
    "duration": 156,
    "start_time": "2022-06-17T05:53:39.457Z"
   },
   {
    "duration": 146,
    "start_time": "2022-06-17T05:53:40.033Z"
   },
   {
    "duration": 149,
    "start_time": "2022-06-17T05:53:40.673Z"
   },
   {
    "duration": 159,
    "start_time": "2022-06-17T05:53:41.657Z"
   },
   {
    "duration": 214,
    "start_time": "2022-06-17T05:53:42.625Z"
   },
   {
    "duration": 23,
    "start_time": "2022-06-17T05:53:58.417Z"
   },
   {
    "duration": 179,
    "start_time": "2022-06-17T05:53:59.005Z"
   },
   {
    "duration": 187,
    "start_time": "2022-06-17T05:54:01.249Z"
   },
   {
    "duration": 197,
    "start_time": "2022-06-17T05:54:29.730Z"
   },
   {
    "duration": 193,
    "start_time": "2022-06-17T05:57:17.322Z"
   },
   {
    "duration": 291,
    "start_time": "2022-06-17T05:57:28.834Z"
   },
   {
    "duration": 7,
    "start_time": "2022-06-17T06:15:48.747Z"
   },
   {
    "duration": 132,
    "start_time": "2022-06-17T06:15:50.586Z"
   },
   {
    "duration": 140,
    "start_time": "2022-06-17T06:15:51.003Z"
   },
   {
    "duration": 4,
    "start_time": "2022-06-17T06:15:59.067Z"
   },
   {
    "duration": 4,
    "start_time": "2022-06-17T06:16:08.593Z"
   },
   {
    "duration": 119,
    "start_time": "2022-06-17T06:16:08.819Z"
   },
   {
    "duration": 128,
    "start_time": "2022-06-17T06:16:10.084Z"
   },
   {
    "duration": 4,
    "start_time": "2022-06-17T06:17:19.699Z"
   },
   {
    "duration": 112,
    "start_time": "2022-06-17T06:17:19.963Z"
   },
   {
    "duration": 121,
    "start_time": "2022-06-17T06:17:21.067Z"
   },
   {
    "duration": 4,
    "start_time": "2022-06-17T06:17:22.611Z"
   },
   {
    "duration": 154,
    "start_time": "2022-06-17T06:17:23.579Z"
   },
   {
    "duration": 146,
    "start_time": "2022-06-17T06:17:24.179Z"
   },
   {
    "duration": 3,
    "start_time": "2022-06-17T06:17:26.131Z"
   },
   {
    "duration": 59,
    "start_time": "2022-06-17T06:17:27.067Z"
   },
   {
    "duration": 132,
    "start_time": "2022-06-17T06:17:43.292Z"
   },
   {
    "duration": 10,
    "start_time": "2022-06-17T06:18:09.396Z"
   },
   {
    "duration": 4,
    "start_time": "2022-06-17T06:18:20.628Z"
   },
   {
    "duration": 130,
    "start_time": "2022-06-17T06:18:21.187Z"
   },
   {
    "duration": 201,
    "start_time": "2022-06-17T06:18:27.316Z"
   },
   {
    "duration": 172,
    "start_time": "2022-06-17T06:23:57.595Z"
   },
   {
    "duration": 223,
    "start_time": "2022-06-17T06:23:58.679Z"
   },
   {
    "duration": 179,
    "start_time": "2022-06-17T06:24:01.081Z"
   },
   {
    "duration": 246,
    "start_time": "2022-06-17T06:24:04.332Z"
   },
   {
    "duration": 232,
    "start_time": "2022-06-17T06:24:06.699Z"
   },
   {
    "duration": 468,
    "start_time": "2022-06-17T06:24:08.492Z"
   },
   {
    "duration": 433,
    "start_time": "2022-06-17T06:24:12.435Z"
   },
   {
    "duration": 190,
    "start_time": "2022-06-17T06:24:14.096Z"
   },
   {
    "duration": 17,
    "start_time": "2022-06-17T06:24:24.316Z"
   },
   {
    "duration": 5,
    "start_time": "2022-06-17T06:24:25.003Z"
   },
   {
    "duration": 10,
    "start_time": "2022-06-17T06:24:29.218Z"
   },
   {
    "duration": 5,
    "start_time": "2022-06-17T06:24:29.907Z"
   },
   {
    "duration": 123,
    "start_time": "2022-06-17T06:24:59.982Z"
   },
   {
    "duration": 188,
    "start_time": "2022-06-17T06:25:53.014Z"
   },
   {
    "duration": 22,
    "start_time": "2022-06-17T06:26:01.203Z"
   },
   {
    "duration": 5,
    "start_time": "2022-06-17T06:26:01.716Z"
   },
   {
    "duration": 10,
    "start_time": "2022-06-17T06:26:03.691Z"
   },
   {
    "duration": 5,
    "start_time": "2022-06-17T06:26:04.099Z"
   },
   {
    "duration": 38,
    "start_time": "2022-06-17T10:58:54.155Z"
   },
   {
    "duration": 1446,
    "start_time": "2022-06-17T11:07:19.144Z"
   },
   {
    "duration": 68,
    "start_time": "2022-06-17T11:07:21.844Z"
   },
   {
    "duration": 5,
    "start_time": "2022-06-17T11:07:24.019Z"
   },
   {
    "duration": 25,
    "start_time": "2022-06-17T11:07:25.386Z"
   },
   {
    "duration": 37,
    "start_time": "2022-06-17T11:07:27.317Z"
   },
   {
    "duration": 177,
    "start_time": "2022-06-17T11:07:28.186Z"
   },
   {
    "duration": 277,
    "start_time": "2022-06-17T11:07:29.460Z"
   },
   {
    "duration": 173,
    "start_time": "2022-06-17T11:07:30.687Z"
   },
   {
    "duration": 157,
    "start_time": "2022-06-17T11:07:32.228Z"
   },
   {
    "duration": 186,
    "start_time": "2022-06-17T11:07:32.948Z"
   },
   {
    "duration": 183,
    "start_time": "2022-06-17T11:07:33.636Z"
   },
   {
    "duration": 229,
    "start_time": "2022-06-17T11:07:34.443Z"
   },
   {
    "duration": 152,
    "start_time": "2022-06-17T11:07:35.403Z"
   },
   {
    "duration": 179,
    "start_time": "2022-06-17T11:07:36.586Z"
   },
   {
    "duration": 252,
    "start_time": "2022-06-17T11:07:37.852Z"
   },
   {
    "duration": 25,
    "start_time": "2022-06-17T11:07:39.824Z"
   },
   {
    "duration": 178,
    "start_time": "2022-06-17T11:07:40.419Z"
   },
   {
    "duration": 199,
    "start_time": "2022-06-17T11:07:42.682Z"
   },
   {
    "duration": 211,
    "start_time": "2022-06-17T11:07:46.099Z"
   },
   {
    "duration": 4,
    "start_time": "2022-06-17T11:07:50.134Z"
   },
   {
    "duration": 132,
    "start_time": "2022-06-17T11:07:53.263Z"
   },
   {
    "duration": 127,
    "start_time": "2022-06-17T11:07:54.108Z"
   },
   {
    "duration": 4,
    "start_time": "2022-06-17T11:08:05.819Z"
   },
   {
    "duration": 131,
    "start_time": "2022-06-17T11:08:06.253Z"
   },
   {
    "duration": 128,
    "start_time": "2022-06-17T11:08:16.117Z"
   },
   {
    "duration": 212,
    "start_time": "2022-06-17T11:08:23.982Z"
   },
   {
    "duration": 120,
    "start_time": "2022-06-17T11:08:33.309Z"
   },
   {
    "duration": 4,
    "start_time": "2022-06-17T11:08:38.036Z"
   },
   {
    "duration": 114,
    "start_time": "2022-06-17T11:08:38.478Z"
   },
   {
    "duration": 114,
    "start_time": "2022-06-17T11:08:46.448Z"
   },
   {
    "duration": 4,
    "start_time": "2022-06-17T11:08:58.606Z"
   },
   {
    "duration": 149,
    "start_time": "2022-06-17T11:09:00.165Z"
   },
   {
    "duration": 147,
    "start_time": "2022-06-17T11:09:07.893Z"
   },
   {
    "duration": 5,
    "start_time": "2022-06-17T11:09:14.983Z"
   },
   {
    "duration": 175,
    "start_time": "2022-06-17T11:09:17.452Z"
   },
   {
    "duration": 133,
    "start_time": "2022-06-17T11:09:23.383Z"
   },
   {
    "duration": 138,
    "start_time": "2022-06-17T11:09:36.110Z"
   },
   {
    "duration": 80,
    "start_time": "2022-06-17T11:09:53.661Z"
   },
   {
    "duration": 35,
    "start_time": "2022-06-17T11:09:54.591Z"
   },
   {
    "duration": 4,
    "start_time": "2022-06-17T11:09:56.356Z"
   },
   {
    "duration": 28,
    "start_time": "2022-06-17T11:09:57.340Z"
   },
   {
    "duration": 26,
    "start_time": "2022-06-17T11:10:05.594Z"
   },
   {
    "duration": 175,
    "start_time": "2022-06-17T11:10:06.686Z"
   },
   {
    "duration": 294,
    "start_time": "2022-06-17T11:10:08.182Z"
   },
   {
    "duration": 268,
    "start_time": "2022-06-17T11:10:10.156Z"
   },
   {
    "duration": 165,
    "start_time": "2022-06-17T11:10:12.436Z"
   },
   {
    "duration": 159,
    "start_time": "2022-06-17T11:10:13.381Z"
   },
   {
    "duration": 201,
    "start_time": "2022-06-17T11:10:14.308Z"
   },
   {
    "duration": 168,
    "start_time": "2022-06-17T11:10:15.700Z"
   },
   {
    "duration": 161,
    "start_time": "2022-06-17T11:10:16.612Z"
   },
   {
    "duration": 216,
    "start_time": "2022-06-17T11:10:17.482Z"
   },
   {
    "duration": 230,
    "start_time": "2022-06-17T11:10:18.508Z"
   },
   {
    "duration": 27,
    "start_time": "2022-06-17T11:10:20.493Z"
   },
   {
    "duration": 181,
    "start_time": "2022-06-17T11:10:20.908Z"
   },
   {
    "duration": 222,
    "start_time": "2022-06-17T11:10:22.773Z"
   },
   {
    "duration": 216,
    "start_time": "2022-06-17T11:10:25.774Z"
   },
   {
    "duration": 4,
    "start_time": "2022-06-17T11:10:29.148Z"
   },
   {
    "duration": 223,
    "start_time": "2022-06-17T11:10:31.044Z"
   },
   {
    "duration": 131,
    "start_time": "2022-06-17T11:10:32.188Z"
   },
   {
    "duration": 4,
    "start_time": "2022-06-17T11:12:09.413Z"
   },
   {
    "duration": 124,
    "start_time": "2022-06-17T11:12:11.453Z"
   },
   {
    "duration": 122,
    "start_time": "2022-06-17T11:12:12.780Z"
   },
   {
    "duration": 6,
    "start_time": "2022-06-17T11:12:30.804Z"
   },
   {
    "duration": 146,
    "start_time": "2022-06-17T11:12:31.733Z"
   },
   {
    "duration": 121,
    "start_time": "2022-06-17T11:12:46.901Z"
   },
   {
    "duration": 4,
    "start_time": "2022-06-17T11:12:55.652Z"
   },
   {
    "duration": 143,
    "start_time": "2022-06-17T11:12:56.797Z"
   },
   {
    "duration": 176,
    "start_time": "2022-06-17T11:12:58.236Z"
   },
   {
    "duration": 5,
    "start_time": "2022-06-17T11:13:28.660Z"
   },
   {
    "duration": 130,
    "start_time": "2022-06-17T11:13:29.277Z"
   },
   {
    "duration": 126,
    "start_time": "2022-06-17T11:13:38.421Z"
   },
   {
    "duration": 1590,
    "start_time": "2022-06-17T11:37:25.990Z"
   },
   {
    "duration": 76,
    "start_time": "2022-06-17T11:37:27.582Z"
   },
   {
    "duration": 5,
    "start_time": "2022-06-17T11:37:27.659Z"
   },
   {
    "duration": 38,
    "start_time": "2022-06-17T11:37:27.666Z"
   },
   {
    "duration": 40,
    "start_time": "2022-06-17T11:37:27.706Z"
   },
   {
    "duration": 207,
    "start_time": "2022-06-17T11:37:27.748Z"
   },
   {
    "duration": 307,
    "start_time": "2022-06-17T11:37:27.958Z"
   },
   {
    "duration": 195,
    "start_time": "2022-06-17T11:37:28.267Z"
   },
   {
    "duration": 195,
    "start_time": "2022-06-17T11:37:28.464Z"
   },
   {
    "duration": 185,
    "start_time": "2022-06-17T11:37:28.662Z"
   },
   {
    "duration": 284,
    "start_time": "2022-06-17T11:37:28.849Z"
   },
   {
    "duration": 191,
    "start_time": "2022-06-17T11:37:29.139Z"
   },
   {
    "duration": 165,
    "start_time": "2022-06-17T11:37:29.333Z"
   },
   {
    "duration": 189,
    "start_time": "2022-06-17T11:37:29.500Z"
   },
   {
    "duration": 277,
    "start_time": "2022-06-17T11:37:29.690Z"
   },
   {
    "duration": 27,
    "start_time": "2022-06-17T11:37:29.970Z"
   },
   {
    "duration": 199,
    "start_time": "2022-06-17T11:37:29.999Z"
   },
   {
    "duration": 241,
    "start_time": "2022-06-17T11:37:30.200Z"
   },
   {
    "duration": 235,
    "start_time": "2022-06-17T11:37:30.443Z"
   },
   {
    "duration": 4,
    "start_time": "2022-06-17T11:37:30.680Z"
   },
   {
    "duration": 189,
    "start_time": "2022-06-17T11:37:30.686Z"
   },
   {
    "duration": 301,
    "start_time": "2022-06-17T11:37:30.877Z"
   },
   {
    "duration": 0,
    "start_time": "2022-06-17T11:37:31.180Z"
   },
   {
    "duration": 0,
    "start_time": "2022-06-17T11:37:31.182Z"
   },
   {
    "duration": 0,
    "start_time": "2022-06-17T11:37:31.183Z"
   },
   {
    "duration": 0,
    "start_time": "2022-06-17T11:37:31.184Z"
   },
   {
    "duration": 0,
    "start_time": "2022-06-17T11:37:31.185Z"
   },
   {
    "duration": 0,
    "start_time": "2022-06-17T11:37:31.186Z"
   },
   {
    "duration": 0,
    "start_time": "2022-06-17T11:37:31.187Z"
   },
   {
    "duration": 0,
    "start_time": "2022-06-17T11:37:31.188Z"
   },
   {
    "duration": 0,
    "start_time": "2022-06-17T11:37:31.189Z"
   },
   {
    "duration": 0,
    "start_time": "2022-06-17T11:37:31.190Z"
   },
   {
    "duration": 0,
    "start_time": "2022-06-17T11:37:31.191Z"
   },
   {
    "duration": 0,
    "start_time": "2022-06-17T11:37:31.193Z"
   },
   {
    "duration": 0,
    "start_time": "2022-06-17T11:37:31.194Z"
   },
   {
    "duration": 0,
    "start_time": "2022-06-17T11:37:31.195Z"
   },
   {
    "duration": 0,
    "start_time": "2022-06-17T11:37:31.223Z"
   },
   {
    "duration": 0,
    "start_time": "2022-06-17T11:37:31.225Z"
   },
   {
    "duration": 1,
    "start_time": "2022-06-17T11:37:31.226Z"
   },
   {
    "duration": 0,
    "start_time": "2022-06-17T11:37:31.227Z"
   },
   {
    "duration": 0,
    "start_time": "2022-06-17T11:37:31.228Z"
   },
   {
    "duration": 0,
    "start_time": "2022-06-17T11:37:31.229Z"
   },
   {
    "duration": 1,
    "start_time": "2022-06-17T11:37:31.237Z"
   },
   {
    "duration": 0,
    "start_time": "2022-06-17T11:37:31.238Z"
   },
   {
    "duration": 0,
    "start_time": "2022-06-17T11:37:31.239Z"
   },
   {
    "duration": 0,
    "start_time": "2022-06-17T11:37:31.240Z"
   },
   {
    "duration": 92,
    "start_time": "2022-06-17T11:37:51.579Z"
   },
   {
    "duration": 66,
    "start_time": "2022-06-17T11:37:51.673Z"
   },
   {
    "duration": 5,
    "start_time": "2022-06-17T11:37:51.741Z"
   },
   {
    "duration": 26,
    "start_time": "2022-06-17T11:37:51.748Z"
   },
   {
    "duration": 26,
    "start_time": "2022-06-17T11:37:51.776Z"
   },
   {
    "duration": 181,
    "start_time": "2022-06-17T11:37:51.822Z"
   },
   {
    "duration": 383,
    "start_time": "2022-06-17T11:37:52.005Z"
   },
   {
    "duration": 203,
    "start_time": "2022-06-17T11:37:52.389Z"
   },
   {
    "duration": 257,
    "start_time": "2022-06-17T11:37:52.595Z"
   },
   {
    "duration": 201,
    "start_time": "2022-06-17T11:37:52.856Z"
   },
   {
    "duration": 192,
    "start_time": "2022-06-17T11:37:53.059Z"
   },
   {
    "duration": 204,
    "start_time": "2022-06-17T11:37:53.253Z"
   },
   {
    "duration": 171,
    "start_time": "2022-06-17T11:37:53.459Z"
   },
   {
    "duration": 178,
    "start_time": "2022-06-17T11:37:53.633Z"
   },
   {
    "duration": 272,
    "start_time": "2022-06-17T11:37:53.813Z"
   },
   {
    "duration": 52,
    "start_time": "2022-06-17T11:37:54.087Z"
   },
   {
    "duration": 181,
    "start_time": "2022-06-17T11:37:54.141Z"
   },
   {
    "duration": 315,
    "start_time": "2022-06-17T11:37:54.325Z"
   },
   {
    "duration": 222,
    "start_time": "2022-06-17T11:37:54.642Z"
   },
   {
    "duration": 4,
    "start_time": "2022-06-17T11:37:54.866Z"
   },
   {
    "duration": 180,
    "start_time": "2022-06-17T11:37:54.871Z"
   },
   {
    "duration": 160,
    "start_time": "2022-06-17T11:37:55.052Z"
   },
   {
    "duration": 12,
    "start_time": "2022-06-17T11:37:55.213Z"
   },
   {
    "duration": 179,
    "start_time": "2022-06-17T11:37:55.237Z"
   },
   {
    "duration": 156,
    "start_time": "2022-06-17T11:37:55.418Z"
   },
   {
    "duration": 4,
    "start_time": "2022-06-17T11:37:55.576Z"
   },
   {
    "duration": 128,
    "start_time": "2022-06-17T11:37:55.582Z"
   },
   {
    "duration": 132,
    "start_time": "2022-06-17T11:37:55.714Z"
   },
   {
    "duration": 4,
    "start_time": "2022-06-17T11:37:55.848Z"
   },
   {
    "duration": 188,
    "start_time": "2022-06-17T11:37:55.854Z"
   },
   {
    "duration": 168,
    "start_time": "2022-06-17T11:37:56.044Z"
   },
   {
    "duration": 17,
    "start_time": "2022-06-17T11:37:56.214Z"
   },
   {
    "duration": 144,
    "start_time": "2022-06-17T11:37:56.238Z"
   },
   {
    "duration": 240,
    "start_time": "2022-06-17T11:37:56.383Z"
   },
   {
    "duration": 219,
    "start_time": "2022-06-17T11:37:56.624Z"
   },
   {
    "duration": 233,
    "start_time": "2022-06-17T11:37:56.846Z"
   },
   {
    "duration": 207,
    "start_time": "2022-06-17T11:37:57.080Z"
   },
   {
    "duration": 259,
    "start_time": "2022-06-17T11:37:57.289Z"
   },
   {
    "duration": 258,
    "start_time": "2022-06-17T11:37:57.550Z"
   },
   {
    "duration": 496,
    "start_time": "2022-06-17T11:37:57.810Z"
   },
   {
    "duration": 542,
    "start_time": "2022-06-17T11:37:58.308Z"
   },
   {
    "duration": 263,
    "start_time": "2022-06-17T11:37:58.852Z"
   },
   {
    "duration": 39,
    "start_time": "2022-06-17T11:37:59.117Z"
   },
   {
    "duration": 5,
    "start_time": "2022-06-17T11:37:59.158Z"
   },
   {
    "duration": 16,
    "start_time": "2022-06-17T11:37:59.164Z"
   },
   {
    "duration": 5,
    "start_time": "2022-06-17T11:37:59.182Z"
   }
  ],
  "kernelspec": {
   "display_name": "Python 3 (ipykernel)",
   "language": "python",
   "name": "python3"
  },
  "language_info": {
   "codemirror_mode": {
    "name": "ipython",
    "version": 3
   },
   "file_extension": ".py",
   "mimetype": "text/x-python",
   "name": "python",
   "nbconvert_exporter": "python",
   "pygments_lexer": "ipython3",
   "version": "3.9.5"
  },
  "toc": {
   "base_numbering": 1,
   "nav_menu": {},
   "number_sections": true,
   "sideBar": true,
   "skip_h1_title": true,
   "title_cell": "Table of Contents",
   "title_sidebar": "Contents",
   "toc_cell": false,
   "toc_position": {
    "height": "calc(100% - 180px)",
    "left": "10px",
    "top": "150px",
    "width": "356.797px"
   },
   "toc_section_display": true,
   "toc_window_display": true
  },
  "widgets": {
   "application/vnd.jupyter.widget-state+json": {
    "state": {},
    "version_major": 2,
    "version_minor": 0
   }
  }
 },
 "nbformat": 4,
 "nbformat_minor": 2
}
