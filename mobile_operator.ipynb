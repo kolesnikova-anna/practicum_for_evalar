{
 "cells": [
  {
   "cell_type": "markdown",
   "metadata": {},
   "source": [
    "# Определение перспективного тарифа для телеком-компании\n"
   ]
  },
  {
   "cell_type": "markdown",
   "metadata": {},
   "source": [
    "Клиентам предлагается два тарифных плана: «Смарт» и «Ультра». Чтобы скорректировать рекламный бюджет, коммерческий департамент хочет понять, какой тариф приносит больше денег."
   ]
  },
  {
   "cell_type": "markdown",
   "metadata": {},
   "source": [
    "## Задачи\n"
   ]
  },
  {
   "cell_type": "markdown",
   "metadata": {},
   "source": [
    "Провести анализ поведения клиентов и сделать вывод - какой тариф лучше подходит для дальнейшей рекламы.\n",
    "\n",
    "1. Подготовить данные:\n",
    "    1.1. Привести данные к нужным типам;\n",
    "    1.2. Найти и исправить ошибки если они есть;\n",
    "    1.3. Посчитать для каждого пользователя количество сделанных звонков и израсходованных минут по месяцам, количество отправленных сообщений по месяцам, объем израсходованного трафика и помесячную выручку.\n",
    "2. Проанализировать данные:\n",
    "    2.1. Провести подсчет сколько минут разговора, сколько сообщений и какой объем трафика требуется пользователям каждого тарифа в месяц;\n",
    "    2.2. Посчитайть среднее количество, дисперсию и стандарное отклонение;\n",
    "    2.3. Построить гистограммы.\n",
    "3. Проверьте гипотезы."
   ]
  },
  {
   "cell_type": "markdown",
   "metadata": {},
   "source": [
    "## Данные и общая информация\n"
   ]
  },
  {
   "cell_type": "code",
   "execution_count": 1,
   "metadata": {},
   "outputs": [],
   "source": [
    "import pandas as pd\n",
    "import numpy as np\n",
    "import warnings\n",
    "from matplotlib import pyplot as plt\n",
    "import seaborn as sns\n",
    "warnings.filterwarnings('ignore')\n",
    "from scipy import stats\n",
    "\n",
    "calls = pd.read_csv('/datasets/calls.csv')\n",
    "internet = pd.read_csv('/datasets/internet.csv', index_col = 0)\n",
    "messages = pd.read_csv('/datasets/messages.csv')\n",
    "tariffs = pd.read_csv('/datasets/tariffs.csv')\n",
    "users = pd.read_csv('/datasets/users.csv')"
   ]
  },
  {
   "cell_type": "markdown",
   "metadata": {},
   "source": [
    "На первом этапе имеем 5 разных датасетов. У всех, кроме tariffs, есть общий столбец id и user_id ."
   ]
  },
  {
   "cell_type": "markdown",
   "metadata": {},
   "source": [
    "## Подготовка данных\n"
   ]
  },
  {
   "cell_type": "markdown",
   "metadata": {},
   "source": [
    "### Звонки\n"
   ]
  },
  {
   "cell_type": "code",
   "execution_count": 2,
   "metadata": {},
   "outputs": [
    {
     "name": "stdout",
     "output_type": "stream",
     "text": [
      "<class 'pandas.core.frame.DataFrame'>\n",
      "RangeIndex: 202607 entries, 0 to 202606\n",
      "Data columns (total 4 columns):\n",
      " #   Column     Non-Null Count   Dtype  \n",
      "---  ------     --------------   -----  \n",
      " 0   id         202607 non-null  object \n",
      " 1   call_date  202607 non-null  object \n",
      " 2   duration   202607 non-null  float64\n",
      " 3   user_id    202607 non-null  int64  \n",
      "dtypes: float64(1), int64(1), object(2)\n",
      "memory usage: 6.2+ MB\n"
     ]
    },
    {
     "data": {
      "text/html": [
       "<div>\n",
       "<style scoped>\n",
       "    .dataframe tbody tr th:only-of-type {\n",
       "        vertical-align: middle;\n",
       "    }\n",
       "\n",
       "    .dataframe tbody tr th {\n",
       "        vertical-align: top;\n",
       "    }\n",
       "\n",
       "    .dataframe thead th {\n",
       "        text-align: right;\n",
       "    }\n",
       "</style>\n",
       "<table border=\"1\" class=\"dataframe\">\n",
       "  <thead>\n",
       "    <tr style=\"text-align: right;\">\n",
       "      <th></th>\n",
       "      <th>id</th>\n",
       "      <th>call_date</th>\n",
       "      <th>duration</th>\n",
       "      <th>user_id</th>\n",
       "    </tr>\n",
       "  </thead>\n",
       "  <tbody>\n",
       "    <tr>\n",
       "      <th>0</th>\n",
       "      <td>1000_0</td>\n",
       "      <td>2018-07-25</td>\n",
       "      <td>0.00</td>\n",
       "      <td>1000</td>\n",
       "    </tr>\n",
       "    <tr>\n",
       "      <th>1</th>\n",
       "      <td>1000_1</td>\n",
       "      <td>2018-08-17</td>\n",
       "      <td>0.00</td>\n",
       "      <td>1000</td>\n",
       "    </tr>\n",
       "    <tr>\n",
       "      <th>2</th>\n",
       "      <td>1000_2</td>\n",
       "      <td>2018-06-11</td>\n",
       "      <td>2.85</td>\n",
       "      <td>1000</td>\n",
       "    </tr>\n",
       "    <tr>\n",
       "      <th>3</th>\n",
       "      <td>1000_3</td>\n",
       "      <td>2018-09-21</td>\n",
       "      <td>13.80</td>\n",
       "      <td>1000</td>\n",
       "    </tr>\n",
       "    <tr>\n",
       "      <th>4</th>\n",
       "      <td>1000_4</td>\n",
       "      <td>2018-12-15</td>\n",
       "      <td>5.18</td>\n",
       "      <td>1000</td>\n",
       "    </tr>\n",
       "  </tbody>\n",
       "</table>\n",
       "</div>"
      ],
      "text/plain": [
       "       id   call_date  duration  user_id\n",
       "0  1000_0  2018-07-25      0.00     1000\n",
       "1  1000_1  2018-08-17      0.00     1000\n",
       "2  1000_2  2018-06-11      2.85     1000\n",
       "3  1000_3  2018-09-21     13.80     1000\n",
       "4  1000_4  2018-12-15      5.18     1000"
      ]
     },
     "execution_count": 2,
     "metadata": {},
     "output_type": "execute_result"
    }
   ],
   "source": [
    "calls.info()\n",
    "calls.head()"
   ]
  },
  {
   "cell_type": "markdown",
   "metadata": {},
   "source": [
    "Датасет имеет 4 столбца: id, call_date, duration, user_id.\n",
    "call_date перевоим к нужому датафрейму. \n",
    "duration округляем в болльшую сторону и меняем тип данных на int. \n",
    "Добавляем новый столбец с месяцем. \n",
    "Группируем данные о количестве звонков и сумме минут по user_id и месяцам.\n",
    "Пропусков нет."
   ]
  },
  {
   "cell_type": "code",
   "execution_count": 3,
   "metadata": {},
   "outputs": [
    {
     "name": "stdout",
     "output_type": "stream",
     "text": [
      "<class 'pandas.core.frame.DataFrame'>\n",
      "MultiIndex: 3174 entries, (1000, 5) to (1499, 12)\n",
      "Data columns (total 2 columns):\n",
      " #   Column               Non-Null Count  Dtype\n",
      "---  ------               --------------  -----\n",
      " 0   (call_count, count)  3174 non-null   int64\n",
      " 1   (call_count, sum)    3174 non-null   int64\n",
      "dtypes: int64(2)\n",
      "memory usage: 62.9 KB\n"
     ]
    },
    {
     "data": {
      "text/html": [
       "<div>\n",
       "<style scoped>\n",
       "    .dataframe tbody tr th:only-of-type {\n",
       "        vertical-align: middle;\n",
       "    }\n",
       "\n",
       "    .dataframe tbody tr th {\n",
       "        vertical-align: top;\n",
       "    }\n",
       "\n",
       "    .dataframe thead tr th {\n",
       "        text-align: left;\n",
       "    }\n",
       "\n",
       "    .dataframe thead tr:last-of-type th {\n",
       "        text-align: right;\n",
       "    }\n",
       "</style>\n",
       "<table border=\"1\" class=\"dataframe\">\n",
       "  <thead>\n",
       "    <tr>\n",
       "      <th></th>\n",
       "      <th></th>\n",
       "      <th colspan=\"2\" halign=\"left\">call_count</th>\n",
       "    </tr>\n",
       "    <tr>\n",
       "      <th></th>\n",
       "      <th></th>\n",
       "      <th>count</th>\n",
       "      <th>sum</th>\n",
       "    </tr>\n",
       "    <tr>\n",
       "      <th>user_id</th>\n",
       "      <th>month</th>\n",
       "      <th></th>\n",
       "      <th></th>\n",
       "    </tr>\n",
       "  </thead>\n",
       "  <tbody>\n",
       "    <tr>\n",
       "      <th rowspan=\"5\" valign=\"top\">1000</th>\n",
       "      <th>5</th>\n",
       "      <td>22</td>\n",
       "      <td>159</td>\n",
       "    </tr>\n",
       "    <tr>\n",
       "      <th>6</th>\n",
       "      <td>43</td>\n",
       "      <td>172</td>\n",
       "    </tr>\n",
       "    <tr>\n",
       "      <th>7</th>\n",
       "      <td>47</td>\n",
       "      <td>340</td>\n",
       "    </tr>\n",
       "    <tr>\n",
       "      <th>8</th>\n",
       "      <td>52</td>\n",
       "      <td>408</td>\n",
       "    </tr>\n",
       "    <tr>\n",
       "      <th>9</th>\n",
       "      <td>58</td>\n",
       "      <td>466</td>\n",
       "    </tr>\n",
       "  </tbody>\n",
       "</table>\n",
       "</div>"
      ],
      "text/plain": [
       "              call_count     \n",
       "                   count  sum\n",
       "user_id month                \n",
       "1000    5             22  159\n",
       "        6             43  172\n",
       "        7             47  340\n",
       "        8             52  408\n",
       "        9             58  466"
      ]
     },
     "execution_count": 3,
     "metadata": {},
     "output_type": "execute_result"
    }
   ],
   "source": [
    "calls['call_date'] = pd.to_datetime(calls['call_date'], format = '%Y-%m-%d')\n",
    "calls['duration'] = np.ceil(calls['duration']).astype('int')\n",
    "calls['month'] = pd.DatetimeIndex(calls['call_date']).month\n",
    "\n",
    "data_calls = calls.groupby(['user_id', 'month']).agg({'duration': ['count', 'sum']})\n",
    "data_calls = data_calls.rename(columns = {'duration' : 'call_count',})\n",
    "\n",
    "\n",
    "data_calls.info()\n",
    "data_calls.head()"
   ]
  },
  {
   "cell_type": "markdown",
   "metadata": {},
   "source": [
    "### Интернет"
   ]
  },
  {
   "cell_type": "code",
   "execution_count": 4,
   "metadata": {},
   "outputs": [
    {
     "name": "stdout",
     "output_type": "stream",
     "text": [
      "<class 'pandas.core.frame.DataFrame'>\n",
      "Int64Index: 149396 entries, 0 to 149395\n",
      "Data columns (total 4 columns):\n",
      " #   Column        Non-Null Count   Dtype  \n",
      "---  ------        --------------   -----  \n",
      " 0   id            149396 non-null  object \n",
      " 1   mb_used       149396 non-null  float64\n",
      " 2   session_date  149396 non-null  object \n",
      " 3   user_id       149396 non-null  int64  \n",
      "dtypes: float64(1), int64(1), object(2)\n",
      "memory usage: 5.7+ MB\n"
     ]
    },
    {
     "data": {
      "text/html": [
       "<div>\n",
       "<style scoped>\n",
       "    .dataframe tbody tr th:only-of-type {\n",
       "        vertical-align: middle;\n",
       "    }\n",
       "\n",
       "    .dataframe tbody tr th {\n",
       "        vertical-align: top;\n",
       "    }\n",
       "\n",
       "    .dataframe thead th {\n",
       "        text-align: right;\n",
       "    }\n",
       "</style>\n",
       "<table border=\"1\" class=\"dataframe\">\n",
       "  <thead>\n",
       "    <tr style=\"text-align: right;\">\n",
       "      <th></th>\n",
       "      <th>id</th>\n",
       "      <th>mb_used</th>\n",
       "      <th>session_date</th>\n",
       "      <th>user_id</th>\n",
       "    </tr>\n",
       "  </thead>\n",
       "  <tbody>\n",
       "    <tr>\n",
       "      <th>0</th>\n",
       "      <td>1000_0</td>\n",
       "      <td>112.95</td>\n",
       "      <td>2018-11-25</td>\n",
       "      <td>1000</td>\n",
       "    </tr>\n",
       "    <tr>\n",
       "      <th>1</th>\n",
       "      <td>1000_1</td>\n",
       "      <td>1052.81</td>\n",
       "      <td>2018-09-07</td>\n",
       "      <td>1000</td>\n",
       "    </tr>\n",
       "    <tr>\n",
       "      <th>2</th>\n",
       "      <td>1000_2</td>\n",
       "      <td>1197.26</td>\n",
       "      <td>2018-06-25</td>\n",
       "      <td>1000</td>\n",
       "    </tr>\n",
       "    <tr>\n",
       "      <th>3</th>\n",
       "      <td>1000_3</td>\n",
       "      <td>550.27</td>\n",
       "      <td>2018-08-22</td>\n",
       "      <td>1000</td>\n",
       "    </tr>\n",
       "    <tr>\n",
       "      <th>4</th>\n",
       "      <td>1000_4</td>\n",
       "      <td>302.56</td>\n",
       "      <td>2018-09-24</td>\n",
       "      <td>1000</td>\n",
       "    </tr>\n",
       "  </tbody>\n",
       "</table>\n",
       "</div>"
      ],
      "text/plain": [
       "       id  mb_used session_date  user_id\n",
       "0  1000_0   112.95   2018-11-25     1000\n",
       "1  1000_1  1052.81   2018-09-07     1000\n",
       "2  1000_2  1197.26   2018-06-25     1000\n",
       "3  1000_3   550.27   2018-08-22     1000\n",
       "4  1000_4   302.56   2018-09-24     1000"
      ]
     },
     "execution_count": 4,
     "metadata": {},
     "output_type": "execute_result"
    }
   ],
   "source": [
    "internet.info()\n",
    "internet.head()"
   ]
  },
  {
   "cell_type": "markdown",
   "metadata": {},
   "source": [
    "Датасет имеет 5 столбцов: id, mb_used, session_date, user_id.\n",
    "session_date перевоим к нужому датафрейму. Добавляем новый столбец с месяцем. \n",
    "Группируем данные о использованных Мб по user_id и месяцам. Преобразовываем из в Гб и округляем в большую сторону.\n",
    "Пропусков нет."
   ]
  },
  {
   "cell_type": "code",
   "execution_count": 5,
   "metadata": {
    "scrolled": true
   },
   "outputs": [
    {
     "data": {
      "text/html": [
       "<div>\n",
       "<style scoped>\n",
       "    .dataframe tbody tr th:only-of-type {\n",
       "        vertical-align: middle;\n",
       "    }\n",
       "\n",
       "    .dataframe tbody tr th {\n",
       "        vertical-align: top;\n",
       "    }\n",
       "\n",
       "    .dataframe thead tr th {\n",
       "        text-align: left;\n",
       "    }\n",
       "\n",
       "    .dataframe thead tr:last-of-type th {\n",
       "        text-align: right;\n",
       "    }\n",
       "</style>\n",
       "<table border=\"1\" class=\"dataframe\">\n",
       "  <thead>\n",
       "    <tr>\n",
       "      <th></th>\n",
       "      <th></th>\n",
       "      <th>mb_used</th>\n",
       "    </tr>\n",
       "    <tr>\n",
       "      <th></th>\n",
       "      <th></th>\n",
       "      <th>sum</th>\n",
       "    </tr>\n",
       "    <tr>\n",
       "      <th>user_id</th>\n",
       "      <th>month</th>\n",
       "      <th></th>\n",
       "    </tr>\n",
       "  </thead>\n",
       "  <tbody>\n",
       "    <tr>\n",
       "      <th rowspan=\"5\" valign=\"top\">1000</th>\n",
       "      <th>5</th>\n",
       "      <td>3</td>\n",
       "    </tr>\n",
       "    <tr>\n",
       "      <th>6</th>\n",
       "      <td>23</td>\n",
       "    </tr>\n",
       "    <tr>\n",
       "      <th>7</th>\n",
       "      <td>14</td>\n",
       "    </tr>\n",
       "    <tr>\n",
       "      <th>8</th>\n",
       "      <td>14</td>\n",
       "    </tr>\n",
       "    <tr>\n",
       "      <th>9</th>\n",
       "      <td>15</td>\n",
       "    </tr>\n",
       "  </tbody>\n",
       "</table>\n",
       "</div>"
      ],
      "text/plain": [
       "              mb_used\n",
       "                  sum\n",
       "user_id month        \n",
       "1000    5           3\n",
       "        6          23\n",
       "        7          14\n",
       "        8          14\n",
       "        9          15"
      ]
     },
     "execution_count": 5,
     "metadata": {},
     "output_type": "execute_result"
    }
   ],
   "source": [
    "internet['session_date'] = pd.to_datetime(internet['session_date'], format = '%Y-%m-%d')\n",
    "internet['month'] = pd.DatetimeIndex(internet['session_date']).month\n",
    "\n",
    "\n",
    "data_internet = np.ceil(internet.groupby(['user_id', 'month']).agg({'mb_used' : ['sum']})/1024).astype('int')\n",
    "data_internet.head()"
   ]
  },
  {
   "cell_type": "markdown",
   "metadata": {},
   "source": [
    "### Сообщения"
   ]
  },
  {
   "cell_type": "code",
   "execution_count": 6,
   "metadata": {},
   "outputs": [
    {
     "name": "stdout",
     "output_type": "stream",
     "text": [
      "<class 'pandas.core.frame.DataFrame'>\n",
      "RangeIndex: 123036 entries, 0 to 123035\n",
      "Data columns (total 3 columns):\n",
      " #   Column        Non-Null Count   Dtype \n",
      "---  ------        --------------   ----- \n",
      " 0   id            123036 non-null  object\n",
      " 1   message_date  123036 non-null  object\n",
      " 2   user_id       123036 non-null  int64 \n",
      "dtypes: int64(1), object(2)\n",
      "memory usage: 2.8+ MB\n"
     ]
    },
    {
     "data": {
      "text/html": [
       "<div>\n",
       "<style scoped>\n",
       "    .dataframe tbody tr th:only-of-type {\n",
       "        vertical-align: middle;\n",
       "    }\n",
       "\n",
       "    .dataframe tbody tr th {\n",
       "        vertical-align: top;\n",
       "    }\n",
       "\n",
       "    .dataframe thead th {\n",
       "        text-align: right;\n",
       "    }\n",
       "</style>\n",
       "<table border=\"1\" class=\"dataframe\">\n",
       "  <thead>\n",
       "    <tr style=\"text-align: right;\">\n",
       "      <th></th>\n",
       "      <th>id</th>\n",
       "      <th>message_date</th>\n",
       "      <th>user_id</th>\n",
       "    </tr>\n",
       "  </thead>\n",
       "  <tbody>\n",
       "    <tr>\n",
       "      <th>0</th>\n",
       "      <td>1000_0</td>\n",
       "      <td>2018-06-27</td>\n",
       "      <td>1000</td>\n",
       "    </tr>\n",
       "    <tr>\n",
       "      <th>1</th>\n",
       "      <td>1000_1</td>\n",
       "      <td>2018-10-08</td>\n",
       "      <td>1000</td>\n",
       "    </tr>\n",
       "    <tr>\n",
       "      <th>2</th>\n",
       "      <td>1000_2</td>\n",
       "      <td>2018-08-04</td>\n",
       "      <td>1000</td>\n",
       "    </tr>\n",
       "    <tr>\n",
       "      <th>3</th>\n",
       "      <td>1000_3</td>\n",
       "      <td>2018-06-16</td>\n",
       "      <td>1000</td>\n",
       "    </tr>\n",
       "    <tr>\n",
       "      <th>4</th>\n",
       "      <td>1000_4</td>\n",
       "      <td>2018-12-05</td>\n",
       "      <td>1000</td>\n",
       "    </tr>\n",
       "  </tbody>\n",
       "</table>\n",
       "</div>"
      ],
      "text/plain": [
       "       id message_date  user_id\n",
       "0  1000_0   2018-06-27     1000\n",
       "1  1000_1   2018-10-08     1000\n",
       "2  1000_2   2018-08-04     1000\n",
       "3  1000_3   2018-06-16     1000\n",
       "4  1000_4   2018-12-05     1000"
      ]
     },
     "execution_count": 6,
     "metadata": {},
     "output_type": "execute_result"
    }
   ],
   "source": [
    "messages.info()\n",
    "messages.head()"
   ]
  },
  {
   "cell_type": "markdown",
   "metadata": {},
   "source": [
    "Датасет имеет 3 столбца: id, message_date, user_id.\n",
    "message_date перевоим к нужому датафрейму. Добавляем новый столбец с месяцем.\n",
    "Группируем данные о количестве сообщений по user_id и месяцам.\n",
    "Пропусков нет."
   ]
  },
  {
   "cell_type": "code",
   "execution_count": 7,
   "metadata": {},
   "outputs": [
    {
     "data": {
      "text/html": [
       "<div>\n",
       "<style scoped>\n",
       "    .dataframe tbody tr th:only-of-type {\n",
       "        vertical-align: middle;\n",
       "    }\n",
       "\n",
       "    .dataframe tbody tr th {\n",
       "        vertical-align: top;\n",
       "    }\n",
       "\n",
       "    .dataframe thead tr th {\n",
       "        text-align: left;\n",
       "    }\n",
       "\n",
       "    .dataframe thead tr:last-of-type th {\n",
       "        text-align: right;\n",
       "    }\n",
       "</style>\n",
       "<table border=\"1\" class=\"dataframe\">\n",
       "  <thead>\n",
       "    <tr>\n",
       "      <th></th>\n",
       "      <th></th>\n",
       "      <th>id</th>\n",
       "    </tr>\n",
       "    <tr>\n",
       "      <th></th>\n",
       "      <th></th>\n",
       "      <th>count</th>\n",
       "    </tr>\n",
       "    <tr>\n",
       "      <th>user_id</th>\n",
       "      <th>month</th>\n",
       "      <th></th>\n",
       "    </tr>\n",
       "  </thead>\n",
       "  <tbody>\n",
       "    <tr>\n",
       "      <th rowspan=\"5\" valign=\"top\">1000</th>\n",
       "      <th>5</th>\n",
       "      <td>22</td>\n",
       "    </tr>\n",
       "    <tr>\n",
       "      <th>6</th>\n",
       "      <td>60</td>\n",
       "    </tr>\n",
       "    <tr>\n",
       "      <th>7</th>\n",
       "      <td>75</td>\n",
       "    </tr>\n",
       "    <tr>\n",
       "      <th>8</th>\n",
       "      <td>81</td>\n",
       "    </tr>\n",
       "    <tr>\n",
       "      <th>9</th>\n",
       "      <td>57</td>\n",
       "    </tr>\n",
       "  </tbody>\n",
       "</table>\n",
       "</div>"
      ],
      "text/plain": [
       "                 id\n",
       "              count\n",
       "user_id month      \n",
       "1000    5        22\n",
       "        6        60\n",
       "        7        75\n",
       "        8        81\n",
       "        9        57"
      ]
     },
     "execution_count": 7,
     "metadata": {},
     "output_type": "execute_result"
    }
   ],
   "source": [
    "messages['message_date'] = pd.to_datetime(messages['message_date'], format = '%Y-%m-%d')\n",
    "messages['month'] = pd.DatetimeIndex(messages['message_date']).month\n",
    "\n",
    "data_messages = messages.groupby(['user_id', 'month']).agg({'id' : ['count']})\n",
    "\n",
    "\n",
    "data_messages.head()"
   ]
  },
  {
   "cell_type": "markdown",
   "metadata": {},
   "source": [
    "### Тариф"
   ]
  },
  {
   "cell_type": "code",
   "execution_count": 8,
   "metadata": {
    "scrolled": false
   },
   "outputs": [
    {
     "name": "stdout",
     "output_type": "stream",
     "text": [
      "<class 'pandas.core.frame.DataFrame'>\n",
      "RangeIndex: 2 entries, 0 to 1\n",
      "Data columns (total 8 columns):\n",
      " #   Column                 Non-Null Count  Dtype \n",
      "---  ------                 --------------  ----- \n",
      " 0   messages_included      2 non-null      int64 \n",
      " 1   mb_per_month_included  2 non-null      int64 \n",
      " 2   minutes_included       2 non-null      int64 \n",
      " 3   rub_monthly_fee        2 non-null      int64 \n",
      " 4   rub_per_gb             2 non-null      int64 \n",
      " 5   rub_per_message        2 non-null      int64 \n",
      " 6   rub_per_minute         2 non-null      int64 \n",
      " 7   tariff_name            2 non-null      object\n",
      "dtypes: int64(7), object(1)\n",
      "memory usage: 256.0+ bytes\n"
     ]
    },
    {
     "data": {
      "text/html": [
       "<div>\n",
       "<style scoped>\n",
       "    .dataframe tbody tr th:only-of-type {\n",
       "        vertical-align: middle;\n",
       "    }\n",
       "\n",
       "    .dataframe tbody tr th {\n",
       "        vertical-align: top;\n",
       "    }\n",
       "\n",
       "    .dataframe thead th {\n",
       "        text-align: right;\n",
       "    }\n",
       "</style>\n",
       "<table border=\"1\" class=\"dataframe\">\n",
       "  <thead>\n",
       "    <tr style=\"text-align: right;\">\n",
       "      <th></th>\n",
       "      <th>messages_included</th>\n",
       "      <th>mb_per_month_included</th>\n",
       "      <th>minutes_included</th>\n",
       "      <th>rub_monthly_fee</th>\n",
       "      <th>rub_per_gb</th>\n",
       "      <th>rub_per_message</th>\n",
       "      <th>rub_per_minute</th>\n",
       "      <th>tariff_name</th>\n",
       "    </tr>\n",
       "  </thead>\n",
       "  <tbody>\n",
       "    <tr>\n",
       "      <th>0</th>\n",
       "      <td>50</td>\n",
       "      <td>15360</td>\n",
       "      <td>500</td>\n",
       "      <td>550</td>\n",
       "      <td>200</td>\n",
       "      <td>3</td>\n",
       "      <td>3</td>\n",
       "      <td>smart</td>\n",
       "    </tr>\n",
       "    <tr>\n",
       "      <th>1</th>\n",
       "      <td>1000</td>\n",
       "      <td>30720</td>\n",
       "      <td>3000</td>\n",
       "      <td>1950</td>\n",
       "      <td>150</td>\n",
       "      <td>1</td>\n",
       "      <td>1</td>\n",
       "      <td>ultra</td>\n",
       "    </tr>\n",
       "  </tbody>\n",
       "</table>\n",
       "</div>"
      ],
      "text/plain": [
       "   messages_included  mb_per_month_included  minutes_included  \\\n",
       "0                 50                  15360               500   \n",
       "1               1000                  30720              3000   \n",
       "\n",
       "   rub_monthly_fee  rub_per_gb  rub_per_message  rub_per_minute tariff_name  \n",
       "0              550         200                3               3       smart  \n",
       "1             1950         150                1               1       ultra  "
      ]
     },
     "execution_count": 8,
     "metadata": {},
     "output_type": "execute_result"
    }
   ],
   "source": [
    "tariffs.info()\n",
    "tariffs.head()"
   ]
  },
  {
   "cell_type": "markdown",
   "metadata": {},
   "source": [
    "Датасет имеет 8 столбцjd: messages_included, mb_per_month_included, minutes_included, rub_monthly_fee, rub_per_gb, rub_per_message, rub_per_minute, tariff_name. Мб переведены в Гб. Столбик tariff_name переименован в tariff для слияния с data.\n",
    "Все числовые значения имеют тип данных int.\n",
    "Пропусков нет.\n",
    "С информацией ознакомилась, к ней вернусь позже."
   ]
  },
  {
   "cell_type": "code",
   "execution_count": 9,
   "metadata": {
    "scrolled": false
   },
   "outputs": [
    {
     "data": {
      "text/html": [
       "<div>\n",
       "<style scoped>\n",
       "    .dataframe tbody tr th:only-of-type {\n",
       "        vertical-align: middle;\n",
       "    }\n",
       "\n",
       "    .dataframe tbody tr th {\n",
       "        vertical-align: top;\n",
       "    }\n",
       "\n",
       "    .dataframe thead th {\n",
       "        text-align: right;\n",
       "    }\n",
       "</style>\n",
       "<table border=\"1\" class=\"dataframe\">\n",
       "  <thead>\n",
       "    <tr style=\"text-align: right;\">\n",
       "      <th></th>\n",
       "      <th>messages_included</th>\n",
       "      <th>mb_per_month_included</th>\n",
       "      <th>minutes_included</th>\n",
       "      <th>rub_monthly_fee</th>\n",
       "      <th>rub_per_gb</th>\n",
       "      <th>rub_per_message</th>\n",
       "      <th>rub_per_minute</th>\n",
       "      <th>tariff</th>\n",
       "    </tr>\n",
       "  </thead>\n",
       "  <tbody>\n",
       "    <tr>\n",
       "      <th>0</th>\n",
       "      <td>50</td>\n",
       "      <td>15</td>\n",
       "      <td>500</td>\n",
       "      <td>550</td>\n",
       "      <td>200</td>\n",
       "      <td>3</td>\n",
       "      <td>3</td>\n",
       "      <td>smart</td>\n",
       "    </tr>\n",
       "    <tr>\n",
       "      <th>1</th>\n",
       "      <td>1000</td>\n",
       "      <td>30</td>\n",
       "      <td>3000</td>\n",
       "      <td>1950</td>\n",
       "      <td>150</td>\n",
       "      <td>1</td>\n",
       "      <td>1</td>\n",
       "      <td>ultra</td>\n",
       "    </tr>\n",
       "  </tbody>\n",
       "</table>\n",
       "</div>"
      ],
      "text/plain": [
       "   messages_included  mb_per_month_included  minutes_included  \\\n",
       "0                 50                     15               500   \n",
       "1               1000                     30              3000   \n",
       "\n",
       "   rub_monthly_fee  rub_per_gb  rub_per_message  rub_per_minute tariff  \n",
       "0              550         200                3               3  smart  \n",
       "1             1950         150                1               1  ultra  "
      ]
     },
     "execution_count": 9,
     "metadata": {},
     "output_type": "execute_result"
    }
   ],
   "source": [
    "tariffs['mb_per_month_included'] = (tariffs['mb_per_month_included']/1024).astype('int')\n",
    "\n",
    "tariffs = tariffs.rename(columns = {'tariff_name' : 'tariff'})\n",
    "\n",
    "tariffs.head()"
   ]
  },
  {
   "cell_type": "markdown",
   "metadata": {},
   "source": [
    "### Пользователи"
   ]
  },
  {
   "cell_type": "code",
   "execution_count": 10,
   "metadata": {},
   "outputs": [
    {
     "name": "stdout",
     "output_type": "stream",
     "text": [
      "<class 'pandas.core.frame.DataFrame'>\n",
      "RangeIndex: 500 entries, 0 to 499\n",
      "Data columns (total 8 columns):\n",
      " #   Column      Non-Null Count  Dtype \n",
      "---  ------      --------------  ----- \n",
      " 0   user_id     500 non-null    int64 \n",
      " 1   age         500 non-null    int64 \n",
      " 2   churn_date  38 non-null     object\n",
      " 3   city        500 non-null    object\n",
      " 4   first_name  500 non-null    object\n",
      " 5   last_name   500 non-null    object\n",
      " 6   reg_date    500 non-null    object\n",
      " 7   tariff      500 non-null    object\n",
      "dtypes: int64(2), object(6)\n",
      "memory usage: 31.4+ KB\n"
     ]
    },
    {
     "data": {
      "text/html": [
       "<div>\n",
       "<style scoped>\n",
       "    .dataframe tbody tr th:only-of-type {\n",
       "        vertical-align: middle;\n",
       "    }\n",
       "\n",
       "    .dataframe tbody tr th {\n",
       "        vertical-align: top;\n",
       "    }\n",
       "\n",
       "    .dataframe thead th {\n",
       "        text-align: right;\n",
       "    }\n",
       "</style>\n",
       "<table border=\"1\" class=\"dataframe\">\n",
       "  <thead>\n",
       "    <tr style=\"text-align: right;\">\n",
       "      <th></th>\n",
       "      <th>user_id</th>\n",
       "      <th>age</th>\n",
       "      <th>churn_date</th>\n",
       "      <th>city</th>\n",
       "      <th>first_name</th>\n",
       "      <th>last_name</th>\n",
       "      <th>reg_date</th>\n",
       "      <th>tariff</th>\n",
       "    </tr>\n",
       "  </thead>\n",
       "  <tbody>\n",
       "    <tr>\n",
       "      <th>0</th>\n",
       "      <td>1000</td>\n",
       "      <td>52</td>\n",
       "      <td>NaN</td>\n",
       "      <td>Краснодар</td>\n",
       "      <td>Рафаил</td>\n",
       "      <td>Верещагин</td>\n",
       "      <td>2018-05-25</td>\n",
       "      <td>ultra</td>\n",
       "    </tr>\n",
       "    <tr>\n",
       "      <th>1</th>\n",
       "      <td>1001</td>\n",
       "      <td>41</td>\n",
       "      <td>NaN</td>\n",
       "      <td>Москва</td>\n",
       "      <td>Иван</td>\n",
       "      <td>Ежов</td>\n",
       "      <td>2018-11-01</td>\n",
       "      <td>smart</td>\n",
       "    </tr>\n",
       "    <tr>\n",
       "      <th>2</th>\n",
       "      <td>1002</td>\n",
       "      <td>59</td>\n",
       "      <td>NaN</td>\n",
       "      <td>Стерлитамак</td>\n",
       "      <td>Евгений</td>\n",
       "      <td>Абрамович</td>\n",
       "      <td>2018-06-17</td>\n",
       "      <td>smart</td>\n",
       "    </tr>\n",
       "    <tr>\n",
       "      <th>3</th>\n",
       "      <td>1003</td>\n",
       "      <td>23</td>\n",
       "      <td>NaN</td>\n",
       "      <td>Москва</td>\n",
       "      <td>Белла</td>\n",
       "      <td>Белякова</td>\n",
       "      <td>2018-08-17</td>\n",
       "      <td>ultra</td>\n",
       "    </tr>\n",
       "    <tr>\n",
       "      <th>4</th>\n",
       "      <td>1004</td>\n",
       "      <td>68</td>\n",
       "      <td>NaN</td>\n",
       "      <td>Новокузнецк</td>\n",
       "      <td>Татьяна</td>\n",
       "      <td>Авдеенко</td>\n",
       "      <td>2018-05-14</td>\n",
       "      <td>ultra</td>\n",
       "    </tr>\n",
       "  </tbody>\n",
       "</table>\n",
       "</div>"
      ],
      "text/plain": [
       "   user_id  age churn_date         city first_name  last_name    reg_date  \\\n",
       "0     1000   52        NaN    Краснодар     Рафаил  Верещагин  2018-05-25   \n",
       "1     1001   41        NaN       Москва       Иван       Ежов  2018-11-01   \n",
       "2     1002   59        NaN  Стерлитамак    Евгений  Абрамович  2018-06-17   \n",
       "3     1003   23        NaN       Москва      Белла   Белякова  2018-08-17   \n",
       "4     1004   68        NaN  Новокузнецк    Татьяна   Авдеенко  2018-05-14   \n",
       "\n",
       "  tariff  \n",
       "0  ultra  \n",
       "1  smart  \n",
       "2  smart  \n",
       "3  ultra  \n",
       "4  ultra  "
      ]
     },
     "execution_count": 10,
     "metadata": {},
     "output_type": "execute_result"
    }
   ],
   "source": [
    "users.info()\n",
    "users.head()"
   ]
  },
  {
   "cell_type": "markdown",
   "metadata": {},
   "source": [
    "Датасет имеет 8 столбцов: user_id, age, churn_date, city, first_name, last_name, reg_date, tariff.\n",
    "Есть пропуски churn_date, как указано в ТЗ это обозначает, что поключение к тарифу актуально на момент выгрузки данных. \n",
    "Создаем новый датасет с необходимыми нам данными по пользователям."
   ]
  },
  {
   "cell_type": "code",
   "execution_count": 11,
   "metadata": {
    "scrolled": true
   },
   "outputs": [
    {
     "data": {
      "text/html": [
       "<div>\n",
       "<style scoped>\n",
       "    .dataframe tbody tr th:only-of-type {\n",
       "        vertical-align: middle;\n",
       "    }\n",
       "\n",
       "    .dataframe tbody tr th {\n",
       "        vertical-align: top;\n",
       "    }\n",
       "\n",
       "    .dataframe thead th {\n",
       "        text-align: right;\n",
       "    }\n",
       "</style>\n",
       "<table border=\"1\" class=\"dataframe\">\n",
       "  <thead>\n",
       "    <tr style=\"text-align: right;\">\n",
       "      <th></th>\n",
       "      <th>user_id</th>\n",
       "      <th>city</th>\n",
       "      <th>tariff</th>\n",
       "    </tr>\n",
       "  </thead>\n",
       "  <tbody>\n",
       "    <tr>\n",
       "      <th>0</th>\n",
       "      <td>1000</td>\n",
       "      <td>Краснодар</td>\n",
       "      <td>ultra</td>\n",
       "    </tr>\n",
       "    <tr>\n",
       "      <th>1</th>\n",
       "      <td>1001</td>\n",
       "      <td>Москва</td>\n",
       "      <td>smart</td>\n",
       "    </tr>\n",
       "    <tr>\n",
       "      <th>2</th>\n",
       "      <td>1002</td>\n",
       "      <td>Стерлитамак</td>\n",
       "      <td>smart</td>\n",
       "    </tr>\n",
       "    <tr>\n",
       "      <th>3</th>\n",
       "      <td>1003</td>\n",
       "      <td>Москва</td>\n",
       "      <td>ultra</td>\n",
       "    </tr>\n",
       "    <tr>\n",
       "      <th>4</th>\n",
       "      <td>1004</td>\n",
       "      <td>Новокузнецк</td>\n",
       "      <td>ultra</td>\n",
       "    </tr>\n",
       "  </tbody>\n",
       "</table>\n",
       "</div>"
      ],
      "text/plain": [
       "   user_id         city tariff\n",
       "0     1000    Краснодар  ultra\n",
       "1     1001       Москва  smart\n",
       "2     1002  Стерлитамак  smart\n",
       "3     1003       Москва  ultra\n",
       "4     1004  Новокузнецк  ultra"
      ]
     },
     "execution_count": 11,
     "metadata": {},
     "output_type": "execute_result"
    }
   ],
   "source": [
    "data_users = users.loc[:, ['user_id', 'city', 'tariff']]\n",
    "\n",
    "data_users.head()"
   ]
  },
  {
   "cell_type": "markdown",
   "metadata": {},
   "source": [
    "### Объединение датасетов"
   ]
  },
  {
   "cell_type": "code",
   "execution_count": 12,
   "metadata": {
    "scrolled": false
   },
   "outputs": [
    {
     "data": {
      "text/html": [
       "<div>\n",
       "<style scoped>\n",
       "    .dataframe tbody tr th:only-of-type {\n",
       "        vertical-align: middle;\n",
       "    }\n",
       "\n",
       "    .dataframe tbody tr th {\n",
       "        vertical-align: top;\n",
       "    }\n",
       "\n",
       "    .dataframe thead tr th {\n",
       "        text-align: left;\n",
       "    }\n",
       "</style>\n",
       "<table border=\"1\" class=\"dataframe\">\n",
       "  <thead>\n",
       "    <tr>\n",
       "      <th></th>\n",
       "      <th>user_id</th>\n",
       "      <th>month</th>\n",
       "      <th colspan=\"2\" halign=\"left\">call_count</th>\n",
       "      <th>web_traffic</th>\n",
       "      <th>message</th>\n",
       "    </tr>\n",
       "    <tr>\n",
       "      <th></th>\n",
       "      <th></th>\n",
       "      <th></th>\n",
       "      <th>count</th>\n",
       "      <th>sum</th>\n",
       "      <th>sum</th>\n",
       "      <th>count</th>\n",
       "    </tr>\n",
       "  </thead>\n",
       "  <tbody>\n",
       "    <tr>\n",
       "      <th>0</th>\n",
       "      <td>1000</td>\n",
       "      <td>5</td>\n",
       "      <td>22.0</td>\n",
       "      <td>159.0</td>\n",
       "      <td>3</td>\n",
       "      <td>22</td>\n",
       "    </tr>\n",
       "    <tr>\n",
       "      <th>1</th>\n",
       "      <td>1000</td>\n",
       "      <td>6</td>\n",
       "      <td>43.0</td>\n",
       "      <td>172.0</td>\n",
       "      <td>23</td>\n",
       "      <td>60</td>\n",
       "    </tr>\n",
       "  </tbody>\n",
       "</table>\n",
       "</div>"
      ],
      "text/plain": [
       "  user_id month call_count        web_traffic message\n",
       "                     count    sum         sum   count\n",
       "0    1000     5       22.0  159.0           3      22\n",
       "1    1000     6       43.0  172.0          23      60"
      ]
     },
     "metadata": {},
     "output_type": "display_data"
    },
    {
     "name": "stdout",
     "output_type": "stream",
     "text": [
      "<class 'pandas.core.frame.DataFrame'>\n",
      "Int64Index: 3216 entries, 0 to 3215\n",
      "Data columns (total 16 columns):\n",
      " #   Column                 Non-Null Count  Dtype  \n",
      "---  ------                 --------------  -----  \n",
      " 0   user_id                3216 non-null   int64  \n",
      " 1   (user_id, )            3214 non-null   float64\n",
      " 2   (month, )              3214 non-null   float64\n",
      " 3   (call_count, count)    3216 non-null   int64  \n",
      " 4   (call_count, sum)      3216 non-null   int64  \n",
      " 5   (web_traffic, sum)     3216 non-null   int64  \n",
      " 6   (message, count)       3216 non-null   int64  \n",
      " 7   city                   3216 non-null   object \n",
      " 8   tariff                 3216 non-null   object \n",
      " 9   messages_included      3216 non-null   int64  \n",
      " 10  mb_per_month_included  3216 non-null   int64  \n",
      " 11  minutes_included       3216 non-null   int64  \n",
      " 12  rub_monthly_fee        3216 non-null   int64  \n",
      " 13  rub_per_gb             3216 non-null   int64  \n",
      " 14  rub_per_message        3216 non-null   int64  \n",
      " 15  rub_per_minute         3216 non-null   int64  \n",
      "dtypes: float64(2), int64(12), object(2)\n",
      "memory usage: 427.1+ KB\n"
     ]
    },
    {
     "data": {
      "text/html": [
       "<div>\n",
       "<style scoped>\n",
       "    .dataframe tbody tr th:only-of-type {\n",
       "        vertical-align: middle;\n",
       "    }\n",
       "\n",
       "    .dataframe tbody tr th {\n",
       "        vertical-align: top;\n",
       "    }\n",
       "\n",
       "    .dataframe thead th {\n",
       "        text-align: right;\n",
       "    }\n",
       "</style>\n",
       "<table border=\"1\" class=\"dataframe\">\n",
       "  <thead>\n",
       "    <tr style=\"text-align: right;\">\n",
       "      <th></th>\n",
       "      <th>user_id</th>\n",
       "      <th>(user_id, )</th>\n",
       "      <th>(month, )</th>\n",
       "      <th>(call_count, count)</th>\n",
       "      <th>(call_count, sum)</th>\n",
       "      <th>(web_traffic, sum)</th>\n",
       "      <th>(message, count)</th>\n",
       "      <th>city</th>\n",
       "      <th>tariff</th>\n",
       "      <th>messages_included</th>\n",
       "      <th>mb_per_month_included</th>\n",
       "      <th>minutes_included</th>\n",
       "      <th>rub_monthly_fee</th>\n",
       "      <th>rub_per_gb</th>\n",
       "      <th>rub_per_message</th>\n",
       "      <th>rub_per_minute</th>\n",
       "    </tr>\n",
       "  </thead>\n",
       "  <tbody>\n",
       "    <tr>\n",
       "      <th>0</th>\n",
       "      <td>1000</td>\n",
       "      <td>1000.0</td>\n",
       "      <td>5.0</td>\n",
       "      <td>22</td>\n",
       "      <td>159</td>\n",
       "      <td>3</td>\n",
       "      <td>22</td>\n",
       "      <td>Краснодар</td>\n",
       "      <td>ultra</td>\n",
       "      <td>1000</td>\n",
       "      <td>30</td>\n",
       "      <td>3000</td>\n",
       "      <td>1950</td>\n",
       "      <td>150</td>\n",
       "      <td>1</td>\n",
       "      <td>1</td>\n",
       "    </tr>\n",
       "    <tr>\n",
       "      <th>1</th>\n",
       "      <td>1000</td>\n",
       "      <td>1000.0</td>\n",
       "      <td>6.0</td>\n",
       "      <td>43</td>\n",
       "      <td>172</td>\n",
       "      <td>23</td>\n",
       "      <td>60</td>\n",
       "      <td>Краснодар</td>\n",
       "      <td>ultra</td>\n",
       "      <td>1000</td>\n",
       "      <td>30</td>\n",
       "      <td>3000</td>\n",
       "      <td>1950</td>\n",
       "      <td>150</td>\n",
       "      <td>1</td>\n",
       "      <td>1</td>\n",
       "    </tr>\n",
       "    <tr>\n",
       "      <th>2</th>\n",
       "      <td>1000</td>\n",
       "      <td>1000.0</td>\n",
       "      <td>7.0</td>\n",
       "      <td>47</td>\n",
       "      <td>340</td>\n",
       "      <td>14</td>\n",
       "      <td>75</td>\n",
       "      <td>Краснодар</td>\n",
       "      <td>ultra</td>\n",
       "      <td>1000</td>\n",
       "      <td>30</td>\n",
       "      <td>3000</td>\n",
       "      <td>1950</td>\n",
       "      <td>150</td>\n",
       "      <td>1</td>\n",
       "      <td>1</td>\n",
       "    </tr>\n",
       "    <tr>\n",
       "      <th>3</th>\n",
       "      <td>1000</td>\n",
       "      <td>1000.0</td>\n",
       "      <td>8.0</td>\n",
       "      <td>52</td>\n",
       "      <td>408</td>\n",
       "      <td>14</td>\n",
       "      <td>81</td>\n",
       "      <td>Краснодар</td>\n",
       "      <td>ultra</td>\n",
       "      <td>1000</td>\n",
       "      <td>30</td>\n",
       "      <td>3000</td>\n",
       "      <td>1950</td>\n",
       "      <td>150</td>\n",
       "      <td>1</td>\n",
       "      <td>1</td>\n",
       "    </tr>\n",
       "    <tr>\n",
       "      <th>4</th>\n",
       "      <td>1000</td>\n",
       "      <td>1000.0</td>\n",
       "      <td>9.0</td>\n",
       "      <td>58</td>\n",
       "      <td>466</td>\n",
       "      <td>15</td>\n",
       "      <td>57</td>\n",
       "      <td>Краснодар</td>\n",
       "      <td>ultra</td>\n",
       "      <td>1000</td>\n",
       "      <td>30</td>\n",
       "      <td>3000</td>\n",
       "      <td>1950</td>\n",
       "      <td>150</td>\n",
       "      <td>1</td>\n",
       "      <td>1</td>\n",
       "    </tr>\n",
       "  </tbody>\n",
       "</table>\n",
       "</div>"
      ],
      "text/plain": [
       "   user_id  (user_id, )  (month, )  (call_count, count)  (call_count, sum)  \\\n",
       "0     1000       1000.0        5.0                   22                159   \n",
       "1     1000       1000.0        6.0                   43                172   \n",
       "2     1000       1000.0        7.0                   47                340   \n",
       "3     1000       1000.0        8.0                   52                408   \n",
       "4     1000       1000.0        9.0                   58                466   \n",
       "\n",
       "   (web_traffic, sum)  (message, count)       city tariff  messages_included  \\\n",
       "0                   3                22  Краснодар  ultra               1000   \n",
       "1                  23                60  Краснодар  ultra               1000   \n",
       "2                  14                75  Краснодар  ultra               1000   \n",
       "3                  14                81  Краснодар  ultra               1000   \n",
       "4                  15                57  Краснодар  ultra               1000   \n",
       "\n",
       "   mb_per_month_included  minutes_included  rub_monthly_fee  rub_per_gb  \\\n",
       "0                     30              3000             1950         150   \n",
       "1                     30              3000             1950         150   \n",
       "2                     30              3000             1950         150   \n",
       "3                     30              3000             1950         150   \n",
       "4                     30              3000             1950         150   \n",
       "\n",
       "   rub_per_message  rub_per_minute  \n",
       "0                1               1  \n",
       "1                1               1  \n",
       "2                1               1  \n",
       "3                1               1  \n",
       "4                1               1  "
      ]
     },
     "execution_count": 12,
     "metadata": {},
     "output_type": "execute_result"
    }
   ],
   "source": [
    "data = data_calls.merge(data_internet, on = ['user_id', 'month'], how = 'outer')\n",
    "data = data.merge(data_messages, on = ['user_id', 'month'], how = 'outer')\n",
    "data = data.rename(\n",
    "    columns = {\n",
    "        'mb_used' : 'web_traffic',\n",
    "        'id' : 'message',\n",
    "    }\n",
    ")\n",
    "\n",
    "data['web_traffic'] = data['web_traffic'].fillna(0)\n",
    "data['web_traffic'] = data['web_traffic'].astype('int')\n",
    "data['message'] = data['message'].fillna(0)\n",
    "data['message'] = data['message'].astype('int')\n",
    "\n",
    "data = data.reset_index()\n",
    "display(data.head(2))\n",
    "\n",
    "data = data.merge(data_users, on = 'user_id', how = 'outer')\n",
    "data = data.merge(tariffs, on = 'tariff', how = 'outer')\n",
    "\n",
    "data['call_count', 'count'] = data['call_count', 'count'].fillna(0).astype('int')\n",
    "data['call_count', 'sum'] = data['call_count', 'sum'].fillna(0).astype('int')\n",
    "data['web_traffic', 'sum'] = data['web_traffic', 'sum'].fillna(0).astype('int')\n",
    "data['message', 'count'] = data['message', 'count'].fillna(0).astype('int')\n",
    "\n",
    "\n",
    "data.info()\n",
    "data.head()"
   ]
  },
  {
   "cell_type": "markdown",
   "metadata": {},
   "source": [
    "Объединили 5 датасетов: телефонные звонки, интернет трафик, сообщения, данные по пользователям тарифы. Датасет сгрупирован по user_id и сведен по месяцам.\n",
    "Для удобства переменованы столбцы. Пропуски заполнены. Тип приведен к целым числам."
   ]
  },
  {
   "cell_type": "markdown",
   "metadata": {},
   "source": [
    "### Подсчет помесячной выручки"
   ]
  },
  {
   "cell_type": "code",
   "execution_count": 13,
   "metadata": {
    "scrolled": false
   },
   "outputs": [
    {
     "name": "stdout",
     "output_type": "stream",
     "text": [
      "<class 'pandas.core.frame.DataFrame'>\n",
      "Int64Index: 3216 entries, 0 to 3215\n",
      "Data columns (total 20 columns):\n",
      " #   Column                 Non-Null Count  Dtype  \n",
      "---  ------                 --------------  -----  \n",
      " 0   user_id                3216 non-null   int64  \n",
      " 1   (user_id, )            3214 non-null   float64\n",
      " 2   (month, )              3214 non-null   float64\n",
      " 3   (call_count, count)    3216 non-null   int64  \n",
      " 4   (call_count, sum)      3216 non-null   int64  \n",
      " 5   (web_traffic, sum)     3216 non-null   int64  \n",
      " 6   (message, count)       3216 non-null   int64  \n",
      " 7   city                   3216 non-null   object \n",
      " 8   tariff                 3216 non-null   object \n",
      " 9   messages_included      3216 non-null   int64  \n",
      " 10  mb_per_month_included  3216 non-null   int64  \n",
      " 11  minutes_included       3216 non-null   int64  \n",
      " 12  rub_monthly_fee        3216 non-null   int64  \n",
      " 13  rub_per_gb             3216 non-null   int64  \n",
      " 14  rub_per_message        3216 non-null   int64  \n",
      " 15  rub_per_minute         3216 non-null   int64  \n",
      " 16  additional_calls       3216 non-null   int64  \n",
      " 17  additional_internet    3216 non-null   int64  \n",
      " 18  additional_message     3216 non-null   int64  \n",
      " 19  total_revenue          3216 non-null   int64  \n",
      "dtypes: float64(2), int64(16), object(2)\n",
      "memory usage: 527.6+ KB\n"
     ]
    },
    {
     "data": {
      "text/html": [
       "<div>\n",
       "<style scoped>\n",
       "    .dataframe tbody tr th:only-of-type {\n",
       "        vertical-align: middle;\n",
       "    }\n",
       "\n",
       "    .dataframe tbody tr th {\n",
       "        vertical-align: top;\n",
       "    }\n",
       "\n",
       "    .dataframe thead th {\n",
       "        text-align: right;\n",
       "    }\n",
       "</style>\n",
       "<table border=\"1\" class=\"dataframe\">\n",
       "  <thead>\n",
       "    <tr style=\"text-align: right;\">\n",
       "      <th></th>\n",
       "      <th>user_id</th>\n",
       "      <th>(user_id, )</th>\n",
       "      <th>(month, )</th>\n",
       "      <th>(call_count, count)</th>\n",
       "      <th>(call_count, sum)</th>\n",
       "      <th>(web_traffic, sum)</th>\n",
       "      <th>(message, count)</th>\n",
       "      <th>city</th>\n",
       "      <th>tariff</th>\n",
       "      <th>messages_included</th>\n",
       "      <th>mb_per_month_included</th>\n",
       "      <th>minutes_included</th>\n",
       "      <th>rub_monthly_fee</th>\n",
       "      <th>rub_per_gb</th>\n",
       "      <th>rub_per_message</th>\n",
       "      <th>rub_per_minute</th>\n",
       "      <th>additional_calls</th>\n",
       "      <th>additional_internet</th>\n",
       "      <th>additional_message</th>\n",
       "      <th>total_revenue</th>\n",
       "    </tr>\n",
       "  </thead>\n",
       "  <tbody>\n",
       "    <tr>\n",
       "      <th>0</th>\n",
       "      <td>1000</td>\n",
       "      <td>1000.0</td>\n",
       "      <td>5.0</td>\n",
       "      <td>22</td>\n",
       "      <td>159</td>\n",
       "      <td>3</td>\n",
       "      <td>22</td>\n",
       "      <td>Краснодар</td>\n",
       "      <td>ultra</td>\n",
       "      <td>1000</td>\n",
       "      <td>30</td>\n",
       "      <td>3000</td>\n",
       "      <td>1950</td>\n",
       "      <td>150</td>\n",
       "      <td>1</td>\n",
       "      <td>1</td>\n",
       "      <td>0</td>\n",
       "      <td>0</td>\n",
       "      <td>0</td>\n",
       "      <td>1950</td>\n",
       "    </tr>\n",
       "    <tr>\n",
       "      <th>1</th>\n",
       "      <td>1000</td>\n",
       "      <td>1000.0</td>\n",
       "      <td>6.0</td>\n",
       "      <td>43</td>\n",
       "      <td>172</td>\n",
       "      <td>23</td>\n",
       "      <td>60</td>\n",
       "      <td>Краснодар</td>\n",
       "      <td>ultra</td>\n",
       "      <td>1000</td>\n",
       "      <td>30</td>\n",
       "      <td>3000</td>\n",
       "      <td>1950</td>\n",
       "      <td>150</td>\n",
       "      <td>1</td>\n",
       "      <td>1</td>\n",
       "      <td>0</td>\n",
       "      <td>0</td>\n",
       "      <td>0</td>\n",
       "      <td>1950</td>\n",
       "    </tr>\n",
       "    <tr>\n",
       "      <th>2</th>\n",
       "      <td>1000</td>\n",
       "      <td>1000.0</td>\n",
       "      <td>7.0</td>\n",
       "      <td>47</td>\n",
       "      <td>340</td>\n",
       "      <td>14</td>\n",
       "      <td>75</td>\n",
       "      <td>Краснодар</td>\n",
       "      <td>ultra</td>\n",
       "      <td>1000</td>\n",
       "      <td>30</td>\n",
       "      <td>3000</td>\n",
       "      <td>1950</td>\n",
       "      <td>150</td>\n",
       "      <td>1</td>\n",
       "      <td>1</td>\n",
       "      <td>0</td>\n",
       "      <td>0</td>\n",
       "      <td>0</td>\n",
       "      <td>1950</td>\n",
       "    </tr>\n",
       "    <tr>\n",
       "      <th>3</th>\n",
       "      <td>1000</td>\n",
       "      <td>1000.0</td>\n",
       "      <td>8.0</td>\n",
       "      <td>52</td>\n",
       "      <td>408</td>\n",
       "      <td>14</td>\n",
       "      <td>81</td>\n",
       "      <td>Краснодар</td>\n",
       "      <td>ultra</td>\n",
       "      <td>1000</td>\n",
       "      <td>30</td>\n",
       "      <td>3000</td>\n",
       "      <td>1950</td>\n",
       "      <td>150</td>\n",
       "      <td>1</td>\n",
       "      <td>1</td>\n",
       "      <td>0</td>\n",
       "      <td>0</td>\n",
       "      <td>0</td>\n",
       "      <td>1950</td>\n",
       "    </tr>\n",
       "    <tr>\n",
       "      <th>4</th>\n",
       "      <td>1000</td>\n",
       "      <td>1000.0</td>\n",
       "      <td>9.0</td>\n",
       "      <td>58</td>\n",
       "      <td>466</td>\n",
       "      <td>15</td>\n",
       "      <td>57</td>\n",
       "      <td>Краснодар</td>\n",
       "      <td>ultra</td>\n",
       "      <td>1000</td>\n",
       "      <td>30</td>\n",
       "      <td>3000</td>\n",
       "      <td>1950</td>\n",
       "      <td>150</td>\n",
       "      <td>1</td>\n",
       "      <td>1</td>\n",
       "      <td>0</td>\n",
       "      <td>0</td>\n",
       "      <td>0</td>\n",
       "      <td>1950</td>\n",
       "    </tr>\n",
       "    <tr>\n",
       "      <th>5</th>\n",
       "      <td>1000</td>\n",
       "      <td>1000.0</td>\n",
       "      <td>10.0</td>\n",
       "      <td>57</td>\n",
       "      <td>350</td>\n",
       "      <td>15</td>\n",
       "      <td>73</td>\n",
       "      <td>Краснодар</td>\n",
       "      <td>ultra</td>\n",
       "      <td>1000</td>\n",
       "      <td>30</td>\n",
       "      <td>3000</td>\n",
       "      <td>1950</td>\n",
       "      <td>150</td>\n",
       "      <td>1</td>\n",
       "      <td>1</td>\n",
       "      <td>0</td>\n",
       "      <td>0</td>\n",
       "      <td>0</td>\n",
       "      <td>1950</td>\n",
       "    </tr>\n",
       "    <tr>\n",
       "      <th>6</th>\n",
       "      <td>1000</td>\n",
       "      <td>1000.0</td>\n",
       "      <td>11.0</td>\n",
       "      <td>43</td>\n",
       "      <td>338</td>\n",
       "      <td>15</td>\n",
       "      <td>58</td>\n",
       "      <td>Краснодар</td>\n",
       "      <td>ultra</td>\n",
       "      <td>1000</td>\n",
       "      <td>30</td>\n",
       "      <td>3000</td>\n",
       "      <td>1950</td>\n",
       "      <td>150</td>\n",
       "      <td>1</td>\n",
       "      <td>1</td>\n",
       "      <td>0</td>\n",
       "      <td>0</td>\n",
       "      <td>0</td>\n",
       "      <td>1950</td>\n",
       "    </tr>\n",
       "    <tr>\n",
       "      <th>7</th>\n",
       "      <td>1000</td>\n",
       "      <td>1000.0</td>\n",
       "      <td>12.0</td>\n",
       "      <td>46</td>\n",
       "      <td>333</td>\n",
       "      <td>10</td>\n",
       "      <td>70</td>\n",
       "      <td>Краснодар</td>\n",
       "      <td>ultra</td>\n",
       "      <td>1000</td>\n",
       "      <td>30</td>\n",
       "      <td>3000</td>\n",
       "      <td>1950</td>\n",
       "      <td>150</td>\n",
       "      <td>1</td>\n",
       "      <td>1</td>\n",
       "      <td>0</td>\n",
       "      <td>0</td>\n",
       "      <td>0</td>\n",
       "      <td>1950</td>\n",
       "    </tr>\n",
       "    <tr>\n",
       "      <th>8</th>\n",
       "      <td>1003</td>\n",
       "      <td>1003.0</td>\n",
       "      <td>8.0</td>\n",
       "      <td>55</td>\n",
       "      <td>380</td>\n",
       "      <td>9</td>\n",
       "      <td>37</td>\n",
       "      <td>Москва</td>\n",
       "      <td>ultra</td>\n",
       "      <td>1000</td>\n",
       "      <td>30</td>\n",
       "      <td>3000</td>\n",
       "      <td>1950</td>\n",
       "      <td>150</td>\n",
       "      <td>1</td>\n",
       "      <td>1</td>\n",
       "      <td>0</td>\n",
       "      <td>0</td>\n",
       "      <td>0</td>\n",
       "      <td>1950</td>\n",
       "    </tr>\n",
       "    <tr>\n",
       "      <th>9</th>\n",
       "      <td>1003</td>\n",
       "      <td>1003.0</td>\n",
       "      <td>9.0</td>\n",
       "      <td>134</td>\n",
       "      <td>961</td>\n",
       "      <td>13</td>\n",
       "      <td>91</td>\n",
       "      <td>Москва</td>\n",
       "      <td>ultra</td>\n",
       "      <td>1000</td>\n",
       "      <td>30</td>\n",
       "      <td>3000</td>\n",
       "      <td>1950</td>\n",
       "      <td>150</td>\n",
       "      <td>1</td>\n",
       "      <td>1</td>\n",
       "      <td>0</td>\n",
       "      <td>0</td>\n",
       "      <td>0</td>\n",
       "      <td>1950</td>\n",
       "    </tr>\n",
       "  </tbody>\n",
       "</table>\n",
       "</div>"
      ],
      "text/plain": [
       "   user_id  (user_id, )  (month, )  (call_count, count)  (call_count, sum)  \\\n",
       "0     1000       1000.0        5.0                   22                159   \n",
       "1     1000       1000.0        6.0                   43                172   \n",
       "2     1000       1000.0        7.0                   47                340   \n",
       "3     1000       1000.0        8.0                   52                408   \n",
       "4     1000       1000.0        9.0                   58                466   \n",
       "5     1000       1000.0       10.0                   57                350   \n",
       "6     1000       1000.0       11.0                   43                338   \n",
       "7     1000       1000.0       12.0                   46                333   \n",
       "8     1003       1003.0        8.0                   55                380   \n",
       "9     1003       1003.0        9.0                  134                961   \n",
       "\n",
       "   (web_traffic, sum)  (message, count)       city tariff  messages_included  \\\n",
       "0                   3                22  Краснодар  ultra               1000   \n",
       "1                  23                60  Краснодар  ultra               1000   \n",
       "2                  14                75  Краснодар  ultra               1000   \n",
       "3                  14                81  Краснодар  ultra               1000   \n",
       "4                  15                57  Краснодар  ultra               1000   \n",
       "5                  15                73  Краснодар  ultra               1000   \n",
       "6                  15                58  Краснодар  ultra               1000   \n",
       "7                  10                70  Краснодар  ultra               1000   \n",
       "8                   9                37     Москва  ultra               1000   \n",
       "9                  13                91     Москва  ultra               1000   \n",
       "\n",
       "   mb_per_month_included  minutes_included  rub_monthly_fee  rub_per_gb  \\\n",
       "0                     30              3000             1950         150   \n",
       "1                     30              3000             1950         150   \n",
       "2                     30              3000             1950         150   \n",
       "3                     30              3000             1950         150   \n",
       "4                     30              3000             1950         150   \n",
       "5                     30              3000             1950         150   \n",
       "6                     30              3000             1950         150   \n",
       "7                     30              3000             1950         150   \n",
       "8                     30              3000             1950         150   \n",
       "9                     30              3000             1950         150   \n",
       "\n",
       "   rub_per_message  rub_per_minute  additional_calls  additional_internet  \\\n",
       "0                1               1                 0                    0   \n",
       "1                1               1                 0                    0   \n",
       "2                1               1                 0                    0   \n",
       "3                1               1                 0                    0   \n",
       "4                1               1                 0                    0   \n",
       "5                1               1                 0                    0   \n",
       "6                1               1                 0                    0   \n",
       "7                1               1                 0                    0   \n",
       "8                1               1                 0                    0   \n",
       "9                1               1                 0                    0   \n",
       "\n",
       "   additional_message  total_revenue  \n",
       "0                   0           1950  \n",
       "1                   0           1950  \n",
       "2                   0           1950  \n",
       "3                   0           1950  \n",
       "4                   0           1950  \n",
       "5                   0           1950  \n",
       "6                   0           1950  \n",
       "7                   0           1950  \n",
       "8                   0           1950  \n",
       "9                   0           1950  "
      ]
     },
     "execution_count": 13,
     "metadata": {},
     "output_type": "execute_result"
    }
   ],
   "source": [
    "def revenue_call(row):\n",
    "    overspending_minutes = row['call_count', 'sum'] - row['minutes_included']\n",
    "    if overspending_minutes >= 0:\n",
    "        return overspending_minutes * row['rub_per_minute']\n",
    "    return 0\n",
    "data['additional_calls'] = data.apply(revenue_call, axis = 1)\n",
    "\n",
    "\n",
    "def revenue_internet(row):\n",
    "    overspending_internet = row['web_traffic', 'sum'] - row['mb_per_month_included']\n",
    "    if overspending_internet >= 0:\n",
    "        return overspending_internet * row['rub_per_gb']\n",
    "    return 0\n",
    "data['additional_internet'] = data.apply(revenue_internet, axis = 1)\n",
    "\n",
    "\n",
    "def revenue_message(row):\n",
    "    overspending_message = row['message', 'count'] - row['messages_included']\n",
    "    if overspending_message >= 0:\n",
    "        return overspending_message * row['rub_per_message']\n",
    "    return 0\n",
    "data['additional_message'] = data.apply(revenue_message, axis = 1)\n",
    "\n",
    "\n",
    "data['total_revenue'] = data['additional_calls'] + data['additional_internet'] + data['additional_message'] + data['rub_monthly_fee']\n",
    "\n",
    "data.info()\n",
    "data.head(10)\n"
   ]
  },
  {
   "cell_type": "markdown",
   "metadata": {},
   "source": [
    "Для подсчета было создано 3 функции: для звонков(additional_calls), интернета(additional_internet) и сообщений(additional_message). После все эти данные совместно с тарифом ссумировались и получили полную сумму за каждый месяц (total_revenue)."
   ]
  },
  {
   "cell_type": "code",
   "execution_count": 14,
   "metadata": {},
   "outputs": [
    {
     "data": {
      "text/plain": [
       "4916951"
      ]
     },
     "execution_count": 14,
     "metadata": {},
     "output_type": "execute_result"
    }
   ],
   "source": [
    "# check\n",
    "data['total_revenue'].sum()"
   ]
  },
  {
   "cell_type": "code",
   "execution_count": 15,
   "metadata": {},
   "outputs": [
    {
     "data": {
      "text/html": [
       "<div>\n",
       "<style scoped>\n",
       "    .dataframe tbody tr th:only-of-type {\n",
       "        vertical-align: middle;\n",
       "    }\n",
       "\n",
       "    .dataframe tbody tr th {\n",
       "        vertical-align: top;\n",
       "    }\n",
       "\n",
       "    .dataframe thead th {\n",
       "        text-align: right;\n",
       "    }\n",
       "</style>\n",
       "<table border=\"1\" class=\"dataframe\">\n",
       "  <thead>\n",
       "    <tr style=\"text-align: right;\">\n",
       "      <th></th>\n",
       "      <th>user_id</th>\n",
       "      <th>(call_count, sum)</th>\n",
       "      <th>(web_traffic, sum)</th>\n",
       "      <th>(message, count)</th>\n",
       "      <th>tariff</th>\n",
       "      <th>additional_calls</th>\n",
       "      <th>additional_internet</th>\n",
       "      <th>additional_message</th>\n",
       "      <th>total_revenue</th>\n",
       "    </tr>\n",
       "  </thead>\n",
       "  <tbody>\n",
       "    <tr>\n",
       "      <th>3212</th>\n",
       "      <td>1489</td>\n",
       "      <td>0</td>\n",
       "      <td>20</td>\n",
       "      <td>21</td>\n",
       "      <td>smart</td>\n",
       "      <td>0</td>\n",
       "      <td>1000</td>\n",
       "      <td>0</td>\n",
       "      <td>1550</td>\n",
       "    </tr>\n",
       "    <tr>\n",
       "      <th>3213</th>\n",
       "      <td>1489</td>\n",
       "      <td>0</td>\n",
       "      <td>18</td>\n",
       "      <td>20</td>\n",
       "      <td>smart</td>\n",
       "      <td>0</td>\n",
       "      <td>600</td>\n",
       "      <td>0</td>\n",
       "      <td>1150</td>\n",
       "    </tr>\n",
       "    <tr>\n",
       "      <th>3214</th>\n",
       "      <td>1489</td>\n",
       "      <td>0</td>\n",
       "      <td>17</td>\n",
       "      <td>35</td>\n",
       "      <td>smart</td>\n",
       "      <td>0</td>\n",
       "      <td>400</td>\n",
       "      <td>0</td>\n",
       "      <td>950</td>\n",
       "    </tr>\n",
       "    <tr>\n",
       "      <th>3215</th>\n",
       "      <td>1371</td>\n",
       "      <td>0</td>\n",
       "      <td>0</td>\n",
       "      <td>0</td>\n",
       "      <td>smart</td>\n",
       "      <td>0</td>\n",
       "      <td>0</td>\n",
       "      <td>0</td>\n",
       "      <td>550</td>\n",
       "    </tr>\n",
       "  </tbody>\n",
       "</table>\n",
       "</div>"
      ],
      "text/plain": [
       "      user_id  (call_count, sum)  (web_traffic, sum)  (message, count) tariff  \\\n",
       "3212     1489                  0                  20                21  smart   \n",
       "3213     1489                  0                  18                20  smart   \n",
       "3214     1489                  0                  17                35  smart   \n",
       "3215     1371                  0                   0                 0  smart   \n",
       "\n",
       "      additional_calls  additional_internet  additional_message  total_revenue  \n",
       "3212                 0                 1000                   0           1550  \n",
       "3213                 0                  600                   0           1150  \n",
       "3214                 0                  400                   0            950  \n",
       "3215                 0                    0                   0            550  "
      ]
     },
     "execution_count": 15,
     "metadata": {},
     "output_type": "execute_result"
    }
   ],
   "source": [
    "# check\n",
    "data[['user_id', ('call_count', 'sum'),  ('web_traffic', 'sum'),\n",
    "          ('message', 'count'), 'tariff',  'additional_calls',   'additional_internet', 'additional_message',\n",
    "      'total_revenue']].tail(4)"
   ]
  },
  {
   "cell_type": "markdown",
   "metadata": {},
   "source": [
    "## Анализ данных\n"
   ]
  },
  {
   "cell_type": "markdown",
   "metadata": {},
   "source": [
    "### Количество минут"
   ]
  },
  {
   "cell_type": "markdown",
   "metadata": {},
   "source": [
    "#### Среднее, дисперсия и гистограмма"
   ]
  },
  {
   "cell_type": "code",
   "execution_count": 16,
   "metadata": {},
   "outputs": [],
   "source": [
    "data_smart = data.loc[data.loc[:, 'tariff'] == 'smart']\n",
    "data_ultra = data.loc[data.loc[:, 'tariff'] == 'ultra']\n",
    "\n",
    "data_smart['call_count_sum_smart'] = data_smart['call_count', 'sum']\n",
    "data_ultra['call_count_sum_ultra'] = data_ultra['call_count', 'sum']\n",
    "\n",
    "data_smart['web_trafic_smart'] = data_smart['web_traffic', 'sum']\n",
    "data_ultra['web_trafic_ultra'] = data_ultra['web_traffic', 'sum']\n",
    "\n",
    "data_smart['message_smart'] = data_smart['message', 'count']\n",
    "data_ultra['message_ultra'] = data_ultra['message', 'count']"
   ]
  },
  {
   "cell_type": "code",
   "execution_count": 17,
   "metadata": {
    "scrolled": true
   },
   "outputs": [
    {
     "name": "stdout",
     "output_type": "stream",
     "text": [
      "<class 'pandas.core.frame.DataFrame'>\n",
      "Int64Index: 986 entries, 0 to 985\n",
      "Data columns (total 23 columns):\n",
      " #   Column                 Non-Null Count  Dtype  \n",
      "---  ------                 --------------  -----  \n",
      " 0   user_id                986 non-null    int64  \n",
      " 1   (user_id, )            985 non-null    float64\n",
      " 2   (month, )              985 non-null    float64\n",
      " 3   (call_count, count)    986 non-null    int64  \n",
      " 4   (call_count, sum)      986 non-null    int64  \n",
      " 5   (web_traffic, sum)     986 non-null    int64  \n",
      " 6   (message, count)       986 non-null    int64  \n",
      " 7   city                   986 non-null    object \n",
      " 8   tariff                 986 non-null    object \n",
      " 9   messages_included      986 non-null    int64  \n",
      " 10  mb_per_month_included  986 non-null    int64  \n",
      " 11  minutes_included       986 non-null    int64  \n",
      " 12  rub_monthly_fee        986 non-null    int64  \n",
      " 13  rub_per_gb             986 non-null    int64  \n",
      " 14  rub_per_message        986 non-null    int64  \n",
      " 15  rub_per_minute         986 non-null    int64  \n",
      " 16  additional_calls       986 non-null    int64  \n",
      " 17  additional_internet    986 non-null    int64  \n",
      " 18  additional_message     986 non-null    int64  \n",
      " 19  total_revenue          986 non-null    int64  \n",
      " 20  call_count_sum_ultra   986 non-null    int64  \n",
      " 21  web_trafic_ultra       986 non-null    int64  \n",
      " 22  message_ultra          986 non-null    int64  \n",
      "dtypes: float64(2), int64(19), object(2)\n",
      "memory usage: 184.9+ KB\n"
     ]
    }
   ],
   "source": [
    "# check \n",
    "data_ultra.info()"
   ]
  },
  {
   "cell_type": "code",
   "execution_count": 18,
   "metadata": {
    "scrolled": true
   },
   "outputs": [
    {
     "name": "stdout",
     "output_type": "stream",
     "text": [
      "<class 'pandas.core.frame.DataFrame'>\n",
      "Int64Index: 2230 entries, 986 to 3215\n",
      "Data columns (total 23 columns):\n",
      " #   Column                 Non-Null Count  Dtype  \n",
      "---  ------                 --------------  -----  \n",
      " 0   user_id                2230 non-null   int64  \n",
      " 1   (user_id, )            2229 non-null   float64\n",
      " 2   (month, )              2229 non-null   float64\n",
      " 3   (call_count, count)    2230 non-null   int64  \n",
      " 4   (call_count, sum)      2230 non-null   int64  \n",
      " 5   (web_traffic, sum)     2230 non-null   int64  \n",
      " 6   (message, count)       2230 non-null   int64  \n",
      " 7   city                   2230 non-null   object \n",
      " 8   tariff                 2230 non-null   object \n",
      " 9   messages_included      2230 non-null   int64  \n",
      " 10  mb_per_month_included  2230 non-null   int64  \n",
      " 11  minutes_included       2230 non-null   int64  \n",
      " 12  rub_monthly_fee        2230 non-null   int64  \n",
      " 13  rub_per_gb             2230 non-null   int64  \n",
      " 14  rub_per_message        2230 non-null   int64  \n",
      " 15  rub_per_minute         2230 non-null   int64  \n",
      " 16  additional_calls       2230 non-null   int64  \n",
      " 17  additional_internet    2230 non-null   int64  \n",
      " 18  additional_message     2230 non-null   int64  \n",
      " 19  total_revenue          2230 non-null   int64  \n",
      " 20  call_count_sum_smart   2230 non-null   int64  \n",
      " 21  web_trafic_smart       2230 non-null   int64  \n",
      " 22  message_smart          2230 non-null   int64  \n",
      "dtypes: float64(2), int64(19), object(2)\n",
      "memory usage: 418.1+ KB\n"
     ]
    }
   ],
   "source": [
    "# check \n",
    "data_smart.info()"
   ]
  },
  {
   "cell_type": "markdown",
   "metadata": {},
   "source": [
    "Подготавливаем данные"
   ]
  },
  {
   "cell_type": "code",
   "execution_count": 19,
   "metadata": {},
   "outputs": [
    {
     "name": "stdout",
     "output_type": "stream",
     "text": [
      "Среднее количество минут Smart 417.747533632287\n",
      "Среднее количество минут Ultra 526.0892494929006\n",
      "\n",
      "Дисперсия Smart 36281.39383644458\n",
      "Дисперсия Ultra 101052.49354928387\n",
      "\n",
      "Гистограмма минут\n"
     ]
    },
    {
     "data": {
      "image/png": "[encoded data removed]",
      "text/plain": [
       "<Figure size 432x288 with 1 Axes>"
      ]
     },
     "metadata": {
      "needs_background": "light"
     },
     "output_type": "display_data"
    }
   ],
   "source": [
    "data_smart['call_count_sum_smart'].plot(kind = 'hist', bins = 100, grid = True, density = True)\n",
    "data_ultra['call_count_sum_ultra'].plot(kind = 'hist', bins = 100, grid = True, density = True)\n",
    "\n",
    "call_smart_var = np.var(data_smart['call_count_sum_smart'], ddof=1)\n",
    "call_ultra_var = np.var(data_ultra['call_count_sum_ultra'], ddof=1)\n",
    "\n",
    "print('Среднее количество минут Smart', data_smart['call_count_sum_smart'].mean())\n",
    "print('Среднее количество минут Ultra', data_ultra['call_count_sum_ultra'].mean())\n",
    "print('')\n",
    "print('Дисперсия Smart', call_smart_var)\n",
    "print('Дисперсия Ultra', call_ultra_var)\n",
    "print('')\n",
    "print('Гистограмма минут')"
   ]
  },
  {
   "cell_type": "markdown",
   "metadata": {},
   "source": [
    "#### Редкие и выбивающиеся значения"
   ]
  },
  {
   "cell_type": "markdown",
   "metadata": {},
   "source": [
    "##### Звонки Smart"
   ]
  },
  {
   "cell_type": "code",
   "execution_count": 20,
   "metadata": {},
   "outputs": [
    {
     "data": {
      "text/plain": [
       "count    2230\n",
       "mean      418\n",
       "std       190\n",
       "min         0\n",
       "25%       282\n",
       "50%       422\n",
       "75%       545\n",
       "max      1435\n",
       "Name: call_count_sum_smart, dtype: int64"
      ]
     },
     "metadata": {},
     "output_type": "display_data"
    },
    {
     "data": {
      "image/png": "[encoded data removed]",
      "text/plain": [
       "<Figure size 432x288 with 1 Axes>"
      ]
     },
     "metadata": {
      "needs_background": "light"
     },
     "output_type": "display_data"
    },
    {
     "data": {
      "text/plain": [
       "0.9959641255605381"
      ]
     },
     "metadata": {},
     "output_type": "display_data"
    },
    {
     "data": {
      "text/plain": [
       "count     2214\n",
       "unique     351\n",
       "top       1113\n",
       "freq        12\n",
       "Name: call_count_sum_smart, dtype: int64"
      ]
     },
     "metadata": {},
     "output_type": "display_data"
    }
   ],
   "source": [
    "display(data_smart['call_count_sum_smart'].describe().round(0).astype(int))\n",
    "data_smart.boxplot('call_count_sum_smart')\n",
    "plt.show()\n",
    "display(len(data_smart.query('call_count_sum_smart > 0'))/len(data_smart))\n",
    "data_smart['call_count_sum_smart'] = data_smart.query('call_count_sum_smart <= 900')\n",
    "display(data_smart['call_count_sum_smart'].describe().round(0).astype(int))"
   ]
  },
  {
   "cell_type": "markdown",
   "metadata": {},
   "source": [
    "##### Звонки Ultra"
   ]
  },
  {
   "cell_type": "code",
   "execution_count": 21,
   "metadata": {},
   "outputs": [
    {
     "data": {
      "text/plain": [
       "count     986\n",
       "mean      526\n",
       "std       318\n",
       "min         0\n",
       "25%       282\n",
       "50%       518\n",
       "75%       752\n",
       "max      1673\n",
       "Name: call_count_sum_ultra, dtype: int64"
      ]
     },
     "metadata": {},
     "output_type": "display_data"
    },
    {
     "data": {
      "image/png": "[encoded data removed]",
      "text/plain": [
       "<Figure size 432x288 with 1 Axes>"
      ]
     },
     "metadata": {
      "needs_background": "light"
     },
     "output_type": "display_data"
    },
    {
     "data": {
      "text/plain": [
       "0.960446247464503"
      ]
     },
     "metadata": {},
     "output_type": "display_data"
    },
    {
     "data": {
      "text/plain": [
       "count      982\n",
       "unique     149\n",
       "top       1385\n",
       "freq        12\n",
       "Name: call_count_sum_ultra, dtype: int64"
      ]
     },
     "metadata": {},
     "output_type": "display_data"
    }
   ],
   "source": [
    "display(data_ultra['call_count_sum_ultra'].describe().round(0).astype(int))\n",
    "data_ultra.boxplot('call_count_sum_ultra')\n",
    "plt.show()\n",
    "display(len(data_ultra.query('call_count_sum_ultra > 0'))/len(data_ultra))\n",
    "data_ultra['call_count_sum_ultra'] = data_ultra.query('call_count_sum_ultra <= 1350')\n",
    "display(data_ultra['call_count_sum_ultra'].describe().round(0).astype(int))"
   ]
  },
  {
   "cell_type": "markdown",
   "metadata": {},
   "source": [
    "### Количество трафика Гб"
   ]
  },
  {
   "cell_type": "markdown",
   "metadata": {},
   "source": [
    "#### Среднее, дисперсия и гистограмма"
   ]
  },
  {
   "cell_type": "code",
   "execution_count": 22,
   "metadata": {},
   "outputs": [
    {
     "name": "stdout",
     "output_type": "stream",
     "text": [
      "Среднее количество трафика Smart 16.32152466367713\n",
      "Среднее количество трафика Ultra 19.474645030425965\n",
      "\n",
      "Дисперсия Smart 33.133453035506285\n",
      "Дисперсия Ultra 97.37854429011234\n",
      "\n",
      "Гистограмма Гб\n"
     ]
    },
    {
     "data": {
      "image/png": "[encoded data removed]",
      "text/plain": [
       "<Figure size 432x288 with 1 Axes>"
      ]
     },
     "metadata": {
      "needs_background": "light"
     },
     "output_type": "display_data"
    }
   ],
   "source": [
    "data_smart['web_trafic_smart'].plot(kind = 'hist', bins = 50, grid = True, density = True)\n",
    "data_ultra['web_trafic_ultra'].plot(kind = 'hist', bins = 50, grid = True, density = True)\n",
    "\n",
    "trafic_smart_var = np.var(data_smart['web_trafic_smart'], ddof=1)\n",
    "trafic_ultra_var = np.var(data_ultra['web_trafic_ultra'], ddof=1)\n",
    "\n",
    "print('Среднее количество трафика Smart', data_smart['web_trafic_smart'].mean())\n",
    "print('Среднее количество трафика Ultra', data_ultra['web_trafic_ultra'].mean())\n",
    "print('')\n",
    "print('Дисперсия Smart', trafic_smart_var)\n",
    "print('Дисперсия Ultra', trafic_ultra_var)\n",
    "print('')\n",
    "print('Гистограмма Гб')"
   ]
  },
  {
   "cell_type": "markdown",
   "metadata": {},
   "source": [
    "#### Редкие и выбивающиеся значения"
   ]
  },
  {
   "cell_type": "markdown",
   "metadata": {},
   "source": [
    "##### Интернет Smart"
   ]
  },
  {
   "cell_type": "code",
   "execution_count": 23,
   "metadata": {},
   "outputs": [
    {
     "data": {
      "text/plain": [
       "count    2230\n",
       "mean       16\n",
       "std         6\n",
       "min         0\n",
       "25%        13\n",
       "50%        17\n",
       "75%        20\n",
       "max        38\n",
       "Name: web_trafic_smart, dtype: int64"
      ]
     },
     "metadata": {},
     "output_type": "display_data"
    },
    {
     "data": {
      "image/png": "[encoded data removed]",
      "text/plain": [
       "<Figure size 432x288 with 1 Axes>"
      ]
     },
     "metadata": {
      "needs_background": "light"
     },
     "output_type": "display_data"
    },
    {
     "data": {
      "text/plain": [
       "0.9726457399103139"
      ]
     },
     "metadata": {},
     "output_type": "display_data"
    },
    {
     "data": {
      "text/plain": [
       "count     2212\n",
       "unique     351\n",
       "top       1496\n",
       "freq        12\n",
       "Name: web_trafic_smart, dtype: int64"
      ]
     },
     "metadata": {},
     "output_type": "display_data"
    }
   ],
   "source": [
    "display(data_smart['web_trafic_smart'].describe().round(0).astype(int))\n",
    "data_smart.boxplot('web_trafic_smart')\n",
    "plt.show()\n",
    "display(len(data_smart.query('web_trafic_smart > 3'))/len(data_smart))\n",
    "data_smart['web_trafic_smart'] = data_smart.query('web_trafic_smart <= 30')\n",
    "display(data_smart['web_trafic_smart'].describe().round(0).astype(int))"
   ]
  },
  {
   "cell_type": "markdown",
   "metadata": {},
   "source": [
    "##### Интернет Ultra"
   ]
  },
  {
   "cell_type": "code",
   "execution_count": 24,
   "metadata": {},
   "outputs": [
    {
     "data": {
      "text/plain": [
       "count    986\n",
       "mean      19\n",
       "std       10\n",
       "min        0\n",
       "25%       12\n",
       "50%       19\n",
       "75%       27\n",
       "max       49\n",
       "Name: web_trafic_ultra, dtype: int64"
      ]
     },
     "metadata": {},
     "output_type": "display_data"
    },
    {
     "data": {
      "image/png": "[encoded data removed]",
      "text/plain": [
       "<Figure size 432x288 with 1 Axes>"
      ]
     },
     "metadata": {
      "needs_background": "light"
     },
     "output_type": "display_data"
    },
    {
     "data": {
      "text/plain": [
       "0.9878296146044625"
      ]
     },
     "metadata": {},
     "output_type": "display_data"
    },
    {
     "data": {
      "text/plain": [
       "count      986\n",
       "unique     149\n",
       "top       1126\n",
       "freq        12\n",
       "Name: web_trafic_ultra, dtype: int64"
      ]
     },
     "metadata": {},
     "output_type": "display_data"
    }
   ],
   "source": [
    "display(data_ultra['web_trafic_ultra'].describe().round(0).astype(int))\n",
    "data_ultra.boxplot('web_trafic_ultra')\n",
    "plt.show()\n",
    "display(len(data_ultra.query('web_trafic_ultra > 0'))/len(data_ultra))\n",
    "data_ultra['web_trafic_ultra'] = data_ultra.query('web_trafic_ultra <= 49')\n",
    "display(data_ultra['web_trafic_ultra'].describe().round(0).astype(int))"
   ]
  },
  {
   "cell_type": "markdown",
   "metadata": {},
   "source": [
    "### Количество сообщений"
   ]
  },
  {
   "cell_type": "markdown",
   "metadata": {},
   "source": [
    "#### Среднее, дисперсия и гистограмма"
   ]
  },
  {
   "cell_type": "code",
   "execution_count": 25,
   "metadata": {},
   "outputs": [
    {
     "name": "stdout",
     "output_type": "stream",
     "text": [
      "Среднее количество сообщений Smart 33.36905829596412\n",
      "Среднее количество сообщений Ultra 49.31338742393509\n",
      "\n",
      "Дисперсия Smart 796.9552557301129\n",
      "Дисперсия Ultra 2285.4174246558414\n",
      "\n",
      "Гистограмма сообщений\n"
     ]
    },
    {
     "data": {
      "image/png": "[encoded data removed]",
      "text/plain": [
       "<Figure size 432x288 with 1 Axes>"
      ]
     },
     "metadata": {
      "needs_background": "light"
     },
     "output_type": "display_data"
    }
   ],
   "source": [
    "data_smart['message_smart'].plot(kind = 'hist', bins = 50, grid = True, density = True)\n",
    "data_ultra['message_ultra'].plot(kind = 'hist', bins = 50, grid = True, density = True)\n",
    "\n",
    "message_smart_var = np.var(data_smart['message_smart'], ddof=1)\n",
    "message_ultra_var = np.var(data_ultra['message_ultra'], ddof=1)\n",
    "\n",
    "print('Среднее количество сообщений Smart', data_smart['message_smart'].mean())\n",
    "print('Среднее количество сообщений Ultra', data_ultra['message_ultra'].mean())\n",
    "print('')\n",
    "print('Дисперсия Smart', message_smart_var)\n",
    "print('Дисперсия Ultra', message_ultra_var)\n",
    "print('')\n",
    "print('Гистограмма сообщений')"
   ]
  },
  {
   "cell_type": "markdown",
   "metadata": {},
   "source": [
    "#### Редкие и выбивающиеся значения"
   ]
  },
  {
   "cell_type": "markdown",
   "metadata": {},
   "source": [
    "##### Сообщения Smart"
   ]
  },
  {
   "cell_type": "code",
   "execution_count": 26,
   "metadata": {},
   "outputs": [
    {
     "data": {
      "text/plain": [
       "count    2230\n",
       "mean       33\n",
       "std        28\n",
       "min         0\n",
       "25%        10\n",
       "50%        28\n",
       "75%        51\n",
       "max       143\n",
       "Name: message_smart, dtype: int64"
      ]
     },
     "metadata": {},
     "output_type": "display_data"
    },
    {
     "data": {
      "image/png": "[encoded data removed]",
      "text/plain": [
       "<Figure size 432x288 with 1 Axes>"
      ]
     },
     "metadata": {
      "needs_background": "light"
     },
     "output_type": "display_data"
    },
    {
     "data": {
      "text/plain": [
       "0.8618834080717489"
      ]
     },
     "metadata": {},
     "output_type": "display_data"
    },
    {
     "data": {
      "text/plain": [
       "count     2212\n",
       "unique     351\n",
       "top       1394\n",
       "freq        12\n",
       "Name: message_smart, dtype: int64"
      ]
     },
     "metadata": {},
     "output_type": "display_data"
    }
   ],
   "source": [
    "display(data_smart['message_smart'].describe().round(0).astype(int))\n",
    "data_smart.boxplot('message_smart')\n",
    "plt.show()\n",
    "display(len(data_smart.query('message_smart > 0'))/len(data_smart))\n",
    "data_smart['message_smart'] = data_smart.query('message_smart <= 110')\n",
    "display(data_smart['message_smart'].describe().round(0).astype(int))"
   ]
  },
  {
   "cell_type": "markdown",
   "metadata": {},
   "source": [
    "##### Сообщения Ultra"
   ]
  },
  {
   "cell_type": "code",
   "execution_count": 27,
   "metadata": {},
   "outputs": [
    {
     "data": {
      "text/plain": [
       "count    986\n",
       "mean      49\n",
       "std       48\n",
       "min        0\n",
       "25%        6\n",
       "50%       38\n",
       "75%       79\n",
       "max      224\n",
       "Name: message_ultra, dtype: int64"
      ]
     },
     "metadata": {},
     "output_type": "display_data"
    },
    {
     "data": {
      "image/png": "[encoded data removed]",
      "text/plain": [
       "<Figure size 432x288 with 1 Axes>"
      ]
     },
     "metadata": {
      "needs_background": "light"
     },
     "output_type": "display_data"
    },
    {
     "data": {
      "text/plain": [
       "0.8062880324543611"
      ]
     },
     "metadata": {},
     "output_type": "display_data"
    },
    {
     "data": {
      "text/plain": [
       "count      973\n",
       "unique     149\n",
       "top       1396\n",
       "freq        12\n",
       "Name: message_ultra, dtype: int64"
      ]
     },
     "metadata": {},
     "output_type": "display_data"
    }
   ],
   "source": [
    "display(data_ultra['message_ultra'].describe().round(0).astype(int))\n",
    "data_ultra.boxplot('message_ultra')\n",
    "plt.show()\n",
    "display(len(data_ultra.query('message_ultra > 0'))/len(data_ultra))\n",
    "data_ultra['message_ultra'] = data_ultra.query('message_ultra <= 180')\n",
    "display(data_ultra['message_ultra'].describe().round(0).astype(int))"
   ]
  },
  {
   "cell_type": "markdown",
   "metadata": {},
   "source": [
    "### Общая выручка тарифов"
   ]
  },
  {
   "cell_type": "code",
   "execution_count": 28,
   "metadata": {},
   "outputs": [
    {
     "name": "stdout",
     "output_type": "stream",
     "text": [
      "Общая выручка за 2018 год Smart: 2875901\n",
      "Общая выручка за 2018 год Ultra: 2041050\n"
     ]
    }
   ],
   "source": [
    "print('Общая выручка за 2018 год Smart:', data_smart['total_revenue'].sum())\n",
    "print('Общая выручка за 2018 год Ultra:', data_ultra['total_revenue'].sum())\n"
   ]
  },
  {
   "cell_type": "markdown",
   "metadata": {},
   "source": [
    "### Сравнение тарифов"
   ]
  },
  {
   "cell_type": "code",
   "execution_count": 34,
   "metadata": {},
   "outputs": [],
   "source": [
    "data = data.rename(columns={('month', ''):'month'})"
   ]
  },
  {
   "cell_type": "code",
   "execution_count": 36,
   "metadata": {},
   "outputs": [
    {
     "data": {
      "image/png": "[encoded data removed]",
      "text/plain": [
       "<Figure size 864x144 with 1 Axes>"
      ]
     },
     "metadata": {
      "needs_background": "light"
     },
     "output_type": "display_data"
    },
    {
     "data": {
      "image/png": "[encoded data removed]",
      "text/plain": [
       "<Figure size 864x144 with 1 Axes>"
      ]
     },
     "metadata": {
      "needs_background": "light"
     },
     "output_type": "display_data"
    },
    {
     "data": {
      "image/png": "[encoded data removed]",
      "text/plain": [
       "<Figure size 864x144 with 1 Axes>"
      ]
     },
     "metadata": {
      "needs_background": "light"
     },
     "output_type": "display_data"
    },
    {
     "data": {
      "image/png": "[encoded data removed]",
      "text/plain": [
       "<Figure size 864x144 with 1 Axes>"
      ]
     },
     "metadata": {
      "needs_background": "light"
     },
     "output_type": "display_data"
    },
    {
     "data": {
      "image/png": "[encoded data removed]",
      "text/plain": [
       "<Figure size 864x144 with 1 Axes>"
      ]
     },
     "metadata": {
      "needs_background": "light"
     },
     "output_type": "display_data"
    }
   ],
   "source": [
    "for column in [('call_count', 'count'),\n",
    "         ('call_count', 'sum'),  ('web_traffic', 'sum'),\n",
    "          ('message', 'count'), 'total_revenue']:    \n",
    "    g = sns.catplot(y='tariff', x=column, kind=\"box\", data=data, orient='h', palette = 'pastel')\n",
    "    g.fig.set_figwidth(12)\n",
    "    g.fig.set_figheight(2)"
   ]
  },
  {
   "cell_type": "code",
   "execution_count": 37,
   "metadata": {
    "scrolled": true
   },
   "outputs": [
    {
     "data": {
      "image/png": "[encoded data removed]",
      "text/plain": [
       "<Figure size 720x288 with 1 Axes>"
      ]
     },
     "metadata": {
      "needs_background": "light"
     },
     "output_type": "display_data"
    }
   ],
   "source": [
    "(data\n",
    " .pivot_table(index='tariff', columns='month', values='user_id', aggfunc='count')\n",
    " .T\n",
    " .plot(kind='line', figsize=(10,4),  style = 'o-')\n",
    ")\n",
    "plt.title('Рост кол-ва клиентов по 2-м тарифам за год'+ \"\\n\")\n",
    "plt.xlabel('Месяц')\n",
    "plt.ylabel('Кол-во');"
   ]
  },
  {
   "cell_type": "code",
   "execution_count": 38,
   "metadata": {
    "scrolled": true
   },
   "outputs": [
    {
     "data": {
      "image/png": "[encoded data removed]",
      "text/plain": [
       "<Figure size 720x288 with 1 Axes>"
      ]
     },
     "metadata": {
      "needs_background": "light"
     },
     "output_type": "display_data"
    }
   ],
   "source": [
    "(data\n",
    " .pivot_table(index='tariff', columns='month', values='total_revenue', aggfunc='mean')\n",
    " .T\n",
    " .plot(kind='line', figsize=(10,4),  style = 'o-')\n",
    ")\n",
    "plt.title('Средняя ежемесячная выручка от одного абонента'+ \"\\n\")\n",
    "plt.xlabel('Месяц')\n",
    "plt.ylabel('Рубли');"
   ]
  },
  {
   "cell_type": "code",
   "execution_count": 39,
   "metadata": {
    "scrolled": true
   },
   "outputs": [
    {
     "data": {
      "image/png": "[encoded data removed]",
      "text/plain": [
       "<Figure size 720x288 with 1 Axes>"
      ]
     },
     "metadata": {
      "needs_background": "light"
     },
     "output_type": "display_data"
    }
   ],
   "source": [
    "(data\n",
    " .pivot_table(index='tariff', columns='month', values='total_revenue', aggfunc='sum')\n",
    " .T\n",
    " .plot(kind='line', figsize=(10,4),  style = 'o-')\n",
    ")\n",
    "plt.title('Суммарная ежемесячная выручка по 2-м тарифам'+ \"\\n\")\n",
    "plt.xlabel('Месяц')\n",
    "plt.ylabel('Рубли');"
   ]
  },
  {
   "cell_type": "markdown",
   "metadata": {},
   "source": [
    "### Отток клиентов"
   ]
  },
  {
   "cell_type": "code",
   "execution_count": 40,
   "metadata": {},
   "outputs": [
    {
     "name": "stdout",
     "output_type": "stream",
     "text": [
      "Кол-во клентов покинувших компанию за год 38\n",
      "Кол-во клентов покинувших компанию за посл. 4 мес. 2018 г. на двух тарифах 35\n",
      "%  от общего кол-ва всех клиентов, покинувших компанию за посл. 4 мес. 2018 г. на двух тарифах 92.1\n",
      "Распределение оттока клиентов на тарифах за посл. 4 мес. 2018 г.\n"
     ]
    },
    {
     "data": {
      "text/html": [
       "<div>\n",
       "<style scoped>\n",
       "    .dataframe tbody tr th:only-of-type {\n",
       "        vertical-align: middle;\n",
       "    }\n",
       "\n",
       "    .dataframe tbody tr th {\n",
       "        vertical-align: top;\n",
       "    }\n",
       "\n",
       "    .dataframe thead th {\n",
       "        text-align: right;\n",
       "    }\n",
       "</style>\n",
       "<table border=\"1\" class=\"dataframe\">\n",
       "  <thead>\n",
       "    <tr style=\"text-align: right;\">\n",
       "      <th></th>\n",
       "      <th>churn_date</th>\n",
       "    </tr>\n",
       "    <tr>\n",
       "      <th>tariff</th>\n",
       "      <th></th>\n",
       "    </tr>\n",
       "  </thead>\n",
       "  <tbody>\n",
       "    <tr>\n",
       "      <th>smart</th>\n",
       "      <td>22</td>\n",
       "    </tr>\n",
       "    <tr>\n",
       "      <th>ultra</th>\n",
       "      <td>13</td>\n",
       "    </tr>\n",
       "  </tbody>\n",
       "</table>\n",
       "</div>"
      ],
      "text/plain": [
       "        churn_date\n",
       "tariff            \n",
       "smart           22\n",
       "ultra           13"
      ]
     },
     "execution_count": 40,
     "metadata": {},
     "output_type": "execute_result"
    }
   ],
   "source": [
    "df_users = pd.read_csv('/datasets/users.csv')\n",
    "\n",
    "print ('Кол-во клентов покинувших компанию за год', df_users.churn_date.notna().sum())\n",
    "\n",
    "print ('Кол-во клентов покинувших компанию за посл. 4 мес. 2018 г. на двух тарифах',\n",
    "       df_users.query('churn_date > \"2018-09-25\"').churn_date.notna().sum()\n",
    "      )\n",
    "print ('%  от общего кол-ва всех клиентов, покинувших компанию за посл. 4 мес. 2018 г. на двух тарифах',\n",
    "    (df_users.query('churn_date > \"2018-09-25\"').churn_date.notna().sum()/df_users.churn_date.notna().sum()*100).round(1)\n",
    ")\n",
    "\n",
    "print ('Распределение оттока клиентов на тарифах за посл. 4 мес. 2018 г.')\n",
    "df_users.query('churn_date > \"2018-09-25\"').groupby('tariff')['churn_date'].count().to_frame()"
   ]
  },
  {
   "cell_type": "markdown",
   "metadata": {},
   "source": [
    "### Вывод\n"
   ]
  },
  {
   "cell_type": "markdown",
   "metadata": {},
   "source": [
    "Количество звонков, трафика и сообщений на тарифе Ультра расходуется больше чем на тарифе Смарт, но количество пользователей на тарифе Смарт превышает тариф Ультра и соответственно выручка больше, в основном из-за перерасхода трафика или звонков сверх тарифа, что создает риск потери клиентов, т.к. мы видим, что отток усилиается. Необходим пересмотр тарифной политики."
   ]
  },
  {
   "cell_type": "markdown",
   "metadata": {},
   "source": [
    "## Проверка гипотезы\n"
   ]
  },
  {
   "cell_type": "markdown",
   "metadata": {},
   "source": [
    "### Гипотеза 1: Средняя выручка пользователей тарифов \"Смарт\" и \"Ультра\" различаются\n"
   ]
  },
  {
   "cell_type": "markdown",
   "metadata": {},
   "source": [
    "Выборки независимые.\n",
    "Нулевая гипотеза-средная выручка между тарифами неразличаются.\n",
    "Альтернативная гипотеза-средняя выручка тарифов различаются."
   ]
  },
  {
   "cell_type": "code",
   "execution_count": 29,
   "metadata": {},
   "outputs": [
    {
     "name": "stdout",
     "output_type": "stream",
     "text": [
      "р-значение = 1.927011394420941e-250\n",
      "Отвергаем нулевую гипотезу\n"
     ]
    }
   ],
   "source": [
    "alpha = .05\n",
    "results = stats.ttest_ind(data_smart['total_revenue'], data_ultra['total_revenue'], equal_var = False)\n",
    "print('р-значение =', results.pvalue)\n",
    "if results.pvalue < alpha:\n",
    "    print('Отвергаем нулевую гипотезу')\n",
    "else:\n",
    "    print('Не получилось отвергнуть нулевую гипотезу')"
   ]
  },
  {
   "cell_type": "markdown",
   "metadata": {},
   "source": [
    "### Гипотеза 1: Средняя выручка пользователей из Москвы отличается от выручки пользователей из других регионов"
   ]
  },
  {
   "cell_type": "markdown",
   "metadata": {},
   "source": [
    "Выборки независимые.\n",
    "Нулевая гипотеза-средняя выручка между пользователями Москвы и регионов неразличаются.\n",
    "Альтернативная гипотеза-средняя выручка между пользователями Москвы и регионов различаются."
   ]
  },
  {
   "cell_type": "code",
   "execution_count": 30,
   "metadata": {},
   "outputs": [
    {
     "name": "stdout",
     "output_type": "stream",
     "text": [
      "р-значение = 0.5216952110000278\n",
      "Не получилось отвергнуть нулевую гипотезу\n"
     ]
    }
   ],
   "source": [
    "moscow = data.loc[data.loc[:, 'city'] == 'Москва']\n",
    "region = data.loc[data.loc[:, 'city'] != 'Москва']\n",
    "\n",
    "alpha = .05\n",
    "results = stats.ttest_ind(moscow['total_revenue'], region['total_revenue'], equal_var = False)\n",
    "print('р-значение =', results.pvalue)\n",
    "if results.pvalue < alpha:\n",
    "    print('Отвергаем нулевую гипотезу')\n",
    "else:\n",
    "    print('Не получилось отвергнуть нулевую гипотезу')"
   ]
  },
  {
   "cell_type": "markdown",
   "metadata": {},
   "source": [
    "Полученное значение p-value 0.5216952110000278 говорит о том, что хотя средний чек Москвы и регионов разный, с вероятностью в 52% такое различие можно получить случайно. Это явно слишком большая вероятность, чтобы делать вывод о значимом различии между средними чеками."
   ]
  },
  {
   "cell_type": "markdown",
   "metadata": {},
   "source": [
    "## Вывод\n"
   ]
  },
  {
   "cell_type": "markdown",
   "metadata": {},
   "source": [
    "1. Абонентская плата тарифа Smart 550 руб., что почти в 3.5 раза меньше чем абонентская плата тарифа Ultra 1950 руб. \n",
    "   \n",
    "   Соответсвенно число пользователей тарифа Smart выше почти в 3.5 раза. Из выборки в 500 абонентов число пользоватей Smart - 351. Число пользователей Ultra - 149.\n",
    "\n",
    "\n",
    "\n",
    "2. Тариф Ultra приобретают в основном клиенты с большим расходом минут разговора и трафика. \n",
    "\n",
    "   Средний расход Ultra: минуты - 526, трафик - 19.\n",
    "   Средний расход Smart: минуты - 417, трафик - 16. \n",
    "   \n",
    "   Но часто у клиентов тарифа Smart происходит перерасход одной из услуг(минуты или трафик), т.е. пользователи пользуются услугами сверх тарифного плана, что способствует увеличению выручки и оттоку клиентов одновременно.\n",
    "\n",
    "\n",
    "\n",
    "\n",
    "3. Из-за большего количества пользователей, а так же перерасхода трафика и минут общая выручка Smart превышает выручку Ultra почти на 40%:\n",
    "\n",
    "   Smart - 2 875 901.00 руб.\n",
    "   Ultra - 2 041 050.00 руб.\n",
    "\n",
    "\n",
    "\n",
    "4. Тариф Smart рекомендуется для дальнейшей рекламы. Так же необходимо расширить тарифную линейку для клиентов, чей расход превышает лимит Smart, но не дотягивает до Ultra, иначе есть риск усиления оттока клиентов."
   ]
  },
  {
   "cell_type": "code",
   "execution_count": null,
   "metadata": {},
   "outputs": [],
   "source": []
  }
 ],
 "metadata": {
  "ExecuteTimeLog": [
   {
    "duration": 535,
    "start_time": "2022-04-18T07:33:14.312Z"
   },
   {
    "duration": 182,
    "start_time": "2022-04-18T07:33:44.732Z"
   },
   {
    "duration": 151,
    "start_time": "2022-04-18T07:34:31.919Z"
   },
   {
    "duration": 151,
    "start_time": "2022-04-18T07:34:51.852Z"
   },
   {
    "duration": 151,
    "start_time": "2022-04-18T07:34:57.563Z"
   },
   {
    "duration": 145,
    "start_time": "2022-04-18T07:35:04.227Z"
   },
   {
    "duration": 99,
    "start_time": "2022-04-18T07:35:37.211Z"
   },
   {
    "duration": 16,
    "start_time": "2022-04-18T07:36:02.604Z"
   },
   {
    "duration": 34,
    "start_time": "2022-04-18T07:36:43.851Z"
   },
   {
    "duration": 396,
    "start_time": "2022-04-18T07:54:31.421Z"
   },
   {
    "duration": 378,
    "start_time": "2022-04-18T07:54:46.802Z"
   },
   {
    "duration": 25,
    "start_time": "2022-04-18T07:55:39.227Z"
   },
   {
    "duration": 90,
    "start_time": "2022-04-18T08:03:18.317Z"
   },
   {
    "duration": 29,
    "start_time": "2022-04-18T08:03:20.962Z"
   },
   {
    "duration": 34,
    "start_time": "2022-04-18T08:03:38.243Z"
   },
   {
    "duration": 428,
    "start_time": "2022-04-18T08:05:30.163Z"
   },
   {
    "duration": 20,
    "start_time": "2022-04-18T08:05:33.886Z"
   },
   {
    "duration": 354,
    "start_time": "2022-04-18T08:06:58.707Z"
   },
   {
    "duration": 227,
    "start_time": "2022-04-18T08:07:09.155Z"
   },
   {
    "duration": 352,
    "start_time": "2022-04-18T08:10:21.069Z"
   },
   {
    "duration": 380,
    "start_time": "2022-04-18T08:11:28.597Z"
   },
   {
    "duration": 31,
    "start_time": "2022-04-18T08:11:31.318Z"
   },
   {
    "duration": 402,
    "start_time": "2022-04-18T09:01:18.845Z"
   },
   {
    "duration": 32,
    "start_time": "2022-04-18T09:01:26.496Z"
   },
   {
    "duration": 31,
    "start_time": "2022-04-18T09:01:29.276Z"
   },
   {
    "duration": 406,
    "start_time": "2022-04-18T09:07:20.453Z"
   },
   {
    "duration": 27,
    "start_time": "2022-04-18T09:07:22.539Z"
   },
   {
    "duration": 97,
    "start_time": "2022-04-18T09:12:57.904Z"
   },
   {
    "duration": 40,
    "start_time": "2022-04-18T09:13:03.604Z"
   },
   {
    "duration": 1489,
    "start_time": "2022-04-18T09:34:01.946Z"
   },
   {
    "duration": 435,
    "start_time": "2022-04-18T09:34:29.990Z"
   },
   {
    "duration": 3172,
    "start_time": "2022-04-18T09:34:32.700Z"
   },
   {
    "duration": 1624,
    "start_time": "2022-04-18T09:35:17.364Z"
   },
   {
    "duration": 66,
    "start_time": "2022-04-18T09:35:57.357Z"
   },
   {
    "duration": 78,
    "start_time": "2022-04-18T09:37:38.724Z"
   },
   {
    "duration": 393,
    "start_time": "2022-04-18T09:57:45.222Z"
   },
   {
    "duration": 61,
    "start_time": "2022-04-18T09:57:47.260Z"
   },
   {
    "duration": 400,
    "start_time": "2022-04-18T09:57:51.789Z"
   },
   {
    "duration": 61,
    "start_time": "2022-04-18T09:57:54.467Z"
   },
   {
    "duration": 39,
    "start_time": "2022-04-18T10:01:07.827Z"
   },
   {
    "duration": 38,
    "start_time": "2022-04-18T10:01:21.732Z"
   },
   {
    "duration": 37,
    "start_time": "2022-04-18T10:02:54.005Z"
   },
   {
    "duration": 399,
    "start_time": "2022-04-18T10:03:08.300Z"
   },
   {
    "duration": 60,
    "start_time": "2022-04-18T10:03:10.796Z"
   },
   {
    "duration": 386,
    "start_time": "2022-04-18T10:04:46.044Z"
   },
   {
    "duration": 67,
    "start_time": "2022-04-18T10:04:48.668Z"
   },
   {
    "duration": 1805,
    "start_time": "2022-04-18T10:07:19.811Z"
   },
   {
    "duration": 1612,
    "start_time": "2022-04-18T10:07:44.852Z"
   },
   {
    "duration": 59,
    "start_time": "2022-04-18T10:08:01.764Z"
   },
   {
    "duration": 63,
    "start_time": "2022-04-18T10:09:46.563Z"
   },
   {
    "duration": 49,
    "start_time": "2022-04-18T10:10:18.870Z"
   },
   {
    "duration": 27,
    "start_time": "2022-04-18T10:22:14.421Z"
   },
   {
    "duration": 1451,
    "start_time": "2022-04-18T10:23:41.748Z"
   },
   {
    "duration": 25,
    "start_time": "2022-04-18T10:24:18.587Z"
   },
   {
    "duration": 1379,
    "start_time": "2022-04-18T10:24:51.867Z"
   },
   {
    "duration": 67,
    "start_time": "2022-04-18T10:25:14.933Z"
   },
   {
    "duration": 35,
    "start_time": "2022-04-18T10:25:42.909Z"
   },
   {
    "duration": 26,
    "start_time": "2022-04-18T10:26:33.635Z"
   },
   {
    "duration": 366,
    "start_time": "2022-04-18T10:27:12.660Z"
   },
   {
    "duration": 32,
    "start_time": "2022-04-18T10:27:14.902Z"
   },
   {
    "duration": 28,
    "start_time": "2022-04-18T10:27:23.836Z"
   },
   {
    "duration": 62,
    "start_time": "2022-04-18T10:27:46.507Z"
   },
   {
    "duration": 28,
    "start_time": "2022-04-18T10:28:05.028Z"
   },
   {
    "duration": 46,
    "start_time": "2022-04-18T10:28:13.949Z"
   },
   {
    "duration": 43,
    "start_time": "2022-04-18T10:29:06.867Z"
   },
   {
    "duration": 35,
    "start_time": "2022-04-18T10:30:42.036Z"
   },
   {
    "duration": 36,
    "start_time": "2022-04-18T10:30:46.235Z"
   },
   {
    "duration": 400,
    "start_time": "2022-04-18T10:30:52.219Z"
   },
   {
    "duration": 33,
    "start_time": "2022-04-18T10:30:54.140Z"
   },
   {
    "duration": 66,
    "start_time": "2022-04-18T10:30:58.620Z"
   },
   {
    "duration": 30,
    "start_time": "2022-04-18T10:31:04.996Z"
   },
   {
    "duration": 46,
    "start_time": "2022-04-18T10:31:07.819Z"
   },
   {
    "duration": 437,
    "start_time": "2022-04-18T10:36:38.371Z"
   },
   {
    "duration": 2,
    "start_time": "2022-04-18T10:36:53.499Z"
   },
   {
    "duration": 3,
    "start_time": "2022-04-18T10:36:56.139Z"
   },
   {
    "duration": 397,
    "start_time": "2022-04-18T10:37:30.452Z"
   },
   {
    "duration": 36,
    "start_time": "2022-04-18T10:37:32.557Z"
   },
   {
    "duration": 61,
    "start_time": "2022-04-18T10:37:37.635Z"
   },
   {
    "duration": 27,
    "start_time": "2022-04-18T10:37:41.531Z"
   },
   {
    "duration": 41,
    "start_time": "2022-04-18T10:37:44.700Z"
   },
   {
    "duration": 25,
    "start_time": "2022-04-18T11:28:59.120Z"
   },
   {
    "duration": 43,
    "start_time": "2022-04-18T11:35:11.079Z"
   },
   {
    "duration": 11,
    "start_time": "2022-04-18T11:35:42.494Z"
   },
   {
    "duration": 8,
    "start_time": "2022-04-18T11:36:10.774Z"
   },
   {
    "duration": 9,
    "start_time": "2022-04-18T11:37:00.245Z"
   },
   {
    "duration": 9,
    "start_time": "2022-04-18T11:39:16.406Z"
   },
   {
    "duration": 9,
    "start_time": "2022-04-18T11:39:20.494Z"
   },
   {
    "duration": 395,
    "start_time": "2022-04-18T11:39:24.509Z"
   },
   {
    "duration": 44,
    "start_time": "2022-04-18T11:39:26.741Z"
   },
   {
    "duration": 59,
    "start_time": "2022-04-18T11:39:31.582Z"
   },
   {
    "duration": 36,
    "start_time": "2022-04-18T11:39:35.213Z"
   },
   {
    "duration": 56,
    "start_time": "2022-04-18T11:39:38.973Z"
   },
   {
    "duration": 28,
    "start_time": "2022-04-18T11:42:19.733Z"
   },
   {
    "duration": 1035,
    "start_time": "2022-04-19T07:03:30.192Z"
   },
   {
    "duration": 90,
    "start_time": "2022-04-19T07:03:35.543Z"
   },
   {
    "duration": 45,
    "start_time": "2022-04-19T07:04:13.456Z"
   },
   {
    "duration": 106,
    "start_time": "2022-04-19T07:04:20.631Z"
   },
   {
    "duration": 115,
    "start_time": "2022-04-19T07:04:35.129Z"
   },
   {
    "duration": 96,
    "start_time": "2022-04-19T07:06:13.568Z"
   },
   {
    "duration": 73,
    "start_time": "2022-04-19T07:06:29.263Z"
   },
   {
    "duration": 71,
    "start_time": "2022-04-19T07:09:31.840Z"
   },
   {
    "duration": 1421,
    "start_time": "2022-04-19T07:09:43.994Z"
   },
   {
    "duration": 41,
    "start_time": "2022-04-19T07:09:46.799Z"
   },
   {
    "duration": 90,
    "start_time": "2022-04-19T07:09:51.770Z"
   },
   {
    "duration": 83,
    "start_time": "2022-04-19T07:14:29.712Z"
   },
   {
    "duration": 534,
    "start_time": "2022-04-19T07:14:38.586Z"
   },
   {
    "duration": 41,
    "start_time": "2022-04-19T07:14:40.814Z"
   },
   {
    "duration": 90,
    "start_time": "2022-04-19T07:14:44.264Z"
   },
   {
    "duration": 37,
    "start_time": "2022-04-19T07:14:48.310Z"
   },
   {
    "duration": 82,
    "start_time": "2022-04-19T07:14:51.767Z"
   },
   {
    "duration": 32,
    "start_time": "2022-04-19T07:14:54.134Z"
   },
   {
    "duration": 2228,
    "start_time": "2022-04-19T07:15:56.159Z"
   },
   {
    "duration": 2217,
    "start_time": "2022-04-19T07:16:12.230Z"
   },
   {
    "duration": 45,
    "start_time": "2022-04-19T07:16:22.223Z"
   },
   {
    "duration": 61,
    "start_time": "2022-04-19T07:17:07.710Z"
   },
   {
    "duration": 46,
    "start_time": "2022-04-19T07:18:55.862Z"
   },
   {
    "duration": 36,
    "start_time": "2022-04-19T07:34:30.207Z"
   },
   {
    "duration": 42,
    "start_time": "2022-04-19T09:13:35.281Z"
   },
   {
    "duration": 32,
    "start_time": "2022-04-19T09:13:45.484Z"
   },
   {
    "duration": 44,
    "start_time": "2022-04-19T09:13:54.154Z"
   },
   {
    "duration": 33,
    "start_time": "2022-04-19T09:14:58.355Z"
   },
   {
    "duration": 45,
    "start_time": "2022-04-19T09:15:43.682Z"
   },
   {
    "duration": 64,
    "start_time": "2022-04-19T09:22:24.810Z"
   },
   {
    "duration": 619,
    "start_time": "2022-04-19T09:22:35.433Z"
   },
   {
    "duration": 42,
    "start_time": "2022-04-19T09:22:38.024Z"
   },
   {
    "duration": 106,
    "start_time": "2022-04-19T09:22:42.175Z"
   },
   {
    "duration": 52,
    "start_time": "2022-04-19T09:22:44.817Z"
   },
   {
    "duration": 104,
    "start_time": "2022-04-19T09:22:48.375Z"
   },
   {
    "duration": 37,
    "start_time": "2022-04-19T09:22:52.709Z"
   },
   {
    "duration": 72,
    "start_time": "2022-04-19T09:22:57.471Z"
   },
   {
    "duration": 42,
    "start_time": "2022-04-19T09:23:00.376Z"
   },
   {
    "duration": 47,
    "start_time": "2022-04-19T09:23:17.797Z"
   },
   {
    "duration": 40,
    "start_time": "2022-04-19T09:38:09.055Z"
   },
   {
    "duration": 632,
    "start_time": "2022-04-19T14:24:39.791Z"
   },
   {
    "duration": 41,
    "start_time": "2022-04-19T14:24:46.018Z"
   },
   {
    "duration": 89,
    "start_time": "2022-04-19T14:24:49.320Z"
   },
   {
    "duration": 63,
    "start_time": "2022-04-19T14:24:55.787Z"
   },
   {
    "duration": 68,
    "start_time": "2022-04-19T14:25:05.904Z"
   },
   {
    "duration": 66,
    "start_time": "2022-04-19T14:25:18.183Z"
   },
   {
    "duration": 41,
    "start_time": "2022-04-19T14:25:29.296Z"
   },
   {
    "duration": 48,
    "start_time": "2022-04-19T14:25:42.752Z"
   },
   {
    "duration": 65,
    "start_time": "2022-04-19T14:25:58.328Z"
   },
   {
    "duration": 44,
    "start_time": "2022-04-19T14:26:03.776Z"
   },
   {
    "duration": 80,
    "start_time": "2022-04-19T14:26:07.408Z"
   },
   {
    "duration": 32,
    "start_time": "2022-04-19T14:26:10.600Z"
   },
   {
    "duration": 51,
    "start_time": "2022-04-19T14:26:13.512Z"
   },
   {
    "duration": 29,
    "start_time": "2022-04-19T14:26:16.289Z"
   },
   {
    "duration": 27,
    "start_time": "2022-04-19T14:26:19.752Z"
   },
   {
    "duration": 499,
    "start_time": "2022-04-19T14:44:37.480Z"
   },
   {
    "duration": 187,
    "start_time": "2022-04-19T14:45:05.048Z"
   },
   {
    "duration": 46,
    "start_time": "2022-04-19T14:45:13.064Z"
   },
   {
    "duration": 87,
    "start_time": "2022-04-19T14:45:16.727Z"
   },
   {
    "duration": 40,
    "start_time": "2022-04-19T14:45:19.656Z"
   },
   {
    "duration": 83,
    "start_time": "2022-04-19T14:45:22.536Z"
   },
   {
    "duration": 36,
    "start_time": "2022-04-19T14:45:26.383Z"
   },
   {
    "duration": 23,
    "start_time": "2022-04-19T14:45:30.247Z"
   },
   {
    "duration": 27,
    "start_time": "2022-04-19T14:45:33.924Z"
   },
   {
    "duration": 393,
    "start_time": "2022-04-19T15:05:22.347Z"
   },
   {
    "duration": 365,
    "start_time": "2022-04-19T15:05:47.227Z"
   },
   {
    "duration": 365,
    "start_time": "2022-04-19T15:10:17.323Z"
   },
   {
    "duration": 760,
    "start_time": "2022-04-19T15:11:10.024Z"
   },
   {
    "duration": 42,
    "start_time": "2022-04-19T15:11:13.208Z"
   },
   {
    "duration": 96,
    "start_time": "2022-04-19T15:11:16.552Z"
   },
   {
    "duration": 45,
    "start_time": "2022-04-19T15:11:19.257Z"
   },
   {
    "duration": 84,
    "start_time": "2022-04-19T15:11:22.176Z"
   },
   {
    "duration": 33,
    "start_time": "2022-04-19T15:11:25.544Z"
   },
   {
    "duration": 61,
    "start_time": "2022-04-19T15:11:30.233Z"
   },
   {
    "duration": 24,
    "start_time": "2022-04-19T15:11:32.395Z"
   },
   {
    "duration": 27,
    "start_time": "2022-04-19T15:11:35.752Z"
   },
   {
    "duration": 812,
    "start_time": "2022-04-19T15:11:39.633Z"
   },
   {
    "duration": 83,
    "start_time": "2022-04-19T15:13:59.956Z"
   },
   {
    "duration": 955,
    "start_time": "2022-04-19T15:14:11.329Z"
   },
   {
    "duration": 51,
    "start_time": "2022-04-19T15:14:14.129Z"
   },
   {
    "duration": 2553,
    "start_time": "2022-04-19T15:14:17.314Z"
   },
   {
    "duration": 3117,
    "start_time": "2022-04-19T15:14:23.130Z"
   },
   {
    "duration": 1816,
    "start_time": "2022-04-19T15:14:30.395Z"
   },
   {
    "duration": 370,
    "start_time": "2022-04-19T15:14:34.777Z"
   },
   {
    "duration": 61,
    "start_time": "2022-04-19T15:14:38.841Z"
   },
   {
    "duration": 24,
    "start_time": "2022-04-19T15:14:41.218Z"
   },
   {
    "duration": 25,
    "start_time": "2022-04-19T15:14:45.105Z"
   },
   {
    "duration": 1586,
    "start_time": "2022-04-19T15:15:27.014Z"
   },
   {
    "duration": 63,
    "start_time": "2022-04-19T15:15:31.542Z"
   },
   {
    "duration": 98,
    "start_time": "2022-04-19T15:15:35.221Z"
   },
   {
    "duration": 39,
    "start_time": "2022-04-19T15:15:37.798Z"
   },
   {
    "duration": 89,
    "start_time": "2022-04-19T15:15:40.869Z"
   },
   {
    "duration": 32,
    "start_time": "2022-04-19T15:15:43.502Z"
   },
   {
    "duration": 59,
    "start_time": "2022-04-19T15:15:49.438Z"
   },
   {
    "duration": 23,
    "start_time": "2022-04-19T15:15:53.157Z"
   },
   {
    "duration": 29,
    "start_time": "2022-04-19T15:15:57.031Z"
   },
   {
    "duration": 75,
    "start_time": "2022-04-19T15:18:38.350Z"
   },
   {
    "duration": 1536,
    "start_time": "2022-04-19T15:18:45.421Z"
   },
   {
    "duration": 54,
    "start_time": "2022-04-19T15:18:49.621Z"
   },
   {
    "duration": 141,
    "start_time": "2022-04-19T15:18:53.909Z"
   },
   {
    "duration": 40,
    "start_time": "2022-04-19T15:18:56.638Z"
   },
   {
    "duration": 87,
    "start_time": "2022-04-19T15:19:00.758Z"
   },
   {
    "duration": 33,
    "start_time": "2022-04-19T15:19:04.230Z"
   },
   {
    "duration": 55,
    "start_time": "2022-04-19T15:19:08.013Z"
   },
   {
    "duration": 26,
    "start_time": "2022-04-19T15:19:11.365Z"
   },
   {
    "duration": 26,
    "start_time": "2022-04-19T15:19:17.333Z"
   },
   {
    "duration": 78,
    "start_time": "2022-04-19T15:19:35.246Z"
   },
   {
    "duration": 1268,
    "start_time": "2022-04-19T15:19:39.565Z"
   },
   {
    "duration": 55,
    "start_time": "2022-04-19T15:19:43.005Z"
   },
   {
    "duration": 97,
    "start_time": "2022-04-19T15:19:46.013Z"
   },
   {
    "duration": 42,
    "start_time": "2022-04-19T15:19:48.678Z"
   },
   {
    "duration": 89,
    "start_time": "2022-04-19T15:19:51.669Z"
   },
   {
    "duration": 32,
    "start_time": "2022-04-19T15:19:54.237Z"
   },
   {
    "duration": 58,
    "start_time": "2022-04-19T15:19:58.173Z"
   },
   {
    "duration": 25,
    "start_time": "2022-04-19T15:20:01.287Z"
   },
   {
    "duration": 27,
    "start_time": "2022-04-19T15:20:03.749Z"
   },
   {
    "duration": 80,
    "start_time": "2022-04-19T15:20:26.434Z"
   },
   {
    "duration": 1229,
    "start_time": "2022-04-19T15:20:46.511Z"
   },
   {
    "duration": 53,
    "start_time": "2022-04-19T15:20:48.915Z"
   },
   {
    "duration": 101,
    "start_time": "2022-04-19T15:20:52.964Z"
   },
   {
    "duration": 46,
    "start_time": "2022-04-19T15:20:55.459Z"
   },
   {
    "duration": 87,
    "start_time": "2022-04-19T15:20:58.676Z"
   },
   {
    "duration": 35,
    "start_time": "2022-04-19T15:21:02.195Z"
   },
   {
    "duration": 68,
    "start_time": "2022-04-19T15:21:04.955Z"
   },
   {
    "duration": 29,
    "start_time": "2022-04-19T15:21:07.571Z"
   },
   {
    "duration": 28,
    "start_time": "2022-04-19T15:21:10.307Z"
   },
   {
    "duration": 751,
    "start_time": "2022-04-20T08:35:05.582Z"
   },
   {
    "duration": 38,
    "start_time": "2022-04-20T08:35:08.425Z"
   },
   {
    "duration": 61,
    "start_time": "2022-04-20T08:35:13.281Z"
   },
   {
    "duration": 140,
    "start_time": "2022-04-20T08:39:35.679Z"
   },
   {
    "duration": 61,
    "start_time": "2022-04-20T08:40:02.090Z"
   },
   {
    "duration": 57,
    "start_time": "2022-04-20T08:41:01.202Z"
   },
   {
    "duration": 61,
    "start_time": "2022-04-20T08:43:00.754Z"
   },
   {
    "duration": 76,
    "start_time": "2022-04-20T08:43:22.577Z"
   },
   {
    "duration": 69,
    "start_time": "2022-04-20T08:43:55.939Z"
   },
   {
    "duration": 77,
    "start_time": "2022-04-20T08:45:33.193Z"
   },
   {
    "duration": 97,
    "start_time": "2022-04-20T08:46:12.778Z"
   },
   {
    "duration": 55,
    "start_time": "2022-04-20T08:47:00.349Z"
   },
   {
    "duration": 96,
    "start_time": "2022-04-20T08:47:10.137Z"
   },
   {
    "duration": 1803,
    "start_time": "2022-04-20T08:51:13.645Z"
   },
   {
    "duration": 1254,
    "start_time": "2022-04-20T08:51:23.171Z"
   },
   {
    "duration": 87,
    "start_time": "2022-04-20T08:51:46.194Z"
   },
   {
    "duration": 73,
    "start_time": "2022-04-20T08:52:11.876Z"
   },
   {
    "duration": 78,
    "start_time": "2022-04-20T08:52:55.859Z"
   },
   {
    "duration": 68,
    "start_time": "2022-04-20T08:53:17.915Z"
   },
   {
    "duration": 44,
    "start_time": "2022-04-20T08:53:41.969Z"
   },
   {
    "duration": 21,
    "start_time": "2022-04-20T08:53:45.466Z"
   },
   {
    "duration": 33,
    "start_time": "2022-04-20T08:53:48.265Z"
   },
   {
    "duration": 31,
    "start_time": "2022-04-20T08:54:42.634Z"
   },
   {
    "duration": 362,
    "start_time": "2022-04-20T08:54:59.921Z"
   },
   {
    "duration": 27,
    "start_time": "2022-04-20T08:55:02.538Z"
   },
   {
    "duration": 90,
    "start_time": "2022-04-20T08:55:05.955Z"
   },
   {
    "duration": 27,
    "start_time": "2022-04-20T08:55:11.025Z"
   },
   {
    "duration": 40,
    "start_time": "2022-04-20T08:55:18.882Z"
   },
   {
    "duration": 47,
    "start_time": "2022-04-20T08:55:51.570Z"
   },
   {
    "duration": 85,
    "start_time": "2022-04-20T08:56:01.290Z"
   },
   {
    "duration": 66,
    "start_time": "2022-04-20T08:58:16.979Z"
   },
   {
    "duration": 22,
    "start_time": "2022-04-20T08:58:24.385Z"
   },
   {
    "duration": 51,
    "start_time": "2022-04-20T08:58:48.193Z"
   },
   {
    "duration": 22,
    "start_time": "2022-04-20T08:59:09.795Z"
   },
   {
    "duration": 64,
    "start_time": "2022-04-20T09:03:14.604Z"
   },
   {
    "duration": 63,
    "start_time": "2022-04-20T09:03:32.947Z"
   },
   {
    "duration": 67,
    "start_time": "2022-04-20T09:03:58.754Z"
   },
   {
    "duration": 80,
    "start_time": "2022-04-20T09:07:27.749Z"
   },
   {
    "duration": 81,
    "start_time": "2022-04-20T09:07:40.234Z"
   },
   {
    "duration": 78,
    "start_time": "2022-04-20T09:10:51.644Z"
   },
   {
    "duration": 332,
    "start_time": "2022-04-20T09:11:02.601Z"
   },
   {
    "duration": 28,
    "start_time": "2022-04-20T09:11:04.762Z"
   },
   {
    "duration": 97,
    "start_time": "2022-04-20T09:11:08.228Z"
   },
   {
    "duration": 93,
    "start_time": "2022-04-20T09:12:26.730Z"
   },
   {
    "duration": 133,
    "start_time": "2022-04-20T09:12:53.122Z"
   },
   {
    "duration": 92,
    "start_time": "2022-04-20T09:13:08.167Z"
   },
   {
    "duration": 86,
    "start_time": "2022-04-20T09:14:30.978Z"
   },
   {
    "duration": 90,
    "start_time": "2022-04-20T09:14:42.914Z"
   },
   {
    "duration": 93,
    "start_time": "2022-04-20T09:15:12.434Z"
   },
   {
    "duration": 143,
    "start_time": "2022-04-20T09:15:45.749Z"
   },
   {
    "duration": 93,
    "start_time": "2022-04-20T09:20:32.844Z"
   },
   {
    "duration": 391,
    "start_time": "2022-04-20T09:20:39.658Z"
   },
   {
    "duration": 32,
    "start_time": "2022-04-20T09:20:42.626Z"
   },
   {
    "duration": 171,
    "start_time": "2022-04-20T09:20:47.923Z"
   },
   {
    "duration": 93,
    "start_time": "2022-04-20T09:21:04.443Z"
   },
   {
    "duration": 360,
    "start_time": "2022-04-20T09:21:36.264Z"
   },
   {
    "duration": 31,
    "start_time": "2022-04-20T09:21:38.752Z"
   },
   {
    "duration": 113,
    "start_time": "2022-04-20T09:21:42.527Z"
   },
   {
    "duration": 101,
    "start_time": "2022-04-20T09:22:25.133Z"
   },
   {
    "duration": 119,
    "start_time": "2022-04-20T09:33:44.877Z"
   },
   {
    "duration": 70,
    "start_time": "2022-04-20T09:34:30.800Z"
   },
   {
    "duration": 147,
    "start_time": "2022-04-20T09:36:46.301Z"
   },
   {
    "duration": 63,
    "start_time": "2022-04-20T09:37:02.759Z"
   },
   {
    "duration": 317,
    "start_time": "2022-04-20T09:37:45.128Z"
   },
   {
    "duration": 65,
    "start_time": "2022-04-20T09:38:00.104Z"
   },
   {
    "duration": 323,
    "start_time": "2022-04-20T09:39:26.033Z"
   },
   {
    "duration": 58,
    "start_time": "2022-04-20T09:39:50.737Z"
   },
   {
    "duration": 59,
    "start_time": "2022-04-20T09:40:32.928Z"
   },
   {
    "duration": 27,
    "start_time": "2022-04-20T09:41:41.575Z"
   },
   {
    "duration": 52,
    "start_time": "2022-04-20T09:42:45.104Z"
   },
   {
    "duration": 45,
    "start_time": "2022-04-20T09:43:03.048Z"
   },
   {
    "duration": 41,
    "start_time": "2022-04-20T09:43:17.592Z"
   },
   {
    "duration": 75,
    "start_time": "2022-04-20T09:43:47.247Z"
   },
   {
    "duration": 41,
    "start_time": "2022-04-20T09:43:52.688Z"
   },
   {
    "duration": 57,
    "start_time": "2022-04-20T09:58:01.694Z"
   },
   {
    "duration": 384,
    "start_time": "2022-04-20T09:58:07.257Z"
   },
   {
    "duration": 32,
    "start_time": "2022-04-20T09:58:09.040Z"
   },
   {
    "duration": 80,
    "start_time": "2022-04-20T09:58:12.951Z"
   },
   {
    "duration": 28,
    "start_time": "2022-04-20T09:58:16.608Z"
   },
   {
    "duration": 53,
    "start_time": "2022-04-20T09:58:19.359Z"
   },
   {
    "duration": 23,
    "start_time": "2022-04-20T09:58:22.168Z"
   },
   {
    "duration": 37,
    "start_time": "2022-04-20T09:58:25.887Z"
   },
   {
    "duration": 46,
    "start_time": "2022-04-20T09:58:36.297Z"
   },
   {
    "duration": 44,
    "start_time": "2022-04-20T09:58:45.968Z"
   },
   {
    "duration": 46,
    "start_time": "2022-04-20T09:58:52.431Z"
   },
   {
    "duration": 45,
    "start_time": "2022-04-20T09:59:09.911Z"
   },
   {
    "duration": 44,
    "start_time": "2022-04-20T09:59:16.663Z"
   },
   {
    "duration": 21,
    "start_time": "2022-04-20T10:04:05.593Z"
   },
   {
    "duration": 23,
    "start_time": "2022-04-20T10:04:19.898Z"
   },
   {
    "duration": 31,
    "start_time": "2022-04-20T10:04:49.753Z"
   },
   {
    "duration": 44,
    "start_time": "2022-04-20T10:06:15.226Z"
   },
   {
    "duration": 28,
    "start_time": "2022-04-20T10:08:16.283Z"
   },
   {
    "duration": 34,
    "start_time": "2022-04-20T10:08:27.072Z"
   },
   {
    "duration": 59,
    "start_time": "2022-04-20T10:08:37.736Z"
   },
   {
    "duration": 46,
    "start_time": "2022-04-20T10:09:32.205Z"
   },
   {
    "duration": 65,
    "start_time": "2022-04-20T10:10:06.514Z"
   },
   {
    "duration": 15,
    "start_time": "2022-04-20T10:12:02.147Z"
   },
   {
    "duration": 37,
    "start_time": "2022-04-20T10:12:26.985Z"
   },
   {
    "duration": 61,
    "start_time": "2022-04-20T10:12:53.874Z"
   },
   {
    "duration": 48,
    "start_time": "2022-04-20T10:13:04.971Z"
   },
   {
    "duration": 1906,
    "start_time": "2022-04-20T10:14:51.169Z"
   },
   {
    "duration": 19,
    "start_time": "2022-04-20T10:15:21.385Z"
   },
   {
    "duration": 28,
    "start_time": "2022-04-20T10:15:34.787Z"
   },
   {
    "duration": 102,
    "start_time": "2022-04-20T10:15:51.273Z"
   },
   {
    "duration": 61,
    "start_time": "2022-04-20T10:16:41.485Z"
   },
   {
    "duration": 17,
    "start_time": "2022-04-20T10:17:20.240Z"
   },
   {
    "duration": 18,
    "start_time": "2022-04-20T10:17:24.912Z"
   },
   {
    "duration": 407,
    "start_time": "2022-04-20T10:17:30.079Z"
   },
   {
    "duration": 33,
    "start_time": "2022-04-20T10:17:31.998Z"
   },
   {
    "duration": 87,
    "start_time": "2022-04-20T10:17:37.280Z"
   },
   {
    "duration": 29,
    "start_time": "2022-04-20T10:17:42.360Z"
   },
   {
    "duration": 56,
    "start_time": "2022-04-20T10:17:47.207Z"
   },
   {
    "duration": 27,
    "start_time": "2022-04-20T10:17:51.360Z"
   },
   {
    "duration": 52,
    "start_time": "2022-04-20T10:17:55.224Z"
   },
   {
    "duration": 23,
    "start_time": "2022-04-20T10:17:58.991Z"
   },
   {
    "duration": 28,
    "start_time": "2022-04-20T10:18:03.728Z"
   },
   {
    "duration": 36,
    "start_time": "2022-04-20T10:18:15.466Z"
   },
   {
    "duration": 56,
    "start_time": "2022-04-20T10:18:22.904Z"
   },
   {
    "duration": 50,
    "start_time": "2022-04-20T10:20:08.314Z"
   },
   {
    "duration": 399,
    "start_time": "2022-04-20T10:22:12.367Z"
   },
   {
    "duration": 31,
    "start_time": "2022-04-20T10:22:14.712Z"
   },
   {
    "duration": 86,
    "start_time": "2022-04-20T10:22:17.712Z"
   },
   {
    "duration": 41,
    "start_time": "2022-04-20T10:22:21.698Z"
   },
   {
    "duration": 92,
    "start_time": "2022-04-20T10:22:25.248Z"
   },
   {
    "duration": 46,
    "start_time": "2022-04-20T10:22:28.384Z"
   },
   {
    "duration": 54,
    "start_time": "2022-04-20T10:22:31.802Z"
   },
   {
    "duration": 17,
    "start_time": "2022-04-20T10:22:35.208Z"
   },
   {
    "duration": 20,
    "start_time": "2022-04-20T10:22:38.217Z"
   },
   {
    "duration": 78,
    "start_time": "2022-04-20T10:22:42.098Z"
   },
   {
    "duration": 49,
    "start_time": "2022-04-20T10:23:51.608Z"
   },
   {
    "duration": 47,
    "start_time": "2022-04-20T10:24:16.864Z"
   },
   {
    "duration": 25,
    "start_time": "2022-04-20T10:26:11.337Z"
   },
   {
    "duration": 33,
    "start_time": "2022-04-20T10:27:32.264Z"
   },
   {
    "duration": 50,
    "start_time": "2022-04-20T10:28:07.417Z"
   },
   {
    "duration": 38,
    "start_time": "2022-04-20T10:28:47.762Z"
   },
   {
    "duration": 51,
    "start_time": "2022-04-20T10:28:59.688Z"
   },
   {
    "duration": 40,
    "start_time": "2022-04-20T10:31:19.376Z"
   },
   {
    "duration": 104,
    "start_time": "2022-04-20T10:42:24.592Z"
   },
   {
    "duration": 29,
    "start_time": "2022-04-20T10:42:35.855Z"
   },
   {
    "duration": 49,
    "start_time": "2022-04-20T10:42:41.415Z"
   },
   {
    "duration": 71,
    "start_time": "2022-04-20T10:44:26.456Z"
   },
   {
    "duration": 76,
    "start_time": "2022-04-20T10:44:45.864Z"
   },
   {
    "duration": 76,
    "start_time": "2022-04-20T10:45:29.449Z"
   },
   {
    "duration": 65,
    "start_time": "2022-04-20T10:45:38.017Z"
   },
   {
    "duration": 51,
    "start_time": "2022-04-20T10:50:45.217Z"
   },
   {
    "duration": 47,
    "start_time": "2022-04-20T10:51:21.082Z"
   },
   {
    "duration": 88,
    "start_time": "2022-04-20T10:51:33.816Z"
   },
   {
    "duration": 46,
    "start_time": "2022-04-20T10:51:42.136Z"
   },
   {
    "duration": 47,
    "start_time": "2022-04-20T10:51:51.945Z"
   },
   {
    "duration": 393,
    "start_time": "2022-04-20T10:52:17.712Z"
   },
   {
    "duration": 31,
    "start_time": "2022-04-20T10:52:19.664Z"
   },
   {
    "duration": 85,
    "start_time": "2022-04-20T10:52:23.960Z"
   },
   {
    "duration": 27,
    "start_time": "2022-04-20T10:52:27.305Z"
   },
   {
    "duration": 55,
    "start_time": "2022-04-20T10:52:30.201Z"
   },
   {
    "duration": 48,
    "start_time": "2022-04-20T10:55:15.066Z"
   },
   {
    "duration": 72,
    "start_time": "2022-04-20T10:55:37.682Z"
   },
   {
    "duration": 66,
    "start_time": "2022-04-20T10:56:09.547Z"
   },
   {
    "duration": 24,
    "start_time": "2022-04-20T10:56:23.633Z"
   },
   {
    "duration": 52,
    "start_time": "2022-04-20T10:56:29.289Z"
   },
   {
    "duration": 16,
    "start_time": "2022-04-20T10:56:33.617Z"
   },
   {
    "duration": 18,
    "start_time": "2022-04-20T10:56:36.433Z"
   },
   {
    "duration": 39,
    "start_time": "2022-04-20T10:56:41.481Z"
   },
   {
    "duration": 66,
    "start_time": "2022-04-20T10:57:11.121Z"
   },
   {
    "duration": 24,
    "start_time": "2022-04-20T10:57:26.178Z"
   },
   {
    "duration": 49,
    "start_time": "2022-04-20T10:57:32.721Z"
   },
   {
    "duration": 21,
    "start_time": "2022-04-20T10:57:38.553Z"
   },
   {
    "duration": 47,
    "start_time": "2022-04-20T10:57:49.513Z"
   },
   {
    "duration": 16,
    "start_time": "2022-04-20T10:57:51.794Z"
   },
   {
    "duration": 17,
    "start_time": "2022-04-20T10:57:55.473Z"
   },
   {
    "duration": 35,
    "start_time": "2022-04-20T10:58:09.761Z"
   },
   {
    "duration": 39,
    "start_time": "2022-04-20T10:58:15.818Z"
   },
   {
    "duration": 31,
    "start_time": "2022-04-20T10:58:29.465Z"
   },
   {
    "duration": 44,
    "start_time": "2022-04-20T10:58:37.953Z"
   },
   {
    "duration": 43,
    "start_time": "2022-04-20T11:04:43.433Z"
   },
   {
    "duration": 38,
    "start_time": "2022-04-20T11:06:09.153Z"
   },
   {
    "duration": 65,
    "start_time": "2022-04-20T11:06:28.729Z"
   },
   {
    "duration": 55,
    "start_time": "2022-04-20T11:06:54.745Z"
   },
   {
    "duration": 57,
    "start_time": "2022-04-20T11:07:28.569Z"
   },
   {
    "duration": 43,
    "start_time": "2022-04-20T11:09:02.465Z"
   },
   {
    "duration": 147,
    "start_time": "2022-04-20T11:09:26.809Z"
   },
   {
    "duration": 686,
    "start_time": "2022-04-20T11:09:33.657Z"
   },
   {
    "duration": 37,
    "start_time": "2022-04-20T11:09:36.297Z"
   },
   {
    "duration": 87,
    "start_time": "2022-04-20T11:09:40.465Z"
   },
   {
    "duration": 57,
    "start_time": "2022-04-20T11:09:46.393Z"
   },
   {
    "duration": 26,
    "start_time": "2022-04-20T11:09:50.200Z"
   },
   {
    "duration": 53,
    "start_time": "2022-04-20T11:09:53.993Z"
   },
   {
    "duration": 17,
    "start_time": "2022-04-20T11:10:00.849Z"
   },
   {
    "duration": 21,
    "start_time": "2022-04-20T11:10:06.129Z"
   },
   {
    "duration": 46,
    "start_time": "2022-04-20T11:10:13.257Z"
   },
   {
    "duration": 55,
    "start_time": "2022-04-20T11:12:59.338Z"
   },
   {
    "duration": 71,
    "start_time": "2022-04-20T11:13:33.490Z"
   },
   {
    "duration": 63,
    "start_time": "2022-04-20T11:14:13.915Z"
   },
   {
    "duration": 62,
    "start_time": "2022-04-20T11:15:30.251Z"
   },
   {
    "duration": 47,
    "start_time": "2022-04-20T11:15:46.538Z"
   },
   {
    "duration": 46,
    "start_time": "2022-04-20T11:15:57.673Z"
   },
   {
    "duration": 42,
    "start_time": "2022-04-20T11:16:04.721Z"
   },
   {
    "duration": 37,
    "start_time": "2022-04-20T11:18:34.753Z"
   },
   {
    "duration": 37,
    "start_time": "2022-04-20T11:19:11.458Z"
   },
   {
    "duration": 43,
    "start_time": "2022-04-20T11:19:18.450Z"
   },
   {
    "duration": 46,
    "start_time": "2022-04-20T11:20:52.290Z"
   },
   {
    "duration": 46,
    "start_time": "2022-04-20T11:21:18.554Z"
   },
   {
    "duration": 48,
    "start_time": "2022-04-20T11:37:35.265Z"
   },
   {
    "duration": 79,
    "start_time": "2022-04-20T12:16:35.947Z"
   },
   {
    "duration": 42,
    "start_time": "2022-04-20T13:08:21.973Z"
   },
   {
    "duration": 59,
    "start_time": "2022-04-20T13:08:39.773Z"
   },
   {
    "duration": 40,
    "start_time": "2022-04-20T13:09:00.525Z"
   },
   {
    "duration": 40,
    "start_time": "2022-04-20T13:09:15.278Z"
   },
   {
    "duration": 49,
    "start_time": "2022-04-20T13:09:41.776Z"
   },
   {
    "duration": 60,
    "start_time": "2022-04-20T13:10:14.877Z"
   },
   {
    "duration": 44,
    "start_time": "2022-04-20T13:10:51.008Z"
   },
   {
    "duration": 60,
    "start_time": "2022-04-20T13:11:11.493Z"
   },
   {
    "duration": 61,
    "start_time": "2022-04-20T13:11:38.942Z"
   },
   {
    "duration": 41,
    "start_time": "2022-04-20T13:12:54.847Z"
   },
   {
    "duration": 58,
    "start_time": "2022-04-20T13:13:18.164Z"
   },
   {
    "duration": 63,
    "start_time": "2022-04-20T13:15:00.800Z"
   },
   {
    "duration": 47,
    "start_time": "2022-04-20T13:15:16.999Z"
   },
   {
    "duration": 59,
    "start_time": "2022-04-20T13:15:26.956Z"
   },
   {
    "duration": 53,
    "start_time": "2022-04-20T13:17:33.142Z"
   },
   {
    "duration": 34,
    "start_time": "2022-04-20T13:17:55.532Z"
   },
   {
    "duration": 103,
    "start_time": "2022-04-20T13:18:08.748Z"
   },
   {
    "duration": 45,
    "start_time": "2022-04-20T13:18:24.822Z"
   },
   {
    "duration": 60,
    "start_time": "2022-04-20T13:18:32.732Z"
   },
   {
    "duration": 44,
    "start_time": "2022-04-20T13:21:11.934Z"
   },
   {
    "duration": 42,
    "start_time": "2022-04-20T13:21:57.534Z"
   },
   {
    "duration": 115,
    "start_time": "2022-04-20T13:22:16.895Z"
   },
   {
    "duration": 57,
    "start_time": "2022-04-20T13:22:23.524Z"
   },
   {
    "duration": 58,
    "start_time": "2022-04-20T13:22:57.310Z"
   },
   {
    "duration": 61,
    "start_time": "2022-04-20T13:23:18.966Z"
   },
   {
    "duration": 70,
    "start_time": "2022-04-20T13:23:43.671Z"
   },
   {
    "duration": 59,
    "start_time": "2022-04-20T13:24:06.846Z"
   },
   {
    "duration": 59,
    "start_time": "2022-04-20T13:24:15.238Z"
   },
   {
    "duration": 56,
    "start_time": "2022-04-20T13:24:23.198Z"
   },
   {
    "duration": 38,
    "start_time": "2022-04-20T13:26:11.198Z"
   },
   {
    "duration": 42,
    "start_time": "2022-04-20T13:26:23.892Z"
   },
   {
    "duration": 38,
    "start_time": "2022-04-20T13:26:36.037Z"
   },
   {
    "duration": 12,
    "start_time": "2022-04-20T13:28:00.053Z"
   },
   {
    "duration": 58,
    "start_time": "2022-04-20T13:28:19.204Z"
   },
   {
    "duration": 62,
    "start_time": "2022-04-20T13:29:01.247Z"
   },
   {
    "duration": 70,
    "start_time": "2022-04-20T13:32:16.190Z"
   },
   {
    "duration": 60,
    "start_time": "2022-04-20T13:32:59.879Z"
   },
   {
    "duration": 65,
    "start_time": "2022-04-20T16:09:02.075Z"
   },
   {
    "duration": 358,
    "start_time": "2022-04-20T16:10:18.352Z"
   },
   {
    "duration": 30,
    "start_time": "2022-04-20T16:10:20.896Z"
   },
   {
    "duration": 74,
    "start_time": "2022-04-20T16:10:24.153Z"
   },
   {
    "duration": 27,
    "start_time": "2022-04-20T16:10:27.464Z"
   },
   {
    "duration": 53,
    "start_time": "2022-04-20T16:10:32.735Z"
   },
   {
    "duration": 24,
    "start_time": "2022-04-20T16:10:35.816Z"
   },
   {
    "duration": 49,
    "start_time": "2022-04-20T16:10:39.232Z"
   },
   {
    "duration": 17,
    "start_time": "2022-04-20T16:10:43.168Z"
   },
   {
    "duration": 20,
    "start_time": "2022-04-20T16:10:55.049Z"
   },
   {
    "duration": 8,
    "start_time": "2022-04-20T16:16:01.201Z"
   },
   {
    "duration": 13,
    "start_time": "2022-04-20T16:18:56.016Z"
   },
   {
    "duration": 59,
    "start_time": "2022-04-20T16:20:03.811Z"
   },
   {
    "duration": 49,
    "start_time": "2022-04-20T16:22:04.730Z"
   },
   {
    "duration": 729,
    "start_time": "2022-04-21T07:30:32.920Z"
   },
   {
    "duration": 41,
    "start_time": "2022-04-21T07:30:35.045Z"
   },
   {
    "duration": 84,
    "start_time": "2022-04-21T07:30:39.404Z"
   },
   {
    "duration": 25,
    "start_time": "2022-04-21T07:30:42.484Z"
   },
   {
    "duration": 60,
    "start_time": "2022-04-21T07:30:45.308Z"
   },
   {
    "duration": 22,
    "start_time": "2022-04-21T07:30:48.549Z"
   },
   {
    "duration": 51,
    "start_time": "2022-04-21T07:30:51.276Z"
   },
   {
    "duration": 15,
    "start_time": "2022-04-21T07:30:53.707Z"
   },
   {
    "duration": 17,
    "start_time": "2022-04-21T07:30:57.508Z"
   },
   {
    "duration": 45,
    "start_time": "2022-04-21T07:31:07.933Z"
   },
   {
    "duration": 71,
    "start_time": "2022-04-21T09:25:47.489Z"
   },
   {
    "duration": 7,
    "start_time": "2022-04-21T09:26:19.039Z"
   },
   {
    "duration": 6,
    "start_time": "2022-04-21T09:26:47.799Z"
   },
   {
    "duration": 7,
    "start_time": "2022-04-21T09:27:12.406Z"
   },
   {
    "duration": 15,
    "start_time": "2022-04-21T09:27:44.614Z"
   },
   {
    "duration": 3,
    "start_time": "2022-04-21T09:28:26.088Z"
   },
   {
    "duration": 15,
    "start_time": "2022-04-21T09:28:38.622Z"
   },
   {
    "duration": 15,
    "start_time": "2022-04-21T09:29:09.400Z"
   },
   {
    "duration": 130,
    "start_time": "2022-04-21T09:29:34.216Z"
   },
   {
    "duration": 91,
    "start_time": "2022-04-21T09:29:47.246Z"
   },
   {
    "duration": 96,
    "start_time": "2022-04-21T09:29:54.150Z"
   },
   {
    "duration": 100,
    "start_time": "2022-04-21T09:30:20.223Z"
   },
   {
    "duration": 128,
    "start_time": "2022-04-21T09:30:46.935Z"
   },
   {
    "duration": 93,
    "start_time": "2022-04-21T09:30:55.990Z"
   },
   {
    "duration": 86,
    "start_time": "2022-04-21T09:31:05.711Z"
   },
   {
    "duration": 10,
    "start_time": "2022-04-21T09:31:10.159Z"
   },
   {
    "duration": 10,
    "start_time": "2022-04-21T09:32:34.519Z"
   },
   {
    "duration": 9,
    "start_time": "2022-04-21T09:32:38.071Z"
   },
   {
    "duration": 15,
    "start_time": "2022-04-21T09:32:50.503Z"
   },
   {
    "duration": 10,
    "start_time": "2022-04-21T09:32:52.759Z"
   },
   {
    "duration": 369,
    "start_time": "2022-04-21T09:32:56.718Z"
   },
   {
    "duration": 36,
    "start_time": "2022-04-21T09:32:58.615Z"
   },
   {
    "duration": 93,
    "start_time": "2022-04-21T09:33:02.062Z"
   },
   {
    "duration": 28,
    "start_time": "2022-04-21T09:33:05.631Z"
   },
   {
    "duration": 56,
    "start_time": "2022-04-21T09:33:09.193Z"
   },
   {
    "duration": 24,
    "start_time": "2022-04-21T09:33:13.199Z"
   },
   {
    "duration": 53,
    "start_time": "2022-04-21T09:33:15.934Z"
   },
   {
    "duration": 17,
    "start_time": "2022-04-21T09:33:19.168Z"
   },
   {
    "duration": 18,
    "start_time": "2022-04-21T09:33:22.480Z"
   },
   {
    "duration": 10,
    "start_time": "2022-04-21T09:33:25.086Z"
   },
   {
    "duration": 10,
    "start_time": "2022-04-21T09:33:42.374Z"
   },
   {
    "duration": 3,
    "start_time": "2022-04-21T11:08:46.392Z"
   },
   {
    "duration": 4,
    "start_time": "2022-04-21T11:09:12.023Z"
   },
   {
    "duration": 2,
    "start_time": "2022-04-21T11:09:28.094Z"
   },
   {
    "duration": 14,
    "start_time": "2022-04-21T11:09:35.726Z"
   },
   {
    "duration": 19,
    "start_time": "2022-04-21T11:10:06.125Z"
   },
   {
    "duration": 21,
    "start_time": "2022-04-21T11:10:17.015Z"
   },
   {
    "duration": 14,
    "start_time": "2022-04-21T11:11:42.230Z"
   },
   {
    "duration": 12,
    "start_time": "2022-04-21T11:14:21.252Z"
   },
   {
    "duration": 11,
    "start_time": "2022-04-21T11:14:26.083Z"
   },
   {
    "duration": 12,
    "start_time": "2022-04-21T11:14:49.059Z"
   },
   {
    "duration": 8,
    "start_time": "2022-04-21T11:16:05.772Z"
   },
   {
    "duration": 8,
    "start_time": "2022-04-21T11:16:25.838Z"
   },
   {
    "duration": 8,
    "start_time": "2022-04-21T11:16:38.860Z"
   },
   {
    "duration": 56,
    "start_time": "2022-04-21T11:17:36.204Z"
   },
   {
    "duration": 47,
    "start_time": "2022-04-21T14:10:45.275Z"
   },
   {
    "duration": 37,
    "start_time": "2022-04-21T14:10:52.349Z"
   },
   {
    "duration": 47,
    "start_time": "2022-04-21T14:11:00.651Z"
   },
   {
    "duration": 54,
    "start_time": "2022-04-21T14:11:17.915Z"
   },
   {
    "duration": 52,
    "start_time": "2022-04-21T14:11:37.933Z"
   },
   {
    "duration": 7,
    "start_time": "2022-04-21T14:24:31.748Z"
   },
   {
    "duration": 364,
    "start_time": "2022-04-21T14:24:43.251Z"
   },
   {
    "duration": 423,
    "start_time": "2022-04-21T14:24:56.587Z"
   },
   {
    "duration": 400,
    "start_time": "2022-04-21T14:25:09.595Z"
   },
   {
    "duration": 374,
    "start_time": "2022-04-21T14:26:37.796Z"
   },
   {
    "duration": 3,
    "start_time": "2022-04-21T17:05:12.269Z"
   },
   {
    "duration": 9,
    "start_time": "2022-04-21T17:05:30.579Z"
   },
   {
    "duration": 10,
    "start_time": "2022-04-21T17:06:17.083Z"
   },
   {
    "duration": 10,
    "start_time": "2022-04-21T17:06:19.251Z"
   },
   {
    "duration": 368,
    "start_time": "2022-04-21T17:06:24.116Z"
   },
   {
    "duration": 30,
    "start_time": "2022-04-21T17:06:26.244Z"
   },
   {
    "duration": 84,
    "start_time": "2022-04-21T17:06:30.716Z"
   },
   {
    "duration": 28,
    "start_time": "2022-04-21T17:06:34.317Z"
   },
   {
    "duration": 60,
    "start_time": "2022-04-21T17:06:39.908Z"
   },
   {
    "duration": 21,
    "start_time": "2022-04-21T17:06:42.028Z"
   },
   {
    "duration": 50,
    "start_time": "2022-04-21T17:06:45.499Z"
   },
   {
    "duration": 14,
    "start_time": "2022-04-21T17:06:47.962Z"
   },
   {
    "duration": 9,
    "start_time": "2022-04-21T17:06:51.731Z"
   },
   {
    "duration": 8,
    "start_time": "2022-04-21T17:07:16.227Z"
   },
   {
    "duration": 373,
    "start_time": "2022-04-21T17:07:27.681Z"
   },
   {
    "duration": 30,
    "start_time": "2022-04-21T17:07:29.579Z"
   },
   {
    "duration": 369,
    "start_time": "2022-04-21T17:07:47.043Z"
   },
   {
    "duration": 30,
    "start_time": "2022-04-21T17:07:49.331Z"
   },
   {
    "duration": 89,
    "start_time": "2022-04-21T17:07:54.156Z"
   },
   {
    "duration": 26,
    "start_time": "2022-04-21T17:07:56.341Z"
   },
   {
    "duration": 99,
    "start_time": "2022-04-21T17:08:00.140Z"
   },
   {
    "duration": 24,
    "start_time": "2022-04-21T17:08:03.156Z"
   },
   {
    "duration": 54,
    "start_time": "2022-04-21T17:08:05.851Z"
   },
   {
    "duration": 17,
    "start_time": "2022-04-21T17:08:10.731Z"
   },
   {
    "duration": 13,
    "start_time": "2022-04-21T17:08:15.213Z"
   },
   {
    "duration": 19,
    "start_time": "2022-04-21T17:08:20.421Z"
   },
   {
    "duration": 7,
    "start_time": "2022-04-21T17:08:23.996Z"
   },
   {
    "duration": 50,
    "start_time": "2022-04-21T17:08:29.227Z"
   },
   {
    "duration": 58,
    "start_time": "2022-04-21T17:08:48.188Z"
   },
   {
    "duration": 46,
    "start_time": "2022-04-21T17:09:08.180Z"
   },
   {
    "duration": 463,
    "start_time": "2022-04-21T17:11:30.562Z"
   },
   {
    "duration": 1540,
    "start_time": "2022-04-21T17:28:04.005Z"
   },
   {
    "duration": 44,
    "start_time": "2022-04-21T17:30:27.358Z"
   },
   {
    "duration": 10,
    "start_time": "2022-04-21T17:31:45.468Z"
   },
   {
    "duration": 16,
    "start_time": "2022-04-21T17:31:50.173Z"
   },
   {
    "duration": 8,
    "start_time": "2022-04-21T17:31:53.429Z"
   },
   {
    "duration": 49,
    "start_time": "2022-04-21T17:31:56.494Z"
   },
   {
    "duration": 1504,
    "start_time": "2022-04-21T17:31:59.174Z"
   },
   {
    "duration": 362,
    "start_time": "2022-04-21T17:32:37.045Z"
   },
   {
    "duration": 32,
    "start_time": "2022-04-21T17:32:39.141Z"
   },
   {
    "duration": 78,
    "start_time": "2022-04-21T17:32:42.070Z"
   },
   {
    "duration": 27,
    "start_time": "2022-04-21T17:32:45.046Z"
   },
   {
    "duration": 57,
    "start_time": "2022-04-21T17:32:51.333Z"
   },
   {
    "duration": 24,
    "start_time": "2022-04-21T17:32:53.478Z"
   },
   {
    "duration": 50,
    "start_time": "2022-04-21T17:32:57.173Z"
   },
   {
    "duration": 16,
    "start_time": "2022-04-21T17:32:59.997Z"
   },
   {
    "duration": 10,
    "start_time": "2022-04-21T17:33:07.502Z"
   },
   {
    "duration": 18,
    "start_time": "2022-04-21T17:33:10.918Z"
   },
   {
    "duration": 9,
    "start_time": "2022-04-21T17:33:13.965Z"
   },
   {
    "duration": 53,
    "start_time": "2022-04-21T17:33:16.709Z"
   },
   {
    "duration": 1393,
    "start_time": "2022-04-21T17:33:23.437Z"
   },
   {
    "duration": 1606,
    "start_time": "2022-04-21T17:33:54.783Z"
   },
   {
    "duration": 1470,
    "start_time": "2022-04-21T17:34:04.854Z"
   },
   {
    "duration": 1468,
    "start_time": "2022-04-21T17:34:11.613Z"
   },
   {
    "duration": 69,
    "start_time": "2022-04-21T17:35:03.990Z"
   },
   {
    "duration": 90,
    "start_time": "2022-04-21T17:35:18.853Z"
   },
   {
    "duration": 92,
    "start_time": "2022-04-21T17:36:14.349Z"
   },
   {
    "duration": 428,
    "start_time": "2022-04-21T17:36:43.925Z"
   },
   {
    "duration": 71,
    "start_time": "2022-04-21T17:38:27.813Z"
   },
   {
    "duration": 71,
    "start_time": "2022-04-21T17:39:16.884Z"
   },
   {
    "duration": 85,
    "start_time": "2022-04-21T17:40:11.390Z"
   },
   {
    "duration": 87,
    "start_time": "2022-04-21T17:41:45.164Z"
   },
   {
    "duration": 89,
    "start_time": "2022-04-21T17:41:59.948Z"
   },
   {
    "duration": 378,
    "start_time": "2022-04-21T17:42:14.077Z"
   },
   {
    "duration": 33,
    "start_time": "2022-04-21T17:42:16.156Z"
   },
   {
    "duration": 119,
    "start_time": "2022-04-21T17:42:19.414Z"
   },
   {
    "duration": 117,
    "start_time": "2022-04-21T17:43:24.613Z"
   },
   {
    "duration": 26,
    "start_time": "2022-04-21T17:43:56.886Z"
   },
   {
    "duration": 55,
    "start_time": "2022-04-21T17:44:04.573Z"
   },
   {
    "duration": 50,
    "start_time": "2022-04-21T17:44:09.685Z"
   },
   {
    "duration": 16,
    "start_time": "2022-04-21T17:44:14.205Z"
   },
   {
    "duration": 10,
    "start_time": "2022-04-21T17:44:19.372Z"
   },
   {
    "duration": 18,
    "start_time": "2022-04-21T17:44:22.821Z"
   },
   {
    "duration": 8,
    "start_time": "2022-04-21T17:44:26.324Z"
   },
   {
    "duration": 50,
    "start_time": "2022-04-21T17:44:41.941Z"
   },
   {
    "duration": 1484,
    "start_time": "2022-04-21T17:45:26.054Z"
   },
   {
    "duration": 4,
    "start_time": "2022-04-21T17:45:44.878Z"
   },
   {
    "duration": 1812,
    "start_time": "2022-04-21T17:46:33.093Z"
   },
   {
    "duration": 1597,
    "start_time": "2022-04-21T17:46:47.741Z"
   },
   {
    "duration": 1434,
    "start_time": "2022-04-21T17:47:56.919Z"
   },
   {
    "duration": 1930,
    "start_time": "2022-04-21T17:48:33.070Z"
   },
   {
    "duration": 1517,
    "start_time": "2022-04-21T18:04:11.128Z"
   },
   {
    "duration": 1480,
    "start_time": "2022-04-21T18:04:31.255Z"
   },
   {
    "duration": 401,
    "start_time": "2022-04-21T18:05:17.759Z"
   },
   {
    "duration": 33,
    "start_time": "2022-04-21T18:05:19.846Z"
   },
   {
    "duration": 60,
    "start_time": "2022-04-21T18:06:14.623Z"
   },
   {
    "duration": 141,
    "start_time": "2022-04-21T18:07:35.223Z"
   },
   {
    "duration": 44,
    "start_time": "2022-04-21T18:08:44.879Z"
   },
   {
    "duration": 46,
    "start_time": "2022-04-21T18:09:18.223Z"
   },
   {
    "duration": 44,
    "start_time": "2022-04-21T18:10:09.375Z"
   },
   {
    "duration": 64,
    "start_time": "2022-04-21T18:11:50.910Z"
   },
   {
    "duration": 68,
    "start_time": "2022-04-21T18:12:32.431Z"
   },
   {
    "duration": 79,
    "start_time": "2022-04-21T18:12:41.776Z"
   },
   {
    "duration": 1484,
    "start_time": "2022-04-21T18:12:58.847Z"
   },
   {
    "duration": 1503,
    "start_time": "2022-04-21T18:13:07.695Z"
   },
   {
    "duration": 102,
    "start_time": "2022-04-21T18:13:21.295Z"
   },
   {
    "duration": 80,
    "start_time": "2022-04-21T18:14:02.743Z"
   },
   {
    "duration": 28,
    "start_time": "2022-04-21T18:14:07.816Z"
   },
   {
    "duration": 59,
    "start_time": "2022-04-21T18:14:11.143Z"
   },
   {
    "duration": 25,
    "start_time": "2022-04-21T18:14:14.679Z"
   },
   {
    "duration": 54,
    "start_time": "2022-04-21T18:14:18.063Z"
   },
   {
    "duration": 16,
    "start_time": "2022-04-21T18:14:21.053Z"
   },
   {
    "duration": 10,
    "start_time": "2022-04-21T18:14:24.535Z"
   },
   {
    "duration": 18,
    "start_time": "2022-04-21T18:14:26.752Z"
   },
   {
    "duration": 9,
    "start_time": "2022-04-21T18:14:29.559Z"
   },
   {
    "duration": 50,
    "start_time": "2022-04-21T18:14:35.687Z"
   },
   {
    "duration": 3,
    "start_time": "2022-04-21T18:15:10.098Z"
   },
   {
    "duration": 5,
    "start_time": "2022-04-21T18:15:56.047Z"
   },
   {
    "duration": 14,
    "start_time": "2022-04-21T18:16:24.568Z"
   },
   {
    "duration": 13,
    "start_time": "2022-04-21T18:17:26.402Z"
   },
   {
    "duration": 364,
    "start_time": "2022-04-21T18:17:31.311Z"
   },
   {
    "duration": 29,
    "start_time": "2022-04-21T18:17:33.767Z"
   },
   {
    "duration": 84,
    "start_time": "2022-04-21T18:17:35.160Z"
   },
   {
    "duration": 27,
    "start_time": "2022-04-21T18:17:36.631Z"
   },
   {
    "duration": 61,
    "start_time": "2022-04-21T18:17:38.086Z"
   },
   {
    "duration": 25,
    "start_time": "2022-04-21T18:17:39.566Z"
   },
   {
    "duration": 55,
    "start_time": "2022-04-21T18:17:41.071Z"
   },
   {
    "duration": 16,
    "start_time": "2022-04-21T18:17:42.671Z"
   },
   {
    "duration": 10,
    "start_time": "2022-04-21T18:17:44.263Z"
   },
   {
    "duration": 17,
    "start_time": "2022-04-21T18:17:45.911Z"
   },
   {
    "duration": 8,
    "start_time": "2022-04-21T18:17:51.047Z"
   },
   {
    "duration": 54,
    "start_time": "2022-04-21T18:17:53.206Z"
   },
   {
    "duration": 53,
    "start_time": "2022-04-21T18:18:02.494Z"
   },
   {
    "duration": 15,
    "start_time": "2022-04-21T18:18:17.680Z"
   },
   {
    "duration": 16,
    "start_time": "2022-04-21T18:18:24.601Z"
   },
   {
    "duration": 13,
    "start_time": "2022-04-21T18:18:29.872Z"
   },
   {
    "duration": 12,
    "start_time": "2022-04-21T18:20:53.015Z"
   },
   {
    "duration": 15,
    "start_time": "2022-04-21T18:21:10.288Z"
   },
   {
    "duration": 9,
    "start_time": "2022-04-21T18:21:44.036Z"
   },
   {
    "duration": 14,
    "start_time": "2022-04-21T18:21:55.679Z"
   },
   {
    "duration": 95,
    "start_time": "2022-04-21T18:23:25.648Z"
   },
   {
    "duration": 22,
    "start_time": "2022-04-21T18:23:31.287Z"
   },
   {
    "duration": 15,
    "start_time": "2022-04-21T18:23:39.510Z"
   },
   {
    "duration": 14,
    "start_time": "2022-04-21T18:24:55.231Z"
   },
   {
    "duration": 14,
    "start_time": "2022-04-21T18:25:33.342Z"
   },
   {
    "duration": 15,
    "start_time": "2022-04-21T18:26:42.102Z"
   },
   {
    "duration": 387,
    "start_time": "2022-04-21T18:26:53.678Z"
   },
   {
    "duration": 33,
    "start_time": "2022-04-21T18:26:55.302Z"
   },
   {
    "duration": 85,
    "start_time": "2022-04-21T18:26:55.753Z"
   },
   {
    "duration": 29,
    "start_time": "2022-04-21T18:26:56.119Z"
   },
   {
    "duration": 58,
    "start_time": "2022-04-21T18:26:56.637Z"
   },
   {
    "duration": 24,
    "start_time": "2022-04-21T18:26:57.007Z"
   },
   {
    "duration": 54,
    "start_time": "2022-04-21T18:26:57.605Z"
   },
   {
    "duration": 16,
    "start_time": "2022-04-21T18:26:58.015Z"
   },
   {
    "duration": 10,
    "start_time": "2022-04-21T18:26:58.407Z"
   },
   {
    "duration": 19,
    "start_time": "2022-04-21T18:26:58.797Z"
   },
   {
    "duration": 9,
    "start_time": "2022-04-21T18:26:59.205Z"
   },
   {
    "duration": 56,
    "start_time": "2022-04-21T18:26:59.623Z"
   },
   {
    "duration": 14,
    "start_time": "2022-04-21T18:27:00.390Z"
   },
   {
    "duration": 10,
    "start_time": "2022-04-21T18:31:30.183Z"
   },
   {
    "duration": 9,
    "start_time": "2022-04-21T18:32:01.407Z"
   },
   {
    "duration": 5,
    "start_time": "2022-04-21T18:32:27.902Z"
   },
   {
    "duration": 5,
    "start_time": "2022-04-21T18:35:25.933Z"
   },
   {
    "duration": 5,
    "start_time": "2022-04-21T18:35:41.005Z"
   },
   {
    "duration": 4,
    "start_time": "2022-04-21T18:35:43.845Z"
   },
   {
    "duration": 20,
    "start_time": "2022-04-21T18:35:47.310Z"
   },
   {
    "duration": 370,
    "start_time": "2022-04-21T18:36:49.545Z"
   },
   {
    "duration": 31,
    "start_time": "2022-04-21T18:36:50.608Z"
   },
   {
    "duration": 81,
    "start_time": "2022-04-21T18:36:51.007Z"
   },
   {
    "duration": 27,
    "start_time": "2022-04-21T18:36:51.335Z"
   },
   {
    "duration": 57,
    "start_time": "2022-04-21T18:36:51.696Z"
   },
   {
    "duration": 23,
    "start_time": "2022-04-21T18:36:52.031Z"
   },
   {
    "duration": 49,
    "start_time": "2022-04-21T18:36:52.359Z"
   },
   {
    "duration": 16,
    "start_time": "2022-04-21T18:36:52.704Z"
   },
   {
    "duration": 10,
    "start_time": "2022-04-21T18:36:53.073Z"
   },
   {
    "duration": 17,
    "start_time": "2022-04-21T18:36:53.448Z"
   },
   {
    "duration": 9,
    "start_time": "2022-04-21T18:36:53.808Z"
   },
   {
    "duration": 52,
    "start_time": "2022-04-21T18:36:54.184Z"
   },
   {
    "duration": 20,
    "start_time": "2022-04-21T18:36:54.847Z"
   },
   {
    "duration": 22,
    "start_time": "2022-04-21T18:37:28.650Z"
   },
   {
    "duration": 20,
    "start_time": "2022-04-21T18:38:24.944Z"
   },
   {
    "duration": 405,
    "start_time": "2022-04-21T18:38:34.080Z"
   },
   {
    "duration": 30,
    "start_time": "2022-04-21T18:38:34.700Z"
   },
   {
    "duration": 84,
    "start_time": "2022-04-21T18:38:34.752Z"
   },
   {
    "duration": 26,
    "start_time": "2022-04-21T18:38:34.838Z"
   },
   {
    "duration": 55,
    "start_time": "2022-04-21T18:38:34.887Z"
   },
   {
    "duration": 23,
    "start_time": "2022-04-21T18:38:34.951Z"
   },
   {
    "duration": 49,
    "start_time": "2022-04-21T18:38:35.011Z"
   },
   {
    "duration": 16,
    "start_time": "2022-04-21T18:38:35.086Z"
   },
   {
    "duration": 9,
    "start_time": "2022-04-21T18:38:35.152Z"
   },
   {
    "duration": 16,
    "start_time": "2022-04-21T18:38:35.213Z"
   },
   {
    "duration": 8,
    "start_time": "2022-04-21T18:38:35.282Z"
   },
   {
    "duration": 51,
    "start_time": "2022-04-21T18:38:35.355Z"
   },
   {
    "duration": 12,
    "start_time": "2022-04-21T18:38:35.445Z"
   },
   {
    "duration": 20,
    "start_time": "2022-04-21T18:39:50.657Z"
   },
   {
    "duration": 74,
    "start_time": "2022-04-21T18:40:21.688Z"
   },
   {
    "duration": 19,
    "start_time": "2022-04-21T18:40:36.522Z"
   },
   {
    "duration": 20,
    "start_time": "2022-04-21T18:44:24.064Z"
   },
   {
    "duration": 356,
    "start_time": "2022-04-21T18:44:30.527Z"
   },
   {
    "duration": 31,
    "start_time": "2022-04-21T18:44:31.141Z"
   },
   {
    "duration": 80,
    "start_time": "2022-04-21T18:44:31.204Z"
   },
   {
    "duration": 30,
    "start_time": "2022-04-21T18:44:31.285Z"
   },
   {
    "duration": 57,
    "start_time": "2022-04-21T18:44:31.327Z"
   },
   {
    "duration": 23,
    "start_time": "2022-04-21T18:44:31.405Z"
   },
   {
    "duration": 49,
    "start_time": "2022-04-21T18:44:31.466Z"
   },
   {
    "duration": 15,
    "start_time": "2022-04-21T18:44:31.530Z"
   },
   {
    "duration": 9,
    "start_time": "2022-04-21T18:44:31.594Z"
   },
   {
    "duration": 17,
    "start_time": "2022-04-21T18:44:31.667Z"
   },
   {
    "duration": 8,
    "start_time": "2022-04-21T18:44:31.735Z"
   },
   {
    "duration": 52,
    "start_time": "2022-04-21T18:44:31.793Z"
   },
   {
    "duration": 13,
    "start_time": "2022-04-21T18:44:31.895Z"
   },
   {
    "duration": 14,
    "start_time": "2022-04-21T18:46:12.897Z"
   },
   {
    "duration": 13,
    "start_time": "2022-04-21T18:46:26.290Z"
   },
   {
    "duration": 356,
    "start_time": "2022-04-21T18:46:47.927Z"
   },
   {
    "duration": 29,
    "start_time": "2022-04-21T18:46:48.545Z"
   },
   {
    "duration": 83,
    "start_time": "2022-04-21T18:46:48.605Z"
   },
   {
    "duration": 31,
    "start_time": "2022-04-21T18:46:48.689Z"
   },
   {
    "duration": 55,
    "start_time": "2022-04-21T18:46:48.728Z"
   },
   {
    "duration": 23,
    "start_time": "2022-04-21T18:46:48.810Z"
   },
   {
    "duration": 49,
    "start_time": "2022-04-21T18:46:48.866Z"
   },
   {
    "duration": 14,
    "start_time": "2022-04-21T18:46:48.933Z"
   },
   {
    "duration": 10,
    "start_time": "2022-04-21T18:46:48.990Z"
   },
   {
    "duration": 19,
    "start_time": "2022-04-21T18:46:49.067Z"
   },
   {
    "duration": 8,
    "start_time": "2022-04-21T18:46:49.134Z"
   },
   {
    "duration": 51,
    "start_time": "2022-04-21T18:46:49.190Z"
   },
   {
    "duration": 14,
    "start_time": "2022-04-21T18:46:49.304Z"
   },
   {
    "duration": 13,
    "start_time": "2022-04-21T18:47:08.057Z"
   },
   {
    "duration": 21,
    "start_time": "2022-04-21T18:47:41.359Z"
   },
   {
    "duration": 18,
    "start_time": "2022-04-21T18:47:53.956Z"
   },
   {
    "duration": 7,
    "start_time": "2022-04-21T18:48:38.265Z"
   },
   {
    "duration": 13,
    "start_time": "2022-04-21T18:49:22.489Z"
   },
   {
    "duration": 22,
    "start_time": "2022-04-21T18:49:43.000Z"
   },
   {
    "duration": 104,
    "start_time": "2022-04-21T18:50:31.682Z"
   },
   {
    "duration": 22,
    "start_time": "2022-04-21T18:50:49.880Z"
   },
   {
    "duration": 23,
    "start_time": "2022-04-21T18:51:05.714Z"
   },
   {
    "duration": 23,
    "start_time": "2022-04-21T18:51:08.738Z"
   },
   {
    "duration": 388,
    "start_time": "2022-04-21T18:51:13.864Z"
   },
   {
    "duration": 32,
    "start_time": "2022-04-21T18:51:14.492Z"
   },
   {
    "duration": 91,
    "start_time": "2022-04-21T18:51:14.543Z"
   },
   {
    "duration": 28,
    "start_time": "2022-04-21T18:51:14.636Z"
   },
   {
    "duration": 71,
    "start_time": "2022-04-21T18:51:14.673Z"
   },
   {
    "duration": 23,
    "start_time": "2022-04-21T18:51:14.746Z"
   },
   {
    "duration": 54,
    "start_time": "2022-04-21T18:51:14.795Z"
   },
   {
    "duration": 16,
    "start_time": "2022-04-21T18:51:14.874Z"
   },
   {
    "duration": 10,
    "start_time": "2022-04-21T18:51:14.935Z"
   },
   {
    "duration": 19,
    "start_time": "2022-04-21T18:51:14.999Z"
   },
   {
    "duration": 8,
    "start_time": "2022-04-21T18:51:15.062Z"
   },
   {
    "duration": 57,
    "start_time": "2022-04-21T18:51:15.124Z"
   },
   {
    "duration": 23,
    "start_time": "2022-04-21T18:51:19.978Z"
   },
   {
    "duration": 22,
    "start_time": "2022-04-21T18:51:32.617Z"
   },
   {
    "duration": 21,
    "start_time": "2022-04-21T18:51:56.227Z"
   },
   {
    "duration": 23,
    "start_time": "2022-04-21T18:52:10.666Z"
   },
   {
    "duration": 21,
    "start_time": "2022-04-21T18:53:37.161Z"
   },
   {
    "duration": 22,
    "start_time": "2022-04-21T18:54:40.955Z"
   },
   {
    "duration": 29,
    "start_time": "2022-04-21T18:55:18.308Z"
   },
   {
    "duration": 371,
    "start_time": "2022-04-21T18:55:23.136Z"
   },
   {
    "duration": 384,
    "start_time": "2022-04-21T18:55:24.767Z"
   },
   {
    "duration": 30,
    "start_time": "2022-04-21T18:55:25.371Z"
   },
   {
    "duration": 77,
    "start_time": "2022-04-21T18:55:25.450Z"
   },
   {
    "duration": 27,
    "start_time": "2022-04-21T18:55:25.529Z"
   },
   {
    "duration": 51,
    "start_time": "2022-04-21T18:55:25.577Z"
   },
   {
    "duration": 24,
    "start_time": "2022-04-21T18:55:25.633Z"
   },
   {
    "duration": 48,
    "start_time": "2022-04-21T18:55:25.713Z"
   },
   {
    "duration": 16,
    "start_time": "2022-04-21T18:55:25.774Z"
   },
   {
    "duration": 10,
    "start_time": "2022-04-21T18:55:25.840Z"
   },
   {
    "duration": 17,
    "start_time": "2022-04-21T18:55:25.909Z"
   },
   {
    "duration": 9,
    "start_time": "2022-04-21T18:55:25.983Z"
   },
   {
    "duration": 53,
    "start_time": "2022-04-21T18:55:26.048Z"
   },
   {
    "duration": 24,
    "start_time": "2022-04-21T18:55:26.129Z"
   },
   {
    "duration": 97,
    "start_time": "2022-04-21T18:56:30.048Z"
   },
   {
    "duration": 22,
    "start_time": "2022-04-21T18:56:37.855Z"
   },
   {
    "duration": 23,
    "start_time": "2022-04-21T18:56:42.993Z"
   },
   {
    "duration": 23,
    "start_time": "2022-04-21T18:56:54.161Z"
   },
   {
    "duration": 12,
    "start_time": "2022-04-21T18:59:09.857Z"
   },
   {
    "duration": 10,
    "start_time": "2022-04-21T18:59:31.191Z"
   },
   {
    "duration": 22,
    "start_time": "2022-04-21T18:59:37.902Z"
   },
   {
    "duration": 22,
    "start_time": "2022-04-21T18:59:51.480Z"
   },
   {
    "duration": 85,
    "start_time": "2022-04-21T19:02:11.752Z"
   },
   {
    "duration": 76,
    "start_time": "2022-04-21T19:03:10.816Z"
   },
   {
    "duration": 74,
    "start_time": "2022-04-21T19:04:01.081Z"
   },
   {
    "duration": 369,
    "start_time": "2022-04-21T19:04:05.374Z"
   },
   {
    "duration": 31,
    "start_time": "2022-04-21T19:04:06.262Z"
   },
   {
    "duration": 84,
    "start_time": "2022-04-21T19:04:06.583Z"
   },
   {
    "duration": 27,
    "start_time": "2022-04-21T19:04:06.941Z"
   },
   {
    "duration": 55,
    "start_time": "2022-04-21T19:04:07.301Z"
   },
   {
    "duration": 22,
    "start_time": "2022-04-21T19:04:07.662Z"
   },
   {
    "duration": 49,
    "start_time": "2022-04-21T19:04:08.238Z"
   },
   {
    "duration": 16,
    "start_time": "2022-04-21T19:04:08.621Z"
   },
   {
    "duration": 10,
    "start_time": "2022-04-21T19:04:09.094Z"
   },
   {
    "duration": 17,
    "start_time": "2022-04-21T19:04:09.494Z"
   },
   {
    "duration": 8,
    "start_time": "2022-04-21T19:04:09.861Z"
   },
   {
    "duration": 53,
    "start_time": "2022-04-21T19:04:10.237Z"
   },
   {
    "duration": 22,
    "start_time": "2022-04-21T19:04:10.936Z"
   },
   {
    "duration": 22,
    "start_time": "2022-04-21T19:04:58.175Z"
   },
   {
    "duration": 389,
    "start_time": "2022-04-21T19:05:32.888Z"
   },
   {
    "duration": 23,
    "start_time": "2022-04-21T19:05:38.902Z"
   },
   {
    "duration": 109,
    "start_time": "2022-04-21T19:06:01.888Z"
   },
   {
    "duration": 23,
    "start_time": "2022-04-21T19:06:07.461Z"
   },
   {
    "duration": 92,
    "start_time": "2022-04-21T19:16:06.960Z"
   },
   {
    "duration": 14,
    "start_time": "2022-04-21T19:16:12.173Z"
   },
   {
    "duration": 22,
    "start_time": "2022-04-21T19:16:47.110Z"
   },
   {
    "duration": 22,
    "start_time": "2022-04-21T19:16:58.567Z"
   },
   {
    "duration": 90,
    "start_time": "2022-04-21T19:18:57.927Z"
   },
   {
    "duration": 22,
    "start_time": "2022-04-21T19:19:01.613Z"
   },
   {
    "duration": 25,
    "start_time": "2022-04-21T19:19:16.551Z"
   },
   {
    "duration": 7,
    "start_time": "2022-04-21T19:19:44.663Z"
   },
   {
    "duration": 7,
    "start_time": "2022-04-21T19:20:08.405Z"
   },
   {
    "duration": 22,
    "start_time": "2022-04-21T19:20:53.028Z"
   },
   {
    "duration": 12,
    "start_time": "2022-04-21T19:21:16.367Z"
   },
   {
    "duration": 24,
    "start_time": "2022-04-21T19:21:36.574Z"
   },
   {
    "duration": 23,
    "start_time": "2022-04-21T19:23:21.454Z"
   },
   {
    "duration": 23,
    "start_time": "2022-04-21T19:24:11.286Z"
   },
   {
    "duration": 23,
    "start_time": "2022-04-21T19:24:13.543Z"
   },
   {
    "duration": 405,
    "start_time": "2022-04-21T19:24:19.165Z"
   },
   {
    "duration": 32,
    "start_time": "2022-04-21T19:24:19.770Z"
   },
   {
    "duration": 88,
    "start_time": "2022-04-21T19:24:19.849Z"
   },
   {
    "duration": 29,
    "start_time": "2022-04-21T19:24:19.939Z"
   },
   {
    "duration": 78,
    "start_time": "2022-04-21T19:24:19.969Z"
   },
   {
    "duration": 24,
    "start_time": "2022-04-21T19:24:20.049Z"
   },
   {
    "duration": 54,
    "start_time": "2022-04-21T19:24:20.095Z"
   },
   {
    "duration": 15,
    "start_time": "2022-04-21T19:24:20.171Z"
   },
   {
    "duration": 10,
    "start_time": "2022-04-21T19:24:20.236Z"
   },
   {
    "duration": 18,
    "start_time": "2022-04-21T19:24:20.300Z"
   },
   {
    "duration": 9,
    "start_time": "2022-04-21T19:24:20.371Z"
   },
   {
    "duration": 55,
    "start_time": "2022-04-21T19:24:20.437Z"
   },
   {
    "duration": 24,
    "start_time": "2022-04-21T19:24:20.533Z"
   },
   {
    "duration": 9,
    "start_time": "2022-04-21T19:26:22.630Z"
   },
   {
    "duration": 31,
    "start_time": "2022-04-21T19:26:59.828Z"
   },
   {
    "duration": 29,
    "start_time": "2022-04-21T19:27:45.263Z"
   },
   {
    "duration": 1677,
    "start_time": "2022-04-21T19:28:25.551Z"
   },
   {
    "duration": 30,
    "start_time": "2022-04-21T19:28:50.158Z"
   },
   {
    "duration": 31,
    "start_time": "2022-04-21T19:29:44.646Z"
   },
   {
    "duration": 30,
    "start_time": "2022-04-21T19:30:42.206Z"
   },
   {
    "duration": 15,
    "start_time": "2022-04-21T19:33:28.534Z"
   },
   {
    "duration": 15,
    "start_time": "2022-04-21T19:34:17.565Z"
   },
   {
    "duration": 58,
    "start_time": "2022-04-21T19:34:31.894Z"
   },
   {
    "duration": 60,
    "start_time": "2022-04-21T19:35:33.199Z"
   },
   {
    "duration": 60,
    "start_time": "2022-04-21T19:38:28.543Z"
   },
   {
    "duration": 55,
    "start_time": "2022-04-21T19:38:44.133Z"
   },
   {
    "duration": 57,
    "start_time": "2022-04-21T19:40:24.823Z"
   },
   {
    "duration": 334,
    "start_time": "2022-04-21T19:40:32.644Z"
   },
   {
    "duration": 29,
    "start_time": "2022-04-21T19:40:33.255Z"
   },
   {
    "duration": 74,
    "start_time": "2022-04-21T19:40:33.316Z"
   },
   {
    "duration": 30,
    "start_time": "2022-04-21T19:40:33.392Z"
   },
   {
    "duration": 51,
    "start_time": "2022-04-21T19:40:33.442Z"
   },
   {
    "duration": 23,
    "start_time": "2022-04-21T19:40:33.519Z"
   },
   {
    "duration": 48,
    "start_time": "2022-04-21T19:40:33.582Z"
   },
   {
    "duration": 16,
    "start_time": "2022-04-21T19:40:33.647Z"
   },
   {
    "duration": 10,
    "start_time": "2022-04-21T19:40:33.706Z"
   },
   {
    "duration": 17,
    "start_time": "2022-04-21T19:40:33.785Z"
   },
   {
    "duration": 8,
    "start_time": "2022-04-21T19:40:33.845Z"
   },
   {
    "duration": 53,
    "start_time": "2022-04-21T19:40:33.908Z"
   },
   {
    "duration": 51,
    "start_time": "2022-04-21T19:40:34.008Z"
   },
   {
    "duration": 90,
    "start_time": "2022-04-21T19:43:04.870Z"
   },
   {
    "duration": 127,
    "start_time": "2022-04-21T19:46:08.911Z"
   },
   {
    "duration": 48,
    "start_time": "2022-04-21T19:47:27.588Z"
   },
   {
    "duration": 17,
    "start_time": "2022-04-21T19:48:39.222Z"
   },
   {
    "duration": 60,
    "start_time": "2022-04-21T19:48:55.708Z"
   },
   {
    "duration": 124,
    "start_time": "2022-04-21T19:49:24.166Z"
   },
   {
    "duration": 124,
    "start_time": "2022-04-21T19:51:29.294Z"
   },
   {
    "duration": 123,
    "start_time": "2022-04-21T19:51:59.200Z"
   },
   {
    "duration": 123,
    "start_time": "2022-04-21T20:48:10.185Z"
   },
   {
    "duration": 115,
    "start_time": "2022-04-21T20:48:36.311Z"
   },
   {
    "duration": 10,
    "start_time": "2022-04-21T20:52:21.342Z"
   },
   {
    "duration": 335,
    "start_time": "2022-04-21T20:52:38.886Z"
   },
   {
    "duration": 29,
    "start_time": "2022-04-21T20:52:39.490Z"
   },
   {
    "duration": 76,
    "start_time": "2022-04-21T20:52:39.567Z"
   },
   {
    "duration": 26,
    "start_time": "2022-04-21T20:52:39.645Z"
   },
   {
    "duration": 50,
    "start_time": "2022-04-21T20:52:39.689Z"
   },
   {
    "duration": 21,
    "start_time": "2022-04-21T20:52:39.756Z"
   },
   {
    "duration": 47,
    "start_time": "2022-04-21T20:52:39.830Z"
   },
   {
    "duration": 15,
    "start_time": "2022-04-21T20:52:39.889Z"
   },
   {
    "duration": 9,
    "start_time": "2022-04-21T20:52:39.994Z"
   },
   {
    "duration": 17,
    "start_time": "2022-04-21T20:52:40.024Z"
   },
   {
    "duration": 9,
    "start_time": "2022-04-21T20:52:40.097Z"
   },
   {
    "duration": 41,
    "start_time": "2022-04-21T20:52:40.156Z"
   },
   {
    "duration": 1469,
    "start_time": "2022-04-21T20:52:41.655Z"
   },
   {
    "duration": 358,
    "start_time": "2022-04-21T20:53:11.733Z"
   },
   {
    "duration": 31,
    "start_time": "2022-04-21T20:53:12.805Z"
   },
   {
    "duration": 81,
    "start_time": "2022-04-21T20:53:13.261Z"
   },
   {
    "duration": 28,
    "start_time": "2022-04-21T20:53:13.700Z"
   },
   {
    "duration": 53,
    "start_time": "2022-04-21T20:53:14.140Z"
   },
   {
    "duration": 27,
    "start_time": "2022-04-21T20:53:14.557Z"
   },
   {
    "duration": 55,
    "start_time": "2022-04-21T20:53:14.980Z"
   },
   {
    "duration": 17,
    "start_time": "2022-04-21T20:53:15.412Z"
   },
   {
    "duration": 9,
    "start_time": "2022-04-21T20:53:15.845Z"
   },
   {
    "duration": 19,
    "start_time": "2022-04-21T20:53:16.279Z"
   },
   {
    "duration": 9,
    "start_time": "2022-04-21T20:53:16.708Z"
   },
   {
    "duration": 44,
    "start_time": "2022-04-21T20:53:17.124Z"
   },
   {
    "duration": 10,
    "start_time": "2022-04-21T20:55:21.374Z"
   },
   {
    "duration": 11,
    "start_time": "2022-04-21T20:55:26.532Z"
   },
   {
    "duration": 350,
    "start_time": "2022-04-21T20:55:31.140Z"
   },
   {
    "duration": 32,
    "start_time": "2022-04-21T20:55:31.748Z"
   },
   {
    "duration": 80,
    "start_time": "2022-04-21T20:55:31.806Z"
   },
   {
    "duration": 35,
    "start_time": "2022-04-21T20:55:31.893Z"
   },
   {
    "duration": 52,
    "start_time": "2022-04-21T20:55:31.948Z"
   },
   {
    "duration": 21,
    "start_time": "2022-04-21T20:55:32.013Z"
   },
   {
    "duration": 46,
    "start_time": "2022-04-21T20:55:32.074Z"
   },
   {
    "duration": 14,
    "start_time": "2022-04-21T20:55:32.136Z"
   },
   {
    "duration": 9,
    "start_time": "2022-04-21T20:55:32.214Z"
   },
   {
    "duration": 16,
    "start_time": "2022-04-21T20:55:32.277Z"
   },
   {
    "duration": 8,
    "start_time": "2022-04-21T20:55:32.338Z"
   },
   {
    "duration": 11,
    "start_time": "2022-04-21T20:56:03.452Z"
   },
   {
    "duration": 18,
    "start_time": "2022-04-21T20:56:07.484Z"
   },
   {
    "duration": 13,
    "start_time": "2022-04-21T20:56:10.733Z"
   },
   {
    "duration": 53,
    "start_time": "2022-04-21T20:56:13.268Z"
   },
   {
    "duration": 131,
    "start_time": "2022-04-21T20:56:24.310Z"
   },
   {
    "duration": 356,
    "start_time": "2022-04-21T20:57:01.053Z"
   },
   {
    "duration": 29,
    "start_time": "2022-04-21T20:57:01.667Z"
   },
   {
    "duration": 83,
    "start_time": "2022-04-21T20:57:01.728Z"
   },
   {
    "duration": 24,
    "start_time": "2022-04-21T20:57:01.813Z"
   },
   {
    "duration": 53,
    "start_time": "2022-04-21T20:57:01.857Z"
   },
   {
    "duration": 22,
    "start_time": "2022-04-21T20:57:01.931Z"
   },
   {
    "duration": 47,
    "start_time": "2022-04-21T20:57:01.999Z"
   },
   {
    "duration": 15,
    "start_time": "2022-04-21T20:57:02.060Z"
   },
   {
    "duration": 9,
    "start_time": "2022-04-21T20:57:02.123Z"
   },
   {
    "duration": 18,
    "start_time": "2022-04-21T20:57:02.186Z"
   },
   {
    "duration": 8,
    "start_time": "2022-04-21T20:57:02.263Z"
   },
   {
    "duration": 51,
    "start_time": "2022-04-21T20:57:02.327Z"
   },
   {
    "duration": 117,
    "start_time": "2022-04-21T20:57:02.420Z"
   },
   {
    "duration": 121,
    "start_time": "2022-04-21T20:58:10.927Z"
   },
   {
    "duration": 48,
    "start_time": "2022-04-23T11:52:09.236Z"
   },
   {
    "duration": 824,
    "start_time": "2022-04-23T11:52:14.880Z"
   },
   {
    "duration": 39,
    "start_time": "2022-04-23T11:52:15.706Z"
   },
   {
    "duration": 98,
    "start_time": "2022-04-23T11:52:15.941Z"
   },
   {
    "duration": 29,
    "start_time": "2022-04-23T11:52:16.220Z"
   },
   {
    "duration": 64,
    "start_time": "2022-04-23T11:52:16.488Z"
   },
   {
    "duration": 25,
    "start_time": "2022-04-23T11:52:16.744Z"
   },
   {
    "duration": 54,
    "start_time": "2022-04-23T11:52:17.004Z"
   },
   {
    "duration": 17,
    "start_time": "2022-04-23T11:52:17.328Z"
   },
   {
    "duration": 10,
    "start_time": "2022-04-23T11:52:17.636Z"
   },
   {
    "duration": 17,
    "start_time": "2022-04-23T11:52:18.448Z"
   },
   {
    "duration": 8,
    "start_time": "2022-04-23T11:52:19.280Z"
   },
   {
    "duration": 55,
    "start_time": "2022-04-23T11:52:19.916Z"
   },
   {
    "duration": 116,
    "start_time": "2022-04-23T11:52:24.364Z"
   },
   {
    "duration": 27,
    "start_time": "2022-04-23T11:52:29.524Z"
   },
   {
    "duration": 1580,
    "start_time": "2022-04-23T11:52:46.724Z"
   },
   {
    "duration": 1655,
    "start_time": "2022-04-23T11:53:43.220Z"
   },
   {
    "duration": 618,
    "start_time": "2022-04-23T11:54:23.808Z"
   },
   {
    "duration": 21,
    "start_time": "2022-04-23T12:09:38.240Z"
   },
   {
    "duration": 11,
    "start_time": "2022-04-23T12:10:09.552Z"
   },
   {
    "duration": 1444,
    "start_time": "2022-04-23T12:10:27.683Z"
   },
   {
    "duration": 1511,
    "start_time": "2022-04-23T12:10:36.488Z"
   },
   {
    "duration": 12,
    "start_time": "2022-04-23T12:13:01.292Z"
   },
   {
    "duration": 5,
    "start_time": "2022-04-23T12:13:28.019Z"
   },
   {
    "duration": 10,
    "start_time": "2022-04-23T12:15:17.168Z"
   },
   {
    "duration": 10,
    "start_time": "2022-04-23T12:15:32.647Z"
   },
   {
    "duration": 8,
    "start_time": "2022-04-23T12:17:05.087Z"
   },
   {
    "duration": 231,
    "start_time": "2022-04-23T12:17:12.856Z"
   },
   {
    "duration": 7,
    "start_time": "2022-04-23T12:23:36.884Z"
   },
   {
    "duration": 803,
    "start_time": "2022-04-23T12:23:59.667Z"
   },
   {
    "duration": 8,
    "start_time": "2022-04-23T12:24:41.283Z"
   },
   {
    "duration": 7,
    "start_time": "2022-04-23T12:25:53.996Z"
   },
   {
    "duration": 8,
    "start_time": "2022-04-23T12:26:09.159Z"
   },
   {
    "duration": 14,
    "start_time": "2022-04-23T12:26:20.799Z"
   },
   {
    "duration": 8,
    "start_time": "2022-04-23T12:27:00.759Z"
   },
   {
    "duration": 9,
    "start_time": "2022-04-23T12:31:16.515Z"
   },
   {
    "duration": 7,
    "start_time": "2022-04-23T12:31:46.096Z"
   },
   {
    "duration": 2782,
    "start_time": "2022-04-23T12:31:53.668Z"
   },
   {
    "duration": 2902,
    "start_time": "2022-04-23T12:32:30.539Z"
   },
   {
    "duration": 5,
    "start_time": "2022-04-23T12:33:14.675Z"
   },
   {
    "duration": 3103,
    "start_time": "2022-04-23T12:35:04.851Z"
   },
   {
    "duration": 4,
    "start_time": "2022-04-23T12:41:55.391Z"
   },
   {
    "duration": 16,
    "start_time": "2022-04-23T12:49:09.199Z"
   },
   {
    "duration": 196,
    "start_time": "2022-04-23T12:50:14.103Z"
   },
   {
    "duration": 184,
    "start_time": "2022-04-23T12:50:30.223Z"
   },
   {
    "duration": 226,
    "start_time": "2022-04-23T12:50:40.347Z"
   },
   {
    "duration": 586,
    "start_time": "2022-04-23T12:50:48.303Z"
   },
   {
    "duration": 332,
    "start_time": "2022-04-23T12:54:53.133Z"
   },
   {
    "duration": 348,
    "start_time": "2022-04-23T12:57:09.292Z"
   },
   {
    "duration": 332,
    "start_time": "2022-04-23T12:59:34.415Z"
   },
   {
    "duration": 323,
    "start_time": "2022-04-23T12:59:54.915Z"
   },
   {
    "duration": 332,
    "start_time": "2022-04-23T13:01:28.784Z"
   },
   {
    "duration": 640,
    "start_time": "2022-04-23T13:02:43.332Z"
   },
   {
    "duration": 340,
    "start_time": "2022-04-23T13:04:08.663Z"
   },
   {
    "duration": 163,
    "start_time": "2022-04-23T13:04:17.915Z"
   },
   {
    "duration": 174,
    "start_time": "2022-04-23T13:04:37.171Z"
   },
   {
    "duration": 243,
    "start_time": "2022-04-23T13:04:44.710Z"
   },
   {
    "duration": 167,
    "start_time": "2022-04-23T13:04:52.563Z"
   },
   {
    "duration": 230,
    "start_time": "2022-04-23T13:04:59.619Z"
   },
   {
    "duration": 221,
    "start_time": "2022-04-23T13:05:07.675Z"
   },
   {
    "duration": 180,
    "start_time": "2022-04-23T13:05:16.755Z"
   },
   {
    "duration": 160,
    "start_time": "2022-04-23T13:06:12.707Z"
   },
   {
    "duration": 346,
    "start_time": "2022-04-23T13:09:59.011Z"
   },
   {
    "duration": 353,
    "start_time": "2022-04-23T13:10:22.623Z"
   },
   {
    "duration": 683,
    "start_time": "2022-04-23T13:14:58.827Z"
   },
   {
    "duration": 351,
    "start_time": "2022-04-23T13:15:15.356Z"
   },
   {
    "duration": 337,
    "start_time": "2022-04-23T13:15:47.271Z"
   },
   {
    "duration": 351,
    "start_time": "2022-04-23T13:16:06.656Z"
   },
   {
    "duration": 226,
    "start_time": "2022-04-23T13:18:49.812Z"
   },
   {
    "duration": 340,
    "start_time": "2022-04-23T13:19:41.264Z"
   },
   {
    "duration": 354,
    "start_time": "2022-04-23T13:20:37.964Z"
   },
   {
    "duration": 237,
    "start_time": "2022-04-23T13:20:52.756Z"
   },
   {
    "duration": 234,
    "start_time": "2022-04-23T13:21:29.380Z"
   },
   {
    "duration": 685,
    "start_time": "2022-04-23T13:22:11.885Z"
   },
   {
    "duration": 226,
    "start_time": "2022-04-23T13:22:40.073Z"
   },
   {
    "duration": 234,
    "start_time": "2022-04-23T13:23:22.481Z"
   },
   {
    "duration": 768,
    "start_time": "2022-04-25T07:22:05.601Z"
   },
   {
    "duration": 33,
    "start_time": "2022-04-25T07:22:07.441Z"
   },
   {
    "duration": 92,
    "start_time": "2022-04-25T07:22:07.797Z"
   },
   {
    "duration": 28,
    "start_time": "2022-04-25T07:22:08.129Z"
   },
   {
    "duration": 64,
    "start_time": "2022-04-25T07:22:08.497Z"
   },
   {
    "duration": 21,
    "start_time": "2022-04-25T07:22:08.861Z"
   },
   {
    "duration": 49,
    "start_time": "2022-04-25T07:22:09.249Z"
   },
   {
    "duration": 25,
    "start_time": "2022-04-25T07:22:09.625Z"
   },
   {
    "duration": 10,
    "start_time": "2022-04-25T07:22:10.000Z"
   },
   {
    "duration": 17,
    "start_time": "2022-04-25T07:22:10.636Z"
   },
   {
    "duration": 9,
    "start_time": "2022-04-25T07:22:11.484Z"
   },
   {
    "duration": 56,
    "start_time": "2022-04-25T07:22:12.577Z"
   },
   {
    "duration": 131,
    "start_time": "2022-04-25T07:22:14.773Z"
   },
   {
    "duration": 752,
    "start_time": "2022-04-25T07:22:18.517Z"
   },
   {
    "duration": 107,
    "start_time": "2022-04-25T07:22:22.857Z"
   },
   {
    "duration": 92,
    "start_time": "2022-04-25T07:22:34.945Z"
   },
   {
    "duration": 20,
    "start_time": "2022-04-25T07:23:22.873Z"
   },
   {
    "duration": 20,
    "start_time": "2022-04-25T07:23:49.097Z"
   },
   {
    "duration": 20,
    "start_time": "2022-04-25T07:24:16.157Z"
   },
   {
    "duration": 29,
    "start_time": "2022-04-25T07:24:31.706Z"
   },
   {
    "duration": 18,
    "start_time": "2022-04-25T07:24:34.941Z"
   },
   {
    "duration": 116,
    "start_time": "2022-04-25T07:25:08.145Z"
   },
   {
    "duration": 169,
    "start_time": "2022-04-25T07:25:52.761Z"
   },
   {
    "duration": 398,
    "start_time": "2022-04-25T07:26:09.077Z"
   },
   {
    "duration": 29,
    "start_time": "2022-04-25T07:26:10.293Z"
   },
   {
    "duration": 88,
    "start_time": "2022-04-25T07:26:10.656Z"
   },
   {
    "duration": 42,
    "start_time": "2022-04-25T07:26:11.017Z"
   },
   {
    "duration": 67,
    "start_time": "2022-04-25T07:26:11.389Z"
   },
   {
    "duration": 22,
    "start_time": "2022-04-25T07:26:11.748Z"
   },
   {
    "duration": 52,
    "start_time": "2022-04-25T07:26:12.152Z"
   },
   {
    "duration": 16,
    "start_time": "2022-04-25T07:26:12.697Z"
   },
   {
    "duration": 10,
    "start_time": "2022-04-25T07:26:13.380Z"
   },
   {
    "duration": 32,
    "start_time": "2022-04-25T07:26:13.927Z"
   },
   {
    "duration": 11,
    "start_time": "2022-04-25T07:26:14.669Z"
   },
   {
    "duration": 65,
    "start_time": "2022-04-25T07:26:15.381Z"
   },
   {
    "duration": 151,
    "start_time": "2022-04-25T07:26:16.548Z"
   },
   {
    "duration": 428,
    "start_time": "2022-04-25T07:26:19.217Z"
   },
   {
    "duration": 117,
    "start_time": "2022-04-25T07:26:21.493Z"
   },
   {
    "duration": 46,
    "start_time": "2022-04-25T07:26:48.897Z"
   },
   {
    "duration": 32,
    "start_time": "2022-04-25T07:27:23.881Z"
   },
   {
    "duration": 30,
    "start_time": "2022-04-25T07:27:49.262Z"
   },
   {
    "duration": 30,
    "start_time": "2022-04-25T07:29:25.744Z"
   },
   {
    "duration": 22,
    "start_time": "2022-04-25T07:29:56.249Z"
   },
   {
    "duration": 30,
    "start_time": "2022-04-25T07:30:36.959Z"
   },
   {
    "duration": 49,
    "start_time": "2022-04-25T07:30:47.847Z"
   },
   {
    "duration": 35,
    "start_time": "2022-04-25T07:31:25.294Z"
   },
   {
    "duration": 51,
    "start_time": "2022-04-25T07:32:30.794Z"
   },
   {
    "duration": 10,
    "start_time": "2022-04-25T07:33:09.090Z"
   },
   {
    "duration": 32,
    "start_time": "2022-04-25T07:33:57.015Z"
   },
   {
    "duration": 183,
    "start_time": "2022-04-25T07:34:07.158Z"
   },
   {
    "duration": 114,
    "start_time": "2022-04-25T07:35:36.452Z"
   },
   {
    "duration": 114,
    "start_time": "2022-04-25T07:35:46.001Z"
   },
   {
    "duration": 126,
    "start_time": "2022-04-25T07:36:33.977Z"
   },
   {
    "duration": 19,
    "start_time": "2022-04-25T07:37:00.455Z"
   },
   {
    "duration": 178,
    "start_time": "2022-04-25T07:37:24.128Z"
   },
   {
    "duration": 128,
    "start_time": "2022-04-25T07:38:04.574Z"
   },
   {
    "duration": 116,
    "start_time": "2022-04-25T07:38:15.005Z"
   },
   {
    "duration": 202,
    "start_time": "2022-04-25T07:48:18.677Z"
   },
   {
    "duration": 143,
    "start_time": "2022-04-25T07:49:00.559Z"
   },
   {
    "duration": 110,
    "start_time": "2022-04-25T07:49:06.645Z"
   },
   {
    "duration": 133,
    "start_time": "2022-04-25T07:49:14.053Z"
   },
   {
    "duration": 1003,
    "start_time": "2022-04-25T07:51:55.876Z"
   },
   {
    "duration": 29,
    "start_time": "2022-04-25T07:51:59.484Z"
   },
   {
    "duration": 98,
    "start_time": "2022-04-25T07:51:59.876Z"
   },
   {
    "duration": 49,
    "start_time": "2022-04-25T07:52:00.221Z"
   },
   {
    "duration": 64,
    "start_time": "2022-04-25T07:52:00.550Z"
   },
   {
    "duration": 23,
    "start_time": "2022-04-25T07:52:00.896Z"
   },
   {
    "duration": 66,
    "start_time": "2022-04-25T07:52:01.241Z"
   },
   {
    "duration": 16,
    "start_time": "2022-04-25T07:52:01.556Z"
   },
   {
    "duration": 14,
    "start_time": "2022-04-25T07:52:01.932Z"
   },
   {
    "duration": 18,
    "start_time": "2022-04-25T07:52:02.268Z"
   },
   {
    "duration": 11,
    "start_time": "2022-04-25T07:52:02.624Z"
   },
   {
    "duration": 61,
    "start_time": "2022-04-25T07:52:02.972Z"
   },
   {
    "duration": 138,
    "start_time": "2022-04-25T07:52:03.588Z"
   },
   {
    "duration": 388,
    "start_time": "2022-04-25T07:52:05.008Z"
   },
   {
    "duration": 164,
    "start_time": "2022-04-25T07:52:06.396Z"
   },
   {
    "duration": 430,
    "start_time": "2022-04-25T07:52:54.296Z"
   },
   {
    "duration": 57,
    "start_time": "2022-04-25T07:52:56.521Z"
   },
   {
    "duration": 149,
    "start_time": "2022-04-25T07:52:56.889Z"
   },
   {
    "duration": 42,
    "start_time": "2022-04-25T07:52:57.248Z"
   },
   {
    "duration": 70,
    "start_time": "2022-04-25T07:52:57.604Z"
   },
   {
    "duration": 23,
    "start_time": "2022-04-25T07:52:57.968Z"
   },
   {
    "duration": 60,
    "start_time": "2022-04-25T07:52:58.350Z"
   },
   {
    "duration": 26,
    "start_time": "2022-04-25T07:52:58.732Z"
   },
   {
    "duration": 10,
    "start_time": "2022-04-25T07:52:59.384Z"
   },
   {
    "duration": 22,
    "start_time": "2022-04-25T07:53:00.104Z"
   },
   {
    "duration": 11,
    "start_time": "2022-04-25T07:53:00.684Z"
   },
   {
    "duration": 64,
    "start_time": "2022-04-25T07:53:01.292Z"
   },
   {
    "duration": 156,
    "start_time": "2022-04-25T07:53:02.516Z"
   },
   {
    "duration": 427,
    "start_time": "2022-04-25T07:53:04.661Z"
   },
   {
    "duration": 144,
    "start_time": "2022-04-25T07:53:07.236Z"
   },
   {
    "duration": 172,
    "start_time": "2022-04-25T07:54:59.200Z"
   },
   {
    "duration": 352,
    "start_time": "2022-04-25T07:55:35.050Z"
   },
   {
    "duration": 117,
    "start_time": "2022-04-25T07:57:13.835Z"
   },
   {
    "duration": 184,
    "start_time": "2022-04-25T07:57:28.807Z"
   },
   {
    "duration": 118,
    "start_time": "2022-04-25T07:57:53.592Z"
   },
   {
    "duration": 131,
    "start_time": "2022-04-25T08:05:06.817Z"
   },
   {
    "duration": 130,
    "start_time": "2022-04-25T08:06:13.311Z"
   },
   {
    "duration": 111,
    "start_time": "2022-04-25T08:06:22.214Z"
   },
   {
    "duration": 20,
    "start_time": "2022-04-25T08:06:34.079Z"
   },
   {
    "duration": 1879,
    "start_time": "2022-04-25T10:46:03.733Z"
   },
   {
    "duration": 32,
    "start_time": "2022-04-25T10:46:05.614Z"
   },
   {
    "duration": 86,
    "start_time": "2022-04-25T10:46:05.753Z"
   },
   {
    "duration": 25,
    "start_time": "2022-04-25T10:46:06.437Z"
   },
   {
    "duration": 108,
    "start_time": "2022-04-25T10:46:07.094Z"
   },
   {
    "duration": 22,
    "start_time": "2022-04-25T10:46:07.749Z"
   },
   {
    "duration": 47,
    "start_time": "2022-04-25T10:46:08.426Z"
   },
   {
    "duration": 15,
    "start_time": "2022-04-25T10:46:09.410Z"
   },
   {
    "duration": 9,
    "start_time": "2022-04-25T10:46:10.361Z"
   },
   {
    "duration": 16,
    "start_time": "2022-04-25T10:46:11.174Z"
   },
   {
    "duration": 7,
    "start_time": "2022-04-25T10:46:11.849Z"
   },
   {
    "duration": 49,
    "start_time": "2022-04-25T10:46:12.713Z"
   },
   {
    "duration": 115,
    "start_time": "2022-04-25T10:46:14.866Z"
   },
   {
    "duration": 374,
    "start_time": "2022-04-25T10:46:17.498Z"
   },
   {
    "duration": 100,
    "start_time": "2022-04-25T10:46:25.062Z"
   },
   {
    "duration": 98,
    "start_time": "2022-04-25T10:47:56.670Z"
   },
   {
    "duration": 98,
    "start_time": "2022-04-25T10:48:30.850Z"
   },
   {
    "duration": 93,
    "start_time": "2022-04-25T10:49:35.485Z"
   },
   {
    "duration": 93,
    "start_time": "2022-04-25T10:50:53.718Z"
   },
   {
    "duration": 94,
    "start_time": "2022-04-25T10:52:06.670Z"
   },
   {
    "duration": 157,
    "start_time": "2022-04-25T10:52:47.055Z"
   },
   {
    "duration": 102,
    "start_time": "2022-04-25T10:55:08.491Z"
   },
   {
    "duration": 124,
    "start_time": "2022-04-25T10:55:19.511Z"
   },
   {
    "duration": 2833,
    "start_time": "2022-04-25T10:55:34.250Z"
   },
   {
    "duration": 2691,
    "start_time": "2022-04-25T10:56:12.382Z"
   },
   {
    "duration": 103,
    "start_time": "2022-04-25T10:56:42.738Z"
   },
   {
    "duration": 100,
    "start_time": "2022-04-25T10:59:43.219Z"
   },
   {
    "duration": 106,
    "start_time": "2022-04-25T11:00:39.227Z"
   },
   {
    "duration": 110,
    "start_time": "2022-04-25T11:00:58.991Z"
   },
   {
    "duration": 114,
    "start_time": "2022-04-25T11:02:56.989Z"
   },
   {
    "duration": 104,
    "start_time": "2022-04-25T11:17:41.504Z"
   },
   {
    "duration": 174,
    "start_time": "2022-04-25T11:18:04.771Z"
   },
   {
    "duration": 92,
    "start_time": "2022-04-25T11:22:26.608Z"
   },
   {
    "duration": 91,
    "start_time": "2022-04-25T11:22:58.672Z"
   },
   {
    "duration": 2718,
    "start_time": "2022-04-25T11:26:18.589Z"
   },
   {
    "duration": 105,
    "start_time": "2022-04-25T11:26:34.766Z"
   },
   {
    "duration": 105,
    "start_time": "2022-04-25T11:26:52.677Z"
   },
   {
    "duration": 110,
    "start_time": "2022-04-25T11:31:55.277Z"
   },
   {
    "duration": 92,
    "start_time": "2022-04-25T11:32:10.549Z"
   },
   {
    "duration": 376,
    "start_time": "2022-04-25T11:39:56.621Z"
   },
   {
    "duration": 28,
    "start_time": "2022-04-25T11:39:57.617Z"
   },
   {
    "duration": 75,
    "start_time": "2022-04-25T11:39:58.005Z"
   },
   {
    "duration": 25,
    "start_time": "2022-04-25T11:39:58.374Z"
   },
   {
    "duration": 53,
    "start_time": "2022-04-25T11:39:58.761Z"
   },
   {
    "duration": 22,
    "start_time": "2022-04-25T11:39:59.133Z"
   },
   {
    "duration": 52,
    "start_time": "2022-04-25T11:39:59.509Z"
   },
   {
    "duration": 15,
    "start_time": "2022-04-25T11:39:59.881Z"
   },
   {
    "duration": 10,
    "start_time": "2022-04-25T11:40:00.813Z"
   },
   {
    "duration": 23,
    "start_time": "2022-04-25T11:40:02.286Z"
   },
   {
    "duration": 8,
    "start_time": "2022-04-25T11:40:03.433Z"
   },
   {
    "duration": 48,
    "start_time": "2022-04-25T11:40:04.794Z"
   },
   {
    "duration": 108,
    "start_time": "2022-04-25T11:40:06.470Z"
   },
   {
    "duration": 294,
    "start_time": "2022-04-25T11:40:09.081Z"
   },
   {
    "duration": 108,
    "start_time": "2022-04-25T11:40:10.563Z"
   },
   {
    "duration": 208,
    "start_time": "2022-04-25T11:40:11.386Z"
   },
   {
    "duration": 218,
    "start_time": "2022-04-25T11:40:12.582Z"
   },
   {
    "duration": 107,
    "start_time": "2022-04-25T11:40:13.570Z"
   },
   {
    "duration": 96,
    "start_time": "2022-04-25T11:40:14.317Z"
   },
   {
    "duration": 200,
    "start_time": "2022-04-25T11:40:15.429Z"
   },
   {
    "duration": 104,
    "start_time": "2022-04-25T11:40:17.374Z"
   },
   {
    "duration": 95,
    "start_time": "2022-04-25T11:40:21.069Z"
   },
   {
    "duration": 491,
    "start_time": "2022-04-25T11:53:21.215Z"
   },
   {
    "duration": 10,
    "start_time": "2022-04-25T11:53:29.426Z"
   },
   {
    "duration": 1729,
    "start_time": "2022-04-25T11:53:46.755Z"
   },
   {
    "duration": 35,
    "start_time": "2022-04-25T11:53:48.486Z"
   },
   {
    "duration": 93,
    "start_time": "2022-04-25T11:53:48.522Z"
   },
   {
    "duration": 28,
    "start_time": "2022-04-25T11:53:48.618Z"
   },
   {
    "duration": 60,
    "start_time": "2022-04-25T11:53:48.930Z"
   },
   {
    "duration": 22,
    "start_time": "2022-04-25T11:53:49.270Z"
   },
   {
    "duration": 50,
    "start_time": "2022-04-25T11:53:49.623Z"
   },
   {
    "duration": 15,
    "start_time": "2022-04-25T11:53:49.955Z"
   },
   {
    "duration": 10,
    "start_time": "2022-04-25T11:53:50.319Z"
   },
   {
    "duration": 15,
    "start_time": "2022-04-25T11:53:50.671Z"
   },
   {
    "duration": 8,
    "start_time": "2022-04-25T11:53:51.015Z"
   },
   {
    "duration": 54,
    "start_time": "2022-04-25T11:53:51.359Z"
   },
   {
    "duration": 120,
    "start_time": "2022-04-25T11:53:52.386Z"
   },
   {
    "duration": 10,
    "start_time": "2022-04-25T11:53:54.695Z"
   },
   {
    "duration": 321,
    "start_time": "2022-04-25T11:53:55.267Z"
   },
   {
    "duration": 319,
    "start_time": "2022-04-25T11:58:29.819Z"
   },
   {
    "duration": 418,
    "start_time": "2022-04-25T11:59:21.917Z"
   },
   {
    "duration": 407,
    "start_time": "2022-04-25T12:02:07.768Z"
   },
   {
    "duration": 313,
    "start_time": "2022-04-25T12:02:56.299Z"
   },
   {
    "duration": 112,
    "start_time": "2022-04-25T12:06:18.579Z"
   },
   {
    "duration": 112,
    "start_time": "2022-04-25T12:06:37.979Z"
   },
   {
    "duration": 205,
    "start_time": "2022-04-25T12:10:35.659Z"
   },
   {
    "duration": 214,
    "start_time": "2022-04-25T12:13:49.743Z"
   },
   {
    "duration": 301,
    "start_time": "2022-04-25T12:18:37.072Z"
   },
   {
    "duration": 431,
    "start_time": "2022-04-25T12:19:00.924Z"
   },
   {
    "duration": 29,
    "start_time": "2022-04-25T12:19:01.963Z"
   },
   {
    "duration": 82,
    "start_time": "2022-04-25T12:19:02.332Z"
   },
   {
    "duration": 26,
    "start_time": "2022-04-25T12:19:02.688Z"
   },
   {
    "duration": 58,
    "start_time": "2022-04-25T12:19:03.060Z"
   },
   {
    "duration": 21,
    "start_time": "2022-04-25T12:19:03.413Z"
   },
   {
    "duration": 55,
    "start_time": "2022-04-25T12:19:03.775Z"
   },
   {
    "duration": 15,
    "start_time": "2022-04-25T12:19:04.139Z"
   },
   {
    "duration": 11,
    "start_time": "2022-04-25T12:19:04.524Z"
   },
   {
    "duration": 19,
    "start_time": "2022-04-25T12:19:04.908Z"
   },
   {
    "duration": 9,
    "start_time": "2022-04-25T12:19:05.297Z"
   },
   {
    "duration": 48,
    "start_time": "2022-04-25T12:19:05.713Z"
   },
   {
    "duration": 115,
    "start_time": "2022-04-25T12:19:06.819Z"
   },
   {
    "duration": 10,
    "start_time": "2022-04-25T12:19:09.543Z"
   },
   {
    "duration": 319,
    "start_time": "2022-04-25T12:19:12.176Z"
   },
   {
    "duration": 318,
    "start_time": "2022-04-25T12:19:16.664Z"
   },
   {
    "duration": 110,
    "start_time": "2022-04-25T12:19:18.744Z"
   },
   {
    "duration": 115,
    "start_time": "2022-04-25T12:19:20.623Z"
   },
   {
    "duration": 295,
    "start_time": "2022-04-25T12:19:24.640Z"
   },
   {
    "duration": 112,
    "start_time": "2022-04-25T12:19:26.516Z"
   },
   {
    "duration": 101,
    "start_time": "2022-04-25T12:19:28.459Z"
   },
   {
    "duration": 226,
    "start_time": "2022-04-25T12:19:32.696Z"
   },
   {
    "duration": 103,
    "start_time": "2022-04-25T12:19:34.691Z"
   },
   {
    "duration": 95,
    "start_time": "2022-04-25T12:19:36.576Z"
   },
   {
    "duration": 438,
    "start_time": "2022-04-25T13:05:06.988Z"
   },
   {
    "duration": 29,
    "start_time": "2022-04-25T13:05:07.658Z"
   },
   {
    "duration": 83,
    "start_time": "2022-04-25T13:05:08.041Z"
   },
   {
    "duration": 25,
    "start_time": "2022-04-25T13:05:08.414Z"
   },
   {
    "duration": 59,
    "start_time": "2022-04-25T13:05:08.789Z"
   },
   {
    "duration": 21,
    "start_time": "2022-04-25T13:05:09.165Z"
   },
   {
    "duration": 62,
    "start_time": "2022-04-25T13:05:09.554Z"
   },
   {
    "duration": 13,
    "start_time": "2022-04-25T13:05:09.942Z"
   },
   {
    "duration": 9,
    "start_time": "2022-04-25T13:05:10.350Z"
   },
   {
    "duration": 15,
    "start_time": "2022-04-25T13:05:10.765Z"
   },
   {
    "duration": 8,
    "start_time": "2022-04-25T13:05:11.145Z"
   },
   {
    "duration": 55,
    "start_time": "2022-04-25T13:05:11.565Z"
   },
   {
    "duration": 117,
    "start_time": "2022-04-25T13:05:12.157Z"
   },
   {
    "duration": 12,
    "start_time": "2022-04-25T13:05:13.197Z"
   },
   {
    "duration": 368,
    "start_time": "2022-04-25T13:05:13.597Z"
   },
   {
    "duration": 115,
    "start_time": "2022-04-25T13:05:14.213Z"
   },
   {
    "duration": 201,
    "start_time": "2022-04-25T13:05:14.650Z"
   },
   {
    "duration": 227,
    "start_time": "2022-04-25T13:05:15.581Z"
   },
   {
    "duration": 122,
    "start_time": "2022-04-25T13:05:17.601Z"
   },
   {
    "duration": 96,
    "start_time": "2022-04-25T13:05:18.617Z"
   },
   {
    "duration": 210,
    "start_time": "2022-04-25T13:05:20.030Z"
   },
   {
    "duration": 113,
    "start_time": "2022-04-25T13:05:21.797Z"
   },
   {
    "duration": 100,
    "start_time": "2022-04-25T13:05:22.841Z"
   },
   {
    "duration": 2155,
    "start_time": "2022-04-25T13:10:25.693Z"
   },
   {
    "duration": 3,
    "start_time": "2022-04-25T13:12:36.829Z"
   },
   {
    "duration": 24,
    "start_time": "2022-04-25T13:13:07.341Z"
   },
   {
    "duration": 191,
    "start_time": "2022-04-25T13:13:46.134Z"
   },
   {
    "duration": 27,
    "start_time": "2022-04-25T13:13:50.617Z"
   },
   {
    "duration": 1926,
    "start_time": "2022-04-25T16:00:42.364Z"
   },
   {
    "duration": 50,
    "start_time": "2022-04-25T16:00:44.292Z"
   },
   {
    "duration": 108,
    "start_time": "2022-04-25T16:00:44.344Z"
   },
   {
    "duration": 44,
    "start_time": "2022-04-25T16:00:44.454Z"
   },
   {
    "duration": 63,
    "start_time": "2022-04-25T16:00:44.716Z"
   },
   {
    "duration": 33,
    "start_time": "2022-04-25T16:00:45.680Z"
   },
   {
    "duration": 55,
    "start_time": "2022-04-25T16:00:46.524Z"
   },
   {
    "duration": 17,
    "start_time": "2022-04-25T16:00:47.252Z"
   },
   {
    "duration": 9,
    "start_time": "2022-04-25T16:00:48.152Z"
   },
   {
    "duration": 24,
    "start_time": "2022-04-25T16:00:49.233Z"
   },
   {
    "duration": 9,
    "start_time": "2022-04-25T16:00:50.316Z"
   },
   {
    "duration": 54,
    "start_time": "2022-04-25T16:00:51.132Z"
   },
   {
    "duration": 147,
    "start_time": "2022-04-25T16:00:52.492Z"
   },
   {
    "duration": 13,
    "start_time": "2022-04-25T16:00:54.708Z"
   },
   {
    "duration": 388,
    "start_time": "2022-04-25T16:00:55.788Z"
   },
   {
    "duration": 125,
    "start_time": "2022-04-25T16:00:58.020Z"
   },
   {
    "duration": 133,
    "start_time": "2022-04-25T16:00:59.612Z"
   },
   {
    "duration": 273,
    "start_time": "2022-04-25T16:01:01.681Z"
   },
   {
    "duration": 153,
    "start_time": "2022-04-25T16:01:04.988Z"
   },
   {
    "duration": 208,
    "start_time": "2022-04-25T16:01:06.872Z"
   },
   {
    "duration": 254,
    "start_time": "2022-04-25T16:01:08.786Z"
   },
   {
    "duration": 146,
    "start_time": "2022-04-25T16:01:10.592Z"
   },
   {
    "duration": 110,
    "start_time": "2022-04-25T16:01:12.620Z"
   },
   {
    "duration": 4,
    "start_time": "2022-04-25T16:01:34.215Z"
   },
   {
    "duration": 100,
    "start_time": "2022-04-25T16:07:50.266Z"
   },
   {
    "duration": 11,
    "start_time": "2022-04-25T16:10:25.282Z"
   },
   {
    "duration": 429,
    "start_time": "2022-04-25T16:10:48.491Z"
   },
   {
    "duration": 1405,
    "start_time": "2022-04-25T16:15:27.459Z"
   },
   {
    "duration": 16,
    "start_time": "2022-04-25T16:16:42.909Z"
   },
   {
    "duration": 1310,
    "start_time": "2022-04-25T16:18:15.300Z"
   },
   {
    "duration": 5,
    "start_time": "2022-04-25T16:20:31.516Z"
   },
   {
    "duration": 12,
    "start_time": "2022-04-25T16:23:14.453Z"
   },
   {
    "duration": 11,
    "start_time": "2022-04-25T16:24:38.453Z"
   },
   {
    "duration": 11,
    "start_time": "2022-04-25T16:25:25.009Z"
   },
   {
    "duration": 386,
    "start_time": "2022-04-25T16:26:23.785Z"
   },
   {
    "duration": 32,
    "start_time": "2022-04-25T16:26:24.945Z"
   },
   {
    "duration": 86,
    "start_time": "2022-04-25T16:26:25.321Z"
   },
   {
    "duration": 41,
    "start_time": "2022-04-25T16:26:25.654Z"
   },
   {
    "duration": 87,
    "start_time": "2022-04-25T16:26:25.977Z"
   },
   {
    "duration": 36,
    "start_time": "2022-04-25T16:26:26.313Z"
   },
   {
    "duration": 76,
    "start_time": "2022-04-25T16:26:26.681Z"
   },
   {
    "duration": 16,
    "start_time": "2022-04-25T16:26:27.053Z"
   },
   {
    "duration": 10,
    "start_time": "2022-04-25T16:26:27.445Z"
   },
   {
    "duration": 17,
    "start_time": "2022-04-25T16:26:27.829Z"
   },
   {
    "duration": 8,
    "start_time": "2022-04-25T16:26:28.213Z"
   },
   {
    "duration": 58,
    "start_time": "2022-04-25T16:26:28.589Z"
   },
   {
    "duration": 144,
    "start_time": "2022-04-25T16:26:29.145Z"
   },
   {
    "duration": 10,
    "start_time": "2022-04-25T16:26:30.089Z"
   },
   {
    "duration": 359,
    "start_time": "2022-04-25T16:26:30.461Z"
   },
   {
    "duration": 133,
    "start_time": "2022-04-25T16:26:30.990Z"
   },
   {
    "duration": 124,
    "start_time": "2022-04-25T16:26:31.337Z"
   },
   {
    "duration": 461,
    "start_time": "2022-04-25T16:26:31.925Z"
   },
   {
    "duration": 165,
    "start_time": "2022-04-25T16:26:32.477Z"
   },
   {
    "duration": 105,
    "start_time": "2022-04-25T16:26:32.953Z"
   },
   {
    "duration": 223,
    "start_time": "2022-04-25T16:26:33.681Z"
   },
   {
    "duration": 117,
    "start_time": "2022-04-25T16:26:35.449Z"
   },
   {
    "duration": 117,
    "start_time": "2022-04-25T16:26:36.817Z"
   },
   {
    "duration": 6,
    "start_time": "2022-04-25T16:26:41.665Z"
   },
   {
    "duration": 10,
    "start_time": "2022-04-25T16:26:54.537Z"
   },
   {
    "duration": 5,
    "start_time": "2022-04-25T16:27:00.569Z"
   },
   {
    "duration": 11,
    "start_time": "2022-04-25T16:28:17.373Z"
   },
   {
    "duration": 5,
    "start_time": "2022-04-25T16:28:33.613Z"
   },
   {
    "duration": 6,
    "start_time": "2022-04-25T16:29:14.213Z"
   },
   {
    "duration": 6,
    "start_time": "2022-04-25T16:29:48.605Z"
   },
   {
    "duration": 6,
    "start_time": "2022-04-25T16:30:14.078Z"
   },
   {
    "duration": 5,
    "start_time": "2022-04-25T16:31:49.230Z"
   },
   {
    "duration": 6,
    "start_time": "2022-04-25T16:34:01.843Z"
   },
   {
    "duration": 6,
    "start_time": "2022-04-25T16:34:58.854Z"
   },
   {
    "duration": 6,
    "start_time": "2022-04-25T16:36:06.980Z"
   },
   {
    "duration": 4,
    "start_time": "2022-04-25T16:52:15.111Z"
   },
   {
    "duration": 7,
    "start_time": "2022-04-25T16:53:35.711Z"
   },
   {
    "duration": 104,
    "start_time": "2022-04-25T16:58:19.726Z"
   },
   {
    "duration": 138,
    "start_time": "2022-04-25T16:58:48.327Z"
   },
   {
    "duration": 9,
    "start_time": "2022-04-25T17:01:52.364Z"
   },
   {
    "duration": 10,
    "start_time": "2022-04-25T17:06:16.443Z"
   },
   {
    "duration": 10,
    "start_time": "2022-04-25T17:06:30.743Z"
   },
   {
    "duration": 9,
    "start_time": "2022-04-25T17:06:36.091Z"
   },
   {
    "duration": 11,
    "start_time": "2022-04-25T17:07:47.715Z"
   },
   {
    "duration": 372,
    "start_time": "2022-04-25T17:07:55.403Z"
   },
   {
    "duration": 31,
    "start_time": "2022-04-25T17:07:56.075Z"
   },
   {
    "duration": 86,
    "start_time": "2022-04-25T17:07:56.395Z"
   },
   {
    "duration": 28,
    "start_time": "2022-04-25T17:07:56.743Z"
   },
   {
    "duration": 62,
    "start_time": "2022-04-25T17:07:57.093Z"
   },
   {
    "duration": 24,
    "start_time": "2022-04-25T17:07:57.431Z"
   },
   {
    "duration": 54,
    "start_time": "2022-04-25T17:07:57.759Z"
   },
   {
    "duration": 16,
    "start_time": "2022-04-25T17:07:58.095Z"
   },
   {
    "duration": 10,
    "start_time": "2022-04-25T17:07:58.431Z"
   },
   {
    "duration": 18,
    "start_time": "2022-04-25T17:07:58.771Z"
   },
   {
    "duration": 9,
    "start_time": "2022-04-25T17:07:59.111Z"
   },
   {
    "duration": 55,
    "start_time": "2022-04-25T17:07:59.484Z"
   },
   {
    "duration": 124,
    "start_time": "2022-04-25T17:08:00.027Z"
   },
   {
    "duration": 11,
    "start_time": "2022-04-25T17:08:00.927Z"
   },
   {
    "duration": 356,
    "start_time": "2022-04-25T17:08:01.271Z"
   },
   {
    "duration": 126,
    "start_time": "2022-04-25T17:08:01.795Z"
   },
   {
    "duration": 212,
    "start_time": "2022-04-25T17:08:02.167Z"
   },
   {
    "duration": 234,
    "start_time": "2022-04-25T17:08:02.687Z"
   },
   {
    "duration": 124,
    "start_time": "2022-04-25T17:08:03.219Z"
   },
   {
    "duration": 127,
    "start_time": "2022-04-25T17:08:03.575Z"
   },
   {
    "duration": 240,
    "start_time": "2022-04-25T17:08:04.096Z"
   },
   {
    "duration": 120,
    "start_time": "2022-04-25T17:08:04.611Z"
   },
   {
    "duration": 119,
    "start_time": "2022-04-25T17:08:05.251Z"
   },
   {
    "duration": 5,
    "start_time": "2022-04-25T17:08:06.608Z"
   },
   {
    "duration": 12,
    "start_time": "2022-04-25T17:08:09.131Z"
   },
   {
    "duration": 70,
    "start_time": "2022-05-01T13:24:48.375Z"
   },
   {
    "duration": 1878,
    "start_time": "2022-05-01T13:24:59.862Z"
   },
   {
    "duration": 47,
    "start_time": "2022-05-01T13:25:01.744Z"
   },
   {
    "duration": 147,
    "start_time": "2022-05-01T13:25:01.794Z"
   },
   {
    "duration": 41,
    "start_time": "2022-05-01T13:25:01.943Z"
   },
   {
    "duration": 111,
    "start_time": "2022-05-01T13:25:01.987Z"
   },
   {
    "duration": 31,
    "start_time": "2022-05-01T13:25:02.100Z"
   },
   {
    "duration": 92,
    "start_time": "2022-05-01T13:25:02.133Z"
   },
   {
    "duration": 35,
    "start_time": "2022-05-01T13:25:02.227Z"
   },
   {
    "duration": 25,
    "start_time": "2022-05-01T13:25:02.264Z"
   },
   {
    "duration": 31,
    "start_time": "2022-05-01T13:25:02.291Z"
   },
   {
    "duration": 38,
    "start_time": "2022-05-01T13:25:02.324Z"
   },
   {
    "duration": 95,
    "start_time": "2022-05-01T13:25:02.364Z"
   },
   {
    "duration": 217,
    "start_time": "2022-05-01T13:25:02.461Z"
   },
   {
    "duration": 6,
    "start_time": "2022-05-01T13:25:02.682Z"
   },
   {
    "duration": 15,
    "start_time": "2022-05-01T13:25:02.689Z"
   },
   {
    "duration": 635,
    "start_time": "2022-05-01T13:25:02.706Z"
   },
   {
    "duration": 220,
    "start_time": "2022-05-01T13:25:03.343Z"
   },
   {
    "duration": 222,
    "start_time": "2022-05-01T13:25:03.566Z"
   },
   {
    "duration": 622,
    "start_time": "2022-05-01T13:25:03.791Z"
   },
   {
    "duration": 253,
    "start_time": "2022-05-01T13:25:04.415Z"
   },
   {
    "duration": 287,
    "start_time": "2022-05-01T13:25:04.670Z"
   },
   {
    "duration": 427,
    "start_time": "2022-05-01T13:25:04.960Z"
   },
   {
    "duration": 203,
    "start_time": "2022-05-01T13:25:05.389Z"
   },
   {
    "duration": 200,
    "start_time": "2022-05-01T13:25:05.595Z"
   },
   {
    "duration": 9,
    "start_time": "2022-05-01T13:25:05.798Z"
   },
   {
    "duration": 49,
    "start_time": "2022-05-01T13:25:05.810Z"
   },
   {
    "duration": 7,
    "start_time": "2022-05-01T13:25:10.825Z"
   },
   {
    "duration": 7,
    "start_time": "2022-05-01T13:25:30.227Z"
   },
   {
    "duration": 34,
    "start_time": "2022-05-01T13:29:35.178Z"
   },
   {
    "duration": 33,
    "start_time": "2022-05-01T13:29:59.843Z"
   },
   {
    "duration": 34,
    "start_time": "2022-05-01T13:30:14.533Z"
   },
   {
    "duration": 28,
    "start_time": "2022-05-01T13:30:33.629Z"
   },
   {
    "duration": 20,
    "start_time": "2022-05-01T13:30:49.542Z"
   },
   {
    "duration": 21,
    "start_time": "2022-05-01T13:30:56.148Z"
   },
   {
    "duration": 17,
    "start_time": "2022-05-01T13:31:25.175Z"
   },
   {
    "duration": 16,
    "start_time": "2022-05-01T13:34:43.220Z"
   },
   {
    "duration": 96,
    "start_time": "2022-05-01T13:38:05.093Z"
   },
   {
    "duration": 87,
    "start_time": "2022-05-01T13:39:24.971Z"
   },
   {
    "duration": 8,
    "start_time": "2022-05-01T13:39:47.784Z"
   },
   {
    "duration": 126,
    "start_time": "2022-05-01T13:40:44.187Z"
   },
   {
    "duration": 2807,
    "start_time": "2022-05-01T13:45:48.177Z"
   },
   {
    "duration": 88,
    "start_time": "2022-05-01T13:45:50.987Z"
   },
   {
    "duration": 279,
    "start_time": "2022-05-01T13:45:51.077Z"
   },
   {
    "duration": 93,
    "start_time": "2022-05-01T13:45:51.358Z"
   },
   {
    "duration": 139,
    "start_time": "2022-05-01T13:45:51.454Z"
   },
   {
    "duration": 85,
    "start_time": "2022-05-01T13:45:51.595Z"
   },
   {
    "duration": 180,
    "start_time": "2022-05-01T13:45:51.682Z"
   },
   {
    "duration": 24,
    "start_time": "2022-05-01T13:45:51.865Z"
   },
   {
    "duration": 67,
    "start_time": "2022-05-01T13:45:51.891Z"
   },
   {
    "duration": 25,
    "start_time": "2022-05-01T13:45:51.963Z"
   },
   {
    "duration": 66,
    "start_time": "2022-05-01T13:45:51.991Z"
   },
   {
    "duration": 298,
    "start_time": "2022-05-01T13:45:52.060Z"
   },
   {
    "duration": 303,
    "start_time": "2022-05-01T13:45:52.361Z"
   },
   {
    "duration": 6,
    "start_time": "2022-05-01T13:45:52.666Z"
   },
   {
    "duration": 19,
    "start_time": "2022-05-01T13:45:52.674Z"
   },
   {
    "duration": 22,
    "start_time": "2022-05-01T13:45:52.695Z"
   },
   {
    "duration": 712,
    "start_time": "2022-05-01T13:45:52.719Z"
   },
   {
    "duration": 219,
    "start_time": "2022-05-01T13:45:53.434Z"
   },
   {
    "duration": 204,
    "start_time": "2022-05-01T13:45:53.655Z"
   },
   {
    "duration": 417,
    "start_time": "2022-05-01T13:45:53.861Z"
   },
   {
    "duration": 205,
    "start_time": "2022-05-01T13:45:54.280Z"
   },
   {
    "duration": 272,
    "start_time": "2022-05-01T13:45:54.488Z"
   },
   {
    "duration": 400,
    "start_time": "2022-05-01T13:45:54.763Z"
   },
   {
    "duration": 211,
    "start_time": "2022-05-01T13:45:55.166Z"
   },
   {
    "duration": 192,
    "start_time": "2022-05-01T13:45:55.379Z"
   },
   {
    "duration": 7,
    "start_time": "2022-05-01T13:45:55.573Z"
   },
   {
    "duration": 14,
    "start_time": "2022-05-01T13:45:55.582Z"
   },
   {
    "duration": 6,
    "start_time": "2022-05-01T13:45:55.601Z"
   },
   {
    "duration": 2441,
    "start_time": "2022-05-02T06:40:10.176Z"
   },
   {
    "duration": 570,
    "start_time": "2022-05-02T06:44:23.338Z"
   },
   {
    "duration": 569,
    "start_time": "2022-05-02T06:44:46.614Z"
   },
   {
    "duration": 37,
    "start_time": "2022-05-02T06:44:51.465Z"
   },
   {
    "duration": 178,
    "start_time": "2022-05-02T06:44:53.410Z"
   },
   {
    "duration": 35,
    "start_time": "2022-05-02T06:44:59.678Z"
   },
   {
    "duration": 545,
    "start_time": "2022-05-02T06:59:12.718Z"
   },
   {
    "duration": 31,
    "start_time": "2022-05-02T06:59:14.501Z"
   },
   {
    "duration": 172,
    "start_time": "2022-05-02T06:59:15.735Z"
   },
   {
    "duration": 36,
    "start_time": "2022-05-02T06:59:19.513Z"
   },
   {
    "duration": 88,
    "start_time": "2022-05-02T06:59:21.674Z"
   },
   {
    "duration": 26,
    "start_time": "2022-05-02T06:59:23.766Z"
   },
   {
    "duration": 210,
    "start_time": "2022-05-02T06:59:26.441Z"
   },
   {
    "duration": 24,
    "start_time": "2022-05-02T06:59:28.617Z"
   },
   {
    "duration": 14,
    "start_time": "2022-05-02T06:59:30.377Z"
   },
   {
    "duration": 26,
    "start_time": "2022-05-02T06:59:32.022Z"
   },
   {
    "duration": 20,
    "start_time": "2022-05-02T06:59:33.662Z"
   },
   {
    "duration": 26,
    "start_time": "2022-05-02T07:00:04.930Z"
   },
   {
    "duration": 20,
    "start_time": "2022-05-02T07:00:07.421Z"
   },
   {
    "duration": 16,
    "start_time": "2022-05-02T07:00:21.390Z"
   },
   {
    "duration": 19,
    "start_time": "2022-05-02T07:01:18.218Z"
   },
   {
    "duration": 16,
    "start_time": "2022-05-02T07:01:25.322Z"
   },
   {
    "duration": 582,
    "start_time": "2022-05-02T07:02:33.526Z"
   },
   {
    "duration": 32,
    "start_time": "2022-05-02T07:02:35.238Z"
   },
   {
    "duration": 171,
    "start_time": "2022-05-02T07:02:39.846Z"
   },
   {
    "duration": 37,
    "start_time": "2022-05-02T07:02:43.842Z"
   },
   {
    "duration": 84,
    "start_time": "2022-05-02T07:02:48.778Z"
   },
   {
    "duration": 27,
    "start_time": "2022-05-02T07:02:53.185Z"
   },
   {
    "duration": 54,
    "start_time": "2022-05-02T07:02:56.334Z"
   },
   {
    "duration": 61,
    "start_time": "2022-05-02T07:06:37.330Z"
   },
   {
    "duration": 46,
    "start_time": "2022-05-02T07:07:23.186Z"
   },
   {
    "duration": 555,
    "start_time": "2022-05-02T07:07:47.442Z"
   },
   {
    "duration": 32,
    "start_time": "2022-05-02T07:08:05.513Z"
   },
   {
    "duration": 182,
    "start_time": "2022-05-02T07:08:10.238Z"
   },
   {
    "duration": 36,
    "start_time": "2022-05-02T07:08:15.862Z"
   },
   {
    "duration": 86,
    "start_time": "2022-05-02T07:08:20.502Z"
   },
   {
    "duration": 28,
    "start_time": "2022-05-02T07:08:28.574Z"
   },
   {
    "duration": 52,
    "start_time": "2022-05-02T07:08:56.794Z"
   },
   {
    "duration": 465,
    "start_time": "2022-05-02T07:11:36.374Z"
   },
   {
    "duration": 42,
    "start_time": "2022-05-02T07:11:38.818Z"
   },
   {
    "duration": 111,
    "start_time": "2022-05-02T07:11:39.718Z"
   },
   {
    "duration": 39,
    "start_time": "2022-05-02T07:11:41.150Z"
   },
   {
    "duration": 75,
    "start_time": "2022-05-02T07:11:43.018Z"
   },
   {
    "duration": 32,
    "start_time": "2022-05-02T07:11:44.490Z"
   },
   {
    "duration": 66,
    "start_time": "2022-05-02T07:11:45.767Z"
   },
   {
    "duration": 23,
    "start_time": "2022-05-02T07:11:52.339Z"
   },
   {
    "duration": 14,
    "start_time": "2022-05-02T07:11:53.274Z"
   },
   {
    "duration": 26,
    "start_time": "2022-05-02T07:11:57.171Z"
   },
   {
    "duration": 13,
    "start_time": "2022-05-02T07:11:59.351Z"
   },
   {
    "duration": 88,
    "start_time": "2022-05-02T07:12:07.470Z"
   },
   {
    "duration": 228,
    "start_time": "2022-05-02T07:14:34.267Z"
   },
   {
    "duration": 6,
    "start_time": "2022-05-02T07:15:02.538Z"
   },
   {
    "duration": 22,
    "start_time": "2022-05-02T07:15:09.507Z"
   },
   {
    "duration": 14,
    "start_time": "2022-05-02T07:15:52.395Z"
   },
   {
    "duration": 585,
    "start_time": "2022-05-02T07:15:53.431Z"
   },
   {
    "duration": 182,
    "start_time": "2022-05-02T07:15:56.843Z"
   },
   {
    "duration": 179,
    "start_time": "2022-05-02T07:15:59.471Z"
   },
   {
    "duration": 425,
    "start_time": "2022-05-02T07:16:02.407Z"
   },
   {
    "duration": 179,
    "start_time": "2022-05-02T07:16:05.499Z"
   },
   {
    "duration": 166,
    "start_time": "2022-05-02T07:16:08.011Z"
   },
   {
    "duration": 351,
    "start_time": "2022-05-02T07:16:08.910Z"
   },
   {
    "duration": 183,
    "start_time": "2022-05-02T07:16:11.290Z"
   },
   {
    "duration": 152,
    "start_time": "2022-05-02T07:16:15.619Z"
   },
   {
    "duration": 11,
    "start_time": "2022-05-02T07:23:01.044Z"
   },
   {
    "duration": 12,
    "start_time": "2022-05-02T07:24:00.067Z"
   },
   {
    "duration": 574,
    "start_time": "2022-05-02T07:29:56.168Z"
   },
   {
    "duration": 43,
    "start_time": "2022-05-02T07:30:00.179Z"
   },
   {
    "duration": 115,
    "start_time": "2022-05-02T07:30:02.703Z"
   },
   {
    "duration": 40,
    "start_time": "2022-05-02T07:30:17.526Z"
   },
   {
    "duration": 86,
    "start_time": "2022-05-02T07:30:20.615Z"
   },
   {
    "duration": 30,
    "start_time": "2022-05-02T07:31:01.535Z"
   },
   {
    "duration": 68,
    "start_time": "2022-05-02T07:31:04.412Z"
   },
   {
    "duration": 23,
    "start_time": "2022-05-02T07:31:20.715Z"
   },
   {
    "duration": 17,
    "start_time": "2022-05-02T07:31:23.815Z"
   },
   {
    "duration": 27,
    "start_time": "2022-05-02T07:31:25.035Z"
   },
   {
    "duration": 12,
    "start_time": "2022-05-02T07:31:34.289Z"
   },
   {
    "duration": 84,
    "start_time": "2022-05-02T07:31:44.999Z"
   },
   {
    "duration": 242,
    "start_time": "2022-05-02T07:31:55.975Z"
   },
   {
    "duration": 6,
    "start_time": "2022-05-02T07:32:05.291Z"
   },
   {
    "duration": 21,
    "start_time": "2022-05-02T07:32:05.807Z"
   },
   {
    "duration": 16,
    "start_time": "2022-05-02T07:32:10.305Z"
   },
   {
    "duration": 566,
    "start_time": "2022-05-02T07:32:10.766Z"
   },
   {
    "duration": 273,
    "start_time": "2022-05-02T07:32:11.464Z"
   },
   {
    "duration": 184,
    "start_time": "2022-05-02T07:32:12.012Z"
   },
   {
    "duration": 360,
    "start_time": "2022-05-02T07:32:12.707Z"
   },
   {
    "duration": 188,
    "start_time": "2022-05-02T07:32:15.715Z"
   },
   {
    "duration": 173,
    "start_time": "2022-05-02T07:32:16.259Z"
   },
   {
    "duration": 372,
    "start_time": "2022-05-02T07:32:20.303Z"
   },
   {
    "duration": 203,
    "start_time": "2022-05-02T07:32:22.491Z"
   },
   {
    "duration": 164,
    "start_time": "2022-05-02T07:32:22.944Z"
   },
   {
    "duration": 494,
    "start_time": "2022-05-02T08:45:49.467Z"
   },
   {
    "duration": 41,
    "start_time": "2022-05-02T08:45:51.443Z"
   },
   {
    "duration": 117,
    "start_time": "2022-05-02T08:45:52.652Z"
   },
   {
    "duration": 37,
    "start_time": "2022-05-02T08:45:54.691Z"
   },
   {
    "duration": 87,
    "start_time": "2022-05-02T08:45:56.671Z"
   },
   {
    "duration": 34,
    "start_time": "2022-05-02T08:45:58.207Z"
   },
   {
    "duration": 66,
    "start_time": "2022-05-02T08:45:59.134Z"
   },
   {
    "duration": 23,
    "start_time": "2022-05-02T08:46:00.067Z"
   },
   {
    "duration": 15,
    "start_time": "2022-05-02T08:46:01.031Z"
   },
   {
    "duration": 27,
    "start_time": "2022-05-02T08:46:01.871Z"
   },
   {
    "duration": 12,
    "start_time": "2022-05-02T08:46:02.815Z"
   },
   {
    "duration": 80,
    "start_time": "2022-05-02T08:46:04.211Z"
   },
   {
    "duration": 227,
    "start_time": "2022-05-02T08:46:06.911Z"
   },
   {
    "duration": 6,
    "start_time": "2022-05-02T08:46:08.847Z"
   },
   {
    "duration": 22,
    "start_time": "2022-05-02T08:46:09.311Z"
   },
   {
    "duration": 14,
    "start_time": "2022-05-02T08:46:11.871Z"
   },
   {
    "duration": 639,
    "start_time": "2022-05-02T08:46:13.163Z"
   },
   {
    "duration": 185,
    "start_time": "2022-05-02T08:46:15.235Z"
   },
   {
    "duration": 191,
    "start_time": "2022-05-02T08:46:16.323Z"
   },
   {
    "duration": 414,
    "start_time": "2022-05-02T08:46:17.663Z"
   },
   {
    "duration": 194,
    "start_time": "2022-05-02T08:46:22.027Z"
   },
   {
    "duration": 211,
    "start_time": "2022-05-02T08:46:22.895Z"
   },
   {
    "duration": 379,
    "start_time": "2022-05-02T08:46:24.139Z"
   },
   {
    "duration": 183,
    "start_time": "2022-05-02T08:46:25.515Z"
   },
   {
    "duration": 250,
    "start_time": "2022-05-02T08:46:26.391Z"
   },
   {
    "duration": 214,
    "start_time": "2022-05-02T09:50:01.370Z"
   },
   {
    "duration": 6,
    "start_time": "2022-05-02T09:52:28.381Z"
   },
   {
    "duration": 7,
    "start_time": "2022-05-02T09:53:00.855Z"
   },
   {
    "duration": 159,
    "start_time": "2022-05-02T09:59:17.062Z"
   },
   {
    "duration": 7,
    "start_time": "2022-05-02T09:59:37.053Z"
   },
   {
    "duration": 6,
    "start_time": "2022-05-02T10:00:57.801Z"
   },
   {
    "duration": 526,
    "start_time": "2022-05-02T11:42:59.537Z"
   },
   {
    "duration": 44,
    "start_time": "2022-05-02T11:43:00.971Z"
   },
   {
    "duration": 116,
    "start_time": "2022-05-02T11:43:01.304Z"
   },
   {
    "duration": 38,
    "start_time": "2022-05-02T11:43:02.136Z"
   },
   {
    "duration": 86,
    "start_time": "2022-05-02T11:43:03.689Z"
   },
   {
    "duration": 34,
    "start_time": "2022-05-02T11:43:04.884Z"
   },
   {
    "duration": 69,
    "start_time": "2022-05-02T11:43:05.632Z"
   },
   {
    "duration": 23,
    "start_time": "2022-05-02T11:43:06.629Z"
   },
   {
    "duration": 15,
    "start_time": "2022-05-02T11:43:07.744Z"
   },
   {
    "duration": 28,
    "start_time": "2022-05-02T11:43:08.666Z"
   },
   {
    "duration": 12,
    "start_time": "2022-05-02T11:43:09.525Z"
   },
   {
    "duration": 82,
    "start_time": "2022-05-02T11:43:10.873Z"
   },
   {
    "duration": 197,
    "start_time": "2022-05-02T11:43:13.108Z"
   },
   {
    "duration": 7,
    "start_time": "2022-05-02T11:43:14.032Z"
   },
   {
    "duration": 21,
    "start_time": "2022-05-02T11:43:14.444Z"
   },
   {
    "duration": 17,
    "start_time": "2022-05-02T11:43:16.536Z"
   },
   {
    "duration": 669,
    "start_time": "2022-05-02T11:43:17.464Z"
   },
   {
    "duration": 176,
    "start_time": "2022-05-02T11:43:20.544Z"
   },
   {
    "duration": 186,
    "start_time": "2022-05-02T11:43:21.612Z"
   },
   {
    "duration": 365,
    "start_time": "2022-05-02T11:43:23.136Z"
   },
   {
    "duration": 183,
    "start_time": "2022-05-02T11:43:24.556Z"
   },
   {
    "duration": 176,
    "start_time": "2022-05-02T11:43:25.384Z"
   },
   {
    "duration": 434,
    "start_time": "2022-05-02T11:43:26.436Z"
   },
   {
    "duration": 179,
    "start_time": "2022-05-02T11:43:27.576Z"
   },
   {
    "duration": 158,
    "start_time": "2022-05-02T11:43:28.366Z"
   },
   {
    "duration": 7,
    "start_time": "2022-05-02T11:43:32.592Z"
   },
   {
    "duration": 7,
    "start_time": "2022-05-02T11:43:35.376Z"
   },
   {
    "duration": 11,
    "start_time": "2022-05-02T11:43:36.625Z"
   },
   {
    "duration": 6,
    "start_time": "2022-05-02T11:43:41.521Z"
   },
   {
    "duration": 120,
    "start_time": "2022-05-02T14:41:05.631Z"
   },
   {
    "duration": 2131,
    "start_time": "2022-05-02T14:53:23.951Z"
   },
   {
    "duration": 48,
    "start_time": "2022-05-02T14:53:26.085Z"
   },
   {
    "duration": 176,
    "start_time": "2022-05-02T14:53:26.136Z"
   },
   {
    "duration": 38,
    "start_time": "2022-05-02T14:53:26.315Z"
   },
   {
    "duration": 107,
    "start_time": "2022-05-02T14:53:26.383Z"
   },
   {
    "duration": 34,
    "start_time": "2022-05-02T14:53:26.492Z"
   },
   {
    "duration": 105,
    "start_time": "2022-05-02T14:53:26.528Z"
   },
   {
    "duration": 24,
    "start_time": "2022-05-02T14:53:26.635Z"
   },
   {
    "duration": 32,
    "start_time": "2022-05-02T14:53:26.661Z"
   },
   {
    "duration": 30,
    "start_time": "2022-05-02T14:53:26.695Z"
   },
   {
    "duration": 13,
    "start_time": "2022-05-02T14:53:26.728Z"
   },
   {
    "duration": 100,
    "start_time": "2022-05-02T14:53:26.782Z"
   },
   {
    "duration": 329,
    "start_time": "2022-05-02T14:53:26.884Z"
   },
   {
    "duration": 6,
    "start_time": "2022-05-02T14:53:27.217Z"
   },
   {
    "duration": 33,
    "start_time": "2022-05-02T14:53:27.225Z"
   },
   {
    "duration": 28,
    "start_time": "2022-05-02T14:53:27.260Z"
   },
   {
    "duration": 715,
    "start_time": "2022-05-02T14:53:27.290Z"
   },
   {
    "duration": 201,
    "start_time": "2022-05-02T14:53:28.007Z"
   },
   {
    "duration": 292,
    "start_time": "2022-05-02T14:53:28.210Z"
   },
   {
    "duration": 613,
    "start_time": "2022-05-02T14:53:28.505Z"
   },
   {
    "duration": 205,
    "start_time": "2022-05-02T14:53:29.121Z"
   },
   {
    "duration": 280,
    "start_time": "2022-05-02T14:53:29.328Z"
   },
   {
    "duration": 507,
    "start_time": "2022-05-02T14:53:29.610Z"
   },
   {
    "duration": 203,
    "start_time": "2022-05-02T14:53:30.120Z"
   },
   {
    "duration": 181,
    "start_time": "2022-05-02T14:53:30.325Z"
   },
   {
    "duration": 6,
    "start_time": "2022-05-02T14:53:30.508Z"
   },
   {
    "duration": 33,
    "start_time": "2022-05-02T14:53:30.516Z"
   },
   {
    "duration": 16,
    "start_time": "2022-05-02T14:53:30.551Z"
   },
   {
    "duration": 19,
    "start_time": "2022-05-02T14:53:30.569Z"
   },
   {
    "duration": 1815,
    "start_time": "2022-05-03T08:21:52.624Z"
   },
   {
    "duration": 37,
    "start_time": "2022-05-03T08:21:56.363Z"
   },
   {
    "duration": 96,
    "start_time": "2022-05-03T08:21:57.323Z"
   },
   {
    "duration": 27,
    "start_time": "2022-05-03T08:21:58.659Z"
   },
   {
    "duration": 80,
    "start_time": "2022-05-03T08:22:00.379Z"
   },
   {
    "duration": 23,
    "start_time": "2022-05-03T08:22:01.580Z"
   },
   {
    "duration": 84,
    "start_time": "2022-05-03T08:22:02.360Z"
   },
   {
    "duration": 26,
    "start_time": "2022-05-03T08:22:03.135Z"
   },
   {
    "duration": 11,
    "start_time": "2022-05-03T08:22:03.946Z"
   },
   {
    "duration": 22,
    "start_time": "2022-05-03T08:22:04.627Z"
   },
   {
    "duration": 10,
    "start_time": "2022-05-03T08:22:05.363Z"
   },
   {
    "duration": 59,
    "start_time": "2022-05-03T08:22:06.527Z"
   },
   {
    "duration": 147,
    "start_time": "2022-05-03T08:22:09.324Z"
   },
   {
    "duration": 5,
    "start_time": "2022-05-03T08:22:10.336Z"
   },
   {
    "duration": 15,
    "start_time": "2022-05-03T08:22:10.796Z"
   },
   {
    "duration": 13,
    "start_time": "2022-05-03T08:22:13.231Z"
   },
   {
    "duration": 388,
    "start_time": "2022-05-03T08:22:14.120Z"
   },
   {
    "duration": 139,
    "start_time": "2022-05-03T08:22:15.427Z"
   },
   {
    "duration": 129,
    "start_time": "2022-05-03T08:22:16.412Z"
   },
   {
    "duration": 253,
    "start_time": "2022-05-03T08:22:17.719Z"
   },
   {
    "duration": 127,
    "start_time": "2022-05-03T08:22:18.876Z"
   },
   {
    "duration": 194,
    "start_time": "2022-05-03T08:22:19.688Z"
   },
   {
    "duration": 242,
    "start_time": "2022-05-03T08:22:20.980Z"
   },
   {
    "duration": 124,
    "start_time": "2022-05-03T08:22:22.255Z"
   },
   {
    "duration": 104,
    "start_time": "2022-05-03T08:22:23.236Z"
   },
   {
    "duration": 4,
    "start_time": "2022-05-03T08:22:24.691Z"
   },
   {
    "duration": 6,
    "start_time": "2022-05-03T08:22:34.252Z"
   },
   {
    "duration": 9,
    "start_time": "2022-05-03T08:22:38.064Z"
   },
   {
    "duration": 39,
    "start_time": "2022-05-03T08:30:47.897Z"
   },
   {
    "duration": 8,
    "start_time": "2022-05-03T08:31:35.620Z"
   },
   {
    "duration": 6,
    "start_time": "2022-05-03T08:31:48.000Z"
   },
   {
    "duration": 233,
    "start_time": "2022-05-03T08:32:47.960Z"
   },
   {
    "duration": 7,
    "start_time": "2022-05-03T08:32:54.212Z"
   },
   {
    "duration": 103,
    "start_time": "2022-05-03T08:33:03.508Z"
   },
   {
    "duration": 11,
    "start_time": "2022-05-03T08:33:25.608Z"
   },
   {
    "duration": 8,
    "start_time": "2022-05-03T08:33:46.271Z"
   },
   {
    "duration": 7,
    "start_time": "2022-05-03T08:34:15.944Z"
   },
   {
    "duration": 7,
    "start_time": "2022-05-03T08:34:27.628Z"
   },
   {
    "duration": 4,
    "start_time": "2022-05-03T08:35:27.504Z"
   },
   {
    "duration": 1610,
    "start_time": "2022-05-04T06:14:41.682Z"
   },
   {
    "duration": 36,
    "start_time": "2022-05-04T06:14:43.294Z"
   },
   {
    "duration": 93,
    "start_time": "2022-05-04T06:14:43.331Z"
   },
   {
    "duration": 28,
    "start_time": "2022-05-04T06:14:43.434Z"
   },
   {
    "duration": 83,
    "start_time": "2022-05-04T06:14:43.465Z"
   },
   {
    "duration": 25,
    "start_time": "2022-05-04T06:14:43.550Z"
   },
   {
    "duration": 73,
    "start_time": "2022-05-04T06:14:43.576Z"
   },
   {
    "duration": 15,
    "start_time": "2022-05-04T06:14:43.651Z"
   },
   {
    "duration": 12,
    "start_time": "2022-05-04T06:14:43.668Z"
   },
   {
    "duration": 21,
    "start_time": "2022-05-04T06:14:43.682Z"
   },
   {
    "duration": 31,
    "start_time": "2022-05-04T06:14:43.704Z"
   },
   {
    "duration": 59,
    "start_time": "2022-05-04T06:14:43.736Z"
   },
   {
    "duration": 143,
    "start_time": "2022-05-04T06:14:43.797Z"
   },
   {
    "duration": 5,
    "start_time": "2022-05-04T06:14:43.942Z"
   },
   {
    "duration": 20,
    "start_time": "2022-05-04T06:14:43.948Z"
   },
   {
    "duration": 11,
    "start_time": "2022-05-04T06:14:43.971Z"
   },
   {
    "duration": 426,
    "start_time": "2022-05-04T06:14:43.984Z"
   },
   {
    "duration": 147,
    "start_time": "2022-05-04T06:14:44.412Z"
   },
   {
    "duration": 141,
    "start_time": "2022-05-04T06:14:44.561Z"
   },
   {
    "duration": 279,
    "start_time": "2022-05-04T06:14:44.704Z"
   },
   {
    "duration": 156,
    "start_time": "2022-05-04T06:14:44.985Z"
   },
   {
    "duration": 205,
    "start_time": "2022-05-04T06:14:45.143Z"
   },
   {
    "duration": 306,
    "start_time": "2022-05-04T06:14:45.350Z"
   },
   {
    "duration": 169,
    "start_time": "2022-05-04T06:14:45.658Z"
   },
   {
    "duration": 132,
    "start_time": "2022-05-04T06:14:45.834Z"
   },
   {
    "duration": 5,
    "start_time": "2022-05-04T06:14:45.968Z"
   },
   {
    "duration": 12,
    "start_time": "2022-05-04T06:14:45.975Z"
   },
   {
    "duration": 10,
    "start_time": "2022-05-04T06:14:45.989Z"
   },
   {
    "duration": 33,
    "start_time": "2022-05-04T06:14:46.001Z"
   },
   {
    "duration": 15,
    "start_time": "2022-05-04T06:15:55.850Z"
   },
   {
    "duration": 14,
    "start_time": "2022-05-04T06:16:14.154Z"
   },
   {
    "duration": 1820,
    "start_time": "2022-05-04T06:24:00.049Z"
   },
   {
    "duration": 39,
    "start_time": "2022-05-04T06:24:01.872Z"
   },
   {
    "duration": 100,
    "start_time": "2022-05-04T06:24:01.913Z"
   },
   {
    "duration": 32,
    "start_time": "2022-05-04T06:24:02.016Z"
   },
   {
    "duration": 90,
    "start_time": "2022-05-04T06:24:02.050Z"
   },
   {
    "duration": 26,
    "start_time": "2022-05-04T06:24:02.142Z"
   },
   {
    "duration": 76,
    "start_time": "2022-05-04T06:24:02.169Z"
   },
   {
    "duration": 19,
    "start_time": "2022-05-04T06:24:02.247Z"
   },
   {
    "duration": 21,
    "start_time": "2022-05-04T06:24:02.268Z"
   },
   {
    "duration": 26,
    "start_time": "2022-05-04T06:24:02.291Z"
   },
   {
    "duration": 10,
    "start_time": "2022-05-04T06:24:02.334Z"
   },
   {
    "duration": 70,
    "start_time": "2022-05-04T06:24:02.345Z"
   },
   {
    "duration": 157,
    "start_time": "2022-05-04T06:24:02.417Z"
   },
   {
    "duration": 5,
    "start_time": "2022-05-04T06:24:02.576Z"
   },
   {
    "duration": 20,
    "start_time": "2022-05-04T06:24:02.582Z"
   },
   {
    "duration": 17,
    "start_time": "2022-05-04T06:24:02.604Z"
   },
   {
    "duration": 23,
    "start_time": "2022-05-04T06:24:02.623Z"
   },
   {
    "duration": 20,
    "start_time": "2022-05-04T06:24:02.648Z"
   },
   {
    "duration": 443,
    "start_time": "2022-05-04T06:24:02.669Z"
   },
   {
    "duration": 146,
    "start_time": "2022-05-04T06:24:03.113Z"
   },
   {
    "duration": 152,
    "start_time": "2022-05-04T06:24:03.261Z"
   },
   {
    "duration": 294,
    "start_time": "2022-05-04T06:24:03.415Z"
   },
   {
    "duration": 148,
    "start_time": "2022-05-04T06:24:03.710Z"
   },
   {
    "duration": 216,
    "start_time": "2022-05-04T06:24:03.860Z"
   },
   {
    "duration": 261,
    "start_time": "2022-05-04T06:24:04.078Z"
   },
   {
    "duration": 144,
    "start_time": "2022-05-04T06:24:04.340Z"
   },
   {
    "duration": 127,
    "start_time": "2022-05-04T06:24:04.486Z"
   },
   {
    "duration": 4,
    "start_time": "2022-05-04T06:24:04.617Z"
   },
   {
    "duration": 5,
    "start_time": "2022-05-04T06:24:04.633Z"
   },
   {
    "duration": 15,
    "start_time": "2022-05-04T06:24:04.640Z"
   },
   {
    "duration": 115,
    "start_time": "2022-05-04T06:24:04.656Z"
   },
   {
    "duration": 0,
    "start_time": "2022-05-04T06:24:04.773Z"
   },
   {
    "duration": 6,
    "start_time": "2022-05-04T06:24:25.456Z"
   },
   {
    "duration": 6,
    "start_time": "2022-05-04T06:24:32.831Z"
   },
   {
    "duration": 4,
    "start_time": "2022-05-04T06:24:34.744Z"
   },
   {
    "duration": 2606,
    "start_time": "2022-05-04T10:54:17.240Z"
   },
   {
    "duration": 47,
    "start_time": "2022-05-04T10:54:21.284Z"
   },
   {
    "duration": 124,
    "start_time": "2022-05-04T10:54:22.196Z"
   },
   {
    "duration": 36,
    "start_time": "2022-05-04T10:54:23.532Z"
   },
   {
    "duration": 105,
    "start_time": "2022-05-04T10:54:25.584Z"
   },
   {
    "duration": 36,
    "start_time": "2022-05-04T10:54:27.192Z"
   },
   {
    "duration": 74,
    "start_time": "2022-05-04T10:54:28.165Z"
   },
   {
    "duration": 21,
    "start_time": "2022-05-04T10:54:29.124Z"
   },
   {
    "duration": 14,
    "start_time": "2022-05-04T10:54:30.072Z"
   },
   {
    "duration": 27,
    "start_time": "2022-05-04T10:54:30.944Z"
   },
   {
    "duration": 12,
    "start_time": "2022-05-04T10:54:31.892Z"
   },
   {
    "duration": 86,
    "start_time": "2022-05-04T10:54:33.271Z"
   },
   {
    "duration": 212,
    "start_time": "2022-05-04T10:54:36.372Z"
   },
   {
    "duration": 7,
    "start_time": "2022-05-04T10:54:37.711Z"
   },
   {
    "duration": 31,
    "start_time": "2022-05-04T10:54:38.260Z"
   },
   {
    "duration": 20,
    "start_time": "2022-05-04T10:54:40.800Z"
   },
   {
    "duration": 16,
    "start_time": "2022-05-04T10:54:41.480Z"
   },
   {
    "duration": 17,
    "start_time": "2022-05-04T10:54:43.516Z"
   },
   {
    "duration": 640,
    "start_time": "2022-05-04T10:54:47.796Z"
   },
   {
    "duration": 198,
    "start_time": "2022-05-04T10:54:50.208Z"
   },
   {
    "duration": 196,
    "start_time": "2022-05-04T10:54:51.296Z"
   },
   {
    "duration": 411,
    "start_time": "2022-05-04T10:54:52.676Z"
   },
   {
    "duration": 197,
    "start_time": "2022-05-04T10:54:54.228Z"
   },
   {
    "duration": 252,
    "start_time": "2022-05-04T10:54:55.228Z"
   },
   {
    "duration": 402,
    "start_time": "2022-05-04T10:54:56.460Z"
   },
   {
    "duration": 287,
    "start_time": "2022-05-04T10:54:57.968Z"
   },
   {
    "duration": 268,
    "start_time": "2022-05-04T10:54:58.892Z"
   },
   {
    "duration": 7,
    "start_time": "2022-05-04T10:55:00.365Z"
   },
   {
    "duration": 8,
    "start_time": "2022-05-04T10:55:04.805Z"
   },
   {
    "duration": 12,
    "start_time": "2022-05-04T10:55:06.160Z"
   },
   {
    "duration": 10,
    "start_time": "2022-05-04T10:55:09.436Z"
   },
   {
    "duration": 7,
    "start_time": "2022-05-04T10:55:19.152Z"
   },
   {
    "duration": 89,
    "start_time": "2022-05-04T10:56:59.360Z"
   },
   {
    "duration": 133,
    "start_time": "2022-05-04T10:57:21.069Z"
   },
   {
    "duration": 113,
    "start_time": "2022-05-04T10:58:10.368Z"
   },
   {
    "duration": 118,
    "start_time": "2022-05-04T10:58:26.408Z"
   },
   {
    "duration": 120,
    "start_time": "2022-05-04T11:01:39.232Z"
   },
   {
    "duration": 108,
    "start_time": "2022-05-04T11:02:11.812Z"
   },
   {
    "duration": 106,
    "start_time": "2022-05-04T11:03:52.516Z"
   },
   {
    "duration": 104,
    "start_time": "2022-05-04T11:04:47.664Z"
   },
   {
    "duration": 101,
    "start_time": "2022-05-04T11:05:24.192Z"
   },
   {
    "duration": 736,
    "start_time": "2022-05-04T11:05:41.104Z"
   },
   {
    "duration": 41,
    "start_time": "2022-05-04T11:05:43.705Z"
   },
   {
    "duration": 120,
    "start_time": "2022-05-04T11:05:44.845Z"
   },
   {
    "duration": 36,
    "start_time": "2022-05-04T11:05:46.664Z"
   },
   {
    "duration": 94,
    "start_time": "2022-05-04T11:05:48.917Z"
   },
   {
    "duration": 31,
    "start_time": "2022-05-04T11:05:50.961Z"
   },
   {
    "duration": 73,
    "start_time": "2022-05-04T11:05:52.424Z"
   },
   {
    "duration": 22,
    "start_time": "2022-05-04T11:05:53.852Z"
   },
   {
    "duration": 13,
    "start_time": "2022-05-04T11:05:54.797Z"
   },
   {
    "duration": 25,
    "start_time": "2022-05-04T11:05:55.840Z"
   },
   {
    "duration": 11,
    "start_time": "2022-05-04T11:05:58.261Z"
   },
   {
    "duration": 109,
    "start_time": "2022-05-04T11:06:01.192Z"
   },
   {
    "duration": 86,
    "start_time": "2022-05-04T11:06:17.184Z"
   },
   {
    "duration": 207,
    "start_time": "2022-05-04T11:06:51.192Z"
   },
   {
    "duration": 384,
    "start_time": "2022-05-04T11:07:14.628Z"
   },
   {
    "duration": 6,
    "start_time": "2022-05-04T11:07:35.680Z"
   },
   {
    "duration": 16,
    "start_time": "2022-05-04T11:07:36.320Z"
   },
   {
    "duration": 219,
    "start_time": "2022-05-04T11:08:10.416Z"
   },
   {
    "duration": 218,
    "start_time": "2022-05-04T11:08:28.305Z"
   },
   {
    "duration": 6,
    "start_time": "2022-05-04T11:08:35.964Z"
   },
   {
    "duration": 16,
    "start_time": "2022-05-04T11:08:36.632Z"
   },
   {
    "duration": 17,
    "start_time": "2022-05-04T11:08:40.940Z"
   },
   {
    "duration": 26,
    "start_time": "2022-05-04T11:08:41.880Z"
   },
   {
    "duration": 27,
    "start_time": "2022-05-04T11:08:48.097Z"
   },
   {
    "duration": 1110,
    "start_time": "2022-05-04T11:08:54.849Z"
   },
   {
    "duration": 196,
    "start_time": "2022-05-04T11:09:03.197Z"
   },
   {
    "duration": 200,
    "start_time": "2022-05-04T11:09:06.053Z"
   },
   {
    "duration": 654,
    "start_time": "2022-05-04T11:09:10.993Z"
   },
   {
    "duration": 337,
    "start_time": "2022-05-04T11:09:16.816Z"
   },
   {
    "duration": 210,
    "start_time": "2022-05-04T11:09:19.136Z"
   },
   {
    "duration": 453,
    "start_time": "2022-05-04T11:09:21.792Z"
   },
   {
    "duration": 248,
    "start_time": "2022-05-04T11:09:25.783Z"
   },
   {
    "duration": 178,
    "start_time": "2022-05-04T11:09:27.972Z"
   },
   {
    "duration": 7,
    "start_time": "2022-05-04T11:09:39.408Z"
   },
   {
    "duration": 9,
    "start_time": "2022-05-04T11:09:58.850Z"
   },
   {
    "duration": 12,
    "start_time": "2022-05-04T11:10:02.261Z"
   },
   {
    "duration": 12,
    "start_time": "2022-05-04T11:10:10.922Z"
   },
   {
    "duration": 546,
    "start_time": "2022-05-04T11:13:26.705Z"
   },
   {
    "duration": 41,
    "start_time": "2022-05-04T11:13:29.097Z"
   },
   {
    "duration": 120,
    "start_time": "2022-05-04T11:13:30.549Z"
   },
   {
    "duration": 36,
    "start_time": "2022-05-04T11:13:32.181Z"
   },
   {
    "duration": 94,
    "start_time": "2022-05-04T11:13:36.748Z"
   },
   {
    "duration": 32,
    "start_time": "2022-05-04T11:13:39.200Z"
   },
   {
    "duration": 73,
    "start_time": "2022-05-04T11:13:41.376Z"
   },
   {
    "duration": 25,
    "start_time": "2022-05-04T11:13:43.108Z"
   },
   {
    "duration": 14,
    "start_time": "2022-05-04T11:13:44.700Z"
   },
   {
    "duration": 28,
    "start_time": "2022-05-04T11:13:46.148Z"
   },
   {
    "duration": 12,
    "start_time": "2022-05-04T11:13:48.897Z"
   },
   {
    "duration": 88,
    "start_time": "2022-05-04T11:13:52.556Z"
   },
   {
    "duration": 91,
    "start_time": "2022-05-04T11:14:49.212Z"
   },
   {
    "duration": 219,
    "start_time": "2022-05-04T11:14:59.561Z"
   },
   {
    "duration": 6,
    "start_time": "2022-05-04T11:15:02.321Z"
   },
   {
    "duration": 27,
    "start_time": "2022-05-04T11:15:03.232Z"
   },
   {
    "duration": 14,
    "start_time": "2022-05-04T11:15:22.313Z"
   },
   {
    "duration": 18,
    "start_time": "2022-05-04T11:15:23.720Z"
   },
   {
    "duration": 18,
    "start_time": "2022-05-04T11:15:24.632Z"
   },
   {
    "duration": 607,
    "start_time": "2022-05-04T11:15:27.017Z"
   },
   {
    "duration": 284,
    "start_time": "2022-05-04T11:15:33.780Z"
   },
   {
    "duration": 190,
    "start_time": "2022-05-04T11:15:35.005Z"
   },
   {
    "duration": 390,
    "start_time": "2022-05-04T11:15:36.965Z"
   },
   {
    "duration": 198,
    "start_time": "2022-05-04T11:15:39.411Z"
   },
   {
    "duration": 174,
    "start_time": "2022-05-04T11:15:40.577Z"
   },
   {
    "duration": 397,
    "start_time": "2022-05-04T11:15:42.577Z"
   },
   {
    "duration": 188,
    "start_time": "2022-05-04T11:15:47.777Z"
   },
   {
    "duration": 166,
    "start_time": "2022-05-04T11:15:48.869Z"
   },
   {
    "duration": 5,
    "start_time": "2022-05-04T11:15:50.962Z"
   },
   {
    "duration": 7,
    "start_time": "2022-05-04T11:15:55.718Z"
   },
   {
    "duration": 11,
    "start_time": "2022-05-04T11:15:57.066Z"
   },
   {
    "duration": 9,
    "start_time": "2022-05-04T11:16:02.377Z"
   },
   {
    "duration": 13,
    "start_time": "2022-05-04T11:27:50.417Z"
   },
   {
    "duration": 8,
    "start_time": "2022-05-04T11:28:37.565Z"
   },
   {
    "duration": 7,
    "start_time": "2022-05-04T11:28:50.109Z"
   },
   {
    "duration": 8,
    "start_time": "2022-05-04T11:28:52.741Z"
   },
   {
    "duration": 11,
    "start_time": "2022-05-04T11:29:01.066Z"
   },
   {
    "duration": 11,
    "start_time": "2022-05-04T11:33:54.798Z"
   },
   {
    "duration": 11,
    "start_time": "2022-05-04T11:34:44.530Z"
   },
   {
    "duration": 1963,
    "start_time": "2022-05-05T05:55:57.466Z"
   },
   {
    "duration": 40,
    "start_time": "2022-05-05T05:55:59.433Z"
   },
   {
    "duration": 111,
    "start_time": "2022-05-05T05:55:59.476Z"
   },
   {
    "duration": 29,
    "start_time": "2022-05-05T05:55:59.590Z"
   },
   {
    "duration": 82,
    "start_time": "2022-05-05T05:55:59.621Z"
   },
   {
    "duration": 42,
    "start_time": "2022-05-05T05:55:59.705Z"
   },
   {
    "duration": 57,
    "start_time": "2022-05-05T05:55:59.749Z"
   },
   {
    "duration": 41,
    "start_time": "2022-05-05T05:55:59.808Z"
   },
   {
    "duration": 12,
    "start_time": "2022-05-05T05:55:59.851Z"
   },
   {
    "duration": 20,
    "start_time": "2022-05-05T05:55:59.866Z"
   },
   {
    "duration": 45,
    "start_time": "2022-05-05T05:55:59.888Z"
   },
   {
    "duration": 63,
    "start_time": "2022-05-05T05:55:59.935Z"
   },
   {
    "duration": 162,
    "start_time": "2022-05-05T05:56:00.000Z"
   },
   {
    "duration": 4,
    "start_time": "2022-05-05T05:56:00.164Z"
   },
   {
    "duration": 20,
    "start_time": "2022-05-05T05:56:00.169Z"
   },
   {
    "duration": 19,
    "start_time": "2022-05-05T05:56:00.191Z"
   },
   {
    "duration": 26,
    "start_time": "2022-05-05T05:56:00.212Z"
   },
   {
    "duration": 13,
    "start_time": "2022-05-05T05:56:00.240Z"
   },
   {
    "duration": 488,
    "start_time": "2022-05-05T05:56:00.254Z"
   },
   {
    "duration": 153,
    "start_time": "2022-05-05T05:56:00.744Z"
   },
   {
    "duration": 152,
    "start_time": "2022-05-05T05:56:00.899Z"
   },
   {
    "duration": 305,
    "start_time": "2022-05-05T05:56:01.053Z"
   },
   {
    "duration": 159,
    "start_time": "2022-05-05T05:56:01.360Z"
   },
   {
    "duration": 236,
    "start_time": "2022-05-05T05:56:01.521Z"
   },
   {
    "duration": 285,
    "start_time": "2022-05-05T05:56:01.759Z"
   },
   {
    "duration": 149,
    "start_time": "2022-05-05T05:56:02.046Z"
   },
   {
    "duration": 141,
    "start_time": "2022-05-05T05:56:02.197Z"
   },
   {
    "duration": 5,
    "start_time": "2022-05-05T05:56:02.342Z"
   },
   {
    "duration": 7,
    "start_time": "2022-05-05T05:56:02.349Z"
   },
   {
    "duration": 19,
    "start_time": "2022-05-05T05:56:02.358Z"
   },
   {
    "duration": 15,
    "start_time": "2022-05-05T05:56:02.379Z"
   },
   {
    "duration": 15,
    "start_time": "2022-05-05T05:56:02.396Z"
   },
   {
    "duration": 19,
    "start_time": "2022-05-05T05:56:10.052Z"
   },
   {
    "duration": 234,
    "start_time": "2022-05-05T05:56:25.952Z"
   },
   {
    "duration": 5,
    "start_time": "2022-05-05T05:56:36.453Z"
   },
   {
    "duration": 3,
    "start_time": "2022-05-05T05:57:51.223Z"
   },
   {
    "duration": 1383,
    "start_time": "2022-05-05T05:58:36.443Z"
   },
   {
    "duration": 114,
    "start_time": "2022-05-05T05:59:07.427Z"
   },
   {
    "duration": 17,
    "start_time": "2022-05-05T05:59:30.974Z"
   },
   {
    "duration": 1716,
    "start_time": "2022-05-05T06:01:30.001Z"
   },
   {
    "duration": 39,
    "start_time": "2022-05-05T06:01:31.720Z"
   },
   {
    "duration": 103,
    "start_time": "2022-05-05T06:01:31.761Z"
   },
   {
    "duration": 28,
    "start_time": "2022-05-05T06:01:31.866Z"
   },
   {
    "duration": 90,
    "start_time": "2022-05-05T06:01:31.896Z"
   },
   {
    "duration": 23,
    "start_time": "2022-05-05T06:01:31.988Z"
   },
   {
    "duration": 69,
    "start_time": "2022-05-05T06:01:32.013Z"
   },
   {
    "duration": 16,
    "start_time": "2022-05-05T06:01:32.084Z"
   },
   {
    "duration": 34,
    "start_time": "2022-05-05T06:01:32.101Z"
   },
   {
    "duration": 29,
    "start_time": "2022-05-05T06:01:32.137Z"
   },
   {
    "duration": 9,
    "start_time": "2022-05-05T06:01:32.168Z"
   },
   {
    "duration": 94,
    "start_time": "2022-05-05T06:01:32.179Z"
   },
   {
    "duration": 151,
    "start_time": "2022-05-05T06:01:32.275Z"
   },
   {
    "duration": 6,
    "start_time": "2022-05-05T06:01:32.429Z"
   },
   {
    "duration": 14,
    "start_time": "2022-05-05T06:01:32.436Z"
   },
   {
    "duration": 10,
    "start_time": "2022-05-05T06:01:32.452Z"
   },
   {
    "duration": 14,
    "start_time": "2022-05-05T06:01:32.463Z"
   },
   {
    "duration": 13,
    "start_time": "2022-05-05T06:01:32.478Z"
   },
   {
    "duration": 471,
    "start_time": "2022-05-05T06:01:32.493Z"
   },
   {
    "duration": 142,
    "start_time": "2022-05-05T06:01:32.965Z"
   },
   {
    "duration": 148,
    "start_time": "2022-05-05T06:01:33.109Z"
   },
   {
    "duration": 288,
    "start_time": "2022-05-05T06:01:33.258Z"
   },
   {
    "duration": 156,
    "start_time": "2022-05-05T06:01:33.548Z"
   },
   {
    "duration": 227,
    "start_time": "2022-05-05T06:01:33.706Z"
   },
   {
    "duration": 266,
    "start_time": "2022-05-05T06:01:33.936Z"
   },
   {
    "duration": 142,
    "start_time": "2022-05-05T06:01:34.204Z"
   },
   {
    "duration": 123,
    "start_time": "2022-05-05T06:01:34.348Z"
   },
   {
    "duration": 5,
    "start_time": "2022-05-05T06:01:34.472Z"
   },
   {
    "duration": 8,
    "start_time": "2022-05-05T06:01:34.478Z"
   },
   {
    "duration": 10,
    "start_time": "2022-05-05T06:01:34.488Z"
   },
   {
    "duration": 36,
    "start_time": "2022-05-05T06:01:34.499Z"
   },
   {
    "duration": 6,
    "start_time": "2022-05-05T06:01:34.537Z"
   },
   {
    "duration": 5,
    "start_time": "2022-05-05T06:01:34.545Z"
   },
   {
    "duration": 1392,
    "start_time": "2022-05-05T06:01:34.552Z"
   },
   {
    "duration": 121,
    "start_time": "2022-05-05T06:01:35.947Z"
   },
   {
    "duration": 0,
    "start_time": "2022-05-05T06:01:36.070Z"
   },
   {
    "duration": 0,
    "start_time": "2022-05-05T06:01:36.072Z"
   },
   {
    "duration": 0,
    "start_time": "2022-05-05T06:01:36.073Z"
   },
   {
    "duration": 17,
    "start_time": "2022-05-05T06:02:10.640Z"
   },
   {
    "duration": 167,
    "start_time": "2022-05-05T06:02:15.480Z"
   },
   {
    "duration": 17,
    "start_time": "2022-05-05T06:02:19.728Z"
   },
   {
    "duration": 16,
    "start_time": "2022-05-05T06:02:29.753Z"
   },
   {
    "duration": 22,
    "start_time": "2022-05-05T06:02:42.744Z"
   },
   {
    "duration": 5,
    "start_time": "2022-05-05T06:03:48.075Z"
   },
   {
    "duration": 5,
    "start_time": "2022-05-05T06:04:03.236Z"
   },
   {
    "duration": 22,
    "start_time": "2022-05-05T06:04:09.028Z"
   },
   {
    "duration": 183,
    "start_time": "2022-05-05T06:04:25.333Z"
   },
   {
    "duration": 6,
    "start_time": "2022-05-05T06:04:43.214Z"
   },
   {
    "duration": 186,
    "start_time": "2022-05-05T06:05:26.711Z"
   },
   {
    "duration": 177,
    "start_time": "2022-05-05T06:05:32.975Z"
   },
   {
    "duration": 1620,
    "start_time": "2022-05-05T06:05:37.989Z"
   },
   {
    "duration": 36,
    "start_time": "2022-05-05T06:05:39.611Z"
   },
   {
    "duration": 101,
    "start_time": "2022-05-05T06:05:39.649Z"
   },
   {
    "duration": 28,
    "start_time": "2022-05-05T06:05:39.753Z"
   },
   {
    "duration": 91,
    "start_time": "2022-05-05T06:05:39.783Z"
   },
   {
    "duration": 24,
    "start_time": "2022-05-05T06:05:39.876Z"
   },
   {
    "duration": 71,
    "start_time": "2022-05-05T06:05:39.902Z"
   },
   {
    "duration": 16,
    "start_time": "2022-05-05T06:05:39.975Z"
   },
   {
    "duration": 13,
    "start_time": "2022-05-05T06:05:39.992Z"
   },
   {
    "duration": 41,
    "start_time": "2022-05-05T06:05:40.007Z"
   },
   {
    "duration": 9,
    "start_time": "2022-05-05T06:05:40.049Z"
   },
   {
    "duration": 96,
    "start_time": "2022-05-05T06:05:40.060Z"
   },
   {
    "duration": 139,
    "start_time": "2022-05-05T06:05:40.158Z"
   },
   {
    "duration": 4,
    "start_time": "2022-05-05T06:05:40.298Z"
   },
   {
    "duration": 30,
    "start_time": "2022-05-05T06:05:40.304Z"
   },
   {
    "duration": 10,
    "start_time": "2022-05-05T06:05:40.336Z"
   },
   {
    "duration": 13,
    "start_time": "2022-05-05T06:05:40.347Z"
   },
   {
    "duration": 13,
    "start_time": "2022-05-05T06:05:40.361Z"
   },
   {
    "duration": 450,
    "start_time": "2022-05-05T06:05:40.376Z"
   },
   {
    "duration": 140,
    "start_time": "2022-05-05T06:05:40.828Z"
   },
   {
    "duration": 153,
    "start_time": "2022-05-05T06:05:40.969Z"
   },
   {
    "duration": 271,
    "start_time": "2022-05-05T06:05:41.124Z"
   },
   {
    "duration": 169,
    "start_time": "2022-05-05T06:05:41.396Z"
   },
   {
    "duration": 292,
    "start_time": "2022-05-05T06:05:41.566Z"
   },
   {
    "duration": 261,
    "start_time": "2022-05-05T06:05:41.860Z"
   },
   {
    "duration": 139,
    "start_time": "2022-05-05T06:05:42.122Z"
   },
   {
    "duration": 129,
    "start_time": "2022-05-05T06:05:42.263Z"
   },
   {
    "duration": 5,
    "start_time": "2022-05-05T06:05:42.395Z"
   },
   {
    "duration": 11,
    "start_time": "2022-05-05T06:05:42.401Z"
   },
   {
    "duration": 13,
    "start_time": "2022-05-05T06:05:42.413Z"
   },
   {
    "duration": 11,
    "start_time": "2022-05-05T06:05:42.428Z"
   },
   {
    "duration": 8,
    "start_time": "2022-05-05T06:05:42.441Z"
   },
   {
    "duration": 7,
    "start_time": "2022-05-05T06:05:42.451Z"
   },
   {
    "duration": 7,
    "start_time": "2022-05-05T06:05:42.460Z"
   },
   {
    "duration": 6,
    "start_time": "2022-05-05T06:05:42.469Z"
   },
   {
    "duration": 1539,
    "start_time": "2022-05-05T06:05:42.476Z"
   },
   {
    "duration": 192,
    "start_time": "2022-05-05T06:05:44.017Z"
   },
   {
    "duration": 189,
    "start_time": "2022-05-05T06:05:44.211Z"
   },
   {
    "duration": 181,
    "start_time": "2022-05-05T06:05:44.402Z"
   },
   {
    "duration": 136,
    "start_time": "2022-05-05T06:05:44.584Z"
   },
   {
    "duration": 1674,
    "start_time": "2022-05-05T06:07:19.622Z"
   },
   {
    "duration": 37,
    "start_time": "2022-05-05T06:07:21.298Z"
   },
   {
    "duration": 102,
    "start_time": "2022-05-05T06:07:21.337Z"
   },
   {
    "duration": 29,
    "start_time": "2022-05-05T06:07:21.441Z"
   },
   {
    "duration": 89,
    "start_time": "2022-05-05T06:07:21.472Z"
   },
   {
    "duration": 24,
    "start_time": "2022-05-05T06:07:21.562Z"
   },
   {
    "duration": 78,
    "start_time": "2022-05-05T06:07:21.588Z"
   },
   {
    "duration": 18,
    "start_time": "2022-05-05T06:07:21.668Z"
   },
   {
    "duration": 11,
    "start_time": "2022-05-05T06:07:21.687Z"
   },
   {
    "duration": 41,
    "start_time": "2022-05-05T06:07:21.701Z"
   },
   {
    "duration": 8,
    "start_time": "2022-05-05T06:07:21.744Z"
   },
   {
    "duration": 91,
    "start_time": "2022-05-05T06:07:21.754Z"
   },
   {
    "duration": 145,
    "start_time": "2022-05-05T06:07:21.847Z"
   },
   {
    "duration": 4,
    "start_time": "2022-05-05T06:07:21.994Z"
   },
   {
    "duration": 15,
    "start_time": "2022-05-05T06:07:21.999Z"
   },
   {
    "duration": 24,
    "start_time": "2022-05-05T06:07:22.016Z"
   },
   {
    "duration": 16,
    "start_time": "2022-05-05T06:07:22.042Z"
   },
   {
    "duration": 14,
    "start_time": "2022-05-05T06:07:22.059Z"
   },
   {
    "duration": 444,
    "start_time": "2022-05-05T06:07:22.074Z"
   },
   {
    "duration": 154,
    "start_time": "2022-05-05T06:07:22.520Z"
   },
   {
    "duration": 143,
    "start_time": "2022-05-05T06:07:22.676Z"
   },
   {
    "duration": 269,
    "start_time": "2022-05-05T06:07:22.820Z"
   },
   {
    "duration": 145,
    "start_time": "2022-05-05T06:07:23.091Z"
   },
   {
    "duration": 211,
    "start_time": "2022-05-05T06:07:23.238Z"
   },
   {
    "duration": 266,
    "start_time": "2022-05-05T06:07:23.451Z"
   },
   {
    "duration": 142,
    "start_time": "2022-05-05T06:07:23.719Z"
   },
   {
    "duration": 128,
    "start_time": "2022-05-05T06:07:23.863Z"
   },
   {
    "duration": 4,
    "start_time": "2022-05-05T06:07:23.994Z"
   },
   {
    "duration": 25,
    "start_time": "2022-05-05T06:07:24.000Z"
   },
   {
    "duration": 21,
    "start_time": "2022-05-05T06:07:24.026Z"
   },
   {
    "duration": 27,
    "start_time": "2022-05-05T06:07:24.049Z"
   },
   {
    "duration": 11,
    "start_time": "2022-05-05T06:07:24.077Z"
   },
   {
    "duration": 25,
    "start_time": "2022-05-05T06:07:24.089Z"
   },
   {
    "duration": 22,
    "start_time": "2022-05-05T06:07:24.116Z"
   },
   {
    "duration": 19,
    "start_time": "2022-05-05T06:07:24.139Z"
   },
   {
    "duration": 1460,
    "start_time": "2022-05-05T06:07:24.160Z"
   },
   {
    "duration": 198,
    "start_time": "2022-05-05T06:07:25.621Z"
   },
   {
    "duration": 205,
    "start_time": "2022-05-05T06:07:25.821Z"
   },
   {
    "duration": 187,
    "start_time": "2022-05-05T06:07:26.028Z"
   },
   {
    "duration": 50,
    "start_time": "2022-05-05T06:07:26.217Z"
   }
  ],
  "kernelspec": {
   "display_name": "Python 3 (ipykernel)",
   "language": "python",
   "name": "python3"
  },
  "language_info": {
   "codemirror_mode": {
    "name": "ipython",
    "version": 3
   },
   "file_extension": ".py",
   "mimetype": "text/x-python",
   "name": "python",
   "nbconvert_exporter": "python",
   "pygments_lexer": "ipython3",
   "version": "3.9.5"
  },
  "toc": {
   "base_numbering": 1,
   "nav_menu": {},
   "number_sections": true,
   "sideBar": false,
   "skip_h1_title": true,
   "title_cell": "Table of Contents",
   "title_sidebar": "Contents",
   "toc_cell": false,
   "toc_position": {
    "height": "755px",
    "left": "31px",
    "top": "111.125px",
    "width": "451px"
   },
   "toc_section_display": true,
   "toc_window_display": false
  }
 },
 "nbformat": 4,
 "nbformat_minor": 2
}
